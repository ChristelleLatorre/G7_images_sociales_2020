{
 "cells": [
  {
   "cell_type": "code",
   "execution_count": null,
   "metadata": {},
   "outputs": [],
   "source": [
    "\"\"\" Created on Tue Jan 14 23:00:47 2020 Group 7 @authors : C.L. \"\"\""
   ]
  },
  {
   "cell_type": "markdown",
   "metadata": {},
   "source": [
    "import pickle\n",
    "import os"
   ]
  },
  {
   "cell_type": "code",
   "execution_count": null,
   "metadata": {},
   "outputs": [],
   "source": [
    "### Save Reload model"
   ]
  },
  {
   "cell_type": "code",
   "execution_count": null,
   "metadata": {},
   "outputs": [],
   "source": [
    "def save_model_classes(path_mod, mod_name, train_generator, model):\n",
    "    \n",
    "    shutil.rmtree(path_mod + mod_name, ignore_errors = True)\n",
    "    os.makedirs(path_mod + mod_name)\n",
    "    label_map = (train_generator.class_indices)\n",
    "    with open(path_mod + mod_name + '/' + 'model_' + mod_name + '.pkl', \"wb\") as f:\n",
    "        pickle.dump(label_map, f)\n",
    "    model.save(path_mod + mod_name + '/' + 'model_'+ mod_name + '.h5')"
   ]
  },
  {
   "cell_type": "code",
   "execution_count": null,
   "metadata": {},
   "outputs": [],
   "source": [
    "save_model_classes(\"./../Models/\", 'test', train_generator, model)"
   ]
  },
  {
   "cell_type": "code",
   "execution_count": null,
   "metadata": {},
   "outputs": [],
   "source": [
    "def load_files_model(path_mod, mod_name):\n",
    "    model = load_model(path_mod + mod_name + '/' + 'model_'+ mod_name + '.h5')\n",
    "    with open(path_mod + mod_name + '/' + 'model_' + mod_name + '.pkl', \"rb\") as f:\n",
    "        dic_class = pickle.load(f)\n",
    "    return model, dic_class"
   ]
  },
  {
   "cell_type": "code",
   "execution_count": null,
   "metadata": {},
   "outputs": [],
   "source": [
    "model, dic_class = load_files_model(\"./../Models/\", \"test\")\n",
    "dic_class"
   ]
  }
 ],
 "metadata": {
  "kernelspec": {
   "display_name": "Python 3",
   "language": "python",
   "name": "python3"
  },
  "language_info": {
   "codemirror_mode": {
    "name": "ipython",
    "version": 3
   },
   "file_extension": ".py",
   "mimetype": "text/x-python",
   "name": "python",
   "nbconvert_exporter": "python",
   "pygments_lexer": "ipython3",
   "version": "3.7.4"
  }
 },
 "nbformat": 4,
 "nbformat_minor": 2
}
