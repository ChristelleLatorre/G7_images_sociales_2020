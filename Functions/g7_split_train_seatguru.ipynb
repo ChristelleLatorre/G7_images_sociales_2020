{
 "cells": [
  {
   "cell_type": "code",
   "execution_count": null,
   "metadata": {},
   "outputs": [],
   "source": [
    "\"\"\" Created on Tue Jan 14 23:00:47 2020 Group 7 @authors : C.L. \"\"\""
   ]
  },
  {
   "cell_type": "code",
   "execution_count": null,
   "metadata": {},
   "outputs": [],
   "source": [
    "### SeaGuru split"
   ]
  },
  {
   "cell_type": "code",
   "execution_count": null,
   "metadata": {},
   "outputs": [],
   "source": [
    "def split_train_test_Seatguru_cat(new_paths, path, list_planes = [list_img_Airbus, list_img_Boeing], \n",
    "                                  split_limit = .7, s = 8):\n",
    "  \n",
    "    for picts in list_planes:\n",
    "        \n",
    "        if picts == list_img_Airbus:\n",
    "            man = 'Airbus'\n",
    "        if picts == list_img_Boeing:\n",
    "            man = 'Boeing'\n",
    "        \n",
    "        shutil.rmtree(new_paths[0] + '/' + man, ignore_errors = True)\n",
    "        os.makedirs(new_paths[0] + '/' + man)\n",
    "        \n",
    "        shutil.rmtree(new_paths[1] + '/' + man, ignore_errors = True)\n",
    "        os.makedirs(new_paths[1]+ '/' + man)\n",
    "        \n",
    "        random.seed(a = s)\n",
    "        random.shuffle(picts)\n",
    "\n",
    "        for pict in picts[:int(split_limit*len(plane))]:\n",
    "            copyfile(path + pict, new_paths[0] + '/' + man + '/' +  pict)\n",
    "        for pict in picts[int(split_limit*len(plane)):]:\n",
    "            copyfile(path + pict, new_paths[1] + '/' + man + '/' +  pict)"
   ]
  }
 ],
 "metadata": {
  "kernelspec": {
   "display_name": "Python 3",
   "language": "python",
   "name": "python3"
  },
  "language_info": {
   "codemirror_mode": {
    "name": "ipython",
    "version": 3
   },
   "file_extension": ".py",
   "mimetype": "text/x-python",
   "name": "python",
   "nbconvert_exporter": "python",
   "pygments_lexer": "ipython3",
   "version": "3.7.4"
  }
 },
 "nbformat": 4,
 "nbformat_minor": 2
}
