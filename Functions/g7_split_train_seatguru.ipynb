{
 "cells": [
  {
   "cell_type": "code",
   "execution_count": null,
   "metadata": {},
   "outputs": [],
   "source": [
    "\"\"\" Created on Tue Jan 14 23:00:47 2020 Group 7 @authors : C.L. \"\"\""
   ]
  },
  {
   "cell_type": "code",
   "execution_count": null,
   "metadata": {},
   "outputs": [],
   "source": [
    "### SeaGuru split"
   ]
  },
  {
   "cell_type": "code",
   "execution_count": null,
   "metadata": {},
   "outputs": [],
   "source": [
    "def split_train_test_Seatguru_cat(new_paths, path, list_planes = [list_img_Airbus, list_img_Boeing], \n",
    "                                  split_limit = .7, s = 8):\n",
    "  \n",
    "    for plane in list_planes:\n",
    "        \n",
    "        if plane == list_img_Airbus:\n",
    "            classe = 'Airbus'\n",
    "        if plane == list_img_Boeing:\n",
    "            classe = 'Boeing'\n",
    "        \n",
    "        shutil.rmtree(new_paths[0] + '/' + classe, ignore_errors = True)\n",
    "        os.makedirs(new_paths[0] + '/' + classe)\n",
    "        \n",
    "        shutil.rmtree(new_paths[1] + '/' + classe, ignore_errors = True)\n",
    "        os.makedirs(new_paths[1]+ '/' + classe)\n",
    "        \n",
    "        random.seed(a = s)\n",
    "        random.shuffle(plane)\n",
    "\n",
    "        for pict in plane[:int(split_limit*len(plane))]:\n",
    "            copyfile(path + pict, new_paths[0] + '/' + classe + '/' +  pict)\n",
    "        for pict in plane[int(split_limit*len(plane)):]:\n",
    "            copyfile(path + pict, new_paths[1] + '/' + classe + '/' +  pict)"
   ]
  }
 ],
 "metadata": {
  "kernelspec": {
   "display_name": "Python 3",
   "language": "python",
   "name": "python3"
  },
  "language_info": {
   "codemirror_mode": {
    "name": "ipython",
    "version": 3
   },
   "file_extension": ".py",
   "mimetype": "text/x-python",
   "name": "python",
   "nbconvert_exporter": "python",
   "pygments_lexer": "ipython3",
   "version": "3.7.4"
  }
 },
 "nbformat": 4,
 "nbformat_minor": 2
}
