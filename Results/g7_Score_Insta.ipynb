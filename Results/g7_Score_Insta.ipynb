{
 "cells": [
  {
   "cell_type": "markdown",
   "metadata": {},
   "source": [
    "\"\"\"\n",
    "created on: thurs Jan 16 16:53:39 2020\n",
    "Group 7\n",
    "@author: T.F , CTD\n",
    "\"\"\""
   ]
  },
  {
   "cell_type": "code",
   "execution_count": 15,
   "metadata": {},
   "outputs": [],
   "source": [
    "import pandas as pd\n",
    "import os"
   ]
  },
  {
   "cell_type": "code",
   "execution_count": 24,
   "metadata": {},
   "outputs": [],
   "source": [
    "project_path = './../'\n",
    "insta_path = 'Interpromo2020/All Data/ANALYSE IMAGE/IMG INSTAGRAM/'\n",
    "path_csv = './'"
   ]
  },
  {
   "cell_type": "code",
   "execution_count": 25,
   "metadata": {},
   "outputs": [],
   "source": [
    "df_insta_Airbus = pd.read_csv(path_csv + \"pred_INSTAGRAM_airbus_4.csv\", sep=\";\")\n",
    "df_insta_aircraftinterior = pd.read_csv(path_csv + \"pred_INSTAGRAM_aircraftinterior_4.csv\", sep =\";\")\n",
    "df_insta_aircraftseat = pd.read_csv(path_csv + \"pred_INSTAGRAM_aircraftseat_4.csv\", sep = \";\")\n",
    "df_insta_boeing = pd.read_csv(path_csv + \"pred_INSTAGRAM_boeing_4.csv\", sep = \";\")"
   ]
  },
  {
   "cell_type": "code",
   "execution_count": 26,
   "metadata": {},
   "outputs": [],
   "source": [
    "df_insta_aircraftinterior_hash = df_insta_aircraftinterior[df_insta_aircraftinterior['view']  == 'Int']# Images consistent with hashtag\n",
    "\n",
    "df_insta_Airbus_hash = df_insta_Airbus[df_insta_Airbus['manufacturer']  == 'Airbus']\n",
    "df_insta_aircraftinterior_hash = df_insta_aircraftinterior[df_insta_aircraftinterior['view']  == 'Int']\n",
    "df_insta_aircraftseat_hash = df_insta_aircraftseat[df_insta_aircraftseat['view']  == 'Int']\n",
    "df_insta_boeing_hash = df_insta_boeing[df_insta_boeing['manufacturer']  == 'Boeing']"
   ]
  },
  {
   "cell_type": "code",
   "execution_count": 27,
   "metadata": {},
   "outputs": [
    {
     "data": {
      "text/plain": [
       "0.43775303643724695"
      ]
     },
     "execution_count": 27,
     "metadata": {},
     "output_type": "execute_result"
    }
   ],
   "source": [
    "len(df_insta_Airbus_hash)/len(df_insta_Airbus)"
   ]
  },
  {
   "cell_type": "code",
   "execution_count": 29,
   "metadata": {},
   "outputs": [
    {
     "data": {
      "text/plain": [
       "0.5984354628422425"
      ]
     },
     "execution_count": 29,
     "metadata": {},
     "output_type": "execute_result"
    }
   ],
   "source": [
    "len(df_insta_aircraftinterior_hash)/len(df_insta_aircraftinterior)"
   ]
  },
  {
   "cell_type": "code",
   "execution_count": 32,
   "metadata": {},
   "outputs": [
    {
     "data": {
      "text/plain": [
       "0.28292046936114734"
      ]
     },
     "execution_count": 32,
     "metadata": {},
     "output_type": "execute_result"
    }
   ],
   "source": [
    "df_insta_aircraftinterior_ext = df_insta_aircraftinterior[df_insta_aircraftinterior['view']  == 'Ext']\n",
    "len(df_insta_aircraftinterior_ext)/len(df_insta_aircraftinterior)"
   ]
  },
  {
   "cell_type": "code",
   "execution_count": 110,
   "metadata": {
    "scrolled": true
   },
   "outputs": [
    {
     "data": {
      "text/plain": [
       "0.4938811188811189"
      ]
     },
     "execution_count": 110,
     "metadata": {},
     "output_type": "execute_result"
    }
   ],
   "source": [
    "len(df_insta_aircraftseat_hash)/len(df_insta_aircraftseat)"
   ]
  },
  {
   "cell_type": "code",
   "execution_count": 31,
   "metadata": {},
   "outputs": [
    {
     "data": {
      "text/plain": [
       "0.4725956566701138"
      ]
     },
     "execution_count": 31,
     "metadata": {},
     "output_type": "execute_result"
    }
   ],
   "source": [
    "len(df_insta_boeing_hash)/len(df_insta_boeing)"
   ]
  },
  {
   "cell_type": "code",
   "execution_count": null,
   "metadata": {},
   "outputs": [],
   "source": []
  }
 ],
 "metadata": {
  "kernelspec": {
   "display_name": "Python 3",
   "language": "python",
   "name": "python3"
  },
  "language_info": {
   "codemirror_mode": {
    "name": "ipython",
    "version": 3
   },
   "file_extension": ".py",
   "mimetype": "text/x-python",
   "name": "python",
   "nbconvert_exporter": "python",
   "pygments_lexer": "ipython3",
   "version": "3.7.4"
  }
 },
 "nbformat": 4,
 "nbformat_minor": 2
}
