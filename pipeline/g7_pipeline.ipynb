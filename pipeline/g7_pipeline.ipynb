{
 "cells": [
  {
   "cell_type": "markdown",
   "metadata": {},
   "source": [
    "created on: Tue Jan 14 09:44:36 2020\n",
    "<br>\n",
    "Group 7\n",
    "<br>\n",
    "@author: V.B., E.G."
   ]
  },
  {
   "cell_type": "code",
   "execution_count": 21,
   "metadata": {
    "ExecuteTime": {
     "end_time": "2020-01-09T15:19:11.728311Z",
     "start_time": "2020-01-09T15:19:06.196795Z"
    }
   },
   "outputs": [],
   "source": [
    "import matplotlib.pyplot as plt\n",
    "import numpy as np\n",
    "import pandas as pd\n",
    "import os\n",
    "from PIL import Image\n",
    "import h5py\n",
    "import warnings\n",
    "warnings.filterwarnings('ignore')\n",
    "import datetime\n",
    "\n",
    "# deep learning\n",
    "import keras\n",
    "from keras.models import load_model\n",
    "from keras.applications.imagenet_utils import decode_predictions"
   ]
  },
  {
   "cell_type": "code",
   "execution_count": 22,
   "metadata": {},
   "outputs": [],
   "source": [
    "time_s = datetime.datetime.now()"
   ]
  },
  {
   "cell_type": "code",
   "execution_count": 23,
   "metadata": {},
   "outputs": [],
   "source": [
    "project_path = 'C:/Users/emma.grandgirard/Documents/B - Projet Interpromo/'\n",
    "models_path = project_path + 'Models/'\n",
    "data_path = 'Data/data_Interpromo2020/Interpromo2020/All Data/ANALYSE IMAGE/'\n",
    "path_out = project_path + 'pred'\n",
    "\n",
    "# Choose social network: SEATGURU, SEATMAESTRO, INSTAGRAM\n",
    "social_net = 'INSTAGRAM'\n",
    "insta_hashtag = 'airbus'  # if social_net == 'INSTAGRAM'\n",
    "\n",
    "# Choose images parameters\n",
    "size = (224, 224)\n",
    "greys = False"
   ]
  },
  {
   "cell_type": "markdown",
   "metadata": {},
   "source": [
    "# Read images to predict"
   ]
  },
  {
   "cell_type": "code",
   "execution_count": 24,
   "metadata": {},
   "outputs": [],
   "source": [
    "def read_img(img_path: str, size: tuple, greys: bool=False) -> np.array:\n",
    "    \n",
    "    img_img = Image.open(img_path)\n",
    "    img_arr = np.array(img_img.resize(size))\n",
    "    img_arr = img_arr.reshape(1, size[0], size[1], 1 if greys else 3)\n",
    "    \n",
    "    return img_arr"
   ]
  },
  {
   "cell_type": "code",
   "execution_count": 25,
   "metadata": {},
   "outputs": [],
   "source": [
    "# Path\n",
    "if social_net == 'SEATGURU' or social_net == 'SEATMAESTRO':\n",
    "    folder = 'IMG ' + social_net + '/'\n",
    "\n",
    "elif social_net == 'INSTAGRAM':\n",
    "    folder = social_net + '/' + insta_hashtag + '/'\n",
    "    \n",
    "path_pred = project_path + data_path + folder\n",
    "imgs_names = os.listdir(path_pred)[:100]  # here, only 100 to test\n",
    "\n",
    "# Init results DataFrame\n",
    "df = pd.DataFrame(columns=['img', 'view', 'view_proba', 'manufacturer', 'manufacturer_proba', 'type', 'type_proba'])\n",
    "df['img'] = imgs_names"
   ]
  },
  {
   "cell_type": "code",
   "execution_count": 26,
   "metadata": {},
   "outputs": [
    {
     "data": {
      "text/plain": [
       "(100, 224, 224, 3)"
      ]
     },
     "execution_count": 26,
     "metadata": {},
     "output_type": "execute_result"
    }
   ],
   "source": [
    "# Read all images, convert to array\n",
    "all_imgs_arr = np.array([read_img(path_pred + imgs_names[k], size=(size[0], size[1]), greys=False) \n",
    "                         for k in range(len(imgs_names))])  # len(imgs_names)\n",
    "\n",
    "# Reshape for prediction\n",
    "all_imgs_arr = all_imgs_arr.reshape(len(imgs_names), size[0], size[1], 1 if greys else 3)\n",
    "all_imgs_arr.shape"
   ]
  },
  {
   "cell_type": "code",
   "execution_count": 27,
   "metadata": {},
   "outputs": [],
   "source": [
    "%run g7_pickle_save_load.ipynb"
   ]
  },
  {
   "cell_type": "markdown",
   "metadata": {},
   "source": [
    "# Models pipeline"
   ]
  },
  {
   "cell_type": "code",
   "execution_count": 28,
   "metadata": {},
   "outputs": [],
   "source": [
    "def pred_from_model(img_arr: np.array, models_path: str, model_name: str) -> str:\n",
    "    \n",
    "    # Load model and predict\n",
    "    model, dic_class = load_files_model(path_mod=models_path, mod_name=model_name)\n",
    "    preds = model.predict(img_arr)\n",
    "    labels = [np.argmax(preds[k]) for k in range(len(preds))]\n",
    "    proba_labels = [np.max(preds[k]) for k in range(len(preds))]\n",
    "    labels = [list(dic_class.keys())[list(dic_class.values()).index(lab)] for lab in labels]\n",
    "    \n",
    "    del model, dic_class  # remove model from environment\n",
    "    \n",
    "    return labels, proba_labels"
   ]
  },
  {
   "cell_type": "markdown",
   "metadata": {},
   "source": [
    "## First step: view"
   ]
  },
  {
   "cell_type": "code",
   "execution_count": 29,
   "metadata": {},
   "outputs": [],
   "source": [
    "view_labels, view_proba_labels = pred_from_model(img_arr=all_imgs_arr, models_path=models_path, model_name='View')"
   ]
  },
  {
   "cell_type": "code",
   "execution_count": 30,
   "metadata": {},
   "outputs": [],
   "source": [
    "# Fill DataFrame with View labels\n",
    "df['view'] = view_labels\n",
    "df['view_proba'] = view_proba_labels"
   ]
  },
  {
   "cell_type": "markdown",
   "metadata": {},
   "source": [
    "## Exterior"
   ]
  },
  {
   "cell_type": "markdown",
   "metadata": {},
   "source": [
    "### Manufacturer and type"
   ]
  },
  {
   "cell_type": "code",
   "execution_count": 31,
   "metadata": {},
   "outputs": [],
   "source": [
    "# If View == 'Ext', predict aircraft type\n",
    "ind_ext = df[df['view'] == 'Ext'].index\n",
    "ext_imgs_arr = all_imgs_arr[ind_ext]\n",
    "ext_labels, ext_proba_labels = pred_from_model(img_arr=ext_imgs_arr, models_path=models_path, model_name='Ext_typ')\n",
    "\n",
    "# Fill DataFrame with types and manufacturers\n",
    "df['type'].loc[ind_ext] = ext_labels\n",
    "df['type_proba'].loc[ind_ext] = ext_proba_labels\n",
    "df['manufacturer'].loc[ind_ext] = ['Airbus' if 'A' in typ else 'Boeing' for typ in df['type'].loc[ind_ext]]"
   ]
  },
  {
   "cell_type": "markdown",
   "metadata": {},
   "source": [
    "## Interior"
   ]
  },
  {
   "cell_type": "markdown",
   "metadata": {},
   "source": [
    "### Manufacturer"
   ]
  },
  {
   "cell_type": "code",
   "execution_count": 32,
   "metadata": {},
   "outputs": [],
   "source": [
    "# If View == 'Int', predict manufacturer\n",
    "ind_int = df[df['view'] == 'Int'].index\n",
    "int_imgs_arr = all_imgs_arr[ind_int]\n",
    "int_man_labels, int_man_proba_labels = pred_from_model(img_arr=int_imgs_arr, models_path=models_path, model_name='Int_man')\n",
    "\n",
    "# Fill DataFrame with manufacturers\n",
    "df['manufacturer'].loc[ind_int] = int_man_labels\n",
    "df['manufacturer_proba'].loc[ind_int] = int_man_proba_labels"
   ]
  },
  {
   "cell_type": "markdown",
   "metadata": {},
   "source": [
    "### Airbus type"
   ]
  },
  {
   "cell_type": "code",
   "execution_count": 33,
   "metadata": {},
   "outputs": [],
   "source": [
    "# If View == 'Int' and manufacturer == 'Airbus', predict type\n",
    "ind_int_Airbus = df[(df['view'] == 'Int') & (df['manufacturer'] == 'Airbus')].index\n",
    "int_Airbus_imgs_arr = all_imgs_arr[ind_int_Airbus]\n",
    "int_Airbus_labels, int_Airbus_proba_labels = pred_from_model(img_arr=int_Airbus_imgs_arr, models_path=models_path, \n",
    "                                                             model_name='Int_Airbus')\n",
    "\n",
    "# Fill DataFrame with types\n",
    "df['type'].loc[ind_int_Airbus] = int_Airbus_labels\n",
    "df['type_proba'].loc[ind_int_Airbus] = int_Airbus_proba_labels"
   ]
  },
  {
   "cell_type": "markdown",
   "metadata": {},
   "source": [
    "### Boeing type"
   ]
  },
  {
   "cell_type": "code",
   "execution_count": 34,
   "metadata": {},
   "outputs": [],
   "source": [
    "# If View == 'Int' and manufacturer == 'Boeing', predict type\n",
    "ind_int_Boeing = df[(df['view'] == 'Int') & (df['manufacturer'] == 'Boeing')].index\n",
    "int_Boeing_imgs_arr = all_imgs_arr[ind_int_Boeing]\n",
    "int_Boeing_labels, int_Boeing_proba_labels = pred_from_model(img_arr=int_Boeing_imgs_arr, models_path=models_path, \n",
    "                                                             model_name='Int_Boeing')\n",
    "\n",
    "# Fill DataFrame with types\n",
    "df['type'].loc[ind_int_Boeing] = int_Boeing_labels\n",
    "df['type_proba'].loc[ind_int_Boeing] = int_Boeing_proba_labels"
   ]
  },
  {
   "cell_type": "markdown",
   "metadata": {},
   "source": [
    "# Save results as csv"
   ]
  },
  {
   "cell_type": "code",
   "execution_count": 35,
   "metadata": {},
   "outputs": [
    {
     "data": {
      "text/html": [
       "<div>\n",
       "<style scoped>\n",
       "    .dataframe tbody tr th:only-of-type {\n",
       "        vertical-align: middle;\n",
       "    }\n",
       "\n",
       "    .dataframe tbody tr th {\n",
       "        vertical-align: top;\n",
       "    }\n",
       "\n",
       "    .dataframe thead th {\n",
       "        text-align: right;\n",
       "    }\n",
       "</style>\n",
       "<table border=\"1\" class=\"dataframe\">\n",
       "  <thead>\n",
       "    <tr style=\"text-align: right;\">\n",
       "      <th></th>\n",
       "      <th>img</th>\n",
       "      <th>view</th>\n",
       "      <th>view_proba</th>\n",
       "      <th>manufacturer</th>\n",
       "      <th>manufacturer_proba</th>\n",
       "      <th>type</th>\n",
       "      <th>type_proba</th>\n",
       "    </tr>\n",
       "  </thead>\n",
       "  <tbody>\n",
       "    <tr>\n",
       "      <th>0</th>\n",
       "      <td>0.jpg</td>\n",
       "      <td>Ext</td>\n",
       "      <td>0.998276</td>\n",
       "      <td>Airbus</td>\n",
       "      <td>NaN</td>\n",
       "      <td>A330</td>\n",
       "      <td>0.65578</td>\n",
       "    </tr>\n",
       "    <tr>\n",
       "      <th>1</th>\n",
       "      <td>1.jpg</td>\n",
       "      <td>Ext</td>\n",
       "      <td>0.999475</td>\n",
       "      <td>Boeing</td>\n",
       "      <td>NaN</td>\n",
       "      <td>777</td>\n",
       "      <td>0.648764</td>\n",
       "    </tr>\n",
       "    <tr>\n",
       "      <th>2</th>\n",
       "      <td>10.jpg</td>\n",
       "      <td>Ext</td>\n",
       "      <td>0.999881</td>\n",
       "      <td>Airbus</td>\n",
       "      <td>NaN</td>\n",
       "      <td>A320</td>\n",
       "      <td>0.391037</td>\n",
       "    </tr>\n",
       "    <tr>\n",
       "      <th>3</th>\n",
       "      <td>100.jpg</td>\n",
       "      <td>Ext</td>\n",
       "      <td>0.999968</td>\n",
       "      <td>Airbus</td>\n",
       "      <td>NaN</td>\n",
       "      <td>A320</td>\n",
       "      <td>0.999999</td>\n",
       "    </tr>\n",
       "    <tr>\n",
       "      <th>4</th>\n",
       "      <td>1000.jpg</td>\n",
       "      <td>Ext</td>\n",
       "      <td>0.890084</td>\n",
       "      <td>Airbus</td>\n",
       "      <td>NaN</td>\n",
       "      <td>A321</td>\n",
       "      <td>0.885305</td>\n",
       "    </tr>\n",
       "    <tr>\n",
       "      <th>...</th>\n",
       "      <td>...</td>\n",
       "      <td>...</td>\n",
       "      <td>...</td>\n",
       "      <td>...</td>\n",
       "      <td>...</td>\n",
       "      <td>...</td>\n",
       "      <td>...</td>\n",
       "    </tr>\n",
       "    <tr>\n",
       "      <th>95</th>\n",
       "      <td>1088.jpg</td>\n",
       "      <td>Ext</td>\n",
       "      <td>0.999116</td>\n",
       "      <td>Boeing</td>\n",
       "      <td>NaN</td>\n",
       "      <td>747</td>\n",
       "      <td>0.99978</td>\n",
       "    </tr>\n",
       "    <tr>\n",
       "      <th>96</th>\n",
       "      <td>1089.jpg</td>\n",
       "      <td>Ext</td>\n",
       "      <td>0.999739</td>\n",
       "      <td>Airbus</td>\n",
       "      <td>NaN</td>\n",
       "      <td>A320</td>\n",
       "      <td>0.783124</td>\n",
       "    </tr>\n",
       "    <tr>\n",
       "      <th>97</th>\n",
       "      <td>109.jpg</td>\n",
       "      <td>Ext_Int</td>\n",
       "      <td>0.811883</td>\n",
       "      <td>NaN</td>\n",
       "      <td>NaN</td>\n",
       "      <td>NaN</td>\n",
       "      <td>NaN</td>\n",
       "    </tr>\n",
       "    <tr>\n",
       "      <th>98</th>\n",
       "      <td>1090.jpg</td>\n",
       "      <td>Meal</td>\n",
       "      <td>0.458014</td>\n",
       "      <td>NaN</td>\n",
       "      <td>NaN</td>\n",
       "      <td>NaN</td>\n",
       "      <td>NaN</td>\n",
       "    </tr>\n",
       "    <tr>\n",
       "      <th>99</th>\n",
       "      <td>1091.jpg</td>\n",
       "      <td>Ext</td>\n",
       "      <td>0.971635</td>\n",
       "      <td>Airbus</td>\n",
       "      <td>NaN</td>\n",
       "      <td>A321</td>\n",
       "      <td>0.909906</td>\n",
       "    </tr>\n",
       "  </tbody>\n",
       "</table>\n",
       "<p>100 rows × 7 columns</p>\n",
       "</div>"
      ],
      "text/plain": [
       "         img     view  view_proba manufacturer manufacturer_proba  type  \\\n",
       "0      0.jpg      Ext    0.998276       Airbus                NaN  A330   \n",
       "1      1.jpg      Ext    0.999475       Boeing                NaN   777   \n",
       "2     10.jpg      Ext    0.999881       Airbus                NaN  A320   \n",
       "3    100.jpg      Ext    0.999968       Airbus                NaN  A320   \n",
       "4   1000.jpg      Ext    0.890084       Airbus                NaN  A321   \n",
       "..       ...      ...         ...          ...                ...   ...   \n",
       "95  1088.jpg      Ext    0.999116       Boeing                NaN   747   \n",
       "96  1089.jpg      Ext    0.999739       Airbus                NaN  A320   \n",
       "97   109.jpg  Ext_Int    0.811883          NaN                NaN   NaN   \n",
       "98  1090.jpg     Meal    0.458014          NaN                NaN   NaN   \n",
       "99  1091.jpg      Ext    0.971635       Airbus                NaN  A321   \n",
       "\n",
       "   type_proba  \n",
       "0     0.65578  \n",
       "1    0.648764  \n",
       "2    0.391037  \n",
       "3    0.999999  \n",
       "4    0.885305  \n",
       "..        ...  \n",
       "95    0.99978  \n",
       "96   0.783124  \n",
       "97        NaN  \n",
       "98        NaN  \n",
       "99   0.909906  \n",
       "\n",
       "[100 rows x 7 columns]"
      ]
     },
     "execution_count": 35,
     "metadata": {},
     "output_type": "execute_result"
    }
   ],
   "source": [
    "df"
   ]
  },
  {
   "cell_type": "code",
   "execution_count": 36,
   "metadata": {},
   "outputs": [],
   "source": [
    "# Path to save\n",
    "if social_net != 'INSTAGRAM':\n",
    "    path_save = path_out + '/pred_' + social_net + '.csv'\n",
    "    \n",
    "else:\n",
    "    path_save = path_out + '/pred_' + social_net + '_' + insta_hashtag + '.csv'\n",
    "\n",
    "# Save\n",
    "df.to_csv(path_or_buf=path_save, sep=';', encoding='utf-8')"
   ]
  },
  {
   "cell_type": "code",
   "execution_count": 37,
   "metadata": {},
   "outputs": [
    {
     "name": "stdout",
     "output_type": "stream",
     "text": [
      "0:07:30.075902\n"
     ]
    }
   ],
   "source": [
    "print(datetime.datetime.now() - time_s)"
   ]
  },
  {
   "cell_type": "code",
   "execution_count": null,
   "metadata": {},
   "outputs": [],
   "source": []
  }
 ],
 "metadata": {
  "kernelspec": {
   "display_name": "Python 3",
   "language": "python",
   "name": "python3"
  },
  "language_info": {
   "codemirror_mode": {
    "name": "ipython",
    "version": 3
   },
   "file_extension": ".py",
   "mimetype": "text/x-python",
   "name": "python",
   "nbconvert_exporter": "python",
   "pygments_lexer": "ipython3",
   "version": "3.7.3"
  },
  "toc": {
   "base_numbering": 1,
   "nav_menu": {},
   "number_sections": true,
   "sideBar": true,
   "skip_h1_title": false,
   "title_cell": "Table of Contents",
   "title_sidebar": "Contents",
   "toc_cell": false,
   "toc_position": {},
   "toc_section_display": true,
   "toc_window_display": false
  },
  "varInspector": {
   "cols": {
    "lenName": 16,
    "lenType": 16,
    "lenVar": 40
   },
   "kernels_config": {
    "python": {
     "delete_cmd_postfix": "",
     "delete_cmd_prefix": "del ",
     "library": "var_list.py",
     "varRefreshCmd": "print(var_dic_list())"
    },
    "r": {
     "delete_cmd_postfix": ") ",
     "delete_cmd_prefix": "rm(",
     "library": "var_list.r",
     "varRefreshCmd": "cat(var_dic_list()) "
    }
   },
   "position": {
    "height": "294px",
    "left": "1070px",
    "right": "30px",
    "top": "120px",
    "width": "340px"
   },
   "types_to_exclude": [
    "module",
    "function",
    "builtin_function_or_method",
    "instance",
    "_Feature"
   ],
   "window_display": true
  }
 },
 "nbformat": 4,
 "nbformat_minor": 2
}
