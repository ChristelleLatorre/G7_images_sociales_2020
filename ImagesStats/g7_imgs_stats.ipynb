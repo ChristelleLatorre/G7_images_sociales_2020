{
 "cells": [
  {
   "cell_type": "markdown",
   "metadata": {},
   "source": [
    "Created on Mon Jan 6 09:58:13 2020\n",
    "<br>\n",
    "Group 7\n",
    "<br>\n",
    "@authors: All group members\n",
    "<h1>Group 7 - Images sociales<span class=\"tocSkip\"></span>\n",
    "    \n",
    "<br>  \n",
    "<center>Part 2: ImagesStats"
   ]
  },
  {
   "cell_type": "markdown",
   "metadata": {
    "toc": true
   },
   "source": [
    "<h1>Table of Contents<span class=\"tocSkip\"></span></h1>\n",
    "<div class=\"toc\"><ul class=\"toc-item\"><li><span><a href=\"#Introduction\" data-toc-modified-id=\"Introduction-1\"><span class=\"toc-item-num\">1&nbsp;&nbsp;</span>Introduction</a></span></li><li><span><a href=\"#Environment\" data-toc-modified-id=\"Environment-2\"><span class=\"toc-item-num\">2&nbsp;&nbsp;</span>Environment</a></span><ul class=\"toc-item\"><li><span><a href=\"#Libraries\" data-toc-modified-id=\"Libraries-2.1\"><span class=\"toc-item-num\">2.1&nbsp;&nbsp;</span>Libraries</a></span></li><li><span><a href=\"#Parameters\" data-toc-modified-id=\"Parameters-2.2\"><span class=\"toc-item-num\">2.2&nbsp;&nbsp;</span>Parameters</a></span></li><li><span><a href=\"#Functions\" data-toc-modified-id=\"Functions-2.3\"><span class=\"toc-item-num\">2.3&nbsp;&nbsp;</span>Functions</a></span></li></ul></li><li><span><a href=\"#SeatGuru\" data-toc-modified-id=\"SeatGuru-3\"><span class=\"toc-item-num\">3&nbsp;&nbsp;</span>SeatGuru</a></span><ul class=\"toc-item\"><li><span><a href=\"#Create-DataFrame\" data-toc-modified-id=\"Create-DataFrame-3.1\"><span class=\"toc-item-num\">3.1&nbsp;&nbsp;</span>Create DataFrame</a></span></li><li><span><a href=\"#Manually-added-labellisation\" data-toc-modified-id=\"Manually-added-labellisation-3.2\"><span class=\"toc-item-num\">3.2&nbsp;&nbsp;</span>Manually added labellisation</a></span></li><li><span><a href=\"#Descriptive-statistics\" data-toc-modified-id=\"Descriptive-statistics-3.3\"><span class=\"toc-item-num\">3.3&nbsp;&nbsp;</span>Descriptive statistics</a></span></li></ul></li><li><span><a href=\"#Instagram\" data-toc-modified-id=\"Instagram-4\"><span class=\"toc-item-num\">4&nbsp;&nbsp;</span>Instagram</a></span></li></ul></div>"
   ]
  },
  {
   "cell_type": "markdown",
   "metadata": {},
   "source": [
    "# Introduction\n",
    "In this notebook, you will find the code to perform basic statistics on the 2 sets of images given by Airbus for prediction. Our goal was to retreive information about the amount of data, images format, and relevant labellisation when possible.\n",
    "\n",
    "**Instagram**<span class=\"tocSkip\"></span><br>\n",
    "Output: a `CSV` containing information regarding images formats: format, height, width, number of colours in the colour model (here, RGB). In addition, some basic statistics (number of images, number of different formats) are displayed.\n",
    "\n",
    "**SeatGuru**<span class=\"tocSkip\"></span><br>\n",
    "Since SeatGuru images were provided with some labellisation in their title, and knowing that our goal was to make predictions on similar social media images, we decided to include them in some of our train and test sets.\n",
    "The following code therefore includes extraction of `aircraft_manufacturer` and `aircraft_type` labels from images titles.\n",
    "We also present you the method we used to manually add `View` labels. Since we already performed this task, you can leave `manually_annotate_SeatGuru` set to `False` and just run the following code blocks to retrieve the labels we provide you.\n",
    "\n",
    "Output: a `CSV` containing information regarding:\n",
    "* Images formats;\n",
    "* Aircraft manufacturer and type;\n",
    "* Viewpoint: interior (Int), exterior (Ext), exterior viewed from a window (Ext_Int), meal tray (Meal).\n",
    "\n",
    "In addition, some basic statistics (number of images, number of different formats) are displayed, along with the conclusions drawn towards deep learing models: we will see that in many cases, data augmentation or use of other sources of images will be more than necessary."
   ]
  },
  {
   "cell_type": "markdown",
   "metadata": {},
   "source": [
    "# Environment\n",
    "To ensure a proper functioning of this code file, `python 3.6` or later version is required.\n",
    "## Libraries"
   ]
  },
  {
   "cell_type": "code",
   "execution_count": 1,
   "metadata": {},
   "outputs": [],
   "source": [
    "import os\n",
    "import numpy as np\n",
    "import pandas as pd\n",
    "from matplotlib.pyplot import imread\n",
    "from PIL import Image"
   ]
  },
  {
   "cell_type": "code",
   "execution_count": 2,
   "metadata": {},
   "outputs": [
    {
     "name": "stdout",
     "output_type": "stream",
     "text": [
      "numpy 1.17.4\n",
      "pandas 0.25.2\n",
      "matplotlib 3.1.1\n",
      "PIL 6.2.0\n"
     ]
    }
   ],
   "source": [
    "%load_ext watermark\n",
    "%watermark -p numpy,pandas,matplotlib,PIL"
   ]
  },
  {
   "cell_type": "markdown",
   "metadata": {},
   "source": [
    "## Parameters"
   ]
  },
  {
   "cell_type": "code",
   "execution_count": 3,
   "metadata": {},
   "outputs": [],
   "source": [
    "project_path = './../'\n",
    "seatguru_path = project_path + 'Interpromo2020/All Data/ANALYSE IMAGE/IMG SEATGURU/'\n",
    "insta_path = project_path + 'Interpromo2020/All Data/ANALYSE IMAGE/INSTAGRAM/'\n",
    "stats_path = project_path + 'ImagesStats/'\n",
    "annot_path = project_path + 'IMG_annot/SEATGURU/'\n",
    "\n",
    "# True if you want to add newly labelled images\n",
    "manually_annotate_SeatGuru = False"
   ]
  },
  {
   "cell_type": "markdown",
   "metadata": {},
   "source": [
    "## Functions"
   ]
  },
  {
   "cell_type": "code",
   "execution_count": 4,
   "metadata": {},
   "outputs": [],
   "source": [
    "def get_imgs_formats(imgs: list, imgs_df: pd.DataFrame) -> pd.DataFrame:\n",
    "    \"\"\"Fills the DataFrame with pictures info (format and dimensions).\n",
    "\n",
    "    Parameters:\n",
    "    imgs: list of arrays representing images\n",
    "    imgs_df: empty DataFrame with at least a 'name' column\n",
    "\n",
    "    Out:\n",
    "    imgs_df: DataFrame with 4 new columns: 'format', 'height', 'width',\n",
    "             'height_to_width', 'ncol', and one line per image\n",
    "\n",
    "    \"\"\"\n",
    "\n",
    "    # Formats\n",
    "    imgs_df['format'] = imgs_df.name.apply(lambda x: x.split('.')[1])\n",
    "\n",
    "    # Shapes\n",
    "    heights = [imgs[k].shape[0] if len(\n",
    "        imgs[k].shape) != 0 else 0 for k in range(len(imgs))]\n",
    "    widths = [imgs[k].shape[1] if len(\n",
    "        imgs[k].shape) != 0 else 0 for k in range(len(imgs))]\n",
    "    ncols = [imgs[k].shape[2] if len(\n",
    "        imgs[k].shape) != 0 else 0 for k in range(len(imgs))]\n",
    "\n",
    "    imgs_df['height'] = heights\n",
    "    imgs_df['width'] = widths\n",
    "    imgs_df['height_to_width'] = [x / y if y != 0 else 0 for x,\n",
    "                                  y in zip(imgs_df.height, imgs_df.width)]\n",
    "    imgs_df['ncol'] = ncols\n",
    "\n",
    "    return imgs_df\n",
    "\n",
    "\n",
    "def get_stats(imgs_df: pd.DataFrame, col: pd.Series, col_name: str):\n",
    "    \"\"\"Basic statistics on a given DataFrame column.\"\"\"\n",
    "\n",
    "    print(f'Max {col_name}: {round(np.max(col), 4)}')\n",
    "    print(f'Median {col_name}: {round(np.median(col), 4)}')\n",
    "    print(f'Min {col_name}: {round(np.min(col), 4)}')\n",
    "    print('')\n",
    "\n",
    "\n",
    "def data_insta(insta_path: str, hashtags_list: list, stats_path: str) -> pd.DataFrame:\n",
    "    \"\"\"\n",
    "    Paramaters:\n",
    "        insta_path: path to Instagram folders \n",
    "        hashtag: chosen hashtag (a folder has to be named after this hashtag)\n",
    "\n",
    "    Out:\n",
    "        df: DataFrame\n",
    "    \"\"\"\n",
    "\n",
    "    df_all = pd.DataFrame(\n",
    "        columns=['hashtag', 'name', 'format', 'height', 'width', 'height_to_width', 'ncol'])\n",
    "\n",
    "    for h in hashtags_list:\n",
    "        img_list = os.listdir(insta_path + '/' + str(h))\n",
    "        img_list = [img for img in img_list if '.xlsx' not in img]\n",
    "\n",
    "        # List of all matrices (images)\n",
    "        imgs = list()\n",
    "        for img in img_list:\n",
    "            img = imread(insta_path + '/' + str(h) + '/' + img)\n",
    "            imgs.append(img)\n",
    "\n",
    "        # Init the dataframe that will contain all basic info about images\n",
    "        imgs_df = pd.DataFrame(\n",
    "            columns=['hashtag', 'name', 'format', 'height', 'width', 'height_to_width', 'ncol'])\n",
    "        imgs_df.name = img_list\n",
    "        imgs_df.hashtag = h\n",
    "\n",
    "        # Apply function to fill in DataFrame\n",
    "        imgs_df = get_imgs_formats(imgs, imgs_df)\n",
    "\n",
    "        df_all = pd.concat([df_all, imgs_df], axis=0)\n",
    "\n",
    "    # Save as csv\n",
    "    os.makedirs(stats_path, exist_ok=True)\n",
    "    df_all.to_csv(path_or_buf=stats_path + 'g7_INSTAGRAM.csv',\n",
    "                  sep=';', encoding='utf-8', index=False)\n",
    "\n",
    "    return df_all"
   ]
  },
  {
   "cell_type": "markdown",
   "metadata": {},
   "source": [
    "# SeatGuru"
   ]
  },
  {
   "cell_type": "code",
   "execution_count": 5,
   "metadata": {},
   "outputs": [
    {
     "name": "stdout",
     "output_type": "stream",
     "text": [
      "2556 SeatGuru images\n"
     ]
    }
   ],
   "source": [
    "img_list = os.listdir(seatguru_path)\n",
    "nb_images = len(img_list)\n",
    "print(f'{nb_images} SeatGuru images')"
   ]
  },
  {
   "cell_type": "markdown",
   "metadata": {},
   "source": [
    "## Create DataFrame"
   ]
  },
  {
   "cell_type": "code",
   "execution_count": 6,
   "metadata": {},
   "outputs": [],
   "source": [
    "# List of all matrices (images)\n",
    "seatguru_imgs = list()\n",
    "for i in range(nb_images):\n",
    "    img = imread(seatguru_path + img_list[i])\n",
    "    seatguru_imgs.append(img)\n",
    "\n",
    "# Init the dataframe that will contain all basic info about images\n",
    "seatguru_df = pd.DataFrame(columns=['name', 'format', 'height', 'width',\n",
    "                                    'height_to_width', 'ncol', 'aircraft_manufacturer', 'aircraft_type'])\n",
    "seatguru_df.name = img_list\n",
    "\n",
    "# Apply function to fill in DataFrame\n",
    "seatguru_df = get_imgs_formats(seatguru_imgs, seatguru_df)\n",
    "\n",
    "# Aircraft manufacturers\n",
    "aircraft_manufacturers = ['Airbus' if 'Airbus' in seatguru_df.name[k]\n",
    "                          else 'Boeing' if 'Boeing' in seatguru_df.name[k]\n",
    "                          else 'Other' for k in range(len(seatguru_df))]\n",
    "\n",
    "# Aircraft types\n",
    "aircraft_types = [name.split('_')[name.split('_').index(aircraft_manufacturer) + 1].split('-')[0]\n",
    "                  if aircraft_manufacturer in name.split('_') else ''\n",
    "                  for name, aircraft_manufacturer in zip(seatguru_df.name, aircraft_manufacturers)]\n",
    "\n",
    "# Add missing As for Airbus aircrafts\n",
    "aircraft_types = [aircraft_types[k]\n",
    "                  if ('A' in aircraft_types[k] or '7' in aircraft_types[k] or aircraft_types[k] == '')\n",
    "                  else 'A' + aircraft_types[k] for k in range(len(aircraft_types))]\n",
    "\n",
    "# Remove Airbus 'neos' because we don't need that much detail\n",
    "aircraft_types = [aircraft_types[k].replace(\n",
    "    'neo', '') for k in range(len(aircraft_types))]\n",
    "\n",
    "# Remove Ds\n",
    "aircraft_types = [aircraft_types[k].replace(\n",
    "    'D', '') for k in range(len(aircraft_types))]\n",
    "\n",
    "# Fill in dataframe columns\n",
    "seatguru_df.aircraft_manufacturer = aircraft_manufacturers\n",
    "seatguru_df.aircraft_type = aircraft_types"
   ]
  },
  {
   "cell_type": "code",
   "execution_count": 7,
   "metadata": {},
   "outputs": [
    {
     "data": {
      "text/html": [
       "<div>\n",
       "<style scoped>\n",
       "    .dataframe tbody tr th:only-of-type {\n",
       "        vertical-align: middle;\n",
       "    }\n",
       "\n",
       "    .dataframe tbody tr th {\n",
       "        vertical-align: top;\n",
       "    }\n",
       "\n",
       "    .dataframe thead th {\n",
       "        text-align: right;\n",
       "    }\n",
       "</style>\n",
       "<table border=\"1\" class=\"dataframe\">\n",
       "  <thead>\n",
       "    <tr style=\"text-align: right;\">\n",
       "      <th></th>\n",
       "      <th>name</th>\n",
       "      <th>format</th>\n",
       "      <th>height</th>\n",
       "      <th>width</th>\n",
       "      <th>height_to_width</th>\n",
       "      <th>ncol</th>\n",
       "      <th>aircraft_manufacturer</th>\n",
       "      <th>aircraft_type</th>\n",
       "    </tr>\n",
       "  </thead>\n",
       "  <tbody>\n",
       "    <tr>\n",
       "      <th>0</th>\n",
       "      <td>Aegean_Airlines_Airbus_A320-200_0.jpg</td>\n",
       "      <td>jpg</td>\n",
       "      <td>720</td>\n",
       "      <td>720</td>\n",
       "      <td>1.000000</td>\n",
       "      <td>3</td>\n",
       "      <td>Airbus</td>\n",
       "      <td>A320</td>\n",
       "    </tr>\n",
       "    <tr>\n",
       "      <th>1</th>\n",
       "      <td>Aegean_Airlines_Airbus_A320-200_1.jpg</td>\n",
       "      <td>jpg</td>\n",
       "      <td>720</td>\n",
       "      <td>720</td>\n",
       "      <td>1.000000</td>\n",
       "      <td>3</td>\n",
       "      <td>Airbus</td>\n",
       "      <td>A320</td>\n",
       "    </tr>\n",
       "    <tr>\n",
       "      <th>2</th>\n",
       "      <td>Aegean_Airlines_Airbus_A320-200_2.jpg</td>\n",
       "      <td>jpg</td>\n",
       "      <td>720</td>\n",
       "      <td>720</td>\n",
       "      <td>1.000000</td>\n",
       "      <td>3</td>\n",
       "      <td>Airbus</td>\n",
       "      <td>A320</td>\n",
       "    </tr>\n",
       "    <tr>\n",
       "      <th>3</th>\n",
       "      <td>Aegean_Airlines_Airbus_A320-200_3.jpg</td>\n",
       "      <td>jpg</td>\n",
       "      <td>720</td>\n",
       "      <td>960</td>\n",
       "      <td>0.750000</td>\n",
       "      <td>3</td>\n",
       "      <td>Airbus</td>\n",
       "      <td>A320</td>\n",
       "    </tr>\n",
       "    <tr>\n",
       "      <th>4</th>\n",
       "      <td>Aegean_Airlines_Airbus_A320-200_4.jpg</td>\n",
       "      <td>jpg</td>\n",
       "      <td>720</td>\n",
       "      <td>540</td>\n",
       "      <td>1.333333</td>\n",
       "      <td>3</td>\n",
       "      <td>Airbus</td>\n",
       "      <td>A320</td>\n",
       "    </tr>\n",
       "  </tbody>\n",
       "</table>\n",
       "</div>"
      ],
      "text/plain": [
       "                                    name format  height  width  \\\n",
       "0  Aegean_Airlines_Airbus_A320-200_0.jpg    jpg     720    720   \n",
       "1  Aegean_Airlines_Airbus_A320-200_1.jpg    jpg     720    720   \n",
       "2  Aegean_Airlines_Airbus_A320-200_2.jpg    jpg     720    720   \n",
       "3  Aegean_Airlines_Airbus_A320-200_3.jpg    jpg     720    960   \n",
       "4  Aegean_Airlines_Airbus_A320-200_4.jpg    jpg     720    540   \n",
       "\n",
       "   height_to_width  ncol aircraft_manufacturer aircraft_type  \n",
       "0         1.000000     3                Airbus          A320  \n",
       "1         1.000000     3                Airbus          A320  \n",
       "2         1.000000     3                Airbus          A320  \n",
       "3         0.750000     3                Airbus          A320  \n",
       "4         1.333333     3                Airbus          A320  "
      ]
     },
     "execution_count": 7,
     "metadata": {},
     "output_type": "execute_result"
    }
   ],
   "source": [
    "seatguru_df.head()"
   ]
  },
  {
   "cell_type": "markdown",
   "metadata": {},
   "source": [
    "## Manually added labellisation\n",
    "The first model of our final pipeline (see Part 3. of `README.md`) classifies images into 4 View categories: interior (Int), exterior (Ext), exterior viewed from a window (Ext_Int), meal tray (Meal).\n",
    "Such labels were not provided with our images; we decided to label them manually because discriminating, at least, Exterior vs. Interior was the obvious thing to do before applying models specifically designed for each of these 2 categories.\n",
    "\n",
    "This is the method we used for manual labellisation:\n",
    "* Make sure you have 4 folders in `./../IMG_annot/SEATGURU/` named `Ext`, `Int`, `Ext_Int`, and `Meal`;\n",
    "* Go through `IMG SEATGURU` folder; copy relevant images to the previously mentionned folder which corresponds to the label you want to put on your images;\n",
    "* Set `manually_annotate_SeatGuru` to `True` and run the following code blocks which: create a DataFrame with all 4 labels, merge it with the DataFrame created in Part 3.1 of this notebook, and save to `CSV`.\n",
    "\n",
    "Since we already performed this task, you can leave `manually_annotate_SeatGuru` set to `False` and just run the following code blocks to retrieve the labels we provide you."
   ]
  },
  {
   "cell_type": "code",
   "execution_count": 8,
   "metadata": {
    "code_folding": []
   },
   "outputs": [],
   "source": [
    "if manually_annotate_SeatGuru:\n",
    "    # Add your new labels\n",
    "    labels = os.listdir(annot_path)  # ['Int', 'Ext', 'Ext_Int', 'Meal']\n",
    "\n",
    "    # Create and fill labels DafaFrame\n",
    "    labelled_df = pd.DataFrame(columns=['name', 'view'])\n",
    "\n",
    "    for label in labels:\n",
    "        label_path = annot_path + label\n",
    "        img_list = os.listdir(label_path)\n",
    "        df = pd.DataFrame(columns=['name', 'view'])\n",
    "        df['name'] = img_list\n",
    "        df['view'] = label\n",
    "        labelled_df = pd.concat([labelled_df, df], axis=0)\n",
    "\n",
    "else:\n",
    "    # Simply get the annotated CSV we provide you\n",
    "    labelled_df = pd.read_csv(stats_path + 'g7_SEATGURU.csv', sep=';')\n",
    "    labelled_df = labelled_df[['name', 'view']]"
   ]
  },
  {
   "cell_type": "code",
   "execution_count": 9,
   "metadata": {},
   "outputs": [
    {
     "data": {
      "text/html": [
       "<div>\n",
       "<style scoped>\n",
       "    .dataframe tbody tr th:only-of-type {\n",
       "        vertical-align: middle;\n",
       "    }\n",
       "\n",
       "    .dataframe tbody tr th {\n",
       "        vertical-align: top;\n",
       "    }\n",
       "\n",
       "    .dataframe thead th {\n",
       "        text-align: right;\n",
       "    }\n",
       "</style>\n",
       "<table border=\"1\" class=\"dataframe\">\n",
       "  <thead>\n",
       "    <tr style=\"text-align: right;\">\n",
       "      <th></th>\n",
       "      <th>aircraft_manufacturer</th>\n",
       "      <th>aircraft_type</th>\n",
       "      <th>view</th>\n",
       "      <th>name</th>\n",
       "      <th>format</th>\n",
       "      <th>height</th>\n",
       "      <th>width</th>\n",
       "      <th>height_to_width</th>\n",
       "      <th>ncol</th>\n",
       "    </tr>\n",
       "  </thead>\n",
       "  <tbody>\n",
       "    <tr>\n",
       "      <th>0</th>\n",
       "      <td>Airbus</td>\n",
       "      <td>A220</td>\n",
       "      <td>Int</td>\n",
       "      <td>Delta_Airlines_DL_Airbus_A220-100_0.jpg</td>\n",
       "      <td>jpg</td>\n",
       "      <td>720</td>\n",
       "      <td>960</td>\n",
       "      <td>0.750000</td>\n",
       "      <td>3</td>\n",
       "    </tr>\n",
       "    <tr>\n",
       "      <th>1</th>\n",
       "      <td>Airbus</td>\n",
       "      <td>A310</td>\n",
       "      <td>Ext</td>\n",
       "      <td>Air_Transat_Airbus_A310-300_1.jpg</td>\n",
       "      <td>jpg</td>\n",
       "      <td>640</td>\n",
       "      <td>960</td>\n",
       "      <td>0.666667</td>\n",
       "      <td>3</td>\n",
       "    </tr>\n",
       "    <tr>\n",
       "      <th>2</th>\n",
       "      <td>Airbus</td>\n",
       "      <td>A310</td>\n",
       "      <td>Int</td>\n",
       "      <td>Air_Transat_Airbus_A310-300_0.jpg</td>\n",
       "      <td>jpg</td>\n",
       "      <td>717</td>\n",
       "      <td>960</td>\n",
       "      <td>0.746875</td>\n",
       "      <td>3</td>\n",
       "    </tr>\n",
       "    <tr>\n",
       "      <th>3</th>\n",
       "      <td>Airbus</td>\n",
       "      <td>A318</td>\n",
       "      <td>Ext</td>\n",
       "      <td>Air_France_Airbus_A318_A_0.jpg</td>\n",
       "      <td>jpg</td>\n",
       "      <td>717</td>\n",
       "      <td>960</td>\n",
       "      <td>0.746875</td>\n",
       "      <td>3</td>\n",
       "    </tr>\n",
       "    <tr>\n",
       "      <th>4</th>\n",
       "      <td>Airbus</td>\n",
       "      <td>A318</td>\n",
       "      <td>Ext</td>\n",
       "      <td>Air_France_Airbus_A318_A_1.jpg</td>\n",
       "      <td>jpg</td>\n",
       "      <td>720</td>\n",
       "      <td>720</td>\n",
       "      <td>1.000000</td>\n",
       "      <td>3</td>\n",
       "    </tr>\n",
       "  </tbody>\n",
       "</table>\n",
       "</div>"
      ],
      "text/plain": [
       "  aircraft_manufacturer aircraft_type view  \\\n",
       "0                Airbus          A220  Int   \n",
       "1                Airbus          A310  Ext   \n",
       "2                Airbus          A310  Int   \n",
       "3                Airbus          A318  Ext   \n",
       "4                Airbus          A318  Ext   \n",
       "\n",
       "                                      name format  height  width  \\\n",
       "0  Delta_Airlines_DL_Airbus_A220-100_0.jpg    jpg     720    960   \n",
       "1        Air_Transat_Airbus_A310-300_1.jpg    jpg     640    960   \n",
       "2        Air_Transat_Airbus_A310-300_0.jpg    jpg     717    960   \n",
       "3           Air_France_Airbus_A318_A_0.jpg    jpg     717    960   \n",
       "4           Air_France_Airbus_A318_A_1.jpg    jpg     720    720   \n",
       "\n",
       "   height_to_width  ncol  \n",
       "0         0.750000     3  \n",
       "1         0.666667     3  \n",
       "2         0.746875     3  \n",
       "3         0.746875     3  \n",
       "4         1.000000     3  "
      ]
     },
     "execution_count": 9,
     "metadata": {},
     "output_type": "execute_result"
    }
   ],
   "source": [
    "# Merge with SeatGuru DataFrame from Part 3.1 of this notebook\n",
    "seatguru_df = seatguru_df.merge(labelled_df, on='name', how='outer')\n",
    "\n",
    "# Sort\n",
    "seatguru_df = seatguru_df.sort_values(by=['aircraft_manufacturer', 'aircraft_type', 'view'],\n",
    "                                      ascending=[True, True, True])\n",
    "\n",
    "seatguru_df = seatguru_df.reindex(pd.Index(['aircraft_manufacturer', 'aircraft_type',\n",
    "                                            'view', 'name', 'format', 'height', 'width',\n",
    "                                            'height_to_width', 'ncol']), axis=1).reset_index(drop=True)\n",
    "\n",
    "seatguru_df.head()"
   ]
  },
  {
   "cell_type": "code",
   "execution_count": 10,
   "metadata": {},
   "outputs": [],
   "source": [
    "# Save as csv\n",
    "os.makedirs(stats_path, exist_ok=True)\n",
    "seatguru_df.to_csv(path_or_buf=stats_path + 'g7_SEATGURU.csv',\n",
    "                   sep=';', encoding='utf-8', index=False)"
   ]
  },
  {
   "cell_type": "markdown",
   "metadata": {},
   "source": [
    "## Descriptive statistics"
   ]
  },
  {
   "cell_type": "code",
   "execution_count": 11,
   "metadata": {},
   "outputs": [
    {
     "name": "stdout",
     "output_type": "stream",
     "text": [
      "1 unique image format(s).\n",
      "1 unique ncol(s).\n",
      "128 unique height_to_width(s).\n",
      "20 unique aircraft type(s).\n"
     ]
    }
   ],
   "source": [
    "print(f'{len(np.unique(seatguru_df.format))} unique image format(s).')\n",
    "print(f'{len(np.unique(seatguru_df.ncol))} unique ncol(s).')\n",
    "print(f'{len(np.unique(seatguru_df.height_to_width))} unique height_to_width(s).')\n",
    "print(f'{len(np.unique(seatguru_df.aircraft_type))} unique aircraft type(s).')"
   ]
  },
  {
   "cell_type": "code",
   "execution_count": 12,
   "metadata": {},
   "outputs": [
    {
     "name": "stdout",
     "output_type": "stream",
     "text": [
      "1043 Airbus labelled images.\n",
      "1112 Boeing labelled images.\n",
      "401 others.\n"
     ]
    }
   ],
   "source": [
    "# Number of images per aircraft manufacturer\n",
    "print(\n",
    "    f'{len(np.arange(nb_images)[seatguru_df.aircraft_manufacturer == \"Airbus\"])} Airbus labelled images.')\n",
    "print(\n",
    "    f'{len(np.arange(nb_images)[seatguru_df.aircraft_manufacturer == \"Boeing\"])} Boeing labelled images.')\n",
    "print(\n",
    "    f'{len(np.arange(nb_images)[seatguru_df.aircraft_manufacturer == \"Other\"])} others.')"
   ]
  },
  {
   "cell_type": "code",
   "execution_count": 13,
   "metadata": {},
   "outputs": [],
   "source": [
    "# Remove 'Others' categories because we won't use them to train our models\n",
    "seatguru_df = seatguru_df[seatguru_df.aircraft_manufacturer != 'Other']\n",
    "seatguru_df = seatguru_df[seatguru_df.view != 'Others']"
   ]
  },
  {
   "cell_type": "code",
   "execution_count": 14,
   "metadata": {},
   "outputs": [
    {
     "name": "stdout",
     "output_type": "stream",
     "text": [
      "Max height_to_width: 2.1365\n",
      "Median height_to_width: 1.0\n",
      "Min height_to_width: 0.276\n",
      "\n",
      "Max height: 720\n",
      "Median height: 720.0\n",
      "Min height: 265\n",
      "\n",
      "Max width: 960\n",
      "Median width: 720.0\n",
      "Min width: 337\n",
      "\n"
     ]
    }
   ],
   "source": [
    "# Dimensions\n",
    "get_stats(imgs_df=seatguru_df, col=seatguru_df.height_to_width,\n",
    "          col_name='height_to_width')\n",
    "\n",
    "get_stats(imgs_df=seatguru_df, col=seatguru_df.height,\n",
    "          col_name='height')\n",
    "\n",
    "get_stats(imgs_df=seatguru_df, col=seatguru_df.width,\n",
    "          col_name='width')"
   ]
  },
  {
   "cell_type": "code",
   "execution_count": 15,
   "metadata": {},
   "outputs": [
    {
     "data": {
      "text/html": [
       "<div>\n",
       "<style scoped>\n",
       "    .dataframe tbody tr th:only-of-type {\n",
       "        vertical-align: middle;\n",
       "    }\n",
       "\n",
       "    .dataframe tbody tr th {\n",
       "        vertical-align: top;\n",
       "    }\n",
       "\n",
       "    .dataframe thead th {\n",
       "        text-align: right;\n",
       "    }\n",
       "</style>\n",
       "<table border=\"1\" class=\"dataframe\">\n",
       "  <thead>\n",
       "    <tr style=\"text-align: right;\">\n",
       "      <th></th>\n",
       "      <th></th>\n",
       "      <th>format</th>\n",
       "    </tr>\n",
       "    <tr>\n",
       "      <th>aircraft_manufacturer</th>\n",
       "      <th>aircraft_type</th>\n",
       "      <th></th>\n",
       "    </tr>\n",
       "  </thead>\n",
       "  <tbody>\n",
       "    <tr>\n",
       "      <th rowspan=\"11\" valign=\"top\">Airbus</th>\n",
       "      <th>A330</th>\n",
       "      <td>324</td>\n",
       "    </tr>\n",
       "    <tr>\n",
       "      <th>A320</th>\n",
       "      <td>238</td>\n",
       "    </tr>\n",
       "    <tr>\n",
       "      <th>A321</th>\n",
       "      <td>148</td>\n",
       "    </tr>\n",
       "    <tr>\n",
       "      <th>A319</th>\n",
       "      <td>105</td>\n",
       "    </tr>\n",
       "    <tr>\n",
       "      <th>A380</th>\n",
       "      <td>70</td>\n",
       "    </tr>\n",
       "    <tr>\n",
       "      <th>A340</th>\n",
       "      <td>63</td>\n",
       "    </tr>\n",
       "    <tr>\n",
       "      <th>A350</th>\n",
       "      <td>46</td>\n",
       "    </tr>\n",
       "    <tr>\n",
       "      <th>A318</th>\n",
       "      <td>13</td>\n",
       "    </tr>\n",
       "    <tr>\n",
       "      <th>A346</th>\n",
       "      <td>5</td>\n",
       "    </tr>\n",
       "    <tr>\n",
       "      <th>A310</th>\n",
       "      <td>2</td>\n",
       "    </tr>\n",
       "    <tr>\n",
       "      <th>A220</th>\n",
       "      <td>1</td>\n",
       "    </tr>\n",
       "    <tr>\n",
       "      <th rowspan=\"8\" valign=\"top\">Boeing</th>\n",
       "      <th>777</th>\n",
       "      <td>342</td>\n",
       "    </tr>\n",
       "    <tr>\n",
       "      <th>737</th>\n",
       "      <td>290</td>\n",
       "    </tr>\n",
       "    <tr>\n",
       "      <th>787</th>\n",
       "      <td>191</td>\n",
       "    </tr>\n",
       "    <tr>\n",
       "      <th>767</th>\n",
       "      <td>128</td>\n",
       "    </tr>\n",
       "    <tr>\n",
       "      <th>747</th>\n",
       "      <td>63</td>\n",
       "    </tr>\n",
       "    <tr>\n",
       "      <th>757</th>\n",
       "      <td>55</td>\n",
       "    </tr>\n",
       "    <tr>\n",
       "      <th>717</th>\n",
       "      <td>11</td>\n",
       "    </tr>\n",
       "    <tr>\n",
       "      <th>789</th>\n",
       "      <td>5</td>\n",
       "    </tr>\n",
       "  </tbody>\n",
       "</table>\n",
       "</div>"
      ],
      "text/plain": [
       "                                     format\n",
       "aircraft_manufacturer aircraft_type        \n",
       "Airbus                A330              324\n",
       "                      A320              238\n",
       "                      A321              148\n",
       "                      A319              105\n",
       "                      A380               70\n",
       "                      A340               63\n",
       "                      A350               46\n",
       "                      A318               13\n",
       "                      A346                5\n",
       "                      A310                2\n",
       "                      A220                1\n",
       "Boeing                777               342\n",
       "                      737               290\n",
       "                      787               191\n",
       "                      767               128\n",
       "                      747                63\n",
       "                      757                55\n",
       "                      717                11\n",
       "                      789                 5"
      ]
     },
     "execution_count": 15,
     "metadata": {},
     "output_type": "execute_result"
    }
   ],
   "source": [
    "# Number of images per aircraft manufacturer and type\n",
    "pvt = pd.DataFrame(pd.pivot_table(seatguru_df,\n",
    "                                  index=['aircraft_manufacturer',\n",
    "                                         'aircraft_type'],\n",
    "                                  aggfunc='count').format.sort_values(ascending=False))\n",
    "\n",
    "pvt.sort_values(by=['aircraft_manufacturer', 'format'],\n",
    "                ascending=[True, False])"
   ]
  },
  {
   "cell_type": "code",
   "execution_count": 16,
   "metadata": {},
   "outputs": [
    {
     "data": {
      "text/html": [
       "<div>\n",
       "<style scoped>\n",
       "    .dataframe tbody tr th:only-of-type {\n",
       "        vertical-align: middle;\n",
       "    }\n",
       "\n",
       "    .dataframe tbody tr th {\n",
       "        vertical-align: top;\n",
       "    }\n",
       "\n",
       "    .dataframe thead th {\n",
       "        text-align: right;\n",
       "    }\n",
       "</style>\n",
       "<table border=\"1\" class=\"dataframe\">\n",
       "  <thead>\n",
       "    <tr style=\"text-align: right;\">\n",
       "      <th>aircraft_manufacturer</th>\n",
       "      <th>Airbus</th>\n",
       "      <th>Boeing</th>\n",
       "      <th>All</th>\n",
       "    </tr>\n",
       "    <tr>\n",
       "      <th>view</th>\n",
       "      <th></th>\n",
       "      <th></th>\n",
       "      <th></th>\n",
       "    </tr>\n",
       "  </thead>\n",
       "  <tbody>\n",
       "    <tr>\n",
       "      <th>Ext</th>\n",
       "      <td>96</td>\n",
       "      <td>96</td>\n",
       "      <td>192</td>\n",
       "    </tr>\n",
       "    <tr>\n",
       "      <th>Ext_Int</th>\n",
       "      <td>79</td>\n",
       "      <td>64</td>\n",
       "      <td>143</td>\n",
       "    </tr>\n",
       "    <tr>\n",
       "      <th>Int</th>\n",
       "      <td>766</td>\n",
       "      <td>839</td>\n",
       "      <td>1605</td>\n",
       "    </tr>\n",
       "    <tr>\n",
       "      <th>Meal</th>\n",
       "      <td>74</td>\n",
       "      <td>86</td>\n",
       "      <td>160</td>\n",
       "    </tr>\n",
       "    <tr>\n",
       "      <th>All</th>\n",
       "      <td>1015</td>\n",
       "      <td>1085</td>\n",
       "      <td>2100</td>\n",
       "    </tr>\n",
       "  </tbody>\n",
       "</table>\n",
       "</div>"
      ],
      "text/plain": [
       "aircraft_manufacturer  Airbus  Boeing   All\n",
       "view                                       \n",
       "Ext                        96      96   192\n",
       "Ext_Int                    79      64   143\n",
       "Int                       766     839  1605\n",
       "Meal                       74      86   160\n",
       "All                      1015    1085  2100"
      ]
     },
     "execution_count": 16,
     "metadata": {},
     "output_type": "execute_result"
    }
   ],
   "source": [
    "# Number of images per aircraft manufacturer and viewpoint\n",
    "pvt = pd.DataFrame(pd.pivot_table(seatguru_df,\n",
    "                                  index=['view'],\n",
    "                                  columns=['aircraft_manufacturer'],\n",
    "                                  aggfunc='count', margins=True).format)\n",
    "pvt"
   ]
  },
  {
   "cell_type": "markdown",
   "metadata": {},
   "source": [
    "We can draw the following conclusions from these SeatGuru statistics:\n",
    "* We don't have enough Exterior images, that's why we will necessarily use images scrapped from Airliners and Google Images to train our `Ext_man` model;\n",
    "* The images are unevenly distributed between our target categories, and some of them contain very few images. e.g.: 342 images of Boeing 777 vs. 55 of Boeing 757. For Airbus interiors, we have at our disposal Hackathon images; for Boeing, we will have to use data augmentation if our model underperforms."
   ]
  },
  {
   "cell_type": "markdown",
   "metadata": {},
   "source": [
    "# Instagram"
   ]
  },
  {
   "cell_type": "code",
   "execution_count": 17,
   "metadata": {},
   "outputs": [
    {
     "name": "stdout",
     "output_type": "stream",
     "text": [
      "4 Instagram folders (1 folder per hashtag): \n",
      "['airbus', 'aircraftinterior', 'aircraftseat', 'boeing']\n"
     ]
    }
   ],
   "source": [
    "hashtags_list = os.listdir(insta_path)\n",
    "nb_hashtags = len(hashtags_list)\n",
    "print(f'{nb_hashtags} Instagram folders (1 folder per hashtag): \\n{hashtags_list}')"
   ]
  },
  {
   "cell_type": "code",
   "execution_count": 18,
   "metadata": {
    "code_folding": []
   },
   "outputs": [],
   "source": [
    "insta_df = data_insta(insta_path=insta_path,\n",
    "                      hashtags_list=hashtags_list, stats_path=stats_path)"
   ]
  },
  {
   "cell_type": "code",
   "execution_count": 19,
   "metadata": {},
   "outputs": [
    {
     "data": {
      "text/html": [
       "<div>\n",
       "<style scoped>\n",
       "    .dataframe tbody tr th:only-of-type {\n",
       "        vertical-align: middle;\n",
       "    }\n",
       "\n",
       "    .dataframe tbody tr th {\n",
       "        vertical-align: top;\n",
       "    }\n",
       "\n",
       "    .dataframe thead th {\n",
       "        text-align: right;\n",
       "    }\n",
       "</style>\n",
       "<table border=\"1\" class=\"dataframe\">\n",
       "  <thead>\n",
       "    <tr style=\"text-align: right;\">\n",
       "      <th></th>\n",
       "      <th>hashtag</th>\n",
       "      <th>name</th>\n",
       "      <th>format</th>\n",
       "      <th>height</th>\n",
       "      <th>width</th>\n",
       "      <th>height_to_width</th>\n",
       "      <th>ncol</th>\n",
       "    </tr>\n",
       "  </thead>\n",
       "  <tbody>\n",
       "    <tr>\n",
       "      <th>0</th>\n",
       "      <td>airbus</td>\n",
       "      <td>0.jpg</td>\n",
       "      <td>jpg</td>\n",
       "      <td>512</td>\n",
       "      <td>512</td>\n",
       "      <td>1.000000</td>\n",
       "      <td>3</td>\n",
       "    </tr>\n",
       "    <tr>\n",
       "      <th>1</th>\n",
       "      <td>airbus</td>\n",
       "      <td>1.jpg</td>\n",
       "      <td>jpg</td>\n",
       "      <td>512</td>\n",
       "      <td>768</td>\n",
       "      <td>0.666667</td>\n",
       "      <td>3</td>\n",
       "    </tr>\n",
       "    <tr>\n",
       "      <th>2</th>\n",
       "      <td>airbus</td>\n",
       "      <td>10.jpg</td>\n",
       "      <td>jpg</td>\n",
       "      <td>943</td>\n",
       "      <td>1080</td>\n",
       "      <td>0.873148</td>\n",
       "      <td>3</td>\n",
       "    </tr>\n",
       "    <tr>\n",
       "      <th>3</th>\n",
       "      <td>airbus</td>\n",
       "      <td>100.jpg</td>\n",
       "      <td>jpg</td>\n",
       "      <td>757</td>\n",
       "      <td>1080</td>\n",
       "      <td>0.700926</td>\n",
       "      <td>3</td>\n",
       "    </tr>\n",
       "    <tr>\n",
       "      <th>4</th>\n",
       "      <td>airbus</td>\n",
       "      <td>1000.jpg</td>\n",
       "      <td>jpg</td>\n",
       "      <td>899</td>\n",
       "      <td>1024</td>\n",
       "      <td>0.877930</td>\n",
       "      <td>3</td>\n",
       "    </tr>\n",
       "  </tbody>\n",
       "</table>\n",
       "</div>"
      ],
      "text/plain": [
       "  hashtag      name format height width  height_to_width ncol\n",
       "0  airbus     0.jpg    jpg    512   512         1.000000    3\n",
       "1  airbus     1.jpg    jpg    512   768         0.666667    3\n",
       "2  airbus    10.jpg    jpg    943  1080         0.873148    3\n",
       "3  airbus   100.jpg    jpg    757  1080         0.700926    3\n",
       "4  airbus  1000.jpg    jpg    899  1024         0.877930    3"
      ]
     },
     "execution_count": 19,
     "metadata": {},
     "output_type": "execute_result"
    }
   ],
   "source": [
    "insta_df.head()"
   ]
  },
  {
   "cell_type": "code",
   "execution_count": 20,
   "metadata": {},
   "outputs": [
    {
     "name": "stdout",
     "output_type": "stream",
     "text": [
      "5820 images:\n",
      "#airbus: 1976 images\n",
      "#aircraftinterior: 767 images\n",
      "#aircraftseat: 1143 images\n",
      "#boeing: 1934 images\n",
      "\n",
      "1 unique image format(s).\n",
      "2 unique ncol(s).\n",
      "705 unique height_to_width(s). \n",
      "\n"
     ]
    }
   ],
   "source": [
    "print(f'{len(insta_df)} images:')\n",
    "\n",
    "for h in hashtags_list:\n",
    "    print(f'#{h}: {len(insta_df.hashtag[insta_df.hashtag == h])} images')\n",
    "\n",
    "print(f'\\n{len(np.unique(insta_df.format))} unique image format(s).')\n",
    "print(f'{len(np.unique(insta_df.ncol))} unique ncol(s).')\n",
    "print(f'{len(np.unique(insta_df.height_to_width))} unique height_to_width(s). \\n')"
   ]
  },
  {
   "cell_type": "code",
   "execution_count": null,
   "metadata": {},
   "outputs": [],
   "source": []
  }
 ],
 "metadata": {
  "kernelspec": {
   "display_name": "Python 3",
   "language": "python",
   "name": "python3"
  },
  "language_info": {
   "codemirror_mode": {
    "name": "ipython",
    "version": 3
   },
   "file_extension": ".py",
   "mimetype": "text/x-python",
   "name": "python",
   "nbconvert_exporter": "python",
   "pygments_lexer": "ipython3",
   "version": "3.7.3"
  },
  "toc": {
   "base_numbering": 1,
   "nav_menu": {},
   "number_sections": true,
   "sideBar": true,
   "skip_h1_title": false,
   "title_cell": "Table of Contents",
   "title_sidebar": "Contents",
   "toc_cell": true,
   "toc_position": {},
   "toc_section_display": true,
   "toc_window_display": false
  }
 },
 "nbformat": 4,
 "nbformat_minor": 2
}
