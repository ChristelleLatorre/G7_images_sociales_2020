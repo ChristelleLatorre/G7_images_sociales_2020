{
 "cells": [
  {
   "cell_type": "code",
   "execution_count": null,
   "metadata": {},
   "outputs": [],
   "source": [
    "created on: Fri Jan 10 11:06:30 2020\n",
    "Group 7\n",
    "@author: C.L."
   ]
  },
  {
   "cell_type": "markdown",
   "metadata": {},
   "source": [
    "<h1>Groupe 7 : Images sociales<span class=\"tocSkip\"></span>\n",
    "    \n",
    " Scraping\n",
    " \n",
    " "
   ]
  },
  {
   "cell_type": "markdown",
   "metadata": {},
   "source": [
    "#Introduction"
   ]
  },
  {
   "cell_type": "markdown",
   "metadata": {},
   "source": [
    "In order to train a model able to recognize airplaines type from the outside, we needed training images.\n",
    "We scrapped two websites in order to train our models for aircraft exteriors. \n",
    "For each one, the web links were extracted in order to create a spreadsheet.\n",
    "Then, we used these dataframes to extract and store these images."
   ]
  },
  {
   "cell_type": "markdown",
   "metadata": {},
   "source": [
    "#Environment"
   ]
  },
  {
   "cell_type": "markdown",
   "metadata": {},
   "source": [
    "#Librairies"
   ]
  },
  {
   "cell_type": "code",
   "execution_count": null,
   "metadata": {},
   "outputs": [],
   "source": [
    "import requests\n",
    "from bs4 import BeautifulSoup\n",
    "from selenium import webdriver\n",
    "import pandas as pd\n",
    "import urllib\n",
    "import urllib.request\n",
    "import requests\n",
    "import os\n",
    "import errno\n",
    "\n",
    "import pandas as pd\n",
    "import numpy as np\n",
    "\n",
    "import time\n",
    "from datetime import datetime, timedelta\n",
    "\n",
    "import io\n",
    "from PIL import Image\n",
    "\n",
    "import csv"
   ]
  },
  {
   "cell_type": "raw",
   "metadata": {},
   "source": [
    "#Data Loading"
   ]
  },
  {
   "cell_type": "code",
   "execution_count": null,
   "metadata": {},
   "outputs": [],
   "source": [
    "# Paths\n",
    "project_path = './../'\n",
    "scrap_path = project_path + 'Scraping/'\n",
    "airliners_csv_path = scrap_path + 'Airliners/'\n",
    "airliners_path = airliners_csv_path + 'data/'\n",
    "google_path = scrap_path + 'Google_img/'"
   ]
  },
  {
   "cell_type": "markdown",
   "metadata": {},
   "source": [
    "# Airliners"
   ]
  },
  {
   "cell_type": "code",
   "execution_count": null,
   "metadata": {},
   "outputs": [],
   "source": [
    "# Boeing : 28482 pages found\n",
    "# Airbus : 17453 pages found"
   ]
  },
  {
   "cell_type": "markdown",
   "metadata": {},
   "source": [
    "## Extracting the data"
   ]
  },
  {
   "cell_type": "code",
   "execution_count": null,
   "metadata": {},
   "outputs": [],
   "source": [
    "def create_directories(path: str):\n",
    "    os.makedirs(path + 'Airbus', exist_ok = True)   \n",
    "    os.makedirs(path + 'Boeing', exist_ok = True)\n",
    "    \n",
    "def get_photos_name_page(link: str):\n",
    "    \"\"\"\n",
    "    For a given Airliner page with the given link, create a dataframe containing for each image found :\n",
    "    - the link towards the image\n",
    "    - the manufacturer\n",
    "    - the aircraft type \n",
    "    - a more precise designation\n",
    "    \"\"\"\n",
    "    req = requests.get(link)\n",
    "    soup = BeautifulSoup(req.text, \"lxml\")\n",
    "    AirCrafts = soup.find_all(\"div\", {\"class\":\"ps-v2-results-row\"})\n",
    "    list_DF = []\n",
    "    for air in AirCrafts:\n",
    "        try :\n",
    "            photo = air.find_all(\"img\")[0].attrs['src']\n",
    "            details_cell = air.find_all(\"div\", {\"class\" : \"ps-v2-results-col ps-v2-results-col-aircraft\"})[0]\n",
    "            details_cell = details_cell.find_all(\"div\", {'class' : \"ps-v2-results-col-content\"})[0]\n",
    "            details_cell = details_cell.find_all(\"div\", {\"class\":\"ps-v2-results-col-content-primary\"})[0]\n",
    "            name_cell = details_cell.find_all(\"div\", {\"class\":\"ps-v2-results-display-detail-no-wrapping\"})[1]\n",
    "            name = name_cell.a.text.strip().replace('/', '-')\n",
    "            if name.split()[0] in ['Airbus', 'Boeing']:\n",
    "                list_DF.append([photo, name.split()[0], name.split()[1].split('-')[0], name])\n",
    "        except :\n",
    "            pass\n",
    "    DF = pd.DataFrame(list_DF, columns = ['Photo', 'Manufacturer', 'Aircraft_type', 'Designation'])\n",
    "    return(DF)\n",
    "\n",
    "\n",
    "def create_df_manufacturer(a : int ,b : int ,manuf_name : str):\n",
    "    \"\"\"\n",
    "    For a given manufacturer, create a dataframe in which each line contains informations related to an aircraft \n",
    "    image.\n",
    "    Parameters : \n",
    "    a : page number where the search begins\n",
    "    b : page number where the search ends\n",
    "    \"\"\"\n",
    "    l_df = []\n",
    "    dic_code_manuf = {'Airbus' : '2', 'Boeing' : '7'}\n",
    "    for i in range(a,b):\n",
    "        print(i)\n",
    "        link = 'https://www.airliners.net/search?aircraftManufacturer=' + dic_code_manuf[manuf_name]+ \\\n",
    "               '&photoCategory=23&sortBy=dateAccepted&sortOrder=desc&perPage=36&display=detail&page=' + str(i)\n",
    "        l_df.append(get_photos_name_page(link))\n",
    "    df = pd.concat(l_df, ignore_index = True)\n",
    "    return df\n"
   ]
  },
  {
   "cell_type": "code",
   "execution_count": null,
   "metadata": {},
   "outputs": [],
   "source": [
    "create_directories(airliners_path)"
   ]
  },
  {
   "cell_type": "code",
   "execution_count": null,
   "metadata": {},
   "outputs": [],
   "source": [
    "# Test\n",
    "\n",
    "df_airbus_test = create_df_manufacturer(1,3,'Airbus')\n",
    "df_airbus_test.to_csv(scrap_path + 'Airbus_test.csv', sep = ';', index = False)\n",
    "df_airbus_test.head()"
   ]
  },
  {
   "cell_type": "code",
   "execution_count": null,
   "metadata": {},
   "outputs": [],
   "source": [
    "# Scraping for Airbus\n",
    "\n",
    "df_boeing_airliners = create_df_manufacturer(1,17453,'Airbus')\n",
    "df_boeing_airliners.to_csv(scrap_path + 'Airbus_Airliners.csv', sep = ';', index = False)\n",
    "len(df_airbus_airliners)"
   ]
  },
  {
   "cell_type": "code",
   "execution_count": null,
   "metadata": {},
   "outputs": [],
   "source": [
    "# Scraping for Boeing\n",
    "\n",
    "df_boeing_airliners = create_df_manufacturer(1,28482,'Boeing')\n",
    "df_boeing_airliners.to_csv(scrap_path + 'Boeing_Airliners.csv', sep = ';', index = False)\n",
    "len(df_airbus_airliners)"
   ]
  },
  {
   "cell_type": "code",
   "execution_count": null,
   "metadata": {},
   "outputs": [],
   "source": [
    "## Creating the images from the dataframe"
   ]
  },
  {
   "cell_type": "code",
   "execution_count": null,
   "metadata": {},
   "outputs": [],
   "source": [
    "df_airbus = pd.read_csv(scrap_path + 'Airbus_Airliners.csv', sep = ';')\n",
    "df_boeing = pd.read_csv(scrap_path + 'Boeing_Airliners.csv', sep = ';')"
   ]
  },
  {
   "cell_type": "code",
   "execution_count": null,
   "metadata": {},
   "outputs": [],
   "source": [
    "# Test\n",
    "df_airbus = pd.read_csv(scrap_path + 'Airbus_test.csv', sep = ';')\n"
   ]
  },
  {
   "cell_type": "code",
   "execution_count": null,
   "metadata": {},
   "outputs": [],
   "source": [
    "dic_type = {'Airbus' : ['A220', 'A300B4', 'A310', 'A318', 'A319', 'A320', 'A321', 'A330', 'A340', 'A350', 'A380'],\n",
    "            'Boeing' : ['717', '727', '737', '747', '757', '767', '777', '787']}"
   ]
  },
  {
   "cell_type": "markdown",
   "metadata": {},
   "source": [
    "## Creation and storage of the images"
   ]
  },
  {
   "cell_type": "code",
   "execution_count": null,
   "metadata": {},
   "outputs": [],
   "source": [
    "def create_df_passengers(df, manufacturer, dic_type):\n",
    "    \"\"\"Create a new dataframe including only rows matching with commercial aircraft and adding a column\n",
    "    similar to the index.\n",
    "    \n",
    "    Parameters : \n",
    "        df (type dataframe): dataframe on which the selection must be proceed\n",
    "        manufacturer (type string): company name ('Airbus' or 'Boeing')\n",
    "        dic_type (type dictionary): keys are companies names and values are lists of the commercial aircraft \n",
    "        of the manufacturer \n",
    "    \n",
    "    Out :\n",
    "        df_passengers (type dataframe): modified dataframe  \n",
    "    \"\"\"\n",
    "        \n",
    "    df_passengers = df[df['Aircraft_type'].isin(dic_type[manufacturer])]\n",
    "    return df_passengers.assign(Number = df_passengers.index)\n",
    "\n",
    "\n",
    "def get_number_pic_per_type(df, nb, a):\n",
    "    # df : dataframe with only aircraft types of interest\n",
    "    # nb : number of pictures to create for each aircraft type\n",
    "    ix = []\n",
    "    for el in df['Aircraft_type'].unique().tolist():\n",
    "        df_el = df[df['Aircraft_type']== el].copy()\n",
    "        df_el.reset_index(drop = True, inplace = True)\n",
    "        df_el = df_el.loc[a : a + min(nb-1, len(df_el))]\n",
    "        ix.extend(df_el['Number'].tolist())\n",
    "    df_nb = df[df['Number'].isin(ix)]\n",
    "    return df_nb\n",
    "\n",
    "\n",
    "def get_from_link_and_write(df, manufacturer, path):\n",
    "    \n",
    "    for el in df['Aircraft_type'].unique().tolist():\n",
    "        df_type = df[df['Aircraft_type']== el]\n",
    "        fold_name = path + manufacturer + '/' + el\n",
    "        os.makedirs(fold_name, exist_ok = True)\n",
    "        my_rows = zip(df_type['Number'], df_type['Photo'])\n",
    "        for (num, photo) in my_rows:\n",
    "            img_data = requests.get(photo).content\n",
    "            try :\n",
    "                i = Image.open(io.BytesIO(img_data))\n",
    "                i.save(fold_name + '/' + manufacturer + '_' + str(num) + '_' + el + '.jpg')\n",
    "            except :\n",
    "                print(el, num)\n",
    "                pass       \n"
   ]
  },
  {
   "cell_type": "code",
   "execution_count": null,
   "metadata": {},
   "outputs": [],
   "source": [
    "df_airbus_passengers = create_df_passengers(df_airbus, 'Airbus', dic_type)\n",
    "df_boeing_passengers = create_df_passengers(df_boeing, 'Boeing', dic_type)"
   ]
  },
  {
   "cell_type": "code",
   "execution_count": null,
   "metadata": {},
   "outputs": [],
   "source": [
    "df_airbus_passengers"
   ]
  },
  {
   "cell_type": "code",
   "execution_count": null,
   "metadata": {},
   "outputs": [],
   "source": [
    "for el in dic_type['Airbus'] : \n",
    "    print(el, len(df_airbus[df_airbus['Aircraft_type']== el]))\n",
    "    \n",
    "print('\\n')\n",
    "\n",
    "for el in dic_type['Boeing'] : \n",
    "    print(el, len(df_boeing[df_boeing['Aircraft_type']== el]))"
   ]
  },
  {
   "cell_type": "code",
   "execution_count": null,
   "metadata": {},
   "outputs": [],
   "source": [
    "df_airbus_100 = get_number_pic_per_type(df_airbus_passengers, 100, 0)\n",
    "print(len(df_airbus_100))"
   ]
  },
  {
   "cell_type": "code",
   "execution_count": null,
   "metadata": {},
   "outputs": [],
   "source": [
    "df_airbus_100"
   ]
  },
  {
   "cell_type": "code",
   "execution_count": null,
   "metadata": {},
   "outputs": [],
   "source": [
    "start=time.time()\n",
    "get_from_link_and_write(df_airbus_100, 'Airbus', airliners_path)\n",
    "print(time.time()-start)\n",
    "# 125s needed to write 1100 pictures"
   ]
  },
  {
   "cell_type": "code",
   "execution_count": null,
   "metadata": {},
   "outputs": [],
   "source": [
    "df_boeing_limited = get_number_pic_per_type(df_boeing_passengers, 1000, 0)\n",
    "get_from_link_and_write(df_boeing_limited, 'Boeing', airliners_path)"
   ]
  },
  {
   "cell_type": "markdown",
   "metadata": {},
   "source": [
    "# Google images"
   ]
  },
  {
   "cell_type": "code",
   "execution_count": null,
   "metadata": {},
   "outputs": [],
   "source": [
    "driver = webdriver.Chrome(\"chromedriver.exe\")\n",
    "os.makedirs(google_path, exist_ok = True)"
   ]
  },
  {
   "cell_type": "code",
   "execution_count": null,
   "metadata": {},
   "outputs": [],
   "source": [
    "dic_df_types = {}"
   ]
  },
  {
   "cell_type": "code",
   "execution_count": null,
   "metadata": {},
   "outputs": [],
   "source": [
    "def google_img_by_aircraft_type(aircraft_type, dic_df_types):\n",
    "    \n",
    "    \"\"\" Update a dictionary with a dataframe giving links to the pictures found on the first page of Google Images\n",
    "    for a given request.\n",
    "    \n",
    "    Parameters :\n",
    "        aircraft_type (type string) : request for Google Images. Ex : 'Airbus A380'.\n",
    "        dic_df_types (type dict) : the keys are aircraft_type and the values are dataframes.\n",
    "    \"\"\" \n",
    "    \n",
    "    # Use of &tbs=sur:fc in the link to download only free_to_use images : \n",
    "    link = 'https://www.google.com/search?q=' + aircraft_type + \"&tbm=isch&tbs=sur:fc\"\n",
    "    df_images = pd.DataFrame(columns=[\"link\", \"request\", \"source\", \"source_2\"])\n",
    "    driver.get(link)\n",
    "    time.sleep(5)\n",
    "\n",
    "    blocks_images = driver.find_elements_by_xpath(\"//div[contains(@class,'rg_bx rg_di rg_el ivg-i')]\")\n",
    "    for bi in blocks_images:\n",
    "\n",
    "        site = bi.find_elements_by_xpath(\".//span\")\n",
    "        if site : site = site[0].get_attribute(\"innerHTML\")\n",
    "\n",
    "        source_1 = bi.find_elements_by_xpath(\".//img\")\n",
    "        if source_1 : source_1 = source_1[0].get_attribute(\"data-src\")\n",
    "\n",
    "        source_2 = bi.find_elements_by_xpath(\"./a\")\n",
    "        if source_2 : source_2 = source_2[0].get_attribute(\"href\")\n",
    "\n",
    "        row = pd.Series([site, aircraft_type, source_1, source_2], index=df_images.columns)\n",
    "        df_images = df_images.append(row, ignore_index=True, sort=False)\n",
    "        \n",
    "    dic_df_types[aircraft_type] = df_images\n",
    "    \n",
    "    \n",
    "def get_from_source_and_write(request : str, dic_df_types : dict , path : str):\n",
    "    \"\"\"\n",
    "    request : manufacturer name + white space + aircraft-type (ex : 'Airbus A320')\n",
    "    dic_df_types : \n",
    "    path : path to the Google subdirectory\n",
    "    \"\"\"\n",
    "    \n",
    "    print(request)\n",
    "    df = dic_df_types[request]\n",
    "    print(len(df))\n",
    "    df = df[df['source'].notnull()]\n",
    "    df.reset_index(inplace = True)\n",
    "    df = df.assign(Number = df.index)\n",
    "    print(len(df))\n",
    "    request = request.split()    \n",
    "    fold_name = path + request[0] + '/' + request[1]\n",
    "    os.makedirs(fold_name, exist_ok = True)\n",
    "    my_rows = zip(df['Number'], df['source'])\n",
    "    for (num, source) in my_rows:\n",
    "        img_data = requests.get(source).content\n",
    "        try :\n",
    "            i = Image.open(io.BytesIO(img_data))\n",
    "            i.save(fold_name + '/' + request[0] + '_' + request[1] + '_' + str(num) + '.jpg')\n",
    "        except :\n",
    "            pass\n"
   ]
  },
  {
   "cell_type": "code",
   "execution_count": null,
   "metadata": {},
   "outputs": [],
   "source": [
    "for key in dic_type.keys():\n",
    "    print(key)\n",
    "    for aircraft in dic_type[key]:\n",
    "        print(aircraft)\n",
    "        google_img_by_aircraft_type(key + ' ' + aircraft, dic_df_types)"
   ]
  },
  {
   "cell_type": "code",
   "execution_count": null,
   "metadata": {},
   "outputs": [],
   "source": [
    "dic_df_types['Boeing 737'].head()"
   ]
  },
  {
   "cell_type": "code",
   "execution_count": null,
   "metadata": {},
   "outputs": [],
   "source": [
    "# Test with an aircraft type \n",
    "\n",
    "key = 'Boeing'\n",
    "#['717', '727', '737', '747', '757', '767', '777', '787']\n",
    "aircraft = '787'\n",
    "get_from_source_and_write(key + ' ' + aircraft, dic_df_types, google_path)"
   ]
  },
  {
   "cell_type": "code",
   "execution_count": null,
   "metadata": {},
   "outputs": [],
   "source": [
    "for key in dic_type.keys():\n",
    "    for aircraft in dic_type[key]:\n",
    "        get_from_source_and_write(key + ' ' + aircraft, dic_df_types, google_path)   "
   ]
  },
  {
   "cell_type": "code",
   "execution_count": null,
   "metadata": {},
   "outputs": [],
   "source": [
    "### Save dataframes"
   ]
  },
  {
   "cell_type": "code",
   "execution_count": null,
   "metadata": {},
   "outputs": [],
   "source": [
    "for key, val in dic_df_types.items():\n",
    "    val.to_csv(google_path + \"Google_{}.csv\".format(str(key)), sep = ';', index = False)\n",
    "    \n",
    "# Saving keys to file\n",
    "\n",
    "with open(google_path + \"keys.txt\", \"w\") as f: \n",
    "     f.write(str(list(dic_df_types.keys())))\n",
    "\n",
    "# Reading data from keys\n",
    "with open(google_path + \"keys.txt\", \"r\") as f:\n",
    "    keys = eval(f.read())\n",
    "\n",
    "    dic = {}    \n",
    "    for key in keys:\n",
    "        dic[key] = pd.read_csv(google_path + \"Google_{}.csv\".format(str(key)), sep = ';')\n",
    "    return dic"
   ]
  }
 ],
 "metadata": {
  "kernelspec": {
   "display_name": "Python 3",
   "language": "python",
   "name": "python3"
  },
  "language_info": {
   "codemirror_mode": {
    "name": "ipython",
    "version": 3
   },
   "file_extension": ".py",
   "mimetype": "text/x-python",
   "name": "python",
   "nbconvert_exporter": "python",
   "pygments_lexer": "ipython3",
   "version": "3.7.4"
  }
 },
 "nbformat": 4,
 "nbformat_minor": 2
}
