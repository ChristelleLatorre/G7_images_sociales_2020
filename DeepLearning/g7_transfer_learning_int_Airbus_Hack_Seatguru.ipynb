{
 "cells": [
  {
   "cell_type": "code",
   "execution_count": null,
   "metadata": {},
   "outputs": [],
   "source": [
    "\"\"\"\n",
    "Created on Wed Jan 15 09:28:16 2020\n",
    "Group 7\n",
    "@authors : G.H.\n",
    "\"\"\""
   ]
  },
  {
   "cell_type": "code",
   "execution_count": 74,
   "metadata": {
    "ExecuteTime": {
     "end_time": "2020-01-09T15:19:11.728311Z",
     "start_time": "2020-01-09T15:19:06.196795Z"
    }
   },
   "outputs": [],
   "source": [
    "import matplotlib.pyplot as plt\n",
    "from matplotlib.pyplot import imread\n",
    "import numpy as np\n",
    "import pandas as pd\n",
    "import math\n",
    "import operator\n",
    "import os\n",
    "from PIL import Image\n",
    "from tqdm import tqdm_notebook as tqdm\n",
    "import random\n",
    "import pickle\n",
    "\n",
    "import shutil\n",
    "from shutil import copyfile\n",
    "\n",
    "# keras : librairie de deep learning\n",
    "import keras\n",
    "from keras.models import Sequential, Model\n",
    "from keras.layers.core import Dense, Dropout, Activation, Flatten\n",
    "from keras.layers import Conv2D, MaxPooling2D, InputLayer, ReLU, AveragePooling2D\n",
    "from keras.optimizers import SGD\n",
    "from keras.utils import np_utils\n",
    "from keras import backend as K\n",
    "from tensorflow.keras.preprocessing.image import ImageDataGenerator\n",
    "from keras.callbacks import ReduceLROnPlateau\n",
    "\n",
    "# import for transfer learning\n",
    "from keras.applications.vgg16 import VGG16\n",
    "from keras.applications.vgg16 import preprocess_input"
   ]
  },
  {
   "cell_type": "markdown",
   "metadata": {},
   "source": [
    "# Lecure avec keras"
   ]
  },
  {
   "cell_type": "code",
   "execution_count": 76,
   "metadata": {},
   "outputs": [],
   "source": [
    "# Reading of csv file SEATGURU annontate\n",
    "csv_file = pd.read_csv('../g7_SEATGURU_annotate.csv', sep=';')\n",
    "Airbus_file = csv_file.loc[csv_file['aircraft_manufacturer']  == 'Airbus',:]\n",
    "Airbus_file = Airbus_file.loc[Airbus_file['view'] == 'Int']\n",
    "#Boeing_file = csv_file.loc[csv_file['aircraft_manufacturer']  == 'Boeing',:]\n",
    "#Boeing_file = Boeing_file.loc[Boeing_file['view'] == 'Int']\n",
    "# List name pictures\n",
    "list_img_Airbus = list(Airbus_file['name'])\n",
    "\n",
    "A320_file = Airbus_file.loc[Airbus_file['aircraft_type'] == 'A320']\n",
    "list_img_A320 = list(A320_file['name'])\n",
    "A321_file = Airbus_file.loc[Airbus_file['aircraft_type'] == 'A321']\n",
    "list_img_A321 = list(A321_file['name'])\n",
    "A330_file = Airbus_file.loc[Airbus_file['aircraft_type'] == 'A330']\n",
    "list_img_A330 = list(A330_file['name'])\n",
    "A350_file = Airbus_file.loc[Airbus_file['aircraft_type'] == 'A350']\n",
    "list_img_A350 = list(A350_file['name'])\n",
    "A380_file = Airbus_file.loc[Airbus_file['aircraft_type'] == 'A380']\n",
    "list_img_A380 = list(A380_file['name'])\n",
    "\n",
    "#list_img_Boeing = list(Boeing_file['name'])"
   ]
  },
  {
   "cell_type": "code",
   "execution_count": 77,
   "metadata": {
    "collapsed": true
   },
   "outputs": [
    {
     "data": {
      "text/plain": [
       "['Etihad_Airways_Airbus_A380_0.jpg',\n",
       " 'Qantas_Airways_Airbus_A380_B_4.jpg',\n",
       " 'Qantas_Airways_Airbus_A380_B_1.jpg',\n",
       " 'Emirates_Airlines_Airbus_A380_Two_Class_2.jpg',\n",
       " 'Air_France_Airbus_A380_V2_0.jpg',\n",
       " 'Malaysia_Airlines_Airbus_A380_new_0.jpg',\n",
       " 'Etihad_Airways_Airbus_A380_2.jpg',\n",
       " 'Korean_Air_Airbus_380-800_V2_0.jpg',\n",
       " 'British_Airways_Airbus_A380_new_2.jpg',\n",
       " 'Emirates_Airlines_Airbus_A380_B_1.jpg',\n",
       " 'Air_France_Airbus_A380_V2_1.jpg',\n",
       " 'British_Airways_Airbus_A380_new_3.jpg',\n",
       " 'Emirates_Airlines_Airbus_A380_B_2.jpg',\n",
       " 'Lufthansa_Airbus_A380_V3_4.jpg',\n",
       " 'Emirates_Airlines_Airbus_A380_Two_Class_1.jpg',\n",
       " 'Emirates_Airlines_Airbus_A380_0.jpg',\n",
       " 'Thai_Airways_Airbus_A380_new_2.jpg',\n",
       " 'Emirates_Airlines_Airbus_A380_Two_Class_4.jpg',\n",
       " 'Malaysia_Airlines_Airbus_A380_new_2.jpg',\n",
       " 'Thai_Airways_Airbus_A380_new_4.jpg',\n",
       " 'Etihad_Airways_Airbus_A380_3.jpg',\n",
       " 'Thai_Airways_Airbus_A380_new_0.jpg',\n",
       " 'Qantas_Airways_Airbus_A380_B_2.jpg',\n",
       " 'Asiana_Airbus_A380_3.jpg',\n",
       " 'Asiana_Airbus_A380_0.jpg',\n",
       " 'Emirates_Airlines_Airbus_A380_B_0.jpg',\n",
       " 'British_Airways_Airbus_A380_new_4.jpg',\n",
       " 'Asiana_Airbus_A380_4.jpg',\n",
       " 'Korean_Air_Airbus_A380-800_0.jpg',\n",
       " 'Thai_Airways_Airbus_A380_new_3.jpg',\n",
       " 'British_Airways_Airbus_A380_new_0.jpg',\n",
       " 'Malaysia_Airlines_Airbus_A380_new_3.jpg',\n",
       " 'Asiana_Airbus_A380_2.jpg',\n",
       " 'Emirates_Airlines_Airbus_A380_4.jpg',\n",
       " 'Lufthansa_Airbus_A380_V3_0.jpg',\n",
       " 'Qatar_Airways_Airbus_A380_0.jpg',\n",
       " 'Lufthansa_Airbus_A380_V3_3.jpg',\n",
       " 'China_Southern_Airbus_A380_2.jpg',\n",
       " 'Qatar_Airways_Airbus_A380_4.jpg',\n",
       " 'British_Airways_Airbus_A380_new_1.jpg',\n",
       " 'China_Southern_Airbus_A380_0.jpg',\n",
       " 'China_Southern_Airbus_A380_3.jpg',\n",
       " 'Qantas_Airways_Airbus_A380_B_0.jpg',\n",
       " 'Qantas_Airways_Airbus_A380_B_3.jpg',\n",
       " 'Emirates_Airlines_Airbus_A380_Two_Class_3.jpg',\n",
       " 'Emirates_Airlines_Airbus_A380_Two_Class_0.jpg',\n",
       " 'Asiana_Airbus_A380_1.jpg']"
      ]
     },
     "execution_count": 77,
     "metadata": {},
     "output_type": "execute_result"
    }
   ],
   "source": [
    "list_img_A380"
   ]
  },
  {
   "cell_type": "code",
   "execution_count": 78,
   "metadata": {},
   "outputs": [],
   "source": [
    "path_seatguru = './../All Data/ANALYSE IMAGE/IMG SEATGURU/'\n",
    "path_hackathon = './../Inputs Hackathon/'\n",
    "new_path_train = './../Split_data/Hack_Seatguru/Int/data_train'\n",
    "new_path_val = './../Split_data/Hack_Seatguru/Int/data_val'\n",
    "new_paths = [new_path_train, new_path_val]"
   ]
  },
  {
   "cell_type": "code",
   "execution_count": 79,
   "metadata": {},
   "outputs": [],
   "source": [
    "# function to split data in train and test samples for Seatguru pictures\n",
    "def split_train_test_Seatguru_cat(new_paths, path, airbus_planes = [list_img_A320, list_img_A321, list_img_A330,\n",
    "                                                                 list_img_A350, list_img_A380], \n",
    "                                  split_limit = .7, s = 8):\n",
    "  \n",
    "\n",
    "    for plane in airbus_planes:\n",
    "\n",
    "        if plane == list_img_A320:\n",
    "            classe = 'A320'\n",
    "        if plane == list_img_A321:\n",
    "            classe = 'A321'\n",
    "        if plane == list_img_A330:\n",
    "            classe = 'A330'\n",
    "        if plane == list_img_A350:\n",
    "            classe = 'A350'\n",
    "        if plane == list_img_A380:\n",
    "            classe = 'A380'\n",
    "        \n",
    "        shutil.rmtree(new_paths[0] + '/' + classe, ignore_errors = True)\n",
    "        os.makedirs(new_paths[0] + '/' + classe, exist_ok = True)\n",
    "        shutil.rmtree(new_paths[1] + '/' + classe, ignore_errors = True)\n",
    "        os.makedirs(new_paths[1]+ '/' + classe, exist_ok = True)\n",
    "        \n",
    "        random.seed(a = s)\n",
    "        random.shuffle(plane)\n",
    "\n",
    "        for pict in plane[:int(split_limit*len(plane))]:\n",
    "            copyfile(path + '/' + pict, new_paths[0] + '/' + classe + '/' +  pict)\n",
    "        for pict in plane[int(split_limit*len(plane)):]:\n",
    "            copyfile(path + '/' + pict, new_paths[1] + '/' + classe + '/' +  pict)\n",
    "        "
   ]
  },
  {
   "cell_type": "code",
   "execution_count": 80,
   "metadata": {},
   "outputs": [],
   "source": [
    "# function to split data in train and test samples for Hackathon pictures\n",
    "def  split_train_test_Hack_cat (new_paths:list, path:str, airbus_planes:list, split_limit:float=.7):\n",
    "    \n",
    "    for plane in airbus_planes:\n",
    "        \n",
    "        os.makedirs(new_paths[0] + '/' + plane, exist_ok = True)\n",
    "        os.makedirs(new_paths[1] + '/' + plane, exist_ok = True)\n",
    "        \n",
    "        for pict in os.listdir(path + plane):\n",
    "            rand = np.random.random()\n",
    "            if rand <= split_limit:\n",
    "                copyfile(path + plane + '/' + pict, new_paths[0] + '/' + plane + '/' + pict)\n",
    "            else:\n",
    "                copyfile(path + plane + '/' + pict, new_paths[1] + '/' + plane + '/' + pict)\n",
    "      "
   ]
  },
  {
   "cell_type": "code",
   "execution_count": 81,
   "metadata": {},
   "outputs": [],
   "source": [
    "# Creation of train and test samples for Seatguru pictures\n",
    "split_train_test_Seatguru_cat(new_paths, path_seatguru)"
   ]
  },
  {
   "cell_type": "code",
   "execution_count": 82,
   "metadata": {},
   "outputs": [],
   "source": [
    "# Creation of train and test samples for Hackathon pictures\n",
    "split_train_test_Hack_cat(new_paths, path_hackathon, airbus_planes = ['A320', 'A330', 'A350', 'A380'])"
   ]
  },
  {
   "cell_type": "code",
   "execution_count": 83,
   "metadata": {},
   "outputs": [
    {
     "name": "stdout",
     "output_type": "stream",
     "text": [
      "Found 1237 images belonging to 5 classes.\n",
      "Found 540 images belonging to 5 classes.\n"
     ]
    }
   ],
   "source": [
    "train_datagen = ImageDataGenerator(preprocessing_function=preprocess_input) #included in our dependencies\n",
    "\n",
    "\n",
    "train_generator = train_datagen.flow_from_directory(new_path_train,\n",
    "                                                 target_size=(224,224),\n",
    "                                                 color_mode='rgb',\n",
    "                                                 batch_size=32,\n",
    "                                                 class_mode='categorical',\n",
    "                                                 shuffle=True)\n",
    "\n",
    "test_datagen = ImageDataGenerator(preprocessing_function=preprocess_input)\n",
    "\n",
    "test_generator = test_datagen.flow_from_directory(new_path_val,\n",
    "                                                 target_size=(224,224),\n",
    "                                                 color_mode='rgb',\n",
    "                                                 batch_size=32,\n",
    "                                                 class_mode='categorical',\n",
    "                                                 shuffle=True)"
   ]
  },
  {
   "cell_type": "markdown",
   "metadata": {},
   "source": [
    "# Transfer learning"
   ]
  },
  {
   "cell_type": "code",
   "execution_count": 86,
   "metadata": {
    "ExecuteTime": {
     "end_time": "2020-01-10T09:22:00.420098Z",
     "start_time": "2020-01-10T09:21:59.487724Z"
    },
    "scrolled": false
   },
   "outputs": [
    {
     "name": "stdout",
     "output_type": "stream",
     "text": [
      "Model: \"model_4\"\n",
      "_________________________________________________________________\n",
      "Layer (type)                 Output Shape              Param #   \n",
      "=================================================================\n",
      "input_4 (InputLayer)         (None, 224, 224, 3)       0         \n",
      "_________________________________________________________________\n",
      "block1_conv1 (Conv2D)        (None, 224, 224, 64)      1792      \n",
      "_________________________________________________________________\n",
      "block1_conv2 (Conv2D)        (None, 224, 224, 64)      36928     \n",
      "_________________________________________________________________\n",
      "block1_pool (MaxPooling2D)   (None, 112, 112, 64)      0         \n",
      "_________________________________________________________________\n",
      "block2_conv1 (Conv2D)        (None, 112, 112, 128)     73856     \n",
      "_________________________________________________________________\n",
      "block2_conv2 (Conv2D)        (None, 112, 112, 128)     147584    \n",
      "_________________________________________________________________\n",
      "block2_pool (MaxPooling2D)   (None, 56, 56, 128)       0         \n",
      "_________________________________________________________________\n",
      "block3_conv1 (Conv2D)        (None, 56, 56, 256)       295168    \n",
      "_________________________________________________________________\n",
      "block3_conv2 (Conv2D)        (None, 56, 56, 256)       590080    \n",
      "_________________________________________________________________\n",
      "block3_conv3 (Conv2D)        (None, 56, 56, 256)       590080    \n",
      "_________________________________________________________________\n",
      "block3_pool (MaxPooling2D)   (None, 28, 28, 256)       0         \n",
      "_________________________________________________________________\n",
      "block4_conv1 (Conv2D)        (None, 28, 28, 512)       1180160   \n",
      "_________________________________________________________________\n",
      "block4_conv2 (Conv2D)        (None, 28, 28, 512)       2359808   \n",
      "_________________________________________________________________\n",
      "block4_conv3 (Conv2D)        (None, 28, 28, 512)       2359808   \n",
      "_________________________________________________________________\n",
      "block4_pool (MaxPooling2D)   (None, 14, 14, 512)       0         \n",
      "_________________________________________________________________\n",
      "block5_conv1 (Conv2D)        (None, 14, 14, 512)       2359808   \n",
      "_________________________________________________________________\n",
      "block5_conv2 (Conv2D)        (None, 14, 14, 512)       2359808   \n",
      "_________________________________________________________________\n",
      "block5_conv3 (Conv2D)        (None, 14, 14, 512)       2359808   \n",
      "_________________________________________________________________\n",
      "block5_pool (MaxPooling2D)   (None, 7, 7, 512)         0         \n",
      "_________________________________________________________________\n",
      "conv2d_7 (Conv2D)            (None, 5, 5, 256)         1179904   \n",
      "_________________________________________________________________\n",
      "batch_normalization_16 (Batc (None, 5, 5, 256)         1024      \n",
      "_________________________________________________________________\n",
      "re_lu_16 (ReLU)              (None, 5, 5, 256)         0         \n",
      "_________________________________________________________________\n",
      "conv2d_8 (Conv2D)            (None, 3, 3, 256)         590080    \n",
      "_________________________________________________________________\n",
      "batch_normalization_17 (Batc (None, 3, 3, 256)         1024      \n",
      "_________________________________________________________________\n",
      "re_lu_17 (ReLU)              (None, 3, 3, 256)         0         \n",
      "_________________________________________________________________\n",
      "flatten_4 (Flatten)          (None, 2304)              0         \n",
      "_________________________________________________________________\n",
      "dense_13 (Dense)             (None, 1024)              2360320   \n",
      "_________________________________________________________________\n",
      "batch_normalization_18 (Batc (None, 1024)              4096      \n",
      "_________________________________________________________________\n",
      "re_lu_18 (ReLU)              (None, 1024)              0         \n",
      "_________________________________________________________________\n",
      "dense_14 (Dense)             (None, 512)               524800    \n",
      "_________________________________________________________________\n",
      "batch_normalization_19 (Batc (None, 512)               2048      \n",
      "_________________________________________________________________\n",
      "re_lu_19 (ReLU)              (None, 512)               0         \n",
      "_________________________________________________________________\n",
      "dense_15 (Dense)             (None, 256)               131328    \n",
      "_________________________________________________________________\n",
      "batch_normalization_20 (Batc (None, 256)               1024      \n",
      "_________________________________________________________________\n",
      "re_lu_20 (ReLU)              (None, 256)               0         \n",
      "_________________________________________________________________\n",
      "dense_16 (Dense)             (None, 5)                 1285      \n",
      "=================================================================\n",
      "Total params: 19,511,621\n",
      "Trainable params: 4,792,325\n",
      "Non-trainable params: 14,719,296\n",
      "_________________________________________________________________\n"
     ]
    }
   ],
   "source": [
    "# create the base pre-trained model\n",
    "base_model = VGG16(weights='imagenet', include_top=False, input_shape=(224, 224, 3))\n",
    "\n",
    "# add a global spatial average pooling layer\n",
    "x = base_model.output\n",
    "\n",
    "\n",
    "x = Conv2D(256, kernel_size=(3, 3))(x)\n",
    "x = keras.layers.BatchNormalization()(x)\n",
    "x = ReLU()(x)\n",
    "\n",
    "x = Conv2D(256, kernel_size=(3, 3))(x)\n",
    "x = keras.layers.BatchNormalization()(x)\n",
    "x = ReLU()(x)\n",
    "\n",
    "#x = MaxPooling2D(pool_size=(2, 2))(x)\n",
    "\n",
    "# vector\n",
    "x = Flatten()(x)\n",
    "\n",
    "# let's add a fully-connected layer\n",
    "x = Dense(1024)(x)\n",
    "x = keras.layers.BatchNormalization()(x)\n",
    "x = ReLU()(x)\n",
    "\n",
    "x = Dense(512)(x)\n",
    "x = keras.layers.BatchNormalization()(x)\n",
    "x = ReLU()(x)\n",
    "\n",
    "x = Dense(256)(x)\n",
    "x = keras.layers.BatchNormalization()(x)\n",
    "x = ReLU()(x)\n",
    "\n",
    "\n",
    "# last layer which predict the class\n",
    "predictions = Dense(5, activation = 'softmax')(x)\n",
    "\n",
    "# this is the model we will trainll\n",
    "model = Model(inputs=base_model.input, outputs=predictions)\n",
    "\n",
    "# first: train only the top layers (which were randomly initialized)\n",
    "# i.e. freeze all convolutional InceptionV3 layers\n",
    "for layer in base_model.layers:\n",
    "    layer.trainable = False\n",
    "\n",
    "# compile the model (should be done *after* setting layers to non-trainable)\n",
    "model.compile(optimizer='adam', loss='categorical_crossentropy', metrics=['accuracy'])\n",
    "\n",
    "model.summary()"
   ]
  },
  {
   "cell_type": "code",
   "execution_count": null,
   "metadata": {},
   "outputs": [
    {
     "name": "stdout",
     "output_type": "stream",
     "text": [
      "Epoch 1/5\n",
      "38/38 [==============================] - 270s 7s/step - loss: 1.4962 - accuracy: 0.4174 - val_loss: 9.4158 - val_accuracy: 0.2019\n",
      "Epoch 2/5\n",
      "38/38 [==============================] - 276s 7s/step - loss: 0.4882 - accuracy: 0.8340 - val_loss: 2.3194 - val_accuracy: 0.3611\n",
      "Epoch 3/5\n",
      "24/38 [=================>............] - ETA: 1:16 - loss: 0.2163 - accuracy: 0.9297"
     ]
    }
   ],
   "source": [
    "step_size_train=train_generator.n//train_generator.batch_size\n",
    "\n",
    "# Define learning rate reducer\n",
    "reduce_lr = ReduceLROnPlateau(monitor='val_accuracy', \n",
    "                              patience=2, \n",
    "                              verbose=1, \n",
    "                              factor=0.5, \n",
    "                              min_lr=0.00001)\n",
    "\n",
    "# How to include it in your training\n",
    "model.fit_generator(generator=train_generator,\n",
    "                    steps_per_epoch=step_size_train,\n",
    "                    epochs=5,\n",
    "                    validation_data=test_generator,\n",
    "                    callbacks=[reduce_lr])  # here"
   ]
  },
  {
   "cell_type": "code",
   "execution_count": 72,
   "metadata": {},
   "outputs": [],
   "source": [
    "def save_model_classes(path_mod, mod_name, train_generator, model): \n",
    "    shutil.rmtree(path_mod + mod_name, ignore_errors = True)\n",
    "    os.makedirs(path_mod + mod_name)\n",
    "    label_map = (train_generator.class_indices)\n",
    "    with open(path_mod + mod_name + '/' + 'model_' + mod_name + '.pkl', \"wb\") as f:\n",
    "        pickle.dump(label_map, f)\n",
    "    model.save(path_mod + mod_name + '/' + 'model_'+ mod_name + '.h5')"
   ]
  },
  {
   "cell_type": "code",
   "execution_count": 75,
   "metadata": {},
   "outputs": [],
   "source": [
    "save_model_classes(\"./../Models/\", 'int_Airbus_Hack_Seatguru', train_generator, model)"
   ]
  },
  {
   "cell_type": "code",
   "execution_count": null,
   "metadata": {},
   "outputs": [],
   "source": []
  },
  {
   "cell_type": "code",
   "execution_count": null,
   "metadata": {},
   "outputs": [],
   "source": []
  }
 ],
 "metadata": {
  "kernelspec": {
   "display_name": "Python 3",
   "language": "python",
   "name": "python3"
  },
  "language_info": {
   "codemirror_mode": {
    "name": "ipython",
    "version": 3
   },
   "file_extension": ".py",
   "mimetype": "text/x-python",
   "name": "python",
   "nbconvert_exporter": "python",
   "pygments_lexer": "ipython3",
   "version": "3.7.4"
  },
  "toc": {
   "base_numbering": 1,
   "nav_menu": {},
   "number_sections": true,
   "sideBar": true,
   "skip_h1_title": false,
   "title_cell": "Table of Contents",
   "title_sidebar": "Contents",
   "toc_cell": false,
   "toc_position": {},
   "toc_section_display": true,
   "toc_window_display": false
  },
  "varInspector": {
   "cols": {
    "lenName": 16,
    "lenType": 16,
    "lenVar": 40
   },
   "kernels_config": {
    "python": {
     "delete_cmd_postfix": "",
     "delete_cmd_prefix": "del ",
     "library": "var_list.py",
     "varRefreshCmd": "print(var_dic_list())"
    },
    "r": {
     "delete_cmd_postfix": ") ",
     "delete_cmd_prefix": "rm(",
     "library": "var_list.r",
     "varRefreshCmd": "cat(var_dic_list()) "
    }
   },
   "position": {
    "height": "294px",
    "left": "1070px",
    "right": "30px",
    "top": "120px",
    "width": "340px"
   },
   "types_to_exclude": [
    "module",
    "function",
    "builtin_function_or_method",
    "instance",
    "_Feature"
   ],
   "window_display": true
  }
 },
 "nbformat": 4,
 "nbformat_minor": 2
}
