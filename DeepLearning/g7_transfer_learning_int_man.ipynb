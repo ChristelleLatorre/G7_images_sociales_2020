{
 "cells": [
  {
   "cell_type": "code",
   "execution_count": null,
   "metadata": {},
   "outputs": [],
   "source": [
    "\"\"\"\n",
    "Created on Mon Jan 13 16:00:47 2020\n",
    "Group 7\n",
    "@authors : G.H.\n",
    "\"\"\""
   ]
  },
  {
   "cell_type": "code",
   "execution_count": 37,
   "metadata": {
    "ExecuteTime": {
     "end_time": "2020-01-09T15:19:11.728311Z",
     "start_time": "2020-01-09T15:19:06.196795Z"
    }
   },
   "outputs": [],
   "source": [
    "import matplotlib.pyplot as plt\n",
    "from matplotlib.pyplot import imread\n",
    "import numpy as np\n",
    "import pandas as pd\n",
    "import math\n",
    "import operator\n",
    "import os\n",
    "from PIL import Image\n",
    "from tqdm import tqdm_notebook as tqdm\n",
    "import random\n",
    "\n",
    "from shutil import copyfile\n",
    "\n",
    "# keras : librairie de deep learning\n",
    "import keras\n",
    "from keras.models import Sequential, Model\n",
    "from keras.layers.core import Dense, Dropout, Activation, Flatten\n",
    "from keras.layers import Conv2D, MaxPooling2D, InputLayer, ReLU, AveragePooling2D\n",
    "from keras.optimizers import SGD\n",
    "from keras.utils import np_utils\n",
    "from keras import backend as K\n",
    "from tensorflow.keras.preprocessing.image import ImageDataGenerator\n",
    "from keras.callbacks import ReduceLROnPlateau\n",
    "\n",
    "from keras.applications.vgg16 import VGG16\n",
    "from keras.applications.vgg16 import preprocess_input"
   ]
  },
  {
   "cell_type": "markdown",
   "metadata": {},
   "source": [
    "# Lecure avec keras"
   ]
  },
  {
   "cell_type": "code",
   "execution_count": 70,
   "metadata": {},
   "outputs": [],
   "source": [
    "# Reading of csv file SEATGURU annontate\n",
    "csv_file = pd.read_csv('../g7_SEATGURU_annotate.csv', sep=';')\n",
    "Airbus_file = csv_file.loc[csv_file['aircraft_manufacturer']  == 'Airbus',:]\n",
    "Airbus_file = Airbus_file.loc[Airbus_file['view'] == 'Int']\n",
    "Boeing_file = csv_file.loc[csv_file['aircraft_manufacturer']  == 'Boeing',:]\n",
    "Boeing_file = Boeing_file.loc[Boeing_file['view'] == 'Int']\n",
    "# List name pictures\n",
    "list_img_Airbus = list(Airbus_file['name'])\n",
    "list_img_Boeing = list(Boeing_file['name'])"
   ]
  },
  {
   "cell_type": "code",
   "execution_count": 71,
   "metadata": {},
   "outputs": [],
   "source": [
    "path = './../All Data/ANALYSE IMAGE/IMG SEATGURU/'\n",
    "new_path_train = './../G7_SEATGURU_cat/Int/Split_data_man/data_train'\n",
    "new_path_val = './../G7_SEATGURU_cat/Int/Split_data_man/data_val'\n",
    "new_paths = [new_path_train, new_path_val]"
   ]
  },
  {
   "cell_type": "code",
   "execution_count": 104,
   "metadata": {},
   "outputs": [],
   "source": [
    "def split_train_test_Seatguru_cat(new_paths, path, list_planes = [list_img_Airbus, list_img_Boeing], \n",
    "                                  split_limit = .7, s = 8):\n",
    "  \n",
    "\n",
    "    for plane in list_planes:\n",
    "        \n",
    "        if plane == list_img_Airbus:\n",
    "            classe = 'Airbus'\n",
    "        if plane == list_img_Boeing:\n",
    "            classe = 'Boeing'\n",
    "        \n",
    "        os.makedirs(new_paths[0] + '/' + classe, exist_ok = True)\n",
    "        os.makedirs(new_paths[1]+ '/' + classe, exist_ok = True)\n",
    "        \n",
    "        random.seed(a = s)\n",
    "        random.shuffle(plane)\n",
    "\n",
    "        for pict in plane[:int(split_limit*len(plane))]:\n",
    "            copyfile(path + '/' + pict, new_paths[0] + '/' + classe + '/' +  pict)\n",
    "        for pict in plane[int(split_limit*len(plane)):]:\n",
    "            copyfile(path + '/' + pict, new_paths[1] + '/' + classe + '/' +  pict)\n",
    "        "
   ]
  },
  {
   "cell_type": "code",
   "execution_count": 105,
   "metadata": {},
   "outputs": [],
   "source": [
    "# Creation of train and test samples\n",
    "split_train_test_Seatguru_cat(new_paths, path)"
   ]
  },
  {
   "cell_type": "code",
   "execution_count": 106,
   "metadata": {},
   "outputs": [
    {
     "name": "stdout",
     "output_type": "stream",
     "text": [
      "Found 1123 images belonging to 2 classes.\n",
      "Found 482 images belonging to 2 classes.\n"
     ]
    }
   ],
   "source": [
    "train_datagen = ImageDataGenerator(preprocessing_function=preprocess_input) #included in our dependencies\n",
    "\n",
    "\n",
    "train_generator = train_datagen.flow_from_directory(new_path_train,\n",
    "                                                 target_size=(224,224),\n",
    "                                                 color_mode='rgb',\n",
    "                                                 batch_size=32,\n",
    "                                                 class_mode='categorical',\n",
    "                                                 shuffle=True)\n",
    "\n",
    "test_generator = train_datagen.flow_from_directory(new_path_val,\n",
    "                                                 target_size=(224,224),\n",
    "                                                 color_mode='rgb',\n",
    "                                                 batch_size=32,\n",
    "                                                 class_mode='categorical',\n",
    "                                                 shuffle=True)"
   ]
  },
  {
   "cell_type": "markdown",
   "metadata": {},
   "source": [
    "# Transfer learning"
   ]
  },
  {
   "cell_type": "code",
   "execution_count": 109,
   "metadata": {
    "ExecuteTime": {
     "end_time": "2020-01-09T15:27:12.281317Z",
     "start_time": "2020-01-09T15:27:12.278357Z"
    }
   },
   "outputs": [],
   "source": []
  },
  {
   "cell_type": "code",
   "execution_count": 116,
   "metadata": {
    "ExecuteTime": {
     "end_time": "2020-01-10T09:22:00.420098Z",
     "start_time": "2020-01-10T09:21:59.487724Z"
    },
    "scrolled": false
   },
   "outputs": [
    {
     "name": "stdout",
     "output_type": "stream",
     "text": [
      "Model: \"model_3\"\n",
      "_________________________________________________________________\n",
      "Layer (type)                 Output Shape              Param #   \n",
      "=================================================================\n",
      "input_3 (InputLayer)         (None, 224, 224, 3)       0         \n",
      "_________________________________________________________________\n",
      "block1_conv1 (Conv2D)        (None, 224, 224, 64)      1792      \n",
      "_________________________________________________________________\n",
      "block1_conv2 (Conv2D)        (None, 224, 224, 64)      36928     \n",
      "_________________________________________________________________\n",
      "block1_pool (MaxPooling2D)   (None, 112, 112, 64)      0         \n",
      "_________________________________________________________________\n",
      "block2_conv1 (Conv2D)        (None, 112, 112, 128)     73856     \n",
      "_________________________________________________________________\n",
      "block2_conv2 (Conv2D)        (None, 112, 112, 128)     147584    \n",
      "_________________________________________________________________\n",
      "block2_pool (MaxPooling2D)   (None, 56, 56, 128)       0         \n",
      "_________________________________________________________________\n",
      "block3_conv1 (Conv2D)        (None, 56, 56, 256)       295168    \n",
      "_________________________________________________________________\n",
      "block3_conv2 (Conv2D)        (None, 56, 56, 256)       590080    \n",
      "_________________________________________________________________\n",
      "block3_conv3 (Conv2D)        (None, 56, 56, 256)       590080    \n",
      "_________________________________________________________________\n",
      "block3_pool (MaxPooling2D)   (None, 28, 28, 256)       0         \n",
      "_________________________________________________________________\n",
      "block4_conv1 (Conv2D)        (None, 28, 28, 512)       1180160   \n",
      "_________________________________________________________________\n",
      "block4_conv2 (Conv2D)        (None, 28, 28, 512)       2359808   \n",
      "_________________________________________________________________\n",
      "block4_conv3 (Conv2D)        (None, 28, 28, 512)       2359808   \n",
      "_________________________________________________________________\n",
      "block4_pool (MaxPooling2D)   (None, 14, 14, 512)       0         \n",
      "_________________________________________________________________\n",
      "block5_conv1 (Conv2D)        (None, 14, 14, 512)       2359808   \n",
      "_________________________________________________________________\n",
      "block5_conv2 (Conv2D)        (None, 14, 14, 512)       2359808   \n",
      "_________________________________________________________________\n",
      "block5_conv3 (Conv2D)        (None, 14, 14, 512)       2359808   \n",
      "_________________________________________________________________\n",
      "block5_pool (MaxPooling2D)   (None, 7, 7, 512)         0         \n",
      "_________________________________________________________________\n",
      "conv2d_5 (Conv2D)            (None, 5, 5, 256)         1179904   \n",
      "_________________________________________________________________\n",
      "batch_normalization_11 (Batc (None, 5, 5, 256)         1024      \n",
      "_________________________________________________________________\n",
      "re_lu_11 (ReLU)              (None, 5, 5, 256)         0         \n",
      "_________________________________________________________________\n",
      "conv2d_6 (Conv2D)            (None, 3, 3, 256)         590080    \n",
      "_________________________________________________________________\n",
      "batch_normalization_12 (Batc (None, 3, 3, 256)         1024      \n",
      "_________________________________________________________________\n",
      "re_lu_12 (ReLU)              (None, 3, 3, 256)         0         \n",
      "_________________________________________________________________\n",
      "max_pooling2d_1 (MaxPooling2 (None, 1, 1, 256)         0         \n",
      "_________________________________________________________________\n",
      "flatten_3 (Flatten)          (None, 256)               0         \n",
      "_________________________________________________________________\n",
      "dense_9 (Dense)              (None, 1024)              263168    \n",
      "_________________________________________________________________\n",
      "batch_normalization_13 (Batc (None, 1024)              4096      \n",
      "_________________________________________________________________\n",
      "re_lu_13 (ReLU)              (None, 1024)              0         \n",
      "_________________________________________________________________\n",
      "dense_10 (Dense)             (None, 512)               524800    \n",
      "_________________________________________________________________\n",
      "batch_normalization_14 (Batc (None, 512)               2048      \n",
      "_________________________________________________________________\n",
      "re_lu_14 (ReLU)              (None, 512)               0         \n",
      "_________________________________________________________________\n",
      "dense_11 (Dense)             (None, 256)               131328    \n",
      "_________________________________________________________________\n",
      "batch_normalization_15 (Batc (None, 256)               1024      \n",
      "_________________________________________________________________\n",
      "re_lu_15 (ReLU)              (None, 256)               0         \n",
      "_________________________________________________________________\n",
      "dense_12 (Dense)             (None, 2)                 514       \n",
      "=================================================================\n",
      "Total params: 17,413,698\n",
      "Trainable params: 2,694,402\n",
      "Non-trainable params: 14,719,296\n",
      "_________________________________________________________________\n"
     ]
    }
   ],
   "source": [
    "# create the base pre-trained model\n",
    "base_model = VGG16(weights='imagenet', include_top=False, input_shape=(224, 224, 3))\n",
    "\n",
    "# add a global spatial average pooling layer\n",
    "x = base_model.output\n",
    "\n",
    "\n",
    "x = Conv2D(256, kernel_size=(3, 3))(x)\n",
    "x = keras.layers.BatchNormalization()(x)\n",
    "x = ReLU()(x)\n",
    "\n",
    "x = Conv2D(256, kernel_size=(3, 3))(x)\n",
    "x = keras.layers.BatchNormalization()(x)\n",
    "x = ReLU()(x)\n",
    "\n",
    "x = MaxPooling2D(pool_size=(2, 2))(x)\n",
    "\n",
    "# vector\n",
    "x = Flatten()(x)\n",
    "\n",
    "# let's add a fully-connected layer\n",
    "x = Dense(1024)(x)\n",
    "x = keras.layers.BatchNormalization()(x)\n",
    "x = ReLU()(x)\n",
    "\n",
    "x = Dense(512)(x)\n",
    "x = keras.layers.BatchNormalization()(x)\n",
    "x = ReLU()(x)\n",
    "\n",
    "x = Dense(256)(x)\n",
    "x = keras.layers.BatchNormalization()(x)\n",
    "x = ReLU()(x)\n",
    "\n",
    "\n",
    "# last layer which predict the class\n",
    "predictions = Dense(2, activation = 'softmax')(x)\n",
    "\n",
    "# this is the model we will train\n",
    "model = Model(inputs=base_model.input, outputs=predictions)\n",
    "\n",
    "# first: train only the top layers (which were randomly initialized)\n",
    "# i.e. freeze all convolutional InceptionV3 layers\n",
    "for layer in base_model.layers:\n",
    "    layer.trainable = False\n",
    "\n",
    "# compile the model (should be done *after* setting layers to non-trainable)\n",
    "model.compile(optimizer='adam', loss='categorical_crossentropy', metrics=['accuracy'])\n",
    "\n",
    "model.summary()"
   ]
  },
  {
   "cell_type": "code",
   "execution_count": 115,
   "metadata": {},
   "outputs": [
    {
     "name": "stdout",
     "output_type": "stream",
     "text": [
      "Epoch 1/10\n",
      "35/35 [==============================] - 227s 6s/step - loss: 0.1752 - accuracy: 0.9487 - val_loss: 2.9068 - val_accuracy: 0.5643\n",
      "Epoch 2/10\n",
      "35/35 [==============================] - 232s 7s/step - loss: 0.2171 - accuracy: 0.9432 - val_loss: 1.8595 - val_accuracy: 0.5975\n",
      "Epoch 3/10\n",
      "35/35 [==============================] - 232s 7s/step - loss: 0.1190 - accuracy: 0.9643 - val_loss: 2.1800 - val_accuracy: 0.5809\n",
      "Epoch 4/10\n",
      "35/35 [==============================] - 230s 7s/step - loss: 0.0809 - accuracy: 0.9707 - val_loss: 0.0257 - val_accuracy: 0.5809\n",
      "\n",
      "Epoch 00004: ReduceLROnPlateau reducing learning rate to 0.0005000000237487257.\n",
      "Epoch 5/10\n",
      "35/35 [==============================] - 241s 7s/step - loss: 0.0369 - accuracy: 0.9927 - val_loss: 0.3659 - val_accuracy: 0.5913\n",
      "Epoch 6/10\n",
      "35/35 [==============================] - 244s 7s/step - loss: 0.0109 - accuracy: 1.0000 - val_loss: 5.0883 - val_accuracy: 0.6224\n",
      "Epoch 7/10\n",
      "35/35 [==============================] - 231s 7s/step - loss: 0.0120 - accuracy: 0.9973 - val_loss: 0.0178 - val_accuracy: 0.6100\n",
      "Epoch 8/10\n",
      "35/35 [==============================] - 235s 7s/step - loss: 0.0178 - accuracy: 0.9937 - val_loss: 2.4037 - val_accuracy: 0.5768\n",
      "\n",
      "Epoch 00008: ReduceLROnPlateau reducing learning rate to 0.0002500000118743628.\n",
      "Epoch 9/10\n",
      "35/35 [==============================] - 230s 7s/step - loss: 0.0085 - accuracy: 0.9982 - val_loss: 0.0316 - val_accuracy: 0.6017\n",
      "Epoch 10/10\n",
      "35/35 [==============================] - 231s 7s/step - loss: 0.0562 - accuracy: 0.9925 - val_loss: 4.8948 - val_accuracy: 0.5830\n",
      "\n",
      "Epoch 00010: ReduceLROnPlateau reducing learning rate to 0.0001250000059371814.\n"
     ]
    },
    {
     "data": {
      "text/plain": [
       "<keras.callbacks.callbacks.History at 0x7f45e5df6a90>"
      ]
     },
     "execution_count": 115,
     "metadata": {},
     "output_type": "execute_result"
    }
   ],
   "source": [
    "# AveragePooling\n",
    "step_size_train=train_generator.n//train_generator.batch_size\n",
    "\n",
    "# Define learning rate reducer\n",
    "reduce_lr = ReduceLROnPlateau(monitor='val_accuracy', \n",
    "                              patience=2, \n",
    "                              verbose=1, \n",
    "                              factor=0.5, \n",
    "                              min_lr=0.00001)\n",
    "\n",
    "# How to include it in your training\n",
    "model.fit_generator(generator=train_generator,\n",
    "                    steps_per_epoch=step_size_train,\n",
    "                    epochs=10,\n",
    "                    validation_data=test_generator,\n",
    "                    callbacks=[reduce_lr])  # here"
   ]
  },
  {
   "cell_type": "code",
   "execution_count": null,
   "metadata": {},
   "outputs": [],
   "source": []
  },
  {
   "cell_type": "code",
   "execution_count": 117,
   "metadata": {},
   "outputs": [
    {
     "name": "stdout",
     "output_type": "stream",
     "text": [
      "Epoch 1/10\n",
      "35/35 [==============================] - 225s 6s/step - loss: 0.8825 - accuracy: 0.5335 - val_loss: 2.7981 - val_accuracy: 0.5415\n",
      "Epoch 2/10\n",
      "35/35 [==============================] - 228s 7s/step - loss: 0.3948 - accuracy: 0.8323 - val_loss: 5.1430 - val_accuracy: 0.5270\n",
      "Epoch 3/10\n",
      "35/35 [==============================] - 242s 7s/step - loss: 0.1572 - accuracy: 0.9404 - val_loss: 0.7036 - val_accuracy: 0.5747\n",
      "Epoch 4/10\n",
      "35/35 [==============================] - 237s 7s/step - loss: 0.1389 - accuracy: 0.9496 - val_loss: 4.6922 - val_accuracy: 0.5498\n",
      "Epoch 5/10\n",
      "35/35 [==============================] - 232s 7s/step - loss: 0.2218 - accuracy: 0.9184 - val_loss: 1.3458 - val_accuracy: 0.5394\n",
      "\n",
      "Epoch 00005: ReduceLROnPlateau reducing learning rate to 0.0005000000237487257.\n",
      "Epoch 6/10\n",
      "35/35 [==============================] - 233s 7s/step - loss: 0.1241 - accuracy: 0.9578 - val_loss: 0.7137 - val_accuracy: 0.5353\n",
      "Epoch 7/10\n",
      "35/35 [==============================] - 233s 7s/step - loss: 0.1207 - accuracy: 0.9679 - val_loss: 3.8849 - val_accuracy: 0.5290\n",
      "\n",
      "Epoch 00007: ReduceLROnPlateau reducing learning rate to 0.0002500000118743628.\n",
      "Epoch 8/10\n",
      "35/35 [==============================] - 238s 7s/step - loss: 0.0392 - accuracy: 0.9902 - val_loss: 0.3180 - val_accuracy: 0.5747\n",
      "Epoch 9/10\n",
      "35/35 [==============================] - 230s 7s/step - loss: 0.0596 - accuracy: 0.9934 - val_loss: 0.8213 - val_accuracy: 0.5394\n",
      "\n",
      "Epoch 00009: ReduceLROnPlateau reducing learning rate to 0.0001250000059371814.\n",
      "Epoch 10/10\n",
      "35/35 [==============================] - 233s 7s/step - loss: 0.0345 - accuracy: 0.9927 - val_loss: 1.0146 - val_accuracy: 0.5519\n"
     ]
    },
    {
     "data": {
      "text/plain": [
       "<keras.callbacks.callbacks.History at 0x7f45bd62a2d0>"
      ]
     },
     "execution_count": 117,
     "metadata": {},
     "output_type": "execute_result"
    }
   ],
   "source": [
    "# MaxPooling\n",
    "step_size_train=train_generator.n//train_generator.batch_size\n",
    "\n",
    "# Define learning rate reducer\n",
    "reduce_lr = ReduceLROnPlateau(monitor='val_accuracy', \n",
    "                              patience=2, \n",
    "                              verbose=1, \n",
    "                              factor=0.5, \n",
    "                              min_lr=0.00001)\n",
    "\n",
    "# How to include it in your training\n",
    "model.fit_generator(generator=train_generator,\n",
    "                    steps_per_epoch=step_size_train,\n",
    "                    epochs=10,\n",
    "                    validation_data=test_generator,\n",
    "                    callbacks=[reduce_lr])  # here"
   ]
  },
  {
   "cell_type": "code",
   "execution_count": null,
   "metadata": {},
   "outputs": [],
   "source": []
  },
  {
   "cell_type": "code",
   "execution_count": 118,
   "metadata": {},
   "outputs": [],
   "source": [
    "# save the model\n",
    "model.save('model_int_man.h5')"
   ]
  },
  {
   "cell_type": "code",
   "execution_count": null,
   "metadata": {},
   "outputs": [],
   "source": []
  }
 ],
 "metadata": {
  "kernelspec": {
   "display_name": "Python 3",
   "language": "python",
   "name": "python3"
  },
  "language_info": {
   "codemirror_mode": {
    "name": "ipython",
    "version": 3
   },
   "file_extension": ".py",
   "mimetype": "text/x-python",
   "name": "python",
   "nbconvert_exporter": "python",
   "pygments_lexer": "ipython3",
   "version": "3.7.4"
  },
  "toc": {
   "base_numbering": 1,
   "nav_menu": {},
   "number_sections": true,
   "sideBar": true,
   "skip_h1_title": false,
   "title_cell": "Table of Contents",
   "title_sidebar": "Contents",
   "toc_cell": false,
   "toc_position": {},
   "toc_section_display": true,
   "toc_window_display": false
  },
  "varInspector": {
   "cols": {
    "lenName": 16,
    "lenType": 16,
    "lenVar": 40
   },
   "kernels_config": {
    "python": {
     "delete_cmd_postfix": "",
     "delete_cmd_prefix": "del ",
     "library": "var_list.py",
     "varRefreshCmd": "print(var_dic_list())"
    },
    "r": {
     "delete_cmd_postfix": ") ",
     "delete_cmd_prefix": "rm(",
     "library": "var_list.r",
     "varRefreshCmd": "cat(var_dic_list()) "
    }
   },
   "position": {
    "height": "294px",
    "left": "1070px",
    "right": "30px",
    "top": "120px",
    "width": "340px"
   },
   "types_to_exclude": [
    "module",
    "function",
    "builtin_function_or_method",
    "instance",
    "_Feature"
   ],
   "window_display": true
  }
 },
 "nbformat": 4,
 "nbformat_minor": 2
}
