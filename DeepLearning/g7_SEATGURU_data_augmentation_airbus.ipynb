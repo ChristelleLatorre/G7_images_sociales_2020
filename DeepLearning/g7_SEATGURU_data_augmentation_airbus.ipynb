{
 "cells": [
  {
   "cell_type": "code",
   "execution_count": null,
   "metadata": {},
   "outputs": [],
   "source": [
    "\"\"\"\n",
    "created on: Wed Jan 15 16:58:39 2020\n",
    "Group 7\n",
    "@author: T.F\n",
    "\"\"\""
   ]
  },
  {
   "cell_type": "code",
   "execution_count": 34,
   "metadata": {},
   "outputs": [],
   "source": [
    "import pandas as pd\n",
    "import matplotlib.pyplot as plt\n",
    "import numpy as np\n",
    "import pandas as pd\n",
    "import os\n",
    "from PIL import Image\n",
    "from tqdm import tqdm_notebook as tqdm\n",
    "# keras : librairie de deep learning\n",
    "import keras\n",
    "from keras.models import Sequential\n",
    "from keras.layers import Conv2D, MaxPooling2D, InputLayer, ReLU, Dense, Flatten\n",
    "from keras.optimizers import SGD\n",
    "from keras.preprocessing.image import ImageDataGenerator\n",
    "\n",
    "from keras.applications.mobilenet import MobileNet\n",
    "from keras.preprocessing import image\n",
    "from keras.models import Model\n",
    "from keras.layers import Dense, GlobalAveragePooling2D\n",
    "from keras import backend as K\n",
    "from shutil import copyfile\n",
    "import PIL\n",
    "from PIL import Image"
   ]
  },
  {
   "cell_type": "code",
   "execution_count": 3,
   "metadata": {},
   "outputs": [],
   "source": [
    "df = pd.read_csv(r'C:\\Users\\ups\\Downloads\\g7_SEATGURU_annotate.csv', sep =\";\")"
   ]
  },
  {
   "cell_type": "code",
   "execution_count": null,
   "metadata": {},
   "outputs": [],
   "source": [
    "def A320():\n",
    "    list=[]\n",
    "    for i,j in enumerate(df['name']):\n",
    "        if df['aircraft_type'][i] == 'A320' and df['view'][i] == 'Int' : \n",
    "            list.append(j)\n",
    "    return list\n",
    "A320 = A320()\n",
    "        "
   ]
  },
  {
   "cell_type": "code",
   "execution_count": null,
   "metadata": {},
   "outputs": [],
   "source": [
    "def A330():\n",
    "    list=[]\n",
    "    for i,j in enumerate(df['name']):\n",
    "        if df['aircraft_type'][i] == 'A330' and df['view'][i] == 'Int'   : \n",
    "            list.append(j)\n",
    "    return list\n",
    "A330 = A330()"
   ]
  },
  {
   "cell_type": "code",
   "execution_count": null,
   "metadata": {},
   "outputs": [],
   "source": [
    "def A350():\n",
    "    list=[]\n",
    "    for i,j in enumerate(df['name']):\n",
    "        if df['aircraft_type'][i] == 'A350' and df['view'][i] == 'Int'  : \n",
    "            list.append(j)\n",
    "    return list\n",
    "A350 = A350()"
   ]
  },
  {
   "cell_type": "code",
   "execution_count": null,
   "metadata": {},
   "outputs": [],
   "source": [
    "def A321():\n",
    "    list=[]\n",
    "    for i,j in enumerate(df['name']):\n",
    "        if df['aircraft_type'][i] == 'A321' and df['view'][i] == 'Int'  : \n",
    "            list.append(j)\n",
    "    return list\n",
    "A321 = A321()"
   ]
  },
  {
   "cell_type": "code",
   "execution_count": null,
   "metadata": {},
   "outputs": [],
   "source": [
    "path = r\"C:\\Users\\ups\\Desktop\\Interpromo2020\\Interpromo2020\\All Data\\ANALYSE IMAGE\\IMG SEATGURU\\\\\"\n",
    "path2 = r\"C:\\Users\\ups\\Desktop\\Interpromo2020\\Interpromo2020\\All Data\\ANALYSE IMAGE\\data\\A320\\\\\""
   ]
  },
  {
   "cell_type": "code",
   "execution_count": null,
   "metadata": {},
   "outputs": [],
   "source": [
    "for pict in A320:\n",
    "    copyfile(path + pict, path2 + pict)"
   ]
  },
  {
   "cell_type": "code",
   "execution_count": null,
   "metadata": {},
   "outputs": [],
   "source": [
    "path2 = r\"C:\\Users\\ups\\Desktop\\Interpromo2020\\Interpromo2020\\All Data\\ANALYSE IMAGE\\data\\A321\\\\\"\n",
    "for pict in A321:\n",
    "    copyfile(path + pict, path2 + pict)"
   ]
  },
  {
   "cell_type": "code",
   "execution_count": null,
   "metadata": {},
   "outputs": [],
   "source": [
    "path2 = r\"C:\\Users\\ups\\Desktop\\Interpromo2020\\Interpromo2020\\All Data\\ANALYSE IMAGE\\data\\A330\\\\\"\n",
    "for pict in A330:\n",
    "    copyfile(path + pict, path2 + pict)"
   ]
  },
  {
   "cell_type": "code",
   "execution_count": null,
   "metadata": {},
   "outputs": [],
   "source": [
    "path2 = r\"C:\\Users\\ups\\Desktop\\Interpromo2020\\Interpromo2020\\All Data\\ANALYSE IMAGE\\data\\A350\\\\\"\n",
    "for pict in A350:\n",
    "    copyfile(path + pict, path2 + pict)"
   ]
  },
  {
   "cell_type": "code",
   "execution_count": null,
   "metadata": {},
   "outputs": [],
   "source": [
    "def sep_train_test(new_paths = [r'C:\\Users\\ups\\Desktop\\Interpromo2020\\Interpromo2020\\All Data\\ANALYSE IMAGE\\train', r'C:\\Users\\ups\\Desktop\\Interpromo2020\\Interpromo2020\\All Data\\ANALYSE IMAGE\\validation'], path = r'C:\\Users\\ups\\Desktop\\Interpromo2020\\Interpromo2020\\All Data\\ANALYSE IMAGE\\data\\\\', airbus_planes = ['A320', 'A321', 'A350', 'A330'], split_limite = .7):\n",
    "    for plane in airbus_planes:\n",
    "        os.makedirs(new_paths[0] + '\\\\' + plane)\n",
    "        os.makedirs(new_paths[1] + '\\\\' + plane)\n",
    "        \n",
    "        for pict in os.listdir(path + '\\Airbus\\\\' + plane):\n",
    "            rand = np.random.random()\n",
    "            if rand <= split_limite:\n",
    "                copyfile(path + '\\\\Airbus\\\\' + plane + '\\\\' + pict, new_paths[0] + '\\\\' + plane + '\\\\' + pict)\n",
    "            else:\n",
    "                copyfile(path + '\\Airbus\\\\' + plane + '\\\\' + pict, new_paths[1] + '\\\\' + plane + '\\\\' + pict)\n",
    "                \n",
    "    "
   ]
  },
  {
   "cell_type": "code",
   "execution_count": 99,
   "metadata": {},
   "outputs": [],
   "source": [
    "def data_augmentation(train_path, rotation_range = 40, width_shift_range = .2, height_shift_range = .2, shear_range = .2, zoom_range = .2, horizontal_flip = True, nb_img = 10):\n",
    "    classes = os.listdir(train_path)\n",
    "\n",
    "    datagen = ImageDataGenerator(\n",
    "           rotation_range=rotation_range,\n",
    "           width_shift_range=width_shift_range,\n",
    "           height_shift_range=height_shift_range,\n",
    "           shear_range=shear_range,\n",
    "           zoom_range=zoom_range,\n",
    "           horizontal_flip=horizontal_flip,\n",
    "           fill_mode='nearest')\n",
    "\n",
    "    for classe in classes:\n",
    "        picts = os.listdir(train_path + '/' + classe)\n",
    "        print(classe)\n",
    "\n",
    "        for pict in picts:\n",
    "            img = Image.open(train_path + '/' + classe + '/' + pict)\n",
    "            img = np.array(img)\n",
    "            img = img.reshape((1,) + img.shape)\n",
    "            i=0\n",
    "\n",
    "            for batch in datagen.flow(img, batch_size=1, save_to_dir=train_path, save_prefix=classe + '/' + classe, save_format='jpeg'):\n",
    "                i += 1\n",
    "                if i > nb_img:\n",
    "                    break  # otherwise the generator would loop indefinitely"
   ]
  },
  {
   "cell_type": "code",
   "execution_count": 101,
   "metadata": {},
   "outputs": [
    {
     "name": "stdout",
     "output_type": "stream",
     "text": [
      "A320\n",
      "A321\n",
      "A330\n",
      "A350\n"
     ]
    }
   ],
   "source": [
    "data_augmentation(r\"C:\\Users\\ups\\Desktop\\Interpromo2020\\Interpromo2020\\All Data\\ANALYSE IMAGE\\train\")"
   ]
  }
 ],
 "metadata": {
  "kernelspec": {
   "display_name": "Python 3",
   "language": "python",
   "name": "python3"
  },
  "language_info": {
   "codemirror_mode": {
    "name": "ipython",
    "version": 3
   },
   "file_extension": ".py",
   "mimetype": "text/x-python",
   "name": "python",
   "nbconvert_exporter": "python",
   "pygments_lexer": "ipython3",
   "version": "3.7.4"
  }
 },
 "nbformat": 4,
 "nbformat_minor": 2
}
