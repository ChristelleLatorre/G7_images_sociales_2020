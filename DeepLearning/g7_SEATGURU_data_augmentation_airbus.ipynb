{
 "cells": [
  {
   "cell_type": "code",
   "execution_count": null,
   "metadata": {},
   "outputs": [],
   "source": [
    "\"\"\"\n",
    "created on: Wed Jan 15 16:58:39 2020\n",
    "Group 7\n",
    "@author: T.F\n",
    "\"\"\""
   ]
  },
  {
   "cell_type": "code",
   "execution_count": 34,
   "metadata": {},
   "outputs": [],
   "source": [
    "import pandas as pd\n",
    "import matplotlib.pyplot as plt\n",
    "import numpy as np\n",
    "import pandas as pd\n",
    "import os\n",
    "from PIL import Image\n",
    "from tqdm import tqdm_notebook as tqdm\n",
    "# keras : librairie de deep learning\n",
    "import keras\n",
    "from keras.models import Sequential\n",
    "from keras.layers import Conv2D, MaxPooling2D, InputLayer, ReLU, Dense, Flatten\n",
    "from keras.optimizers import SGD\n",
    "from keras.preprocessing.image import ImageDataGenerator\n",
    "\n",
    "from keras.applications.mobilenet import MobileNet\n",
    "from keras.preprocessing import image\n",
    "from keras.models import Model\n",
    "from keras.layers import Dense, GlobalAveragePooling2D\n",
    "from keras import backend as K\n",
    "from shutil import copyfile\n",
    "import PIL\n",
    "from PIL import Image"
   ]
  },
  {
   "cell_type": "code",
   "execution_count": null,
   "metadata": {},
   "outputs": [],
   "source": []
  },
  {
   "cell_type": "code",
   "execution_count": null,
   "metadata": {},
   "outputs": [],
   "source": []
  },
  {
   "cell_type": "code",
   "execution_count": 3,
   "metadata": {},
   "outputs": [],
   "source": [
    "df = pd.read_csv(r'C:\\Users\\ups\\Downloads\\g7_SEATGURU_annotate.csv', sep =\";\")"
   ]
  },
  {
   "cell_type": "code",
   "execution_count": 4,
   "metadata": {},
   "outputs": [],
   "source": [
    "def B737():\n",
    "    list=[]\n",
    "    for i,j in enumerate(df['name']):\n",
    "        if df['aircraft_type'][i] == '737' and df['view'][i] == 'Int'  : \n",
    "            list.append(j)\n",
    "    return list\n",
    "B737 = B737()"
   ]
  },
  {
   "cell_type": "code",
   "execution_count": 5,
   "metadata": {},
   "outputs": [],
   "source": [
    "def B747():\n",
    "    list=[]\n",
    "    for i,j in enumerate(df['name']):\n",
    "        if df['aircraft_type'][i] == '747' and df['view'][i] == 'Int'  : \n",
    "            list.append(j)\n",
    "    return list\n",
    "B747 = B747()"
   ]
  },
  {
   "cell_type": "code",
   "execution_count": 6,
   "metadata": {},
   "outputs": [],
   "source": [
    "def B757():\n",
    "    list=[]\n",
    "    for i,j in enumerate(df['name']):\n",
    "        if df['aircraft_type'][i] == '757' and df['view'][i] == 'Int'  : \n",
    "            list.append(j)\n",
    "    return list\n",
    "B757 = B757()"
   ]
  },
  {
   "cell_type": "code",
   "execution_count": 7,
   "metadata": {},
   "outputs": [],
   "source": [
    "def B777():\n",
    "    list=[]\n",
    "    for i,j in enumerate(df['name']):\n",
    "        if df['aircraft_type'][i] == '777' and df['view'][i] == 'Int'  : \n",
    "            list.append(j)\n",
    "    return list\n",
    "B777 = B777()"
   ]
  },
  {
   "cell_type": "code",
   "execution_count": null,
   "metadata": {},
   "outputs": [],
   "source": [
    "path2 = r\"C:\\Users\\ups\\Desktop\\Interpromo2020\\Interpromo2020\\All Data\\ANALYSE IMAGE\\data\\757\\\\\"\n",
    "for pict in B757:\n",
    "    copyfile(path + pict, path2 + pict)"
   ]
  },
  {
   "cell_type": "code",
   "execution_count": null,
   "metadata": {},
   "outputs": [],
   "source": [
    "path2 = r\"C:\\Users\\ups\\Desktop\\Interpromo2020\\Interpromo2020\\All Data\\ANALYSE IMAGE\\data\\777\\\\\"\n",
    "for pict in B777:\n",
    "    copyfile(path + pict, path2 + pict)"
   ]
  },
  {
   "cell_type": "code",
   "execution_count": null,
   "metadata": {},
   "outputs": [],
   "source": [
    "path2 = r\"C:\\Users\\ups\\Desktop\\Interpromo2020\\Interpromo2020\\All Data\\ANALYSE IMAGE\\data\\747\\\\\"\n",
    "for pict in B747:\n",
    "    copyfile(path + pict, path2 + pict)"
   ]
  },
  {
   "cell_type": "code",
   "execution_count": null,
   "metadata": {},
   "outputs": [],
   "source": [
    "path2 = r\"C:\\Users\\ups\\Desktop\\Interpromo2020\\Interpromo2020\\All Data\\ANALYSE IMAGE\\data\\737\\\\\"\n",
    "for pict in B737:\n",
    "    copyfile(path + pict, path2 + pict)"
   ]
  },
  {
   "cell_type": "code",
   "execution_count": null,
   "metadata": {},
   "outputs": [],
   "source": []
  },
  {
   "cell_type": "code",
   "execution_count": null,
   "metadata": {},
   "outputs": [],
   "source": [
    "shape = (224, 224)\n",
    "nb_win = 3  # number of windows\n",
    "greys = False\n",
    "by_aircraft_type = False  # if False: by aircraft manufacturer\n",
    "imgs_per_class = 950\n",
    "nb_to_gen = 1000\n",
    "\n",
    "# Define Data Generator\n",
    "# New images: rotate, zoom, shift\n",
    "img_gen = ImageDataGenerator(rotation_range=10,\n",
    "                             width_shift_range=0.1,\n",
    "                             height_shift_range=0.1,\n",
    "                             zoom_range=0.09)  # other parameters: vertical_flip, horizontal_flip\n",
    "\n",
    "def datagen_class(imgs: list, batch_size: int, gen):\n",
    "    X_ref = np.array(imgs)\n",
    "    new_imgs = gen.flow(X_ref, batch_size=batch_size).next()\n",
    "    return new_imgs\n",
    "\n",
    "\n",
    "if by_aircraft_type:\n",
    "    # By aircraft type\n",
    "    classes = flat_list(aircraft_types)\n",
    "    ([ B737_win, B747_win, B757_win, B777_win],\n",
    "     [ B737_gen, B747_gen, B757_gen, B777_gen]) = two_step_generator(classes,\n",
    "                                                                    all_imgs_flat_list, \n",
    "                                                                    imgs_per_class, shape, \n",
    "                                                                    nb_win, greys, \n",
    "                                                                    nb_to_gen, img_gen)\n",
    "    \n",
    "else:\n",
    "    # Airbus vs. Boeing\n",
    "    classes = ['Boeing']\n",
    "    ([Boeing_win], [Airbus_gen, Boeing_gen]) = two_step_generator(classes, all_imgs_flat_list, imgs_per_class, shape, \n",
    "                                                                              nb_win,greys, nb_to_gen, img_gen)"
   ]
  },
  {
   "cell_type": "code",
   "execution_count": 8,
   "metadata": {},
   "outputs": [],
   "source": [
    "def flat_list(list_: list) -> list:\n",
    "   \n",
    "    return [item for sublist in list_ for item in sublist]\n"
   ]
  },
  {
   "cell_type": "code",
   "execution_count": 14,
   "metadata": {},
   "outputs": [
    {
     "data": {
      "text/plain": [
       "['SEATGURU BOEING']"
      ]
     },
     "execution_count": 14,
     "metadata": {},
     "output_type": "execute_result"
    }
   ],
   "source": [
    "project_path = r\"C:\\Users\\ups\\Desktop\\Interpromo2020\\Interpromo2020\\All Data\\\\\"\n",
    "data_path = r\"\\ANALYSE IMAGE\\BOEING\\\\\"\n",
    "\n",
    "\n",
    "# Get folders list (one item per aircraft manufacturer)\n",
    "folders_list = os.listdir(project_path + data_path)  # 2 folders: Airbus and Boeing\n",
    "folders_list"
   ]
  },
  {
   "cell_type": "code",
   "execution_count": 19,
   "metadata": {},
   "outputs": [],
   "source": [
    "project_path = r\"C:\\Users\\ups\\Desktop\\Interpromo2020\\Interpromo2020\\All Data\\\\\"\n",
    "data_path = r\"\\ANALYSE IMAGE\\BOEING\\\\\"\n",
    "\n",
    "\n",
    "# Get folders list (one item per aircraft manufacturer)\n",
    "folders_list = os.listdir(project_path + data_path)  # 2 folders: Airbus and Boeing\n",
    "\n",
    "# Desired aircraft types\n",
    "Boeing_aircraft_types = ['737', '747', '757', '777']\n",
    "aircraft_types = list([Boeing_aircraft_types])\n",
    "\n",
    "# Lists: all images paths and names\n",
    "all_imgs_list = list()\n",
    "for k in range(len(folders_list)):\n",
    "    \n",
    "    folder = folders_list[k]\n",
    "    aircraft_types_man = aircraft_types[k]\n",
    "\n",
    "    # For each folder (aircraft type), get list of all images names (with path)\n",
    "    for j in range(len(aircraft_types_man)):\n",
    "        img_list = os.listdir(project_path + data_path + folder + '\\\\' + aircraft_types_man[j])\n",
    "        img_list = [folder + '\\\\' + aircraft_types_man[j]  + '\\\\' + img_list[k] for k in range(len(img_list))]\n",
    "        all_imgs_list.append(img_list)\n",
    "        \n",
    "# Flat list\n",
    "all_imgs_flat_list = flat_list(all_imgs_list)"
   ]
  },
  {
   "cell_type": "code",
   "execution_count": 74,
   "metadata": {},
   "outputs": [
    {
     "data": {
      "text/plain": [
       "['SEATGURU BOEING']"
      ]
     },
     "execution_count": 74,
     "metadata": {},
     "output_type": "execute_result"
    }
   ],
   "source": [
    "folders_list"
   ]
  },
  {
   "cell_type": "code",
   "execution_count": null,
   "metadata": {},
   "outputs": [],
   "source": [
    "path_list = []\n",
    "for i in len(all_imgs_flat_list):\n",
    "    path_list = r\"C:\\Users\\ups\\Desktop\\Interpromo2020\\Interpromo2020\\All Data\\ANALYSE IMAGE\\BOEING\\SEATGURU BOEING\\737\" + all_imgs_flat_list[i]\n",
    "    "
   ]
  },
  {
   "cell_type": "code",
   "execution_count": 23,
   "metadata": {},
   "outputs": [],
   "source": [
    "def get_imgs(paths_list: list) -> list:\n",
    "    \n",
    "    \"\"\"\n",
    "    From a list of images paths, get a list of PIL images\n",
    "    \"\"\"\n",
    "    \n",
    "    imgs_list = [Image.open(project_path + data_path + paths_list[i]) for i in range(len(paths_list))]\n",
    "    \n",
    "    return imgs_list\n"
   ]
  },
  {
   "cell_type": "code",
   "execution_count": 35,
   "metadata": {},
   "outputs": [],
   "source": [
    "def create_windows_one_img(shape: tuple, img: PIL.Image, nb_win: int, greys: bool) -> list:\n",
    "    \n",
    "    \"\"\"\n",
    "    Parameters:\n",
    "        shape: desired shape (height, width)\n",
    "        img: reference image\n",
    "        nb_win: desired number of windows\n",
    "    \n",
    "    Out:\n",
    "        arrs_crop: arrays (representing images) created by cropping the reference image\n",
    "    \n",
    "    \"\"\"\n",
    "\n",
    "    img_arr = np.array(img)\n",
    "    \n",
    "    if greys is True:\n",
    "        imgs_arr = np.mean(img_arr, axis = 2)\n",
    "    \n",
    "    if img_arr.shape[0] <= img_arr.shape[1]:\n",
    "        # Choose fixed height, calculate width (to keep height to width ratio), resize\n",
    "        coef = img_arr.shape[0] / shape[0]\n",
    "        temp_width = int(img_arr.shape[1] / coef)\n",
    "        resized_img = img.resize((temp_width, shape[0]), Image.BILINEAR)\n",
    "    \n",
    "    else:\n",
    "        # Choose fixed width, calculate height (to keep height to width ratio), resize\n",
    "        coef = img_arr.shape[1] / shape[1]\n",
    "        temp_height = int(img_arr.shape[0] / coef)\n",
    "        resized_img = img.resize((shape[1], temp_height), Image.BILINEAR)\n",
    "    \n",
    "\n",
    "    # Convert resized image to array\n",
    "    if greys is True:\n",
    "        resized_arr = np.mean(np.array(resized_img), axis = 2)\n",
    "        \n",
    "    else:\n",
    "        resized_arr = np.array(resized_img)\n",
    "\n",
    "    # Crop chosen number of windows\n",
    "    lag = int((int(resized_arr.shape[1]) - shape[1]) / nb_win -1)\n",
    "    bounds = np.arange(0, int(resized_arr.shape[1]) - shape[1], lag)\n",
    "\n",
    "    arrs_crop = list()\n",
    "    for k in bounds:\n",
    "        if greys:\n",
    "            cropped_img = resized_arr[:, k:k+shape[1]].reshape(shape[0], shape[1], 1)\n",
    "        else:\n",
    "            cropped_img = resized_arr[:, k:k+shape[1]]\n",
    "        arrs_crop.append(cropped_img)\n",
    "        \n",
    "    return arrs_crop\n"
   ]
  },
  {
   "cell_type": "code",
   "execution_count": 52,
   "metadata": {},
   "outputs": [],
   "source": [
    "def two_step_generator(classes: list, paths_list: list, imgs_per_class: int, shape: tuple,\n",
    "                       nb_win: int, greys: bool, nb_to_gen: int, img_gen: ImageDataGenerator) -> list:\n",
    "    \n",
    "    \"\"\"\n",
    "    From a list of reference images, performs a 2-step transformation to generate new images\n",
    "    of a chosen shape.\n",
    "    Step 1: Resizes images keeping height to width ratio, and generates a set of cropped images (sliding windows)\n",
    "    Step 2: Generates new images from Step 1 images, by applying rotations, zooms and shifts\n",
    "    \n",
    "    Parameters:\n",
    "        classes: list of desired classes, e.g.: ['Airbus', 'Boeing'], or a list of aircraft types\n",
    "        paths_list: list of images paths\n",
    "        imgs_per_class: desired number of images per class from Step 1 (resize + crop)\n",
    "        shape: desired shape (height, width)\n",
    "        nb_win: number of windows\n",
    "        greys: True for grey scale, False for colour scale\n",
    "        nb_to_gen: desired number of images per class from data generator\n",
    "        img_gen: ImageGenerator object\n",
    "  \n",
    "    Out:\n",
    "        datagen: list of generated arrays (representing images)\n",
    "  \n",
    "    \"\"\"\n",
    "    \n",
    "    datawin = list()    \n",
    "    datagen = list()\n",
    "    \n",
    "    for class_ in classes:\n",
    "        print(class_)\n",
    "        \n",
    "        # Images paths list\n",
    "        class_imgs_path = [paths_list[k] for k in range(len(paths_list)) if class_ in paths_list[k]]\n",
    "\n",
    "        # Randomly choose images\n",
    "        class_imgs_subset = np.random.choice(class_imgs_path, size=imgs_per_class, replace=False)\n",
    "\n",
    "        # Get images\n",
    "        class_imgs = get_imgs(class_imgs_subset)\n",
    "\n",
    "        # Step 1: resize and crop on sliding windows\n",
    "        class_new_imgs = create_windows_imgs(class_imgs, shape=shape, nb_win=nb_win, greys=greys)\n",
    "        class_new_imgs = np.array(flat_list(class_new_imgs))\n",
    "        datawin.append(class_new_imgs)\n",
    "    \n",
    "        # Step 2: DataGenerator\n",
    "        class_datagen = datagen_class(class_new_imgs, nb_to_gen, img_gen)\n",
    "        class_datagen = class_datagen.astype(int)\n",
    "        \n",
    "        print(class_datagen.shape)\n",
    "\n",
    "        datagen.append(class_datagen)\n",
    "        \n",
    "    return datawin, datagen"
   ]
  },
  {
   "cell_type": "code",
   "execution_count": 53,
   "metadata": {},
   "outputs": [],
   "source": [
    "def create_windows_imgs(init_imgs: list, shape: tuple, nb_win:int, greys: bool) -> list:\n",
    "    \n",
    "    \"\"\"\n",
    "    Parameters:\n",
    "        init_imgs: list of reference images\n",
    "        shape: desired shape (height, width)\n",
    "        nb_win: desired number of windows\n",
    "    \n",
    "    Out:\n",
    "        new_imgs_all: list of all new arrays (representing images), created by cropping the reference images\n",
    "    \n",
    "    \"\"\"\n",
    "    \n",
    "    new_imgs_all = list()\n",
    "    \n",
    "    for k in range(len(init_imgs)):\n",
    "        img = init_imgs[k]\n",
    "        new_imgs = create_windows_one_img(shape=shape, img=img, nb_win=nb_win, greys=greys)\n",
    "        new_imgs_all.append(new_imgs)\n",
    "                \n",
    "    return new_imgs_all\n",
    "\n"
   ]
  },
  {
   "cell_type": "code",
   "execution_count": 77,
   "metadata": {},
   "outputs": [
    {
     "name": "stdout",
     "output_type": "stream",
     "text": [
      "737\n",
      "(64, 224, 224, 3)\n",
      "747\n",
      "(68, 224, 224, 3)\n",
      "757\n",
      "(64, 224, 224, 3)\n",
      "777\n",
      "(80, 224, 224, 3)\n"
     ]
    }
   ],
   "source": [
    "# Choose parameters\n",
    "shape = (224, 224)\n",
    "nb_win = 3  # number of windows\n",
    "greys = False\n",
    "by_aircraft_type = True  # if False: by aircraft manufacturer\n",
    "imgs_per_class = 44\n",
    "nb_to_gen = 300\n",
    "\n",
    "# Define Data Generator\n",
    "# New images: rotate, zoom, shift\n",
    "img_gen = ImageDataGenerator(rotation_range=10,\n",
    "                             width_shift_range=0.1,\n",
    "                             height_shift_range=0.1,\n",
    "                             zoom_range=0.09)  # other parameters: vertical_flip, horizontal_flip\n",
    "\n",
    "def datagen_class(imgs: list, batch_size: int, gen):\n",
    "    X_ref = np.array(imgs)\n",
    "    new_imgs = gen.flow(X_ref, batch_size=batch_size).next()\n",
    "    return new_imgs\n",
    "\n",
    "\n",
    "if by_aircraft_type:\n",
    "    # By aircraft type\n",
    "    classes = flat_list(aircraft_types)\n",
    "    ([B737_win, B747_win, B757_win, B777_win],\n",
    "     [B737_gen, B747_gen, B757_gen, B777_gen]) = two_step_generator(classes,\n",
    "                                                                    all_imgs_flat_list, \n",
    "                                                                    imgs_per_class, shape, \n",
    "                                                                    nb_win, greys, \n",
    "                                                                    nb_to_gen, img_gen)\n",
    "    \n",
    "else:\n",
    "    # Airbus vs. Boeing\n",
    "    classes = ['737','747','757','777']\n",
    "    ([Boeing_win, Boeing_gen]) = two_step_generator(classes, all_imgs_flat_list, imgs_per_class, shape, \n",
    "                                                                              nb_win,greys, nb_to_gen, img_gen)"
   ]
  },
  {
   "cell_type": "code",
   "execution_count": 99,
   "metadata": {},
   "outputs": [],
   "source": [
    "def data_augmentation(train_path, rotation_range = 40, width_shift_range = .2, height_shift_range = .2, shear_range = .2, zoom_range = .2, horizontal_flip = True, nb_img = 10):\n",
    "    classes = os.listdir(train_path)\n",
    "\n",
    "    datagen = ImageDataGenerator(\n",
    "           rotation_range=rotation_range,\n",
    "           width_shift_range=width_shift_range,\n",
    "           height_shift_range=height_shift_range,\n",
    "           shear_range=shear_range,\n",
    "           zoom_range=zoom_range,\n",
    "           horizontal_flip=horizontal_flip,\n",
    "           fill_mode='nearest')\n",
    "\n",
    "    for classe in classes:\n",
    "        picts = os.listdir(train_path + '/' + classe)\n",
    "        print(classe)\n",
    "\n",
    "        for pict in picts:\n",
    "            img = Image.open(train_path + '/' + classe + '/' + pict)\n",
    "            img = np.array(img)\n",
    "            img = img.reshape((1,) + img.shape)\n",
    "            i=0\n",
    "\n",
    "            for batch in datagen.flow(img, batch_size=1, save_to_dir=train_path, save_prefix=classe + '/' + classe, save_format='jpeg'):\n",
    "                i += 1\n",
    "                if i > nb_img:\n",
    "                    break  # otherwise the generator would loop indefinitely"
   ]
  },
  {
   "cell_type": "code",
   "execution_count": 101,
   "metadata": {},
   "outputs": [
    {
     "name": "stdout",
     "output_type": "stream",
     "text": [
      "A320\n",
      "A321\n",
      "A330\n",
      "A350\n"
     ]
    }
   ],
   "source": [
    "data_augmentation(r\"C:\\Users\\ups\\Desktop\\Interpromo2020\\Interpromo2020\\All Data\\ANALYSE IMAGE\\train\")"
   ]
  }
 ],
 "metadata": {
  "kernelspec": {
   "display_name": "Python 3",
   "language": "python",
   "name": "python3"
  },
  "language_info": {
   "codemirror_mode": {
    "name": "ipython",
    "version": 3
   },
   "file_extension": ".py",
   "mimetype": "text/x-python",
   "name": "python",
   "nbconvert_exporter": "python",
   "pygments_lexer": "ipython3",
   "version": "3.7.4"
  }
 },
 "nbformat": 4,
 "nbformat_minor": 2
}
