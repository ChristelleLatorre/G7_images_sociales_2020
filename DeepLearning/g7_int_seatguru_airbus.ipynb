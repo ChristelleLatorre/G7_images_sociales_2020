{
 "cells": [
  {
   "cell_type": "code",
   "execution_count": 56,
   "metadata": {},
   "outputs": [],
   "source": [
    "import matplotlib.pyplot as plt\n",
    "import numpy as np\n",
    "import pandas as pd\n",
    "import math\n",
    "import operator\n",
    "import os\n",
    "from PIL import Image\n",
    "from tqdm import tqdm_notebook as tqdm\n",
    "\n",
    "from shutil import copyfile\n",
    "\n",
    "# keras : librairie de deep learning\n",
    "import keras\n",
    "from keras.models import Sequential, Model\n",
    "from keras.layers.core import Dense, Dropout, Activation, Flatten\n",
    "from keras.layers import Conv2D, MaxPooling2D, InputLayer, ReLU, AveragePooling2D\n",
    "from keras.optimizers import SGD\n",
    "from keras.utils import np_utils\n",
    "from keras import backend as K\n",
    "from tensorflow.keras.preprocessing.image import ImageDataGenerator\n",
    "import random\n",
    "from keras.callbacks import ReduceLROnPlateau\n",
    "\n",
    "import os\n",
    "import sys\n",
    "import shutil"
   ]
  },
  {
   "cell_type": "markdown",
   "metadata": {},
   "source": [
    "## Creation des fichiers train et test"
   ]
  },
  {
   "cell_type": "code",
   "execution_count": 57,
   "metadata": {},
   "outputs": [],
   "source": [
    "os.chdir(\"/home/sid2019-16/Bureau/interpromo_2020/data_Interpromo2020/Interpromo2020/script/\")"
   ]
  },
  {
   "cell_type": "code",
   "execution_count": 58,
   "metadata": {},
   "outputs": [],
   "source": [
    "def split_train_test_Hack(new_paths, path, airbus_planes = ['A320', 'A321', 'A350', 'A330'], split_limit = .7, s = 8):\n",
    "    for plane in airbus_planes:\n",
    "\n",
    "        shutil.rmtree(new_paths[0] + '/' + plane, ignore_errors=True)\n",
    "        os.makedirs(new_paths[0] + '/' + plane)\n",
    "        shutil.rmtree(new_paths[1] + '/' + plane, ignore_errors=True)\n",
    "        os.makedirs(new_paths[1] + '/' + plane)\n",
    "        \n",
    "        picts = os.listdir(path + '/' + plane)\n",
    "        picts = [pic for pic in picts if pic[-4:]=='.jpg']\n",
    "        random.seed(a = s)\n",
    "        random.shuffle(picts)\n",
    "        \n",
    "        for pict in picts[:int(split_limit*len(picts))]:\n",
    "            copyfile(path + plane + '/' + pict, new_paths[0] + '/' + plane + '/' + pict)\n",
    "        for pict in picts[int(split_limit*len(picts)):]:\n",
    "            copyfile(path + plane + '/' + pict, new_paths[1] + '/' + plane + '/' + pict)"
   ]
  },
  {
   "cell_type": "code",
   "execution_count": 59,
   "metadata": {},
   "outputs": [],
   "source": [
    "df = pd.read_csv('./../G7_images_sociales_2020-master/CSV_annotate/SEATGURU/g7_SEATGURU_annotate.csv', sep = ';')"
   ]
  },
  {
   "cell_type": "code",
   "execution_count": 60,
   "metadata": {},
   "outputs": [],
   "source": [
    "for i in df.index :\n",
    "    if df['view'][i] != 'Int' or df['aircraft_manufacturer'][i] != 'Airbus' :\n",
    "        df.drop([i], inplace = True)"
   ]
  },
  {
   "cell_type": "code",
   "execution_count": 61,
   "metadata": {},
   "outputs": [
    {
     "name": "stderr",
     "output_type": "stream",
     "text": [
      "/home/sid2019-16/anaconda3/lib/python3.7/site-packages/ipykernel_launcher.py:4: SettingWithCopyWarning: \n",
      "A value is trying to be set on a copy of a slice from a DataFrame\n",
      "\n",
      "See the caveats in the documentation: http://pandas.pydata.org/pandas-docs/stable/indexing.html#indexing-view-versus-copy\n",
      "  after removing the cwd from sys.path.\n"
     ]
    }
   ],
   "source": [
    "liste_modele = ['A320', 'A321', 'A330', 'A350']\n",
    "for i in df.index :\n",
    "    if df['aircraft_type'][i] not in liste_modele :\n",
    "        df['aircraft_type'][i] = 'other'"
   ]
  },
  {
   "cell_type": "code",
   "execution_count": null,
   "metadata": {},
   "outputs": [],
   "source": []
  },
  {
   "cell_type": "code",
   "execution_count": 29,
   "metadata": {},
   "outputs": [
    {
     "data": {
      "text/plain": [
       "39"
      ]
     },
     "execution_count": 29,
     "metadata": {},
     "output_type": "execute_result"
    }
   ],
   "source": []
  },
  {
   "cell_type": "code",
   "execution_count": 39,
   "metadata": {},
   "outputs": [],
   "source": [
    "list_A320 = []\n",
    "list_A321 = []\n",
    "list_A330 = []\n",
    "list_A350 = []\n",
    "list_other = []\n",
    "\n",
    "for i in df.index:\n",
    "    if df['aircraft_type'][i] == 'A320':\n",
    "        list_A320.append(df['name'][i])\n",
    "    if df['aircraft_type'][i] == 'A321':\n",
    "        list_A321.append(df['name'][i])\n",
    "    if df['aircraft_type'][i] == 'A330':\n",
    "        list_A330.append(df['name'][i])\n",
    "    if df['aircraft_type'][i] == 'A350':\n",
    "        list_A350.append(df['name'][i])\n",
    "    else :\n",
    "        list_other.append(df['name'][i])"
   ]
  },
  {
   "cell_type": "code",
   "execution_count": 40,
   "metadata": {},
   "outputs": [],
   "source": [
    "path = './../All Data/ANALYSE IMAGE/IMG SEATGURU'\n",
    "new_path_train = './../G7_SEATGURU_cat/Int/Airbus/data_train'\n",
    "new_path_val = './../G7_SEATGURU_cat/Int/Airbus/data_val'\n",
    "new_paths = [new_path_train, new_path_val]"
   ]
  },
  {
   "cell_type": "code",
   "execution_count": 64,
   "metadata": {},
   "outputs": [],
   "source": [
    "def split_train_test_Hack(new_paths, path, airbus_planes = [list_A320, list_A321, list_A330, list_A350], split_limit = .7, s = 8):\n",
    "    for plane in airbus_planes:\n",
    "        \n",
    "        if plane == list_A320:\n",
    "            mod = 'A320'\n",
    "        if plane == list_A321:\n",
    "            mod = 'A321'\n",
    "        if plane == list_A330:\n",
    "            mod = 'A330'\n",
    "        if plane == list_A350:\n",
    "            mod = 'A350'\n",
    "        \n",
    "        shutil.rmtree(new_paths[0] + '/' + mod + '/', ignore_errors=True)\n",
    "        os.makedirs(new_paths[0] + '/' + mod + '/')\n",
    "        shutil.rmtree(new_paths[1] + '/' + mod + '/', ignore_errors=True)\n",
    "        os.makedirs(new_paths[1] + '/' + mod + '/')\n",
    "        \n",
    "        random.seed(a = s)\n",
    "        random.shuffle(plane)\n",
    "        \n",
    "        for pict in plane[:int(split_limit*len(plane))]:\n",
    "            copyfile(path + '/' + pict, new_paths[0] + '/' + mod + '/' + pict)\n",
    "        for pict in plane[int(split_limit*len(plane)):]:\n",
    "            copyfile(path + '/' + pict, new_paths[1] + '/' + mod + '/' + pict)"
   ]
  },
  {
   "cell_type": "code",
   "execution_count": 65,
   "metadata": {},
   "outputs": [],
   "source": [
    "split_train_test_Hack(new_paths, path)"
   ]
  },
  {
   "cell_type": "markdown",
   "metadata": {},
   "source": [
    "## Creation des jeux de train et test "
   ]
  },
  {
   "cell_type": "code",
   "execution_count": 43,
   "metadata": {},
   "outputs": [],
   "source": [
    "from keras.applications.vgg16 import preprocess_input"
   ]
  },
  {
   "cell_type": "code",
   "execution_count": 44,
   "metadata": {},
   "outputs": [],
   "source": [
    "train_datagen = ImageDataGenerator(preprocessing_function=preprocess_input) #included in our dependencies"
   ]
  },
  {
   "cell_type": "code",
   "execution_count": 45,
   "metadata": {},
   "outputs": [
    {
     "name": "stdout",
     "output_type": "stream",
     "text": [
      "Found 406 images belonging to 4 classes.\n",
      "Found 176 images belonging to 4 classes.\n"
     ]
    }
   ],
   "source": [
    "train_generator = train_datagen.flow_from_directory(\n",
    "        './../G7_SEATGURU_cat/Int/Airbus/data_train',\n",
    "        target_size=(224, 224),\n",
    "        color_mode = 'rgb',\n",
    "        batch_size = 32,\n",
    "        class_mode='categorical',\n",
    "        shuffle = True)\n",
    "\n",
    "validation_generator = train_datagen.flow_from_directory(\n",
    "        './../G7_SEATGURU_cat/Int/Airbus/data_val',\n",
    "        target_size=(224, 224),\n",
    "        shuffle = True,\n",
    "        color_mode = 'rgb',\n",
    "        batch_size = 32,\n",
    "        class_mode='categorical')\n"
   ]
  },
  {
   "cell_type": "markdown",
   "metadata": {},
   "source": [
    "## Application"
   ]
  },
  {
   "cell_type": "code",
   "execution_count": 46,
   "metadata": {},
   "outputs": [],
   "source": [
    "# base model VVG16\n",
    "base_model = keras.applications.vgg16.VGG16(include_top=False, weights='imagenet', input_tensor=None, input_shape=(224, 224, 3), pooling=None, classes=1000)"
   ]
  },
  {
   "cell_type": "code",
   "execution_count": 52,
   "metadata": {},
   "outputs": [
    {
     "name": "stdout",
     "output_type": "stream",
     "text": [
      "Model: \"model_4\"\n",
      "_________________________________________________________________\n",
      "Layer (type)                 Output Shape              Param #   \n",
      "=================================================================\n",
      "input_2 (InputLayer)         (None, 224, 224, 3)       0         \n",
      "_________________________________________________________________\n",
      "block1_conv1 (Conv2D)        (None, 224, 224, 64)      1792      \n",
      "_________________________________________________________________\n",
      "block1_conv2 (Conv2D)        (None, 224, 224, 64)      36928     \n",
      "_________________________________________________________________\n",
      "block1_pool (MaxPooling2D)   (None, 112, 112, 64)      0         \n",
      "_________________________________________________________________\n",
      "block2_conv1 (Conv2D)        (None, 112, 112, 128)     73856     \n",
      "_________________________________________________________________\n",
      "block2_conv2 (Conv2D)        (None, 112, 112, 128)     147584    \n",
      "_________________________________________________________________\n",
      "block2_pool (MaxPooling2D)   (None, 56, 56, 128)       0         \n",
      "_________________________________________________________________\n",
      "block3_conv1 (Conv2D)        (None, 56, 56, 256)       295168    \n",
      "_________________________________________________________________\n",
      "block3_conv2 (Conv2D)        (None, 56, 56, 256)       590080    \n",
      "_________________________________________________________________\n",
      "block3_conv3 (Conv2D)        (None, 56, 56, 256)       590080    \n",
      "_________________________________________________________________\n",
      "block3_pool (MaxPooling2D)   (None, 28, 28, 256)       0         \n",
      "_________________________________________________________________\n",
      "block4_conv1 (Conv2D)        (None, 28, 28, 512)       1180160   \n",
      "_________________________________________________________________\n",
      "block4_conv2 (Conv2D)        (None, 28, 28, 512)       2359808   \n",
      "_________________________________________________________________\n",
      "block4_conv3 (Conv2D)        (None, 28, 28, 512)       2359808   \n",
      "_________________________________________________________________\n",
      "block4_pool (MaxPooling2D)   (None, 14, 14, 512)       0         \n",
      "_________________________________________________________________\n",
      "block5_conv1 (Conv2D)        (None, 14, 14, 512)       2359808   \n",
      "_________________________________________________________________\n",
      "block5_conv2 (Conv2D)        (None, 14, 14, 512)       2359808   \n",
      "_________________________________________________________________\n",
      "block5_conv3 (Conv2D)        (None, 14, 14, 512)       2359808   \n",
      "_________________________________________________________________\n",
      "block5_pool (MaxPooling2D)   (None, 7, 7, 512)         0         \n",
      "_________________________________________________________________\n",
      "flatten_4 (Flatten)          (None, 25088)             0         \n",
      "_________________________________________________________________\n",
      "dense_11 (Dense)             (None, 1024)              25691136  \n",
      "_________________________________________________________________\n",
      "batch_normalization_12 (Batc (None, 1024)              4096      \n",
      "_________________________________________________________________\n",
      "re_lu_12 (ReLU)              (None, 1024)              0         \n",
      "_________________________________________________________________\n",
      "dense_12 (Dense)             (None, 512)               524800    \n",
      "_________________________________________________________________\n",
      "batch_normalization_13 (Batc (None, 512)               2048      \n",
      "_________________________________________________________________\n",
      "re_lu_13 (ReLU)              (None, 512)               0         \n",
      "_________________________________________________________________\n",
      "dense_13 (Dense)             (None, 4)                 2052      \n",
      "=================================================================\n",
      "Total params: 40,938,820\n",
      "Trainable params: 26,221,060\n",
      "Non-trainable params: 14,717,760\n",
      "_________________________________________________________________\n"
     ]
    }
   ],
   "source": [
    "# Layers\n",
    "\n",
    "x = base_model.output\n",
    "\n",
    "# x = Conv2D(256, kernel_size=(3, 3))(x)\n",
    "# x = keras.layers.BatchNormalization()(x)\n",
    "# x = ReLU()(x)\n",
    "\n",
    "# x = Conv2D(256, kernel_size=(3, 3))(x)\n",
    "# x = keras.layers.BatchNormalization()(x)\n",
    "# x = ReLU()(x)\n",
    "\n",
    "# x = MaxPooling2D(pool_size=(2, 2))(x)\n",
    "\n",
    "x = Flatten()(x)\n",
    "\n",
    "x = Dense(1024)(x)\n",
    "x = keras.layers.BatchNormalization()(x)\n",
    "x = ReLU()(x)\n",
    "\n",
    "x = Dense(512)(x)\n",
    "x = keras.layers.BatchNormalization()(x)\n",
    "x = ReLU()(x)\n",
    "\n",
    "# x = Dense(262)(x)\n",
    "# x = keras.layers.BatchNormalization()(x)\n",
    "# x = ReLU()(x)\n",
    "\n",
    "# dernière couche que sert a prédire la bonne classe\n",
    "predictions = Dense(4, activation = 'softmax')(x)\n",
    "\n",
    "# this is the model we will train\n",
    "model = Model(inputs = base_model.input, outputs = predictions)\n",
    "\n",
    "# first: train only the top layers (which were randomly initialized)\n",
    "# i.e. freeze all convolutional InceptionV3 layers\n",
    "for layer in base_model.layers:\n",
    "    layer.trainable = False\n",
    "\n",
    "# compile the model (should be done *after* setting layers to non-trainable)\n",
    "model.compile(optimizer='adam', loss='categorical_crossentropy', metrics=['accuracy'])\n",
    "\n",
    "model.summary()"
   ]
  },
  {
   "cell_type": "code",
   "execution_count": 50,
   "metadata": {},
   "outputs": [],
   "source": [
    "# Define learning rate reducer\n",
    "reduce_lr = ReduceLROnPlateau(monitor='val_accuracy', \n",
    "                              patience=2, \n",
    "                              verbose=1, \n",
    "                              factor=0.5, \n",
    "                              min_lr=0.00001)"
   ]
  },
  {
   "cell_type": "code",
   "execution_count": 26,
   "metadata": {},
   "outputs": [
    {
     "name": "stdout",
     "output_type": "stream",
     "text": [
      "Epoch 1/5\n",
      "13/13 [==============================] - 90s 7s/step - loss: 1.7781 - accuracy: 0.3522 - val_loss: 4.5258 - val_accuracy: 0.4489\n",
      "Epoch 2/5\n",
      "13/13 [==============================] - 94s 7s/step - loss: 0.4657 - accuracy: 0.8522 - val_loss: 3.4543 - val_accuracy: 0.3295\n",
      "Epoch 3/5\n",
      "13/13 [==============================] - 91s 7s/step - loss: 0.1306 - accuracy: 0.9704 - val_loss: 1.8013 - val_accuracy: 0.4091\n",
      "Epoch 4/5\n",
      "13/13 [==============================] - 99s 8s/step - loss: 0.0490 - accuracy: 0.9877 - val_loss: 1.9108 - val_accuracy: 0.4205\n",
      "Epoch 5/5\n",
      "13/13 [==============================] - 100s 8s/step - loss: 0.0277 - accuracy: 0.9951 - val_loss: 2.2032 - val_accuracy: 0.4659\n"
     ]
    },
    {
     "data": {
      "text/plain": [
       "<keras.callbacks.callbacks.History at 0x7f52b6a5f278>"
      ]
     },
     "execution_count": 26,
     "metadata": {},
     "output_type": "execute_result"
    }
   ],
   "source": [
    "# vvg16\n",
    "model.fit_generator(\n",
    "        train_generator,\n",
    "        epochs=5,\n",
    "        validation_data = validation_generator,\n",
    "        callbacks=[reduce_lr])"
   ]
  },
  {
   "cell_type": "code",
   "execution_count": 53,
   "metadata": {},
   "outputs": [
    {
     "name": "stdout",
     "output_type": "stream",
     "text": [
      "Epoch 1/5\n",
      "13/13 [==============================] - 89s 7s/step - loss: 1.9051 - accuracy: 0.4212 - val_loss: 6.1103 - val_accuracy: 0.4545\n",
      "Epoch 2/5\n",
      "13/13 [==============================] - 102s 8s/step - loss: 0.2520 - accuracy: 0.9286 - val_loss: 1.9473 - val_accuracy: 0.4716\n",
      "Epoch 3/5\n",
      "13/13 [==============================] - 94s 7s/step - loss: 0.0805 - accuracy: 0.9852 - val_loss: 3.3580 - val_accuracy: 0.5170\n",
      "Epoch 4/5\n",
      "13/13 [==============================] - 93s 7s/step - loss: 0.0380 - accuracy: 0.9926 - val_loss: 1.3094 - val_accuracy: 0.5170\n",
      "Epoch 5/5\n",
      "13/13 [==============================] - 91s 7s/step - loss: 0.0312 - accuracy: 0.9901 - val_loss: 2.2495 - val_accuracy: 0.5170\n",
      "\n",
      "Epoch 00005: ReduceLROnPlateau reducing learning rate to 0.0005000000237487257.\n"
     ]
    },
    {
     "data": {
      "text/plain": [
       "<keras.callbacks.callbacks.History at 0x7f52a7bd7fd0>"
      ]
     },
     "execution_count": 53,
     "metadata": {},
     "output_type": "execute_result"
    }
   ],
   "source": [
    "# vvg16\n",
    "model.fit_generator(\n",
    "        train_generator,\n",
    "        epochs=5,\n",
    "        validation_data = validation_generator,\n",
    "        callbacks=[reduce_lr])"
   ]
  },
  {
   "cell_type": "code",
   "execution_count": 54,
   "metadata": {},
   "outputs": [],
   "source": [
    "model.save('model_int_airbus.h5')"
   ]
  }
 ],
 "metadata": {
  "kernelspec": {
   "display_name": "Python 3",
   "language": "python",
   "name": "python3"
  },
  "language_info": {
   "codemirror_mode": {
    "name": "ipython",
    "version": 3
   },
   "file_extension": ".py",
   "mimetype": "text/x-python",
   "name": "python",
   "nbconvert_exporter": "python",
   "pygments_lexer": "ipython3",
   "version": "3.7.3"
  }
 },
 "nbformat": 4,
 "nbformat_minor": 2
}
