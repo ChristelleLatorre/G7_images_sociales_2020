{
 "cells": [
  {
   "cell_type": "code",
   "execution_count": null,
   "metadata": {},
   "outputs": [],
   "source": [
    "import pickle\n",
    "import os\n",
    "from matplotlib.pyplot import imread\n",
    "import shutil\n"
   ]
  },
  {
   "cell_type": "code",
   "execution_count": 2,
   "metadata": {},
   "outputs": [],
   "source": [
    "def dumping(website, manufacturer, aircraft_type, path, path_pick = './Pickle/'):\n",
    "    dic = {}\n",
    "    path_2 = path + manufacturer + '/' + aircraft_type + '/'\n",
    "    print(path_2)\n",
    "    for f in os.listdir(path_2):\n",
    "        dic[f] = imread(path_2 + f)\n",
    "    shutil.rmtree(mydir, ignore_errors = True)\n",
    "    os.makedirs(path_pick + website + '/')\n",
    "    with open(path_pick + website +'/' + manufacturer + '_' + aircraft_type + \".pkl\", \"wb\") as f:\n",
    "        pickle.dump(dic, f)\n",
    "        \n",
    "def loading(website, manufacturer, aircraft_type, path, path_pick = './Pickle/'):\n",
    "    with open(path_pick + website + '/' + manufacturer + '_' + aircraft_type + \".pkl\", \"rb\") as f:\n",
    "        return pickle.load(f)    "
   ]
  },
  {
   "cell_type": "code",
   "execution_count": 3,
   "metadata": {},
   "outputs": [
    {
     "name": "stdout",
     "output_type": "stream",
     "text": [
      "Airliners/data/Airbus/A320/\n",
      "Airliners/data/Airbus/A321/\n",
      "Airliners/data/Airbus/A330/\n",
      "Airliners/data/Airbus/A350/\n",
      "Airliners/data/Boeing/737/\n",
      "Airliners/data/Boeing/747/\n",
      "Airliners/data/Boeing/757/\n",
      "Airliners/data/Boeing/777/\n"
     ]
    }
   ],
   "source": [
    "path = './../G7_scrapping/Airliners/data/'\n",
    "\n",
    "website = 'Airliners'\n",
    "\n",
    "dic_type = {'Airbus' : ['A320', 'A321', 'A330', 'A350'],\n",
    "            'Boeing' : ['737', '747', '757', '777']}\n",
    "\n",
    "for manufacturer in dic_type.keys():\n",
    "    for aircraft_type in dic_type[manufacturer] :\n",
    "        dumping(website, manufacturer, aircraft_type, path)"
   ]
  },
  {
   "cell_type": "code",
   "execution_count": 6,
   "metadata": {},
   "outputs": [],
   "source": [
    "manufacturer = 'Airbus'\n",
    "aircraft_type = 'A320'\n",
    "\n",
    "test = loading(website, manufacturer, aircraft_type, path)\n"
   ]
  },
  {
   "cell_type": "code",
   "execution_count": null,
   "metadata": {},
   "outputs": [],
   "source": []
  }
 ],
 "metadata": {
  "kernelspec": {
   "display_name": "Python 3",
   "language": "python",
   "name": "python3"
  },
  "language_info": {
   "codemirror_mode": {
    "name": "ipython",
    "version": 3
   },
   "file_extension": ".py",
   "mimetype": "text/x-python",
   "name": "python",
   "nbconvert_exporter": "python",
   "pygments_lexer": "ipython3",
   "version": "3.7.4"
  }
 },
 "nbformat": 4,
 "nbformat_minor": 2
}
