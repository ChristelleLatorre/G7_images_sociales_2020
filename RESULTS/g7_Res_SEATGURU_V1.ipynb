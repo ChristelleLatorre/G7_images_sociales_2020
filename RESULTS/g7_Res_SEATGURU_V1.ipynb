{
 "cells": [
  {
   "cell_type": "markdown",
   "metadata": {},
   "source": [
    "created on: Thu Jan 16 13:35:03 2020\n",
    "<br>\n",
    "Group 7\n",
    "<br>\n",
    "@authors: V.B., C.L."
   ]
  },
  {
   "cell_type": "code",
   "execution_count": 1,
   "metadata": {},
   "outputs": [
    {
     "data": {
      "text/html": [
       "        <script type=\"text/javascript\">\n",
       "        window.PlotlyConfig = {MathJaxConfig: 'local'};\n",
       "        if (window.MathJax) {MathJax.Hub.Config({SVG: {font: \"STIX-Web\"}});}\n",
       "        if (typeof require !== 'undefined') {\n",
       "        require.undef(\"plotly\");\n",
       "        requirejs.config({\n",
       "            paths: {\n",
       "                'plotly': ['https://cdn.plot.ly/plotly-latest.min']\n",
       "            }\n",
       "        });\n",
       "        require(['plotly'], function(Plotly) {\n",
       "            window._Plotly = Plotly;\n",
       "        });\n",
       "        }\n",
       "        </script>\n",
       "        "
      ]
     },
     "metadata": {},
     "output_type": "display_data"
    }
   ],
   "source": [
    "import pandas as pd\n",
    "\n",
    "from plotly.offline import init_notebook_mode, plot, iplot\n",
    "import plotly.graph_objs as go\n",
    "init_notebook_mode(connected = True)"
   ]
  },
  {
   "cell_type": "code",
   "execution_count": 2,
   "metadata": {},
   "outputs": [],
   "source": [
    "path_project = '/Users/vincent/Documents/projet/'\n",
    "path_pred = path_project + 'Pred/'\n",
    "path_real = path_project + 'df_csv/'"
   ]
  },
  {
   "cell_type": "code",
   "execution_count": 3,
   "metadata": {
    "scrolled": true
   },
   "outputs": [],
   "source": [
    "df_pred = pd.read_csv(path_pred + 'pred_SEATGURU.csv', sep=';')\n",
    "df_real = pd.read_csv(path_real + 'g7_SEATGURU_annotate.csv', sep=';')\n"
   ]
  },
  {
   "cell_type": "code",
   "execution_count": 6,
   "metadata": {
    "scrolled": false
   },
   "outputs": [],
   "source": [
    "df_pred.rename(columns={\"img\": \"name\"}, inplace = True)"
   ]
  },
  {
   "cell_type": "code",
   "execution_count": 7,
   "metadata": {
    "scrolled": true
   },
   "outputs": [],
   "source": [
    "df = pd.merge(df_real, df_pred, on = \"name\")"
   ]
  },
  {
   "cell_type": "code",
   "execution_count": 10,
   "metadata": {},
   "outputs": [],
   "source": [
    "ls_model = ['A320','A321','A330','A350','A380','737','747','757','777']\n",
    "ls_man = ['Airbus', 'Boeing']"
   ]
  },
  {
   "cell_type": "code",
   "execution_count": 14,
   "metadata": {},
   "outputs": [],
   "source": [
    "model_view = df[df.loc[:, 'view_x'] != df.loc[:, 'view_y']][['name', 'view_x', 'view_y']]\n"
   ]
  },
  {
   "cell_type": "code",
   "execution_count": 22,
   "metadata": {},
   "outputs": [],
   "source": [
    "model_ext = df[(df['view_y'] == 'Ext') & (df['view_x'] == 'Ext') & (df['aircraft_type'].isin(ls_model)) & (df['aircraft_type'] != df['type'])][['name','aircraft_type', 'type']]\n"
   ]
  },
  {
   "cell_type": "code",
   "execution_count": 28,
   "metadata": {},
   "outputs": [],
   "source": [
    "model_int_man = df[(df['view_y'] == 'Int') & (df['view_x'] == 'Int') & (df['aircraft_manufacturer'].isin(ls_man)) & (df['manufacturer'].isin(ls_man)) & (df['aircraft_manufacturer'] != df['manufacturer'])][['name', 'aircraft_manufacturer', 'manufacturer']]\n"
   ]
  },
  {
   "cell_type": "code",
   "execution_count": 31,
   "metadata": {},
   "outputs": [],
   "source": [
    "model_int_type = df[(df['view_y'] == 'Int') & (df['view_x'] == 'Int') & (df['aircraft_type'].isin(ls_model)) & (df['type'].isin(ls_model)) & (df['aircraft_type'] != df['type'])][['name', 'aircraft_type', 'type']]\n"
   ]
  },
  {
   "cell_type": "code",
   "execution_count": 41,
   "metadata": {},
   "outputs": [],
   "source": [
    "model_view_all = df[['name', 'view_x', 'view_y']]\n",
    "model_ext_all = df[(df['view_y'] == 'Ext') & (df['view_x'] == 'Ext') & (df['aircraft_type'].isin(ls_model))][['name','aircraft_type', 'type']]\n",
    "model_int_man_all = df[(df['view_y'] == 'Int') & (df['view_x'] == 'Int') & (df['aircraft_manufacturer'].isin(ls_man)) & (df['manufacturer'].isin(ls_man))][['name', 'aircraft_manufacturer', 'manufacturer']]\n",
    "model_int_type_all = df[(df['view_y'] == 'Int') & (df['view_x'] == 'Int') & (df['aircraft_type'].isin(ls_model)) & (df['type'].isin(ls_model))][['name', 'aircraft_type', 'type']]\n"
   ]
  },
  {
   "cell_type": "code",
   "execution_count": 51,
   "metadata": {},
   "outputs": [],
   "source": [
    "metric_view = model_view.shape[0]/model_view_all.shape[0]"
   ]
  },
  {
   "cell_type": "code",
   "execution_count": 53,
   "metadata": {},
   "outputs": [],
   "source": [
    "metric_ext = model_ext.shape[0]/model_ext_all.shape[0]"
   ]
  },
  {
   "cell_type": "code",
   "execution_count": 54,
   "metadata": {},
   "outputs": [],
   "source": [
    "metric_int_man = model_int_man.shape[0]/model_int_man_all.shape[0]"
   ]
  },
  {
   "cell_type": "code",
   "execution_count": 55,
   "metadata": {},
   "outputs": [],
   "source": [
    "metric_int_type = model_int_type.shape[0]/model_int_type_all.shape[0]"
   ]
  },
  {
   "cell_type": "code",
   "execution_count": 88,
   "metadata": {
    "scrolled": true
   },
   "outputs": [
    {
     "data": {
      "text/html": [
       "<div>\n",
       "<style scoped>\n",
       "    .dataframe tbody tr th:only-of-type {\n",
       "        vertical-align: middle;\n",
       "    }\n",
       "\n",
       "    .dataframe tbody tr th {\n",
       "        vertical-align: top;\n",
       "    }\n",
       "\n",
       "    .dataframe thead th {\n",
       "        text-align: right;\n",
       "    }\n",
       "</style>\n",
       "<table border=\"1\" class=\"dataframe\">\n",
       "  <thead>\n",
       "    <tr style=\"text-align: right;\">\n",
       "      <th></th>\n",
       "      <th>name</th>\n",
       "      <th>view_x</th>\n",
       "      <th>view_y</th>\n",
       "      <th>view_proba</th>\n",
       "      <th>pred_OK</th>\n",
       "    </tr>\n",
       "  </thead>\n",
       "  <tbody>\n",
       "    <tr>\n",
       "      <th>0</th>\n",
       "      <td>Cathay_Pacific_Airways_Boeing_777-300ER_C_0.jpg</td>\n",
       "      <td>Meal</td>\n",
       "      <td>Meal</td>\n",
       "      <td>0.999923</td>\n",
       "      <td>True</td>\n",
       "    </tr>\n",
       "    <tr>\n",
       "      <th>1</th>\n",
       "      <td>KLM_Airbus_A330-300_1.jpg</td>\n",
       "      <td>Int</td>\n",
       "      <td>Int</td>\n",
       "      <td>0.999998</td>\n",
       "      <td>True</td>\n",
       "    </tr>\n",
       "    <tr>\n",
       "      <th>2</th>\n",
       "      <td>American_Airlines_Boeing_767-300_3.jpg</td>\n",
       "      <td>Int</td>\n",
       "      <td>Int</td>\n",
       "      <td>1.000000</td>\n",
       "      <td>True</td>\n",
       "    </tr>\n",
       "    <tr>\n",
       "      <th>3</th>\n",
       "      <td>Air_Canada_Boeing_767-300ER_v2_3.jpg</td>\n",
       "      <td>Meal</td>\n",
       "      <td>Meal</td>\n",
       "      <td>0.998920</td>\n",
       "      <td>True</td>\n",
       "    </tr>\n",
       "    <tr>\n",
       "      <th>4</th>\n",
       "      <td>United_Airlines_Q400_A_2.jpg</td>\n",
       "      <td>Ext</td>\n",
       "      <td>Ext</td>\n",
       "      <td>0.999992</td>\n",
       "      <td>True</td>\n",
       "    </tr>\n",
       "    <tr>\n",
       "      <th>5</th>\n",
       "      <td>American_Airlines_Boeing_787-8_1.jpg</td>\n",
       "      <td>Int</td>\n",
       "      <td>Int</td>\n",
       "      <td>0.999998</td>\n",
       "      <td>True</td>\n",
       "    </tr>\n",
       "    <tr>\n",
       "      <th>6</th>\n",
       "      <td>Edelweiss_Air_A340-300_0.jpg</td>\n",
       "      <td>Int</td>\n",
       "      <td>Int</td>\n",
       "      <td>1.000000</td>\n",
       "      <td>True</td>\n",
       "    </tr>\n",
       "    <tr>\n",
       "      <th>7</th>\n",
       "      <td>Etihad_Airways_Airbus_A380_0.jpg</td>\n",
       "      <td>Int</td>\n",
       "      <td>Int</td>\n",
       "      <td>0.999999</td>\n",
       "      <td>True</td>\n",
       "    </tr>\n",
       "    <tr>\n",
       "      <th>8</th>\n",
       "      <td>United_Airlines_Boeing_767_300_ER_1.jpg</td>\n",
       "      <td>Int</td>\n",
       "      <td>Int</td>\n",
       "      <td>0.999027</td>\n",
       "      <td>True</td>\n",
       "    </tr>\n",
       "    <tr>\n",
       "      <th>10</th>\n",
       "      <td>China_Eastern_Boeing_777_300ER_0.jpg</td>\n",
       "      <td>Int</td>\n",
       "      <td>Int</td>\n",
       "      <td>0.999645</td>\n",
       "      <td>True</td>\n",
       "    </tr>\n",
       "    <tr>\n",
       "      <th>12</th>\n",
       "      <td>China_Eastern_Boeing_737_800_V4_0.jpg</td>\n",
       "      <td>Ext_Int</td>\n",
       "      <td>Ext_Int</td>\n",
       "      <td>1.000000</td>\n",
       "      <td>True</td>\n",
       "    </tr>\n",
       "    <tr>\n",
       "      <th>13</th>\n",
       "      <td>LAN_Airlines_Airbus_A320_4.jpg</td>\n",
       "      <td>Ext</td>\n",
       "      <td>Ext</td>\n",
       "      <td>0.999383</td>\n",
       "      <td>True</td>\n",
       "    </tr>\n",
       "    <tr>\n",
       "      <th>14</th>\n",
       "      <td>Delta_Airlines_Boeing_767-300_D_New_0.jpg</td>\n",
       "      <td>Int</td>\n",
       "      <td>Int</td>\n",
       "      <td>0.999999</td>\n",
       "      <td>True</td>\n",
       "    </tr>\n",
       "    <tr>\n",
       "      <th>15</th>\n",
       "      <td>Lufthansa_Embraer_190_0.jpg</td>\n",
       "      <td>Int</td>\n",
       "      <td>Int</td>\n",
       "      <td>0.999945</td>\n",
       "      <td>True</td>\n",
       "    </tr>\n",
       "    <tr>\n",
       "      <th>16</th>\n",
       "      <td>Copa_Airlines_Embraer_190_AR_A_3.jpg</td>\n",
       "      <td>Ext</td>\n",
       "      <td>Ext</td>\n",
       "      <td>0.999999</td>\n",
       "      <td>True</td>\n",
       "    </tr>\n",
       "    <tr>\n",
       "      <th>17</th>\n",
       "      <td>Hawaiian_Airlines_Airbus_A321neo_0.jpg</td>\n",
       "      <td>Int</td>\n",
       "      <td>Int</td>\n",
       "      <td>0.999998</td>\n",
       "      <td>True</td>\n",
       "    </tr>\n",
       "    <tr>\n",
       "      <th>18</th>\n",
       "      <td>Austrian_Airlines_Embraer195_0.jpg</td>\n",
       "      <td>Int</td>\n",
       "      <td>Int</td>\n",
       "      <td>0.999997</td>\n",
       "      <td>True</td>\n",
       "    </tr>\n",
       "    <tr>\n",
       "      <th>19</th>\n",
       "      <td>Air_Transat_Airbus_A310-300_1.jpg</td>\n",
       "      <td>Ext</td>\n",
       "      <td>Ext</td>\n",
       "      <td>1.000000</td>\n",
       "      <td>True</td>\n",
       "    </tr>\n",
       "    <tr>\n",
       "      <th>20</th>\n",
       "      <td>China_Airlines_Airbus_A330-300_V2_0.jpg</td>\n",
       "      <td>Int</td>\n",
       "      <td>Int</td>\n",
       "      <td>0.999940</td>\n",
       "      <td>True</td>\n",
       "    </tr>\n",
       "    <tr>\n",
       "      <th>21</th>\n",
       "      <td>Iberia_Canadair_CRJ200_2.jpg</td>\n",
       "      <td>Ext_Int</td>\n",
       "      <td>Ext_Int</td>\n",
       "      <td>0.999874</td>\n",
       "      <td>True</td>\n",
       "    </tr>\n",
       "    <tr>\n",
       "      <th>22</th>\n",
       "      <td>KLM_Boeing_737-700_2.jpg</td>\n",
       "      <td>Ext</td>\n",
       "      <td>Ext</td>\n",
       "      <td>0.948768</td>\n",
       "      <td>True</td>\n",
       "    </tr>\n",
       "    <tr>\n",
       "      <th>23</th>\n",
       "      <td>LAN_Airlines_Boeing_767-300_4.jpg</td>\n",
       "      <td>Ext_Int</td>\n",
       "      <td>Ext_Int</td>\n",
       "      <td>0.999399</td>\n",
       "      <td>True</td>\n",
       "    </tr>\n",
       "    <tr>\n",
       "      <th>24</th>\n",
       "      <td>Gulf_Air_Airbus_A320_3.jpg</td>\n",
       "      <td>Meal</td>\n",
       "      <td>Meal</td>\n",
       "      <td>0.999967</td>\n",
       "      <td>True</td>\n",
       "    </tr>\n",
       "    <tr>\n",
       "      <th>25</th>\n",
       "      <td>Frontier_Airlines_Airbus_A319_V2_2.jpg</td>\n",
       "      <td>Int</td>\n",
       "      <td>Int</td>\n",
       "      <td>0.999721</td>\n",
       "      <td>True</td>\n",
       "    </tr>\n",
       "    <tr>\n",
       "      <th>26</th>\n",
       "      <td>Norwegian_Air_Shuttle_Boeing_787-8_2.jpg</td>\n",
       "      <td>Int</td>\n",
       "      <td>Int</td>\n",
       "      <td>0.999887</td>\n",
       "      <td>True</td>\n",
       "    </tr>\n",
       "    <tr>\n",
       "      <th>27</th>\n",
       "      <td>Delta_Airlines_Boeing_737-900ER_3.jpg</td>\n",
       "      <td>Int</td>\n",
       "      <td>Int</td>\n",
       "      <td>0.999181</td>\n",
       "      <td>True</td>\n",
       "    </tr>\n",
       "    <tr>\n",
       "      <th>28</th>\n",
       "      <td>Lufthansa_Airbus_A340-300_V3_0.jpg</td>\n",
       "      <td>Ext</td>\n",
       "      <td>Ext</td>\n",
       "      <td>0.999999</td>\n",
       "      <td>True</td>\n",
       "    </tr>\n",
       "    <tr>\n",
       "      <th>29</th>\n",
       "      <td>Jetstar_Boeing_787-8_4.jpg</td>\n",
       "      <td>Int</td>\n",
       "      <td>Int</td>\n",
       "      <td>0.999996</td>\n",
       "      <td>True</td>\n",
       "    </tr>\n",
       "    <tr>\n",
       "      <th>30</th>\n",
       "      <td>Volaris_Airlines_Airbus_A320_2.jpg</td>\n",
       "      <td>Int</td>\n",
       "      <td>Int</td>\n",
       "      <td>0.999999</td>\n",
       "      <td>True</td>\n",
       "    </tr>\n",
       "    <tr>\n",
       "      <th>31</th>\n",
       "      <td>ANA_Boeing_787-900_0.jpg</td>\n",
       "      <td>Int</td>\n",
       "      <td>Int</td>\n",
       "      <td>0.999968</td>\n",
       "      <td>True</td>\n",
       "    </tr>\n",
       "    <tr>\n",
       "      <th>...</th>\n",
       "      <td>...</td>\n",
       "      <td>...</td>\n",
       "      <td>...</td>\n",
       "      <td>...</td>\n",
       "      <td>...</td>\n",
       "    </tr>\n",
       "    <tr>\n",
       "      <th>2524</th>\n",
       "      <td>Asiana_Airbus_A380_1.jpg</td>\n",
       "      <td>Int</td>\n",
       "      <td>Int</td>\n",
       "      <td>0.999722</td>\n",
       "      <td>True</td>\n",
       "    </tr>\n",
       "    <tr>\n",
       "      <th>2526</th>\n",
       "      <td>AeroMexico_Embraer_ERJ-190_3.jpg</td>\n",
       "      <td>Int</td>\n",
       "      <td>Int</td>\n",
       "      <td>0.999986</td>\n",
       "      <td>True</td>\n",
       "    </tr>\n",
       "    <tr>\n",
       "      <th>2527</th>\n",
       "      <td>Japan_Airlines_Boeing_767-300ER_V2_1.jpg</td>\n",
       "      <td>Meal</td>\n",
       "      <td>Meal</td>\n",
       "      <td>0.999999</td>\n",
       "      <td>True</td>\n",
       "    </tr>\n",
       "    <tr>\n",
       "      <th>2528</th>\n",
       "      <td>Lufthansa_Airbus_A319-100_NEK_2.jpg</td>\n",
       "      <td>Ext_Int</td>\n",
       "      <td>Ext_Int</td>\n",
       "      <td>0.999849</td>\n",
       "      <td>True</td>\n",
       "    </tr>\n",
       "    <tr>\n",
       "      <th>2529</th>\n",
       "      <td>Qatar_Airways_Airbus_A319_2.jpg</td>\n",
       "      <td>Int</td>\n",
       "      <td>Int</td>\n",
       "      <td>0.998612</td>\n",
       "      <td>True</td>\n",
       "    </tr>\n",
       "    <tr>\n",
       "      <th>2530</th>\n",
       "      <td>Thai_Airways_Airbus_A330-300_V2_4.jpg</td>\n",
       "      <td>Int</td>\n",
       "      <td>Int</td>\n",
       "      <td>0.999999</td>\n",
       "      <td>True</td>\n",
       "    </tr>\n",
       "    <tr>\n",
       "      <th>2531</th>\n",
       "      <td>TAM_Airlines_Boeing_777-300_V3_2.jpg</td>\n",
       "      <td>Meal</td>\n",
       "      <td>Meal</td>\n",
       "      <td>0.997164</td>\n",
       "      <td>True</td>\n",
       "    </tr>\n",
       "    <tr>\n",
       "      <th>2532</th>\n",
       "      <td>British_Airways_Boeing_777-200_4.jpg</td>\n",
       "      <td>Ext_Int</td>\n",
       "      <td>Ext_Int</td>\n",
       "      <td>0.999967</td>\n",
       "      <td>True</td>\n",
       "    </tr>\n",
       "    <tr>\n",
       "      <th>2533</th>\n",
       "      <td>British_Airways_Airbus_A321_C_3.jpg</td>\n",
       "      <td>Int</td>\n",
       "      <td>Int</td>\n",
       "      <td>0.994350</td>\n",
       "      <td>True</td>\n",
       "    </tr>\n",
       "    <tr>\n",
       "      <th>2535</th>\n",
       "      <td>SAS_Airlines_Boeing_737-700_3.jpg</td>\n",
       "      <td>Meal</td>\n",
       "      <td>Meal</td>\n",
       "      <td>0.999908</td>\n",
       "      <td>True</td>\n",
       "    </tr>\n",
       "    <tr>\n",
       "      <th>2536</th>\n",
       "      <td>American_Airlines_Airbus_A320_2.jpg</td>\n",
       "      <td>Int</td>\n",
       "      <td>Int</td>\n",
       "      <td>0.999998</td>\n",
       "      <td>True</td>\n",
       "    </tr>\n",
       "    <tr>\n",
       "      <th>2537</th>\n",
       "      <td>Alaska_Airlines_Boeing_737-700_2.jpg</td>\n",
       "      <td>Int</td>\n",
       "      <td>Int</td>\n",
       "      <td>0.998763</td>\n",
       "      <td>True</td>\n",
       "    </tr>\n",
       "    <tr>\n",
       "      <th>2538</th>\n",
       "      <td>United_Airlines_Boeing_767_400_ER_1.jpg</td>\n",
       "      <td>Int</td>\n",
       "      <td>Int</td>\n",
       "      <td>1.000000</td>\n",
       "      <td>True</td>\n",
       "    </tr>\n",
       "    <tr>\n",
       "      <th>2539</th>\n",
       "      <td>Alaska_Airlines_Q400_4.jpg</td>\n",
       "      <td>Int</td>\n",
       "      <td>Int</td>\n",
       "      <td>0.999950</td>\n",
       "      <td>True</td>\n",
       "    </tr>\n",
       "    <tr>\n",
       "      <th>2540</th>\n",
       "      <td>Germanwings_Airbus_A319_B_0.jpg</td>\n",
       "      <td>Int</td>\n",
       "      <td>Int</td>\n",
       "      <td>0.999996</td>\n",
       "      <td>True</td>\n",
       "    </tr>\n",
       "    <tr>\n",
       "      <th>2541</th>\n",
       "      <td>Air_India_Boeing_787-8_4.jpg</td>\n",
       "      <td>Int</td>\n",
       "      <td>Int</td>\n",
       "      <td>0.999991</td>\n",
       "      <td>True</td>\n",
       "    </tr>\n",
       "    <tr>\n",
       "      <th>2542</th>\n",
       "      <td>South_African_Airways_Airbus_A330-200_0.jpg</td>\n",
       "      <td>Int</td>\n",
       "      <td>Int</td>\n",
       "      <td>1.000000</td>\n",
       "      <td>True</td>\n",
       "    </tr>\n",
       "    <tr>\n",
       "      <th>2543</th>\n",
       "      <td>TAM_Airlines_Boeing_767-300_3.jpg</td>\n",
       "      <td>Int</td>\n",
       "      <td>Int</td>\n",
       "      <td>0.999234</td>\n",
       "      <td>True</td>\n",
       "    </tr>\n",
       "    <tr>\n",
       "      <th>2544</th>\n",
       "      <td>Air_Canada_Canadair_CRJ_4.jpg</td>\n",
       "      <td>Ext</td>\n",
       "      <td>Ext</td>\n",
       "      <td>0.770347</td>\n",
       "      <td>True</td>\n",
       "    </tr>\n",
       "    <tr>\n",
       "      <th>2545</th>\n",
       "      <td>Vietnam_Airlines_Airbus_A321-200_0.jpg</td>\n",
       "      <td>Int</td>\n",
       "      <td>Int</td>\n",
       "      <td>0.999234</td>\n",
       "      <td>True</td>\n",
       "    </tr>\n",
       "    <tr>\n",
       "      <th>2546</th>\n",
       "      <td>El_Al_Boeing_737-800_1.jpg</td>\n",
       "      <td>Ext</td>\n",
       "      <td>Ext</td>\n",
       "      <td>0.998220</td>\n",
       "      <td>True</td>\n",
       "    </tr>\n",
       "    <tr>\n",
       "      <th>2547</th>\n",
       "      <td>United_Airlines_Embraer_Emb_175_3.jpg</td>\n",
       "      <td>Int</td>\n",
       "      <td>Int</td>\n",
       "      <td>0.999851</td>\n",
       "      <td>True</td>\n",
       "    </tr>\n",
       "    <tr>\n",
       "      <th>2548</th>\n",
       "      <td>Royal_Air_Maroc_Boeing_787-8_0.jpg</td>\n",
       "      <td>Int</td>\n",
       "      <td>Int</td>\n",
       "      <td>0.999993</td>\n",
       "      <td>True</td>\n",
       "    </tr>\n",
       "    <tr>\n",
       "      <th>2549</th>\n",
       "      <td>Thai_Airways_Boeing_747-400_7442_1.jpg</td>\n",
       "      <td>Int</td>\n",
       "      <td>Int</td>\n",
       "      <td>0.999692</td>\n",
       "      <td>True</td>\n",
       "    </tr>\n",
       "    <tr>\n",
       "      <th>2550</th>\n",
       "      <td>Thai_Airways_Boeing_777-300ER_3.jpg</td>\n",
       "      <td>Int</td>\n",
       "      <td>Int</td>\n",
       "      <td>0.999964</td>\n",
       "      <td>True</td>\n",
       "    </tr>\n",
       "    <tr>\n",
       "      <th>2551</th>\n",
       "      <td>Air_Canada_Airbus_A330_C_0.jpg</td>\n",
       "      <td>Int</td>\n",
       "      <td>Int</td>\n",
       "      <td>0.999993</td>\n",
       "      <td>True</td>\n",
       "    </tr>\n",
       "    <tr>\n",
       "      <th>2552</th>\n",
       "      <td>Qatar_Airways_Airbus_A321_2.jpg</td>\n",
       "      <td>Int</td>\n",
       "      <td>Int</td>\n",
       "      <td>0.999975</td>\n",
       "      <td>True</td>\n",
       "    </tr>\n",
       "    <tr>\n",
       "      <th>2553</th>\n",
       "      <td>Frontier_Airlines_Airbus_A320_4.jpg</td>\n",
       "      <td>Ext_Int</td>\n",
       "      <td>Ext_Int</td>\n",
       "      <td>0.999484</td>\n",
       "      <td>True</td>\n",
       "    </tr>\n",
       "    <tr>\n",
       "      <th>2554</th>\n",
       "      <td>Spirit_Airlines_Airbus_A320_V2_3.jpg</td>\n",
       "      <td>Int</td>\n",
       "      <td>Int</td>\n",
       "      <td>0.987187</td>\n",
       "      <td>True</td>\n",
       "    </tr>\n",
       "    <tr>\n",
       "      <th>2555</th>\n",
       "      <td>Lufthansa_Embraer_195_1.jpg</td>\n",
       "      <td>Int</td>\n",
       "      <td>Int</td>\n",
       "      <td>1.000000</td>\n",
       "      <td>True</td>\n",
       "    </tr>\n",
       "  </tbody>\n",
       "</table>\n",
       "<p>2458 rows × 5 columns</p>\n",
       "</div>"
      ],
      "text/plain": [
       "                                                 name   view_x   view_y  \\\n",
       "0     Cathay_Pacific_Airways_Boeing_777-300ER_C_0.jpg     Meal     Meal   \n",
       "1                           KLM_Airbus_A330-300_1.jpg      Int      Int   \n",
       "2              American_Airlines_Boeing_767-300_3.jpg      Int      Int   \n",
       "3                Air_Canada_Boeing_767-300ER_v2_3.jpg     Meal     Meal   \n",
       "4                        United_Airlines_Q400_A_2.jpg      Ext      Ext   \n",
       "5                American_Airlines_Boeing_787-8_1.jpg      Int      Int   \n",
       "6                        Edelweiss_Air_A340-300_0.jpg      Int      Int   \n",
       "7                    Etihad_Airways_Airbus_A380_0.jpg      Int      Int   \n",
       "8             United_Airlines_Boeing_767_300_ER_1.jpg      Int      Int   \n",
       "10               China_Eastern_Boeing_777_300ER_0.jpg      Int      Int   \n",
       "12              China_Eastern_Boeing_737_800_V4_0.jpg  Ext_Int  Ext_Int   \n",
       "13                     LAN_Airlines_Airbus_A320_4.jpg      Ext      Ext   \n",
       "14          Delta_Airlines_Boeing_767-300_D_New_0.jpg      Int      Int   \n",
       "15                        Lufthansa_Embraer_190_0.jpg      Int      Int   \n",
       "16               Copa_Airlines_Embraer_190_AR_A_3.jpg      Ext      Ext   \n",
       "17             Hawaiian_Airlines_Airbus_A321neo_0.jpg      Int      Int   \n",
       "18                 Austrian_Airlines_Embraer195_0.jpg      Int      Int   \n",
       "19                  Air_Transat_Airbus_A310-300_1.jpg      Ext      Ext   \n",
       "20            China_Airlines_Airbus_A330-300_V2_0.jpg      Int      Int   \n",
       "21                       Iberia_Canadair_CRJ200_2.jpg  Ext_Int  Ext_Int   \n",
       "22                           KLM_Boeing_737-700_2.jpg      Ext      Ext   \n",
       "23                  LAN_Airlines_Boeing_767-300_4.jpg  Ext_Int  Ext_Int   \n",
       "24                         Gulf_Air_Airbus_A320_3.jpg     Meal     Meal   \n",
       "25             Frontier_Airlines_Airbus_A319_V2_2.jpg      Int      Int   \n",
       "26           Norwegian_Air_Shuttle_Boeing_787-8_2.jpg      Int      Int   \n",
       "27              Delta_Airlines_Boeing_737-900ER_3.jpg      Int      Int   \n",
       "28                 Lufthansa_Airbus_A340-300_V3_0.jpg      Ext      Ext   \n",
       "29                         Jetstar_Boeing_787-8_4.jpg      Int      Int   \n",
       "30                 Volaris_Airlines_Airbus_A320_2.jpg      Int      Int   \n",
       "31                           ANA_Boeing_787-900_0.jpg      Int      Int   \n",
       "...                                               ...      ...      ...   \n",
       "2524                         Asiana_Airbus_A380_1.jpg      Int      Int   \n",
       "2526                 AeroMexico_Embraer_ERJ-190_3.jpg      Int      Int   \n",
       "2527         Japan_Airlines_Boeing_767-300ER_V2_1.jpg     Meal     Meal   \n",
       "2528              Lufthansa_Airbus_A319-100_NEK_2.jpg  Ext_Int  Ext_Int   \n",
       "2529                  Qatar_Airways_Airbus_A319_2.jpg      Int      Int   \n",
       "2530            Thai_Airways_Airbus_A330-300_V2_4.jpg      Int      Int   \n",
       "2531             TAM_Airlines_Boeing_777-300_V3_2.jpg     Meal     Meal   \n",
       "2532             British_Airways_Boeing_777-200_4.jpg  Ext_Int  Ext_Int   \n",
       "2533              British_Airways_Airbus_A321_C_3.jpg      Int      Int   \n",
       "2535                SAS_Airlines_Boeing_737-700_3.jpg     Meal     Meal   \n",
       "2536              American_Airlines_Airbus_A320_2.jpg      Int      Int   \n",
       "2537             Alaska_Airlines_Boeing_737-700_2.jpg      Int      Int   \n",
       "2538          United_Airlines_Boeing_767_400_ER_1.jpg      Int      Int   \n",
       "2539                       Alaska_Airlines_Q400_4.jpg      Int      Int   \n",
       "2540                  Germanwings_Airbus_A319_B_0.jpg      Int      Int   \n",
       "2541                     Air_India_Boeing_787-8_4.jpg      Int      Int   \n",
       "2542      South_African_Airways_Airbus_A330-200_0.jpg      Int      Int   \n",
       "2543                TAM_Airlines_Boeing_767-300_3.jpg      Int      Int   \n",
       "2544                    Air_Canada_Canadair_CRJ_4.jpg      Ext      Ext   \n",
       "2545           Vietnam_Airlines_Airbus_A321-200_0.jpg      Int      Int   \n",
       "2546                       El_Al_Boeing_737-800_1.jpg      Ext      Ext   \n",
       "2547            United_Airlines_Embraer_Emb_175_3.jpg      Int      Int   \n",
       "2548               Royal_Air_Maroc_Boeing_787-8_0.jpg      Int      Int   \n",
       "2549           Thai_Airways_Boeing_747-400_7442_1.jpg      Int      Int   \n",
       "2550              Thai_Airways_Boeing_777-300ER_3.jpg      Int      Int   \n",
       "2551                   Air_Canada_Airbus_A330_C_0.jpg      Int      Int   \n",
       "2552                  Qatar_Airways_Airbus_A321_2.jpg      Int      Int   \n",
       "2553              Frontier_Airlines_Airbus_A320_4.jpg  Ext_Int  Ext_Int   \n",
       "2554             Spirit_Airlines_Airbus_A320_V2_3.jpg      Int      Int   \n",
       "2555                      Lufthansa_Embraer_195_1.jpg      Int      Int   \n",
       "\n",
       "      view_proba  pred_OK  \n",
       "0       0.999923     True  \n",
       "1       0.999998     True  \n",
       "2       1.000000     True  \n",
       "3       0.998920     True  \n",
       "4       0.999992     True  \n",
       "5       0.999998     True  \n",
       "6       1.000000     True  \n",
       "7       0.999999     True  \n",
       "8       0.999027     True  \n",
       "10      0.999645     True  \n",
       "12      1.000000     True  \n",
       "13      0.999383     True  \n",
       "14      0.999999     True  \n",
       "15      0.999945     True  \n",
       "16      0.999999     True  \n",
       "17      0.999998     True  \n",
       "18      0.999997     True  \n",
       "19      1.000000     True  \n",
       "20      0.999940     True  \n",
       "21      0.999874     True  \n",
       "22      0.948768     True  \n",
       "23      0.999399     True  \n",
       "24      0.999967     True  \n",
       "25      0.999721     True  \n",
       "26      0.999887     True  \n",
       "27      0.999181     True  \n",
       "28      0.999999     True  \n",
       "29      0.999996     True  \n",
       "30      0.999999     True  \n",
       "31      0.999968     True  \n",
       "...          ...      ...  \n",
       "2524    0.999722     True  \n",
       "2526    0.999986     True  \n",
       "2527    0.999999     True  \n",
       "2528    0.999849     True  \n",
       "2529    0.998612     True  \n",
       "2530    0.999999     True  \n",
       "2531    0.997164     True  \n",
       "2532    0.999967     True  \n",
       "2533    0.994350     True  \n",
       "2535    0.999908     True  \n",
       "2536    0.999998     True  \n",
       "2537    0.998763     True  \n",
       "2538    1.000000     True  \n",
       "2539    0.999950     True  \n",
       "2540    0.999996     True  \n",
       "2541    0.999991     True  \n",
       "2542    1.000000     True  \n",
       "2543    0.999234     True  \n",
       "2544    0.770347     True  \n",
       "2545    0.999234     True  \n",
       "2546    0.998220     True  \n",
       "2547    0.999851     True  \n",
       "2548    0.999993     True  \n",
       "2549    0.999692     True  \n",
       "2550    0.999964     True  \n",
       "2551    0.999993     True  \n",
       "2552    0.999975     True  \n",
       "2553    0.999484     True  \n",
       "2554    0.987187     True  \n",
       "2555    1.000000     True  \n",
       "\n",
       "[2458 rows x 5 columns]"
      ]
     },
     "execution_count": 88,
     "metadata": {},
     "output_type": "execute_result"
    }
   ],
   "source": [
    "# Dataframes with predictions errors\n",
    "\n",
    "df['pred_OK'] = df.apply(lambda x :  x['view_x'] == x['view_y'], axis = 1)\n",
    "df_view = df[['name', 'view_x', 'view_y', 'view_proba', 'pred_OK']]\n",
    "\n",
    "df_view_OK = df_view[df_view['pred_OK']== True]\n",
    "df_view_OK"
   ]
  },
  {
   "cell_type": "code",
   "execution_count": 89,
   "metadata": {
    "scrolled": true
   },
   "outputs": [
    {
     "data": {
      "text/html": [
       "<div>\n",
       "<style scoped>\n",
       "    .dataframe tbody tr th:only-of-type {\n",
       "        vertical-align: middle;\n",
       "    }\n",
       "\n",
       "    .dataframe tbody tr th {\n",
       "        vertical-align: top;\n",
       "    }\n",
       "\n",
       "    .dataframe thead th {\n",
       "        text-align: right;\n",
       "    }\n",
       "</style>\n",
       "<table border=\"1\" class=\"dataframe\">\n",
       "  <thead>\n",
       "    <tr style=\"text-align: right;\">\n",
       "      <th></th>\n",
       "      <th>name</th>\n",
       "      <th>view_x</th>\n",
       "      <th>view_y</th>\n",
       "      <th>view_proba</th>\n",
       "      <th>pred_OK</th>\n",
       "    </tr>\n",
       "  </thead>\n",
       "  <tbody>\n",
       "    <tr>\n",
       "      <th>87</th>\n",
       "      <td>Qantas_Airways_Boeing_789_1.jpg</td>\n",
       "      <td>Meal</td>\n",
       "      <td>Int</td>\n",
       "      <td>0.993496</td>\n",
       "      <td>False</td>\n",
       "    </tr>\n",
       "    <tr>\n",
       "      <th>250</th>\n",
       "      <td>United_Airlines_Boeing_777-200_3_New_4.jpg</td>\n",
       "      <td>Int</td>\n",
       "      <td>Meal</td>\n",
       "      <td>0.547172</td>\n",
       "      <td>False</td>\n",
       "    </tr>\n",
       "    <tr>\n",
       "      <th>340</th>\n",
       "      <td>AirAsia_X_Airbus_A330-300_0.jpg</td>\n",
       "      <td>Meal</td>\n",
       "      <td>Int</td>\n",
       "      <td>0.956427</td>\n",
       "      <td>False</td>\n",
       "    </tr>\n",
       "    <tr>\n",
       "      <th>354</th>\n",
       "      <td>Saudia_Embraer_170_2.jpg</td>\n",
       "      <td>Ext</td>\n",
       "      <td>Int</td>\n",
       "      <td>0.692464</td>\n",
       "      <td>False</td>\n",
       "    </tr>\n",
       "    <tr>\n",
       "      <th>356</th>\n",
       "      <td>United_Airlines_Boeing_737-900_E_4.jpg</td>\n",
       "      <td>Ext</td>\n",
       "      <td>Ext_Int</td>\n",
       "      <td>0.962702</td>\n",
       "      <td>False</td>\n",
       "    </tr>\n",
       "    <tr>\n",
       "      <th>412</th>\n",
       "      <td>Norwegian_Air_Shuttle_Boeing_787-8_4.jpg</td>\n",
       "      <td>Ext_Int</td>\n",
       "      <td>Int</td>\n",
       "      <td>0.587574</td>\n",
       "      <td>False</td>\n",
       "    </tr>\n",
       "    <tr>\n",
       "      <th>494</th>\n",
       "      <td>Turkish_Airlines_Airbus_A330-300_2.jpg</td>\n",
       "      <td>Int</td>\n",
       "      <td>Meal</td>\n",
       "      <td>0.698858</td>\n",
       "      <td>False</td>\n",
       "    </tr>\n",
       "    <tr>\n",
       "      <th>552</th>\n",
       "      <td>Air_New_Zealand_Q300_3.jpg</td>\n",
       "      <td>Ext_Int</td>\n",
       "      <td>Int</td>\n",
       "      <td>0.771089</td>\n",
       "      <td>False</td>\n",
       "    </tr>\n",
       "    <tr>\n",
       "      <th>591</th>\n",
       "      <td>Air_New_Zealand_Q300_4.jpg</td>\n",
       "      <td>Ext</td>\n",
       "      <td>Int</td>\n",
       "      <td>0.626707</td>\n",
       "      <td>False</td>\n",
       "    </tr>\n",
       "    <tr>\n",
       "      <th>617</th>\n",
       "      <td>Delta_Airlines_Boeing_767-300ER_C_0.jpg</td>\n",
       "      <td>Int</td>\n",
       "      <td>Meal</td>\n",
       "      <td>0.937975</td>\n",
       "      <td>False</td>\n",
       "    </tr>\n",
       "    <tr>\n",
       "      <th>632</th>\n",
       "      <td>Hainan_Airlines_Airbus_A330-300_0.jpg</td>\n",
       "      <td>Ext_Int</td>\n",
       "      <td>Ext</td>\n",
       "      <td>0.967794</td>\n",
       "      <td>False</td>\n",
       "    </tr>\n",
       "    <tr>\n",
       "      <th>708</th>\n",
       "      <td>Cathay_Pacific_Airways_Boeing_777-300_B_4.jpg</td>\n",
       "      <td>Meal</td>\n",
       "      <td>Int</td>\n",
       "      <td>0.987980</td>\n",
       "      <td>False</td>\n",
       "    </tr>\n",
       "    <tr>\n",
       "      <th>736</th>\n",
       "      <td>British_Airways_Airbus_A318_2.jpg</td>\n",
       "      <td>Int</td>\n",
       "      <td>Meal</td>\n",
       "      <td>0.539621</td>\n",
       "      <td>False</td>\n",
       "    </tr>\n",
       "    <tr>\n",
       "      <th>845</th>\n",
       "      <td>British_Airways_Boeing_787-9_1.jpg</td>\n",
       "      <td>Ext_Int</td>\n",
       "      <td>Int</td>\n",
       "      <td>0.928789</td>\n",
       "      <td>False</td>\n",
       "    </tr>\n",
       "    <tr>\n",
       "      <th>932</th>\n",
       "      <td>Hawaiian_Airlines_ATR_42-500_0.jpg</td>\n",
       "      <td>Ext_Int</td>\n",
       "      <td>Ext</td>\n",
       "      <td>0.999941</td>\n",
       "      <td>False</td>\n",
       "    </tr>\n",
       "    <tr>\n",
       "      <th>978</th>\n",
       "      <td>TAM_Airlines_Boeing_767-300ER_4.jpg</td>\n",
       "      <td>Meal</td>\n",
       "      <td>Int</td>\n",
       "      <td>0.962287</td>\n",
       "      <td>False</td>\n",
       "    </tr>\n",
       "    <tr>\n",
       "      <th>993</th>\n",
       "      <td>Air_India_Airbus_A319_V1_0.jpg</td>\n",
       "      <td>Int</td>\n",
       "      <td>Meal</td>\n",
       "      <td>0.931941</td>\n",
       "      <td>False</td>\n",
       "    </tr>\n",
       "    <tr>\n",
       "      <th>1070</th>\n",
       "      <td>Iberia_Canadair_CRJ900_0.jpg</td>\n",
       "      <td>Int</td>\n",
       "      <td>Meal</td>\n",
       "      <td>0.970821</td>\n",
       "      <td>False</td>\n",
       "    </tr>\n",
       "    <tr>\n",
       "      <th>1119</th>\n",
       "      <td>Swiss_Airlines_A319_2.jpg</td>\n",
       "      <td>Meal</td>\n",
       "      <td>Int</td>\n",
       "      <td>0.772262</td>\n",
       "      <td>False</td>\n",
       "    </tr>\n",
       "    <tr>\n",
       "      <th>1284</th>\n",
       "      <td>Delta_Airlines_Airbus_A321_0.jpg</td>\n",
       "      <td>Ext_Int</td>\n",
       "      <td>Int</td>\n",
       "      <td>0.543358</td>\n",
       "      <td>False</td>\n",
       "    </tr>\n",
       "    <tr>\n",
       "      <th>1323</th>\n",
       "      <td>Qatar_Airways_Boeing_777-300ER_Qsuite_2.jpg</td>\n",
       "      <td>Ext</td>\n",
       "      <td>Int</td>\n",
       "      <td>0.510229</td>\n",
       "      <td>False</td>\n",
       "    </tr>\n",
       "    <tr>\n",
       "      <th>1418</th>\n",
       "      <td>Air_France_Airbus_A321_Europe_2.jpg</td>\n",
       "      <td>Ext_Int</td>\n",
       "      <td>Meal</td>\n",
       "      <td>0.503067</td>\n",
       "      <td>False</td>\n",
       "    </tr>\n",
       "    <tr>\n",
       "      <th>1476</th>\n",
       "      <td>easyJet_Airlines_Airbus_A319_3.jpg</td>\n",
       "      <td>Ext</td>\n",
       "      <td>Ext_Int</td>\n",
       "      <td>0.802085</td>\n",
       "      <td>False</td>\n",
       "    </tr>\n",
       "    <tr>\n",
       "      <th>1521</th>\n",
       "      <td>United_Airlines_Embraer_Emb_175_0.jpg</td>\n",
       "      <td>Int</td>\n",
       "      <td>Meal</td>\n",
       "      <td>0.748454</td>\n",
       "      <td>False</td>\n",
       "    </tr>\n",
       "    <tr>\n",
       "      <th>1557</th>\n",
       "      <td>Dragonair_Airlines_Airbus_A330-300_A_0.jpg</td>\n",
       "      <td>Int</td>\n",
       "      <td>Meal</td>\n",
       "      <td>0.949493</td>\n",
       "      <td>False</td>\n",
       "    </tr>\n",
       "    <tr>\n",
       "      <th>1648</th>\n",
       "      <td>Cathay_Pacific_Airways_Boeing_777-300ER_A_0.jpg</td>\n",
       "      <td>Int</td>\n",
       "      <td>Meal</td>\n",
       "      <td>0.909326</td>\n",
       "      <td>False</td>\n",
       "    </tr>\n",
       "    <tr>\n",
       "      <th>1778</th>\n",
       "      <td>United_Airlines_Q200_0.jpg</td>\n",
       "      <td>Ext_Int</td>\n",
       "      <td>Ext</td>\n",
       "      <td>0.992993</td>\n",
       "      <td>False</td>\n",
       "    </tr>\n",
       "    <tr>\n",
       "      <th>1809</th>\n",
       "      <td>Malaysia_Airlines_Airbus_A380_new_3.jpg</td>\n",
       "      <td>Int</td>\n",
       "      <td>Ext</td>\n",
       "      <td>0.575182</td>\n",
       "      <td>False</td>\n",
       "    </tr>\n",
       "    <tr>\n",
       "      <th>1822</th>\n",
       "      <td>American_Airlines_777-300_ER_3.jpg</td>\n",
       "      <td>Int</td>\n",
       "      <td>Meal</td>\n",
       "      <td>0.615058</td>\n",
       "      <td>False</td>\n",
       "    </tr>\n",
       "    <tr>\n",
       "      <th>1877</th>\n",
       "      <td>TAP_Portugal_Airbus_A321_2.jpg</td>\n",
       "      <td>Meal</td>\n",
       "      <td>Int</td>\n",
       "      <td>0.997148</td>\n",
       "      <td>False</td>\n",
       "    </tr>\n",
       "    <tr>\n",
       "      <th>1986</th>\n",
       "      <td>Thomson_Airways_Boeing_787-8_3.jpg</td>\n",
       "      <td>Ext</td>\n",
       "      <td>Int</td>\n",
       "      <td>0.683263</td>\n",
       "      <td>False</td>\n",
       "    </tr>\n",
       "    <tr>\n",
       "      <th>1994</th>\n",
       "      <td>British_Airways_Boeing_787-9_4.jpg</td>\n",
       "      <td>Meal</td>\n",
       "      <td>Int</td>\n",
       "      <td>0.949616</td>\n",
       "      <td>False</td>\n",
       "    </tr>\n",
       "    <tr>\n",
       "      <th>1996</th>\n",
       "      <td>Aer_Lingus_Airbus_A330-200_4.jpg</td>\n",
       "      <td>Int</td>\n",
       "      <td>Ext_Int</td>\n",
       "      <td>0.858270</td>\n",
       "      <td>False</td>\n",
       "    </tr>\n",
       "    <tr>\n",
       "      <th>2276</th>\n",
       "      <td>Lufthansa_Airbus_A321_NEK_3.jpg</td>\n",
       "      <td>Ext</td>\n",
       "      <td>Int</td>\n",
       "      <td>0.999838</td>\n",
       "      <td>False</td>\n",
       "    </tr>\n",
       "    <tr>\n",
       "      <th>2278</th>\n",
       "      <td>Singapore_Air_Boeing_777-300_B_3.jpg</td>\n",
       "      <td>Meal</td>\n",
       "      <td>Int</td>\n",
       "      <td>0.999462</td>\n",
       "      <td>False</td>\n",
       "    </tr>\n",
       "    <tr>\n",
       "      <th>2337</th>\n",
       "      <td>Malaysia_Airlines_Boeing_737-800-MX_3.jpg</td>\n",
       "      <td>Meal</td>\n",
       "      <td>Int</td>\n",
       "      <td>0.631050</td>\n",
       "      <td>False</td>\n",
       "    </tr>\n",
       "    <tr>\n",
       "      <th>2501</th>\n",
       "      <td>Delta_Airlines_Airbus_A350_900_1.jpg</td>\n",
       "      <td>Int</td>\n",
       "      <td>Meal</td>\n",
       "      <td>0.780423</td>\n",
       "      <td>False</td>\n",
       "    </tr>\n",
       "    <tr>\n",
       "      <th>2521</th>\n",
       "      <td>Iberia_Airbus_A319_3.jpg</td>\n",
       "      <td>Meal</td>\n",
       "      <td>Int</td>\n",
       "      <td>0.708556</td>\n",
       "      <td>False</td>\n",
       "    </tr>\n",
       "    <tr>\n",
       "      <th>2525</th>\n",
       "      <td>Iberia_Airbus_A330_300_4.jpg</td>\n",
       "      <td>Int</td>\n",
       "      <td>Meal</td>\n",
       "      <td>0.990797</td>\n",
       "      <td>False</td>\n",
       "    </tr>\n",
       "  </tbody>\n",
       "</table>\n",
       "</div>"
      ],
      "text/plain": [
       "                                                 name   view_x   view_y  \\\n",
       "87                    Qantas_Airways_Boeing_789_1.jpg     Meal      Int   \n",
       "250        United_Airlines_Boeing_777-200_3_New_4.jpg      Int     Meal   \n",
       "340                   AirAsia_X_Airbus_A330-300_0.jpg     Meal      Int   \n",
       "354                          Saudia_Embraer_170_2.jpg      Ext      Int   \n",
       "356            United_Airlines_Boeing_737-900_E_4.jpg      Ext  Ext_Int   \n",
       "412          Norwegian_Air_Shuttle_Boeing_787-8_4.jpg  Ext_Int      Int   \n",
       "494            Turkish_Airlines_Airbus_A330-300_2.jpg      Int     Meal   \n",
       "552                        Air_New_Zealand_Q300_3.jpg  Ext_Int      Int   \n",
       "591                        Air_New_Zealand_Q300_4.jpg      Ext      Int   \n",
       "617           Delta_Airlines_Boeing_767-300ER_C_0.jpg      Int     Meal   \n",
       "632             Hainan_Airlines_Airbus_A330-300_0.jpg  Ext_Int      Ext   \n",
       "708     Cathay_Pacific_Airways_Boeing_777-300_B_4.jpg     Meal      Int   \n",
       "736                 British_Airways_Airbus_A318_2.jpg      Int     Meal   \n",
       "845                British_Airways_Boeing_787-9_1.jpg  Ext_Int      Int   \n",
       "932                Hawaiian_Airlines_ATR_42-500_0.jpg  Ext_Int      Ext   \n",
       "978               TAM_Airlines_Boeing_767-300ER_4.jpg     Meal      Int   \n",
       "993                    Air_India_Airbus_A319_V1_0.jpg      Int     Meal   \n",
       "1070                     Iberia_Canadair_CRJ900_0.jpg      Int     Meal   \n",
       "1119                        Swiss_Airlines_A319_2.jpg     Meal      Int   \n",
       "1284                 Delta_Airlines_Airbus_A321_0.jpg  Ext_Int      Int   \n",
       "1323      Qatar_Airways_Boeing_777-300ER_Qsuite_2.jpg      Ext      Int   \n",
       "1418              Air_France_Airbus_A321_Europe_2.jpg  Ext_Int     Meal   \n",
       "1476               easyJet_Airlines_Airbus_A319_3.jpg      Ext  Ext_Int   \n",
       "1521            United_Airlines_Embraer_Emb_175_0.jpg      Int     Meal   \n",
       "1557       Dragonair_Airlines_Airbus_A330-300_A_0.jpg      Int     Meal   \n",
       "1648  Cathay_Pacific_Airways_Boeing_777-300ER_A_0.jpg      Int     Meal   \n",
       "1778                       United_Airlines_Q200_0.jpg  Ext_Int      Ext   \n",
       "1809          Malaysia_Airlines_Airbus_A380_new_3.jpg      Int      Ext   \n",
       "1822               American_Airlines_777-300_ER_3.jpg      Int     Meal   \n",
       "1877                   TAP_Portugal_Airbus_A321_2.jpg     Meal      Int   \n",
       "1986               Thomson_Airways_Boeing_787-8_3.jpg      Ext      Int   \n",
       "1994               British_Airways_Boeing_787-9_4.jpg     Meal      Int   \n",
       "1996                 Aer_Lingus_Airbus_A330-200_4.jpg      Int  Ext_Int   \n",
       "2276                  Lufthansa_Airbus_A321_NEK_3.jpg      Ext      Int   \n",
       "2278             Singapore_Air_Boeing_777-300_B_3.jpg     Meal      Int   \n",
       "2337        Malaysia_Airlines_Boeing_737-800-MX_3.jpg     Meal      Int   \n",
       "2501             Delta_Airlines_Airbus_A350_900_1.jpg      Int     Meal   \n",
       "2521                         Iberia_Airbus_A319_3.jpg     Meal      Int   \n",
       "2525                     Iberia_Airbus_A330_300_4.jpg      Int     Meal   \n",
       "\n",
       "      view_proba  pred_OK  \n",
       "87      0.993496    False  \n",
       "250     0.547172    False  \n",
       "340     0.956427    False  \n",
       "354     0.692464    False  \n",
       "356     0.962702    False  \n",
       "412     0.587574    False  \n",
       "494     0.698858    False  \n",
       "552     0.771089    False  \n",
       "591     0.626707    False  \n",
       "617     0.937975    False  \n",
       "632     0.967794    False  \n",
       "708     0.987980    False  \n",
       "736     0.539621    False  \n",
       "845     0.928789    False  \n",
       "932     0.999941    False  \n",
       "978     0.962287    False  \n",
       "993     0.931941    False  \n",
       "1070    0.970821    False  \n",
       "1119    0.772262    False  \n",
       "1284    0.543358    False  \n",
       "1323    0.510229    False  \n",
       "1418    0.503067    False  \n",
       "1476    0.802085    False  \n",
       "1521    0.748454    False  \n",
       "1557    0.949493    False  \n",
       "1648    0.909326    False  \n",
       "1778    0.992993    False  \n",
       "1809    0.575182    False  \n",
       "1822    0.615058    False  \n",
       "1877    0.997148    False  \n",
       "1986    0.683263    False  \n",
       "1994    0.949616    False  \n",
       "1996    0.858270    False  \n",
       "2276    0.999838    False  \n",
       "2278    0.999462    False  \n",
       "2337    0.631050    False  \n",
       "2501    0.780423    False  \n",
       "2521    0.708556    False  \n",
       "2525    0.990797    False  "
      ]
     },
     "execution_count": 89,
     "metadata": {},
     "output_type": "execute_result"
    }
   ],
   "source": [
    "df_view_err_no_others = df_view[(df_view['pred_OK']==False) &(df_view['view_x']!='Others')]\n",
    "df_view_err_no_others"
   ]
  },
  {
   "cell_type": "code",
   "execution_count": 90,
   "metadata": {
    "scrolled": true
   },
   "outputs": [
    {
     "data": {
      "text/html": [
       "<div>\n",
       "<style scoped>\n",
       "    .dataframe tbody tr th:only-of-type {\n",
       "        vertical-align: middle;\n",
       "    }\n",
       "\n",
       "    .dataframe tbody tr th {\n",
       "        vertical-align: top;\n",
       "    }\n",
       "\n",
       "    .dataframe thead th {\n",
       "        text-align: right;\n",
       "    }\n",
       "</style>\n",
       "<table border=\"1\" class=\"dataframe\">\n",
       "  <thead>\n",
       "    <tr style=\"text-align: right;\">\n",
       "      <th></th>\n",
       "      <th>name</th>\n",
       "      <th>view_x</th>\n",
       "      <th>view_y</th>\n",
       "      <th>view_proba</th>\n",
       "      <th>pred_OK</th>\n",
       "    </tr>\n",
       "  </thead>\n",
       "  <tbody>\n",
       "    <tr>\n",
       "      <th>9</th>\n",
       "      <td>Iberia_Airbus_A330-200_0.jpg</td>\n",
       "      <td>Others</td>\n",
       "      <td>Int</td>\n",
       "      <td>0.997912</td>\n",
       "      <td>False</td>\n",
       "    </tr>\n",
       "    <tr>\n",
       "      <th>11</th>\n",
       "      <td>Oman_Air_Boeing_737-900_3.jpg</td>\n",
       "      <td>Others</td>\n",
       "      <td>Int</td>\n",
       "      <td>0.675050</td>\n",
       "      <td>False</td>\n",
       "    </tr>\n",
       "    <tr>\n",
       "      <th>64</th>\n",
       "      <td>United_Airlines_Bombardier_Q300_2.jpg</td>\n",
       "      <td>Others</td>\n",
       "      <td>Meal</td>\n",
       "      <td>0.628836</td>\n",
       "      <td>False</td>\n",
       "    </tr>\n",
       "    <tr>\n",
       "      <th>90</th>\n",
       "      <td>Lufthansa_Boeing_747_8_V3_0.jpg</td>\n",
       "      <td>Others</td>\n",
       "      <td>Int</td>\n",
       "      <td>0.990867</td>\n",
       "      <td>False</td>\n",
       "    </tr>\n",
       "    <tr>\n",
       "      <th>96</th>\n",
       "      <td>Malaysia_Airlines_Airbus_A380_new_4.jpg</td>\n",
       "      <td>Others</td>\n",
       "      <td>Ext</td>\n",
       "      <td>0.724728</td>\n",
       "      <td>False</td>\n",
       "    </tr>\n",
       "    <tr>\n",
       "      <th>123</th>\n",
       "      <td>Avianca_Airbus_A320-200_1.jpg</td>\n",
       "      <td>Others</td>\n",
       "      <td>Meal</td>\n",
       "      <td>0.392876</td>\n",
       "      <td>False</td>\n",
       "    </tr>\n",
       "    <tr>\n",
       "      <th>155</th>\n",
       "      <td>Copa_Airlines_Boeing_737-700_4.jpg</td>\n",
       "      <td>Others</td>\n",
       "      <td>Int</td>\n",
       "      <td>0.997821</td>\n",
       "      <td>False</td>\n",
       "    </tr>\n",
       "    <tr>\n",
       "      <th>171</th>\n",
       "      <td>Qantas_Airways_Airbus_A330-300_2.jpg</td>\n",
       "      <td>Others</td>\n",
       "      <td>Int</td>\n",
       "      <td>0.350419</td>\n",
       "      <td>False</td>\n",
       "    </tr>\n",
       "    <tr>\n",
       "      <th>203</th>\n",
       "      <td>Nok_Air_Boeing_737-800_3.jpg</td>\n",
       "      <td>Others</td>\n",
       "      <td>Int</td>\n",
       "      <td>1.000000</td>\n",
       "      <td>False</td>\n",
       "    </tr>\n",
       "    <tr>\n",
       "      <th>243</th>\n",
       "      <td>Royal_Jordanian_Boeing_787-8_4.jpg</td>\n",
       "      <td>Others</td>\n",
       "      <td>Meal</td>\n",
       "      <td>0.644536</td>\n",
       "      <td>False</td>\n",
       "    </tr>\n",
       "    <tr>\n",
       "      <th>279</th>\n",
       "      <td>Fiji_Airways_Airbus_A330-200_2.jpg</td>\n",
       "      <td>Others</td>\n",
       "      <td>Int</td>\n",
       "      <td>0.997245</td>\n",
       "      <td>False</td>\n",
       "    </tr>\n",
       "    <tr>\n",
       "      <th>332</th>\n",
       "      <td>Hong_Kong_Airlines_Airbus_A330-300_V2_0.jpg</td>\n",
       "      <td>Others</td>\n",
       "      <td>Int</td>\n",
       "      <td>0.796591</td>\n",
       "      <td>False</td>\n",
       "    </tr>\n",
       "    <tr>\n",
       "      <th>441</th>\n",
       "      <td>Qatar_Airways_Airbus_A350_1.jpg</td>\n",
       "      <td>Others</td>\n",
       "      <td>Int</td>\n",
       "      <td>0.999935</td>\n",
       "      <td>False</td>\n",
       "    </tr>\n",
       "    <tr>\n",
       "      <th>517</th>\n",
       "      <td>Thai_Airways_Boeing_787-8_2.jpg</td>\n",
       "      <td>Others</td>\n",
       "      <td>Meal</td>\n",
       "      <td>0.712826</td>\n",
       "      <td>False</td>\n",
       "    </tr>\n",
       "    <tr>\n",
       "      <th>565</th>\n",
       "      <td>ANA_Boeing_767-300ER_B_4.jpg</td>\n",
       "      <td>Others</td>\n",
       "      <td>Int</td>\n",
       "      <td>0.995972</td>\n",
       "      <td>False</td>\n",
       "    </tr>\n",
       "    <tr>\n",
       "      <th>762</th>\n",
       "      <td>UTair_Aviation_Boeing_737-500A_0.jpg</td>\n",
       "      <td>Others</td>\n",
       "      <td>Int</td>\n",
       "      <td>0.981571</td>\n",
       "      <td>False</td>\n",
       "    </tr>\n",
       "    <tr>\n",
       "      <th>770</th>\n",
       "      <td>Westjet_Boeing_737-800_1.jpg</td>\n",
       "      <td>Others</td>\n",
       "      <td>Int</td>\n",
       "      <td>1.000000</td>\n",
       "      <td>False</td>\n",
       "    </tr>\n",
       "    <tr>\n",
       "      <th>779</th>\n",
       "      <td>ANA_Boeing_767-300ER_B_3.jpg</td>\n",
       "      <td>Others</td>\n",
       "      <td>Int</td>\n",
       "      <td>0.885012</td>\n",
       "      <td>False</td>\n",
       "    </tr>\n",
       "    <tr>\n",
       "      <th>940</th>\n",
       "      <td>United_Airlines_Boeing_757-200_C_new_0.jpg</td>\n",
       "      <td>Others</td>\n",
       "      <td>Int</td>\n",
       "      <td>0.999866</td>\n",
       "      <td>False</td>\n",
       "    </tr>\n",
       "    <tr>\n",
       "      <th>955</th>\n",
       "      <td>Royal_Brunei_Airlines_Boeing_787-8_2.jpg</td>\n",
       "      <td>Others</td>\n",
       "      <td>Meal</td>\n",
       "      <td>0.589469</td>\n",
       "      <td>False</td>\n",
       "    </tr>\n",
       "    <tr>\n",
       "      <th>1017</th>\n",
       "      <td>American_Airlines_Airbus_A321_new_3.jpg</td>\n",
       "      <td>Others</td>\n",
       "      <td>Int</td>\n",
       "      <td>0.996347</td>\n",
       "      <td>False</td>\n",
       "    </tr>\n",
       "    <tr>\n",
       "      <th>1032</th>\n",
       "      <td>Condor_Flugdienst_Boeing_757-300_0.jpg</td>\n",
       "      <td>Others</td>\n",
       "      <td>Meal</td>\n",
       "      <td>0.883222</td>\n",
       "      <td>False</td>\n",
       "    </tr>\n",
       "    <tr>\n",
       "      <th>1033</th>\n",
       "      <td>TAP_Portugal_Airbus_A340_3.jpg</td>\n",
       "      <td>Others</td>\n",
       "      <td>Int</td>\n",
       "      <td>1.000000</td>\n",
       "      <td>False</td>\n",
       "    </tr>\n",
       "    <tr>\n",
       "      <th>1041</th>\n",
       "      <td>British_Airways_Airbus_A319_D_1.jpg</td>\n",
       "      <td>Others</td>\n",
       "      <td>Int</td>\n",
       "      <td>0.999128</td>\n",
       "      <td>False</td>\n",
       "    </tr>\n",
       "    <tr>\n",
       "      <th>1136</th>\n",
       "      <td>Austrian_Airlines_Airbus_A321_2.jpg</td>\n",
       "      <td>Others</td>\n",
       "      <td>Meal</td>\n",
       "      <td>0.996069</td>\n",
       "      <td>False</td>\n",
       "    </tr>\n",
       "    <tr>\n",
       "      <th>1186</th>\n",
       "      <td>Alitalia_Airlines_Airbus_A320_B_new_3.jpg</td>\n",
       "      <td>Others</td>\n",
       "      <td>Meal</td>\n",
       "      <td>0.993222</td>\n",
       "      <td>False</td>\n",
       "    </tr>\n",
       "    <tr>\n",
       "      <th>1244</th>\n",
       "      <td>Asiana_Airbus_A330-300_0.jpg</td>\n",
       "      <td>Others</td>\n",
       "      <td>Int</td>\n",
       "      <td>0.999018</td>\n",
       "      <td>False</td>\n",
       "    </tr>\n",
       "    <tr>\n",
       "      <th>1250</th>\n",
       "      <td>Gulf_Air_Airbus_A320_1.jpg</td>\n",
       "      <td>Others</td>\n",
       "      <td>Int</td>\n",
       "      <td>0.996344</td>\n",
       "      <td>False</td>\n",
       "    </tr>\n",
       "    <tr>\n",
       "      <th>1376</th>\n",
       "      <td>Qatar_Airways_Airbus_A380_3.jpg</td>\n",
       "      <td>Others</td>\n",
       "      <td>Ext_Int</td>\n",
       "      <td>0.634259</td>\n",
       "      <td>False</td>\n",
       "    </tr>\n",
       "    <tr>\n",
       "      <th>1390</th>\n",
       "      <td>China_Southern_Boeing_737-300C_0.jpg</td>\n",
       "      <td>Others</td>\n",
       "      <td>Int</td>\n",
       "      <td>0.937964</td>\n",
       "      <td>False</td>\n",
       "    </tr>\n",
       "    <tr>\n",
       "      <th>1394</th>\n",
       "      <td>Japan_Airlines_Boeing_777-200_1.jpg</td>\n",
       "      <td>Others</td>\n",
       "      <td>Int</td>\n",
       "      <td>0.618170</td>\n",
       "      <td>False</td>\n",
       "    </tr>\n",
       "    <tr>\n",
       "      <th>1396</th>\n",
       "      <td>Air_France_Embraer_ERJ-190_0.jpg</td>\n",
       "      <td>Others</td>\n",
       "      <td>Int</td>\n",
       "      <td>0.973666</td>\n",
       "      <td>False</td>\n",
       "    </tr>\n",
       "    <tr>\n",
       "      <th>1448</th>\n",
       "      <td>LAN_Airlines_Airbus_A319_V2_2.jpg</td>\n",
       "      <td>Others</td>\n",
       "      <td>Meal</td>\n",
       "      <td>0.563097</td>\n",
       "      <td>False</td>\n",
       "    </tr>\n",
       "    <tr>\n",
       "      <th>1470</th>\n",
       "      <td>Korean_Air_Airbus_A380-800_4.jpg</td>\n",
       "      <td>Others</td>\n",
       "      <td>Int</td>\n",
       "      <td>0.526901</td>\n",
       "      <td>False</td>\n",
       "    </tr>\n",
       "    <tr>\n",
       "      <th>1529</th>\n",
       "      <td>Finnair_Airbus_A330-300_V2_2.jpg</td>\n",
       "      <td>Others</td>\n",
       "      <td>Int</td>\n",
       "      <td>0.949813</td>\n",
       "      <td>False</td>\n",
       "    </tr>\n",
       "    <tr>\n",
       "      <th>1563</th>\n",
       "      <td>KLM_Embraer_ERJ-175_0.jpg</td>\n",
       "      <td>Others</td>\n",
       "      <td>Ext_Int</td>\n",
       "      <td>0.999720</td>\n",
       "      <td>False</td>\n",
       "    </tr>\n",
       "    <tr>\n",
       "      <th>1576</th>\n",
       "      <td>Southwest_Airlines_Boeing_737-700_new_3.jpg</td>\n",
       "      <td>Others</td>\n",
       "      <td>Int</td>\n",
       "      <td>0.976129</td>\n",
       "      <td>False</td>\n",
       "    </tr>\n",
       "    <tr>\n",
       "      <th>1584</th>\n",
       "      <td>Singapore_Air_Boeing_777-300_B_1.jpg</td>\n",
       "      <td>Others</td>\n",
       "      <td>Int</td>\n",
       "      <td>0.999803</td>\n",
       "      <td>False</td>\n",
       "    </tr>\n",
       "    <tr>\n",
       "      <th>1599</th>\n",
       "      <td>Aer_Lingus_Airbus_A320_3.jpg</td>\n",
       "      <td>Others</td>\n",
       "      <td>Int</td>\n",
       "      <td>0.983091</td>\n",
       "      <td>False</td>\n",
       "    </tr>\n",
       "    <tr>\n",
       "      <th>1618</th>\n",
       "      <td>China_Southern_Boeing_787_3.jpg</td>\n",
       "      <td>Others</td>\n",
       "      <td>Ext_Int</td>\n",
       "      <td>0.746083</td>\n",
       "      <td>False</td>\n",
       "    </tr>\n",
       "    <tr>\n",
       "      <th>1690</th>\n",
       "      <td>Asiana_Boeing_747-400_full_1.jpg</td>\n",
       "      <td>Others</td>\n",
       "      <td>Int</td>\n",
       "      <td>0.996590</td>\n",
       "      <td>False</td>\n",
       "    </tr>\n",
       "    <tr>\n",
       "      <th>1697</th>\n",
       "      <td>KLM_Boeing_737-900_0.jpg</td>\n",
       "      <td>Others</td>\n",
       "      <td>Int</td>\n",
       "      <td>0.895827</td>\n",
       "      <td>False</td>\n",
       "    </tr>\n",
       "    <tr>\n",
       "      <th>1720</th>\n",
       "      <td>Spirit_Airlines_Airbus_A319_B_4.jpg</td>\n",
       "      <td>Others</td>\n",
       "      <td>Int</td>\n",
       "      <td>0.999879</td>\n",
       "      <td>False</td>\n",
       "    </tr>\n",
       "    <tr>\n",
       "      <th>1747</th>\n",
       "      <td>Jetstar_Boeing_787-8_3.jpg</td>\n",
       "      <td>Others</td>\n",
       "      <td>Int</td>\n",
       "      <td>0.999949</td>\n",
       "      <td>False</td>\n",
       "    </tr>\n",
       "    <tr>\n",
       "      <th>1823</th>\n",
       "      <td>Delta_Airlines_Airbus_A330_200_new_3.jpg</td>\n",
       "      <td>Others</td>\n",
       "      <td>Int</td>\n",
       "      <td>0.999990</td>\n",
       "      <td>False</td>\n",
       "    </tr>\n",
       "    <tr>\n",
       "      <th>1827</th>\n",
       "      <td>Avianca_Airbus_A319-100_4.jpg</td>\n",
       "      <td>Others</td>\n",
       "      <td>Ext</td>\n",
       "      <td>0.590548</td>\n",
       "      <td>False</td>\n",
       "    </tr>\n",
       "    <tr>\n",
       "      <th>1843</th>\n",
       "      <td>Air_France_Airbus_A340-300_International_Long_...</td>\n",
       "      <td>Others</td>\n",
       "      <td>Int</td>\n",
       "      <td>0.990627</td>\n",
       "      <td>False</td>\n",
       "    </tr>\n",
       "    <tr>\n",
       "      <th>1844</th>\n",
       "      <td>China_Southern_Boeing_787_2.jpg</td>\n",
       "      <td>Others</td>\n",
       "      <td>Int</td>\n",
       "      <td>0.925162</td>\n",
       "      <td>False</td>\n",
       "    </tr>\n",
       "    <tr>\n",
       "      <th>1852</th>\n",
       "      <td>Icelandair_Boeing_767-300ER_0.jpg</td>\n",
       "      <td>Others</td>\n",
       "      <td>Ext_Int</td>\n",
       "      <td>0.283476</td>\n",
       "      <td>False</td>\n",
       "    </tr>\n",
       "    <tr>\n",
       "      <th>1861</th>\n",
       "      <td>Delta_Airlines_Boeing_757-200_75S_0.jpg</td>\n",
       "      <td>Others</td>\n",
       "      <td>Meal</td>\n",
       "      <td>0.807593</td>\n",
       "      <td>False</td>\n",
       "    </tr>\n",
       "    <tr>\n",
       "      <th>1875</th>\n",
       "      <td>Avianca_Airbus_A320-200_3.jpg</td>\n",
       "      <td>Others</td>\n",
       "      <td>Ext_Int</td>\n",
       "      <td>0.745927</td>\n",
       "      <td>False</td>\n",
       "    </tr>\n",
       "    <tr>\n",
       "      <th>1885</th>\n",
       "      <td>Thomas_Cook_Airlines_Airbus_A321_2.jpg</td>\n",
       "      <td>Others</td>\n",
       "      <td>Ext</td>\n",
       "      <td>0.999956</td>\n",
       "      <td>False</td>\n",
       "    </tr>\n",
       "    <tr>\n",
       "      <th>2074</th>\n",
       "      <td>Jetblue_Airways_Airbus_A321_transcon_4.jpg</td>\n",
       "      <td>Others</td>\n",
       "      <td>Int</td>\n",
       "      <td>0.953991</td>\n",
       "      <td>False</td>\n",
       "    </tr>\n",
       "    <tr>\n",
       "      <th>2197</th>\n",
       "      <td>Hainan_Airlines_Boeing_787-9_0.jpg</td>\n",
       "      <td>Others</td>\n",
       "      <td>Int</td>\n",
       "      <td>0.999507</td>\n",
       "      <td>False</td>\n",
       "    </tr>\n",
       "    <tr>\n",
       "      <th>2201</th>\n",
       "      <td>Asiana_Boeing_747-400_full_2.jpg</td>\n",
       "      <td>Others</td>\n",
       "      <td>Meal</td>\n",
       "      <td>0.999945</td>\n",
       "      <td>False</td>\n",
       "    </tr>\n",
       "    <tr>\n",
       "      <th>2208</th>\n",
       "      <td>Avianca_Airbus_A320-200_0.jpg</td>\n",
       "      <td>Others</td>\n",
       "      <td>Int</td>\n",
       "      <td>0.975529</td>\n",
       "      <td>False</td>\n",
       "    </tr>\n",
       "    <tr>\n",
       "      <th>2234</th>\n",
       "      <td>Swiss_Airlines_A330_3.jpg</td>\n",
       "      <td>Others</td>\n",
       "      <td>Int</td>\n",
       "      <td>0.998853</td>\n",
       "      <td>False</td>\n",
       "    </tr>\n",
       "    <tr>\n",
       "      <th>2270</th>\n",
       "      <td>Air_India_Airbus_A319_V1_3.jpg</td>\n",
       "      <td>Others</td>\n",
       "      <td>Meal</td>\n",
       "      <td>0.751418</td>\n",
       "      <td>False</td>\n",
       "    </tr>\n",
       "    <tr>\n",
       "      <th>2534</th>\n",
       "      <td>Delta_Airlines_Boeing_757-200_75G_4.jpg</td>\n",
       "      <td>Others</td>\n",
       "      <td>Int</td>\n",
       "      <td>0.999763</td>\n",
       "      <td>False</td>\n",
       "    </tr>\n",
       "  </tbody>\n",
       "</table>\n",
       "</div>"
      ],
      "text/plain": [
       "                                                   name  view_x   view_y  \\\n",
       "9                          Iberia_Airbus_A330-200_0.jpg  Others      Int   \n",
       "11                        Oman_Air_Boeing_737-900_3.jpg  Others      Int   \n",
       "64                United_Airlines_Bombardier_Q300_2.jpg  Others     Meal   \n",
       "90                      Lufthansa_Boeing_747_8_V3_0.jpg  Others      Int   \n",
       "96              Malaysia_Airlines_Airbus_A380_new_4.jpg  Others      Ext   \n",
       "123                       Avianca_Airbus_A320-200_1.jpg  Others     Meal   \n",
       "155                  Copa_Airlines_Boeing_737-700_4.jpg  Others      Int   \n",
       "171                Qantas_Airways_Airbus_A330-300_2.jpg  Others      Int   \n",
       "203                        Nok_Air_Boeing_737-800_3.jpg  Others      Int   \n",
       "243                  Royal_Jordanian_Boeing_787-8_4.jpg  Others     Meal   \n",
       "279                  Fiji_Airways_Airbus_A330-200_2.jpg  Others      Int   \n",
       "332         Hong_Kong_Airlines_Airbus_A330-300_V2_0.jpg  Others      Int   \n",
       "441                     Qatar_Airways_Airbus_A350_1.jpg  Others      Int   \n",
       "517                     Thai_Airways_Boeing_787-8_2.jpg  Others     Meal   \n",
       "565                        ANA_Boeing_767-300ER_B_4.jpg  Others      Int   \n",
       "762                UTair_Aviation_Boeing_737-500A_0.jpg  Others      Int   \n",
       "770                        Westjet_Boeing_737-800_1.jpg  Others      Int   \n",
       "779                        ANA_Boeing_767-300ER_B_3.jpg  Others      Int   \n",
       "940          United_Airlines_Boeing_757-200_C_new_0.jpg  Others      Int   \n",
       "955            Royal_Brunei_Airlines_Boeing_787-8_2.jpg  Others     Meal   \n",
       "1017            American_Airlines_Airbus_A321_new_3.jpg  Others      Int   \n",
       "1032             Condor_Flugdienst_Boeing_757-300_0.jpg  Others     Meal   \n",
       "1033                     TAP_Portugal_Airbus_A340_3.jpg  Others      Int   \n",
       "1041                British_Airways_Airbus_A319_D_1.jpg  Others      Int   \n",
       "1136                Austrian_Airlines_Airbus_A321_2.jpg  Others     Meal   \n",
       "1186          Alitalia_Airlines_Airbus_A320_B_new_3.jpg  Others     Meal   \n",
       "1244                       Asiana_Airbus_A330-300_0.jpg  Others      Int   \n",
       "1250                         Gulf_Air_Airbus_A320_1.jpg  Others      Int   \n",
       "1376                    Qatar_Airways_Airbus_A380_3.jpg  Others  Ext_Int   \n",
       "1390               China_Southern_Boeing_737-300C_0.jpg  Others      Int   \n",
       "1394                Japan_Airlines_Boeing_777-200_1.jpg  Others      Int   \n",
       "1396                   Air_France_Embraer_ERJ-190_0.jpg  Others      Int   \n",
       "1448                  LAN_Airlines_Airbus_A319_V2_2.jpg  Others     Meal   \n",
       "1470                   Korean_Air_Airbus_A380-800_4.jpg  Others      Int   \n",
       "1529                   Finnair_Airbus_A330-300_V2_2.jpg  Others      Int   \n",
       "1563                          KLM_Embraer_ERJ-175_0.jpg  Others  Ext_Int   \n",
       "1576        Southwest_Airlines_Boeing_737-700_new_3.jpg  Others      Int   \n",
       "1584               Singapore_Air_Boeing_777-300_B_1.jpg  Others      Int   \n",
       "1599                       Aer_Lingus_Airbus_A320_3.jpg  Others      Int   \n",
       "1618                    China_Southern_Boeing_787_3.jpg  Others  Ext_Int   \n",
       "1690                   Asiana_Boeing_747-400_full_1.jpg  Others      Int   \n",
       "1697                           KLM_Boeing_737-900_0.jpg  Others      Int   \n",
       "1720                Spirit_Airlines_Airbus_A319_B_4.jpg  Others      Int   \n",
       "1747                         Jetstar_Boeing_787-8_3.jpg  Others      Int   \n",
       "1823           Delta_Airlines_Airbus_A330_200_new_3.jpg  Others      Int   \n",
       "1827                      Avianca_Airbus_A319-100_4.jpg  Others      Ext   \n",
       "1843  Air_France_Airbus_A340-300_International_Long_...  Others      Int   \n",
       "1844                    China_Southern_Boeing_787_2.jpg  Others      Int   \n",
       "1852                  Icelandair_Boeing_767-300ER_0.jpg  Others  Ext_Int   \n",
       "1861            Delta_Airlines_Boeing_757-200_75S_0.jpg  Others     Meal   \n",
       "1875                      Avianca_Airbus_A320-200_3.jpg  Others  Ext_Int   \n",
       "1885             Thomas_Cook_Airlines_Airbus_A321_2.jpg  Others      Ext   \n",
       "2074         Jetblue_Airways_Airbus_A321_transcon_4.jpg  Others      Int   \n",
       "2197                 Hainan_Airlines_Boeing_787-9_0.jpg  Others      Int   \n",
       "2201                   Asiana_Boeing_747-400_full_2.jpg  Others     Meal   \n",
       "2208                      Avianca_Airbus_A320-200_0.jpg  Others      Int   \n",
       "2234                          Swiss_Airlines_A330_3.jpg  Others      Int   \n",
       "2270                     Air_India_Airbus_A319_V1_3.jpg  Others     Meal   \n",
       "2534            Delta_Airlines_Boeing_757-200_75G_4.jpg  Others      Int   \n",
       "\n",
       "      view_proba  pred_OK  \n",
       "9       0.997912    False  \n",
       "11      0.675050    False  \n",
       "64      0.628836    False  \n",
       "90      0.990867    False  \n",
       "96      0.724728    False  \n",
       "123     0.392876    False  \n",
       "155     0.997821    False  \n",
       "171     0.350419    False  \n",
       "203     1.000000    False  \n",
       "243     0.644536    False  \n",
       "279     0.997245    False  \n",
       "332     0.796591    False  \n",
       "441     0.999935    False  \n",
       "517     0.712826    False  \n",
       "565     0.995972    False  \n",
       "762     0.981571    False  \n",
       "770     1.000000    False  \n",
       "779     0.885012    False  \n",
       "940     0.999866    False  \n",
       "955     0.589469    False  \n",
       "1017    0.996347    False  \n",
       "1032    0.883222    False  \n",
       "1033    1.000000    False  \n",
       "1041    0.999128    False  \n",
       "1136    0.996069    False  \n",
       "1186    0.993222    False  \n",
       "1244    0.999018    False  \n",
       "1250    0.996344    False  \n",
       "1376    0.634259    False  \n",
       "1390    0.937964    False  \n",
       "1394    0.618170    False  \n",
       "1396    0.973666    False  \n",
       "1448    0.563097    False  \n",
       "1470    0.526901    False  \n",
       "1529    0.949813    False  \n",
       "1563    0.999720    False  \n",
       "1576    0.976129    False  \n",
       "1584    0.999803    False  \n",
       "1599    0.983091    False  \n",
       "1618    0.746083    False  \n",
       "1690    0.996590    False  \n",
       "1697    0.895827    False  \n",
       "1720    0.999879    False  \n",
       "1747    0.999949    False  \n",
       "1823    0.999990    False  \n",
       "1827    0.590548    False  \n",
       "1843    0.990627    False  \n",
       "1844    0.925162    False  \n",
       "1852    0.283476    False  \n",
       "1861    0.807593    False  \n",
       "1875    0.745927    False  \n",
       "1885    0.999956    False  \n",
       "2074    0.953991    False  \n",
       "2197    0.999507    False  \n",
       "2201    0.999945    False  \n",
       "2208    0.975529    False  \n",
       "2234    0.998853    False  \n",
       "2270    0.751418    False  \n",
       "2534    0.999763    False  "
      ]
     },
     "execution_count": 90,
     "metadata": {},
     "output_type": "execute_result"
    }
   ],
   "source": [
    "df_view_err_others = df_view[(df_view['pred_OK']==False) &(df_view['view_x']=='Others')]\n",
    "df_view_err_others"
   ]
  },
  {
   "cell_type": "code",
   "execution_count": 91,
   "metadata": {},
   "outputs": [],
   "source": [
    "def plot_hist(df, col):\n",
    "    data = [go.Histogram(x = df[col], \n",
    "                         histnorm='percent',\n",
    "                        xbins=dict(\n",
    "                            start=0,\n",
    "                            end=1,\n",
    "                            size=.01\n",
    "                        ))]\n",
    "    \n",
    "    layout = dict(\n",
    "        title = 'Histogram of the ' + col + ' column on ' + str(df.shape[0]) + ' values'\n",
    "    )\n",
    "    \n",
    "    fig = dict(data = data, layout = layout)\n",
    "    \n",
    "    iplot(fig)"
   ]
  },
  {
   "cell_type": "code",
   "execution_count": 92,
   "metadata": {},
   "outputs": [
    {
     "data": {
      "application/vnd.plotly.v1+json": {
       "config": {
        "linkText": "Export to plot.ly",
        "plotlyServerURL": "https://plot.ly",
        "showLink": false
       },
       "data": [
        {
         "histnorm": "percent",
         "type": "histogram",
         "x": [
          0.9999226331710817,
          0.9999984502792358,
          1,
          0.9989198446273804,
          0.9999918937683104,
          0.9999983310699464,
          1,
          0.9999991655349731,
          0.9990272521972656,
          0.999645471572876,
          0.9999996423721312,
          0.9993828535079956,
          0.9999991655349731,
          0.9999452829360962,
          0.9999992847442628,
          0.9999977350234984,
          0.999996781349182,
          0.9999995231628418,
          0.9999395608901978,
          0.9998736381530762,
          0.9487677812576294,
          0.9993993043899536,
          0.9999668598175048,
          0.9997214674949646,
          0.999886989593506,
          0.9991806149482728,
          0.9999986886978148,
          0.9999961853027344,
          0.9999992847442628,
          0.9999676942825316,
          0.9999693632125854,
          1,
          0.9999998807907104,
          0.9993608593940736,
          0.998778522014618,
          0.9999994039535522,
          0.9999182224273682,
          0.9996334314346312,
          0.9899388551712036,
          0.999887228012085,
          0.9999428987503052,
          0.9158033728599548,
          0.9999091625213624,
          0.9999998807907104,
          0.999979853630066,
          0.99999737739563,
          0.999557077884674,
          0.9996145963668824,
          0.9999936819076538,
          0.9999984502792358,
          0.9996154308319092,
          0.9949363470077516,
          0.9985520243644714,
          0.9999994039535522,
          0.999859094619751,
          0.9992332458496094,
          0.999800741672516,
          0.999998927116394,
          0.9445288181304932,
          1,
          0.9999994039535522,
          0.9999998807907104,
          0.9997983574867249,
          0.99999737739563,
          0.9999995231628418,
          0.9999223947525024,
          0.9999995231628418,
          0.9999979734420776,
          0.9999992847442628,
          0.9999953508377076,
          0.9999885559082032,
          0.9992313385009766,
          0.9891849756240844,
          0.9999945163726808,
          0.9980751276016236,
          0.971790373325348,
          0.9991707801818848,
          0.9999918937683104,
          1,
          0.9999921321868896,
          0.9879133105278016,
          0.9999985694885254,
          0.9994226694107056,
          0.9999972581863404,
          0.99905127286911,
          0.999489426612854,
          0.9999868869781494,
          0.9995785355567932,
          0.9991661310195924,
          0.9898265600204468,
          0.9944199919700624,
          0.9996544122695924,
          0.9999090433120728,
          0.9998669624328612,
          0.9999996423721312,
          0.9997418522834778,
          0.99992573261261,
          1,
          0.9948949217796326,
          0.9999996423721312,
          0.9999784231185912,
          0.9999966621398926,
          0.9998373985290528,
          0.9999442100524902,
          0.999876856803894,
          1,
          0.9990838766098022,
          0.9990895986557008,
          0.9999979734420776,
          0.999900221824646,
          0.9999984502792358,
          1,
          0.9962843656539916,
          0.9999886751174928,
          0.9999920129776,
          0.9545015096664428,
          0.9667960405349731,
          0.999826967716217,
          0.9999998807907104,
          0.9974271655082704,
          0.9999688863754272,
          0.999865174293518,
          1,
          0.9999736547470092,
          0.999996542930603,
          0.9999997615814208,
          1,
          0.9547089934349059,
          0.9994798302650452,
          0.9999690055847168,
          0.9997529387474059,
          0.9999799728393556,
          0.9999748468399048,
          0.99998676776886,
          0.9993913173675536,
          0.999943733215332,
          0.9999928474426271,
          0.9998583793640136,
          0.9999088048934937,
          1,
          0.999527096748352,
          1,
          0.9999823570251464,
          0.9996726512908936,
          0.9846908450126648,
          0.9999871253967284,
          0.9999997615814208,
          0.9985224604606628,
          0.9998387098312378,
          0.9999817609786988,
          1,
          0.9999874830245972,
          0.9860644340515136,
          1,
          0.9458030462265016,
          0.9999516010284424,
          0.9999997615814208,
          0.945578634738922,
          0.9999291896820068,
          0.9999158382415771,
          0.7817173600196838,
          0.9999943971633912,
          0.9979283809661864,
          0.9999984502792358,
          0.8423066735267639,
          0.9999487400054932,
          0.997919261455536,
          0.9983550906181335,
          0.9988391995429992,
          0.9999918937683104,
          0.999994158744812,
          0.5615655779838562,
          0.9999979734420776,
          0.9941957592964172,
          0.9998822212219238,
          0.999997854232788,
          1,
          0.9998596906661988,
          0.9993925094604492,
          0.9999361038208008,
          0.9999996423721312,
          0.9999768733978271,
          0.9999794960021972,
          0.9999916553497314,
          0.9968653321266174,
          0.9999181032180786,
          0.9999998807907104,
          0.8690412044525146,
          0.999403715133667,
          0.9996463060379028,
          0.9994148015975952,
          0.999821126461029,
          0.9998127818107604,
          0.9976649284362792,
          0.8851670622825623,
          1,
          0.9998376369476318,
          0.9993828535079956,
          0.9999977350234984,
          0.9999957084655762,
          0.9497479796409608,
          0.9998558759689332,
          0.9999877214431764,
          0.9999997615814208,
          0.9999618530273438,
          1,
          0.9984530210494996,
          0.9835171699523926,
          0.9999918937683104,
          0.9998540878295898,
          0.9980105757713318,
          0.9999226331710817,
          0.9996609687805176,
          0.999996304512024,
          0.9983285069465636,
          1,
          0.996241807937622,
          0.999985933303833,
          0.9999996423721312,
          0.9997803568840028,
          1,
          0.9999942779541016,
          0.9999997615814208,
          0.9999502897262572,
          0.9999995231628418,
          1,
          0.4952552616596222,
          0.9999946355819702,
          0.9999992847442628,
          0.9998788833618164,
          1,
          0.9959598183631896,
          0.9987427592277528,
          0.9999332427978516,
          0.9999843835830688,
          0.9999996423721312,
          0.9999808073043824,
          0.9999991655349731,
          0.9999189376831056,
          0.8191905617713928,
          0.9999992847442628,
          0.9995349645614624,
          0.9998511075973512,
          1,
          0.9998292922973632,
          0.9942546486854552,
          0.999969720840454,
          0.9995537400245668,
          1,
          0.999977707862854,
          1,
          0.9999563694000244,
          0.9992172718048096,
          0.9997698664665222,
          0.999980092048645,
          1,
          0.9997333884239196,
          1,
          1,
          0.9999951124191284,
          0.9993152618408204,
          0.9999935626983644,
          0.9999988079071044,
          0.9999979734420776,
          0.9998462200164796,
          1,
          0.9998403787612916,
          0.9999890327453612,
          0.9999837875366212,
          0.988669753074646,
          1,
          0.999995231628418,
          0.9999865293502808,
          1,
          0.999991536140442,
          0.9937024116516112,
          0.9999943971633912,
          0.999093770980835,
          0.9993807077407836,
          0.9994838237762452,
          0.9999176263809204,
          1,
          0.9999985694885254,
          0.9999994039535522,
          0.9825162887573242,
          0.9814130067825316,
          0.9999988079071044,
          0.9999362230300904,
          1,
          0.9999997615814208,
          0.999963402748108,
          1,
          0.9999282360076904,
          0.9279577136039734,
          1,
          0.9993515610694884,
          0.9904878735542296,
          0.999997854232788,
          0.997051477432251,
          0.9999994039535522,
          0.9999308586120604,
          0.9999927282333374,
          0.9999617338180542,
          0.9993595480918884,
          0.996822476387024,
          0.99904066324234,
          0.9335077404975892,
          0.9970086216926576,
          0.9999991655349731,
          0.9999916553497314,
          0.9999988079071044,
          1,
          0.9790028929710388,
          1,
          0.9999920129776,
          0.9970241189002992,
          1,
          0.9999992847442628,
          0.9999818801879884,
          0.9999997615814208,
          0.9997445940971376,
          0.9999995231628418,
          0.9999057054519652,
          0.999995231628418,
          0.9990642666816713,
          0.99999737739563,
          0.9992863535881042,
          0.999985933303833,
          0.9992125034332277,
          0.9998268485069276,
          0.999577820301056,
          0.999998927116394,
          0.99921715259552,
          0.9999881982803344,
          0.9994026422500609,
          0.999972939491272,
          0.8656672239303589,
          0.9611013531684875,
          0.9986288547515868,
          0.9999901056289672,
          0.9999997615814208,
          0.9999930858612059,
          0.9999747276306152,
          0.999997854232788,
          0.9904894828796388,
          0.9999982118606568,
          0.9999966621398926,
          0.99966561794281,
          0.9963833093643188,
          0.9997428059577942,
          0.9999994039535522,
          0.9996552467346193,
          0.9953199028968812,
          0.9999970197677612,
          0.9996570348739624,
          1,
          0.983402132987976,
          0.9999779462814332,
          0.9923015832901,
          0.9999762773513794,
          0.9997739195823668,
          0.9999902248382568,
          0.9998867511749268,
          0.9999741315841676,
          1,
          0.999955415725708,
          0.9997587800025941,
          0.9998373985290528,
          0.9991821646690368,
          0.9999470710754396,
          0.9999860525131226,
          0.999476969242096,
          0.9999988079071044,
          0.9999960660934448,
          0.9999161958694458,
          0.998178005218506,
          0.997517466545105,
          0.9999961853027344,
          0.8154266476631165,
          0.9525681734085084,
          0.999352753162384,
          0.99457585811615,
          0.9999791383743286,
          1,
          0.9998923540115356,
          0.9999988079071044,
          0.9999308586120604,
          0.9879665970802308,
          0.9999014139175416,
          0.9999922513961792,
          0.963878095149994,
          0.9999960660934448,
          0.9978253841400146,
          0.9999969005584716,
          0.9981269240379332,
          0.9988991022109984,
          0.9999977350234984,
          0.9999868869781494,
          0.9999716281890868,
          0.997666835784912,
          0.9999992847442628,
          0.9999992847442628,
          0.9998766183853148,
          0.961648166179657,
          1,
          1,
          0.999985694885254,
          1,
          0.9999997615814208,
          0.987468957901001,
          0.9543861150741576,
          0.9999972581863404,
          0.9989437460899352,
          0.9999948740005492,
          0.9983667731285096,
          0.9996441602706908,
          0.9999998807907104,
          0.9824702143669128,
          0.9997926354408264,
          1,
          1,
          1,
          0.9954981803894044,
          0.9931635856628418,
          1,
          0.9999889135360718,
          1,
          0.99996018409729,
          0.83355712890625,
          0.999935269355774,
          0.9999270439147948,
          0.9999929666519164,
          0.9999929666519164,
          0.7108518481254578,
          0.9999996423721312,
          0.9998817443847656,
          0.9999943971633912,
          0.9999998807907104,
          0.9999959468841552,
          0.999882698059082,
          0.9999934434890748,
          0.9995137453079224,
          0.981655776500702,
          0.9211119413375854,
          0.9999799728393556,
          0.9993042945861816,
          0.9999957084655762,
          0.9999927282333374,
          0.9836861491203308,
          0.9827141165733336,
          0.9999301433563232,
          0.999991774559021,
          0.9995986819267272,
          0.998409867286682,
          0.999963879585266,
          0.9999957084655762,
          0.9990112781524658,
          0.998543620109558,
          0.9999998807907104,
          0.9998707771301271,
          0.9999960660934448,
          0.9999700784683228,
          0.9999995231628418,
          0.999561846256256,
          0.9999902248382568,
          0.9962335228919984,
          1,
          0.9997246861457824,
          0.9999969005584716,
          0.9992578625679016,
          0.9995225667953492,
          0.9999852180480956,
          0.9998923540115356,
          0.9999969005584716,
          1,
          0.9997565150260924,
          0.999886155128479,
          0.9996949434280396,
          0.9999945163726808,
          0.9999773502349854,
          1,
          1,
          0.9999958276748656,
          0.9991501569747924,
          0.9999979734420776,
          0.9999997615814208,
          1,
          1,
          0.9995751976966858,
          0.9999955892562866,
          0.9999979734420776,
          0.9997788071632384,
          0.9999998807907104,
          0.9999752044677734,
          0.9998884201049804,
          0.9989879727363586,
          0.9889177083969116,
          0.9999986886978148,
          0.9999804496765136,
          0.9999977350234984,
          0.998814821243286,
          0.9998834133148192,
          0.9999918937683104,
          0.998057186603546,
          0.9988474845886229,
          0.99997079372406,
          0.9999158382415771,
          0.9999997615814208,
          0.951051950454712,
          0.9999997615814208,
          0.9999732971191406,
          0.9995868802070618,
          0.9998610019683838,
          0.9999841451644896,
          0.9998692274093628,
          1,
          0.9499022960662842,
          0.9999487400054932,
          0.9995204210281372,
          0.9999979734420776,
          0.9985061287879944,
          0.9996750354766846,
          0.9992947578430176,
          0.9999983310699464,
          1,
          0.9999094009399414,
          1,
          0.9999669790267944,
          0.9999996423721312,
          0.9994221925735474,
          1,
          0.999548614025116,
          0.9999933242797852,
          0.992499053478241,
          0.9177212119102478,
          0.9999988079071044,
          0.9999998807907104,
          0.999998927116394,
          0.9999986886978148,
          0.9998266100883484,
          0.999942183494568,
          0.9977439641952516,
          0.9997829794883728,
          0.99951434135437,
          0.9999998807907104,
          0.9999320507049559,
          1,
          0.9999998807907104,
          0.9999505281448364,
          0.9994667172431946,
          0.999998927116394,
          0.9985346794128418,
          0.9999921321868896,
          0.9999718666076659,
          0.9999976158142091,
          0.9998584985733032,
          0.9997918009757996,
          0.9999213218688964,
          0.9891724586486816,
          0.999963402748108,
          0.8079785704612732,
          0.9992488026618958,
          0.9999964237213136,
          0.9999758005142212,
          0.9990912675857544,
          0.9999998807907104,
          0.9999971389770508,
          0.9998924732208252,
          0.9999984502792358,
          0.9906003475189208,
          0.9998674392700196,
          0.999931573867798,
          0.9999966621398926,
          0.9993557333946228,
          0.9999995231628418,
          0.9999738931655884,
          0.9994469285011292,
          0.9999998807907104,
          0.9986438155174256,
          0.9999842643737792,
          0.9485034346580504,
          0.9999942779541016,
          0.9999998807907104,
          0.9999771118164062,
          0.99925297498703,
          1,
          0.9831772446632384,
          0.5125167965888977,
          0.9994947910308838,
          0.9998455047607422,
          0.9999648332595824,
          0.9999946355819702,
          0.9871345162391664,
          0.9999955892562866,
          0.9997143149375916,
          0.996250569820404,
          0.9999998807907104,
          0.9999969005584716,
          0.9999992847442628,
          1,
          0.999738872051239,
          0.999979853630066,
          0.9998089671134948,
          1,
          1,
          1,
          0.9999946355819702,
          0.9999784231185912,
          0.9999841451644896,
          0.9998667240142822,
          0.9999996423721312,
          0.9655148983001708,
          0.9997972846031188,
          0.9999812841415404,
          0.9992395639419556,
          0.999829649925232,
          0.999991774559021,
          0.9999969005584716,
          0.9985631108283995,
          0.9999897480010986,
          1,
          1,
          0.9999998807907104,
          0.9999997615814208,
          0.9999992847442628,
          0.9999946355819702,
          0.9999762773513794,
          0.9999991655349731,
          0.9999998807907104,
          0.9999136924743652,
          0.9999992847442628,
          1,
          0.9999984502792358,
          0.9987782835960388,
          0.7241888046264648,
          0.9999090433120728,
          0.9999972581863404,
          0.9999865293502808,
          0.9999995231628418,
          0.999292254447937,
          1,
          0.9972338080406188,
          0.9999572038650512,
          0.7661095857620239,
          0.9999998807907104,
          0.9980297684669496,
          0.99402517080307,
          0.9999998807907104,
          0.9992596507072448,
          0.9999514818191528,
          0.9997499585151672,
          0.9999758005142212,
          0.9999990463256836,
          0.9999953508377076,
          0.9998003840446472,
          0.9999121427536012,
          0.9999983310699464,
          0.9999405145645142,
          1,
          0.9999285936355592,
          0.999995231628418,
          0.999998927116394,
          0.9999998807907104,
          0.9999717473983764,
          0.9997060894966124,
          0.9971655011177064,
          1,
          0.9999929666519164,
          0.9981569647789,
          0.9987556934356691,
          0.9999722242355348,
          0.996109426021576,
          0.9406270384788512,
          0.9594760537147522,
          0.9999990463256836,
          0.9999998807907104,
          0.9999657869338988,
          0.9999570846557616,
          0.9995213747024536,
          0.9999996423721312,
          0.9999564886093141,
          0.9999996423721312,
          0.9989001750946044,
          0.9999995231628418,
          0.9999992847442628,
          0.9998149275779724,
          0.9978105425834656,
          0.9999560117721558,
          0.9994502663612366,
          0.9999998807907104,
          1,
          0.9999933242797852,
          0.9999405145645142,
          0.9998537302017212,
          0.9999982118606568,
          0.9999207258224488,
          0.9999343156814576,
          0.9999984502792358,
          0.9999366998672484,
          0.9999966621398926,
          0.9997883439064026,
          0.9999475479125975,
          0.9999711513519288,
          0.9999804496765136,
          0.9927170276641846,
          0.9999996423721312,
          1,
          1,
          0.9974337220191956,
          1,
          0.9997428059577942,
          0.9999940395355223,
          0.9986451268196106,
          0.9968997240066528,
          0.9989807009696959,
          0.9999998807907104,
          0.9998387098312378,
          0.9996569156646729,
          0.99993097782135,
          0.99983012676239,
          0.9727884531021118,
          0.9936490654945374,
          0.9991124272346495,
          0.9999997615814208,
          0.9604580402374268,
          1,
          0.9976944327354432,
          0.9999573230743408,
          0.9997579455375672,
          1,
          0.9977294802665709,
          0.9998080134391784,
          0.9999487400054932,
          0.9993058443069458,
          0.9999994039535522,
          0.999992609024048,
          0.9999890327453612,
          0.9995371103286744,
          0.9999338388442992,
          0.9999984502792358,
          0.9999732971191406,
          0.9999184608459472,
          0.995245635509491,
          0.9999927282333374,
          0.9998362064361572,
          0.862736701965332,
          0.9999997615814208,
          0.9999979734420776,
          0.999963641166687,
          0.9999864101409912,
          0.9999980926513672,
          0.9999930858612059,
          0.9994900226593018,
          0.9999432563781738,
          0.99884831905365,
          0.9999955892562866,
          0.9999998807907104,
          0.9999841451644896,
          1,
          0.9982574582099916,
          0.9994797110557556,
          0.9999985694885254,
          0.9999998807907104,
          0.9999462366104126,
          0.99999737739563,
          0.9999992847442628,
          0.9997649788856506,
          0.9997087121009828,
          0.9999030828475952,
          0.9922877550125122,
          0.9219809770584106,
          0.999927282333374,
          0.9997861981391908,
          0.9974398612976074,
          1,
          0.9999990463256836,
          0.9999712705612184,
          0.9999997615814208,
          0.9999870061874391,
          0.9999964237213136,
          1,
          0.999329686164856,
          0.9998612403869628,
          0.993513822555542,
          0.9999908208847046,
          0.9999986886978148,
          0.9999058246612548,
          0.9999761581420898,
          0.9999938011169434,
          0.999913215637207,
          0.999994158744812,
          0.9999351501464844,
          0.999987244606018,
          0.9992929697036744,
          0.9926984906196594,
          1,
          0.9999783039093018,
          0.9989640712738036,
          0.974838376045227,
          0.999997854232788,
          0.967548966407776,
          0.9953820109367372,
          0.9999995231628418,
          0.9900001883506776,
          0.9999948740005492,
          1,
          0.9997439980506896,
          0.9999997615814208,
          0.9940136075019836,
          0.9999997615814208,
          0.9988608360290528,
          0.9999841451644896,
          0.9999976158142091,
          0.9991289973258972,
          0.9999966621398926,
          0.9999185800552368,
          0.9999715089797974,
          0.9999901056289672,
          0.9993256330490112,
          0.99962317943573,
          0.9997540116310121,
          0.999988317489624,
          0.9999957084655762,
          0.9999618530273438,
          0.9340749979019164,
          0.9999825954437256,
          0.9999996423721312,
          0.999990940093994,
          0.9999805688858032,
          1,
          0.9979764819145204,
          0.9992857575416564,
          0.999525785446167,
          0.9999847412109376,
          1,
          0.999997854232788,
          0.9993457198143004,
          0.9999359846115112,
          0.9999200105667114,
          0.999869704246521,
          0.9999992847442628,
          0.999777615070343,
          0.9994327425956726,
          0.9993175268173218,
          0.9878831505775452,
          1,
          0.9920389652252196,
          0.9999842643737792,
          0.9932994842529296,
          0.9999812841415404,
          0.9999979734420776,
          0.9999988079071044,
          0.9999468326568604,
          1,
          0.9993719458580016,
          0.9999885559082032,
          0.9999966621398926,
          0.9978089928627014,
          0.9966433048248292,
          0.9964627623558044,
          0.9999979734420776,
          0.9999762773513794,
          0.9999974966049194,
          0.9999890327453612,
          0.9999805688858032,
          0.9998689889907836,
          0.9999997615814208,
          0.9999116659164428,
          0.9999953508377076,
          0.9999992847442628,
          0.9999958276748656,
          1,
          0.9274555444717408,
          0.9941139817237854,
          0.9999946355819702,
          1,
          0.9999996423721312,
          0.9998382329940796,
          0.9989450573921204,
          0.9999980926513672,
          0.9973944425582886,
          0.9999955892562866,
          1,
          0.999996304512024,
          0.9999431371688844,
          0.9994161128997804,
          1,
          0.9999696016311646,
          0.9999992847442628,
          0.9999976158142091,
          0.9999990463256836,
          0.993331491947174,
          0.9993884563446044,
          0.9962448477745056,
          0.9999561309814452,
          0.9981860518455504,
          0.9999934434890748,
          0.9999710321426392,
          0.9999923706054688,
          0.9999542236328124,
          0.9970077872276306,
          0.9998998641967772,
          0.987639844417572,
          0.999578297138214,
          0.9999665021896362,
          0.9999938011169434,
          0.9999932050704956,
          0.99994695186615,
          0.9999834299087524,
          0.9999862909317015,
          0.9999194145202636,
          0.9999623298645021,
          0.9999998807907104,
          0.9997844099998474,
          0.9999892711639404,
          1,
          0.9999995231628418,
          0.9994090795516968,
          1,
          0.9999995231628418,
          1,
          0.9983320832252502,
          0.9999932050704956,
          0.9998277425765992,
          0.9999977350234984,
          0.9991688728332521,
          0.997993230819702,
          1,
          0.999963879585266,
          0.999397873878479,
          0.9999992847442628,
          1,
          1,
          0.998753309249878,
          0.9999871253967284,
          1,
          0.9999635219573976,
          0.9999948740005492,
          0.9534100890159608,
          0.9998335838317872,
          1,
          0.9999582767486572,
          0.9999997615814208,
          0.8772492408752441,
          0.9922156929969788,
          0.999779999256134,
          0.999942421913147,
          1,
          0.9985022544860841,
          0.8612944483757019,
          0.9999930858612059,
          1,
          0.9986199140548706,
          0.999996304512024,
          0.9999994039535522,
          0.9994897842407228,
          0.9975715279579164,
          0.9999328851699828,
          0.9988290667533876,
          0.9864115715026855,
          0.99955552816391,
          0.9999736547470092,
          0.99967622756958,
          0.9999233484268188,
          0.9999957084655762,
          0.7141830921173096,
          0.9760579466819764,
          1,
          0.9999966621398926,
          0.9999955892562866,
          0.99998676776886,
          0.9987930059432985,
          0.9995176792144777,
          0.9999995231628418,
          0.9533206820487976,
          0.999964952468872,
          0.9999998807907104,
          0.9999995231628418,
          0.9998146891593932,
          0.9999295473098756,
          0.9999065399169922,
          0.9957149624824524,
          0.999980926513672,
          0.9999954700469972,
          1,
          0.9997689127922058,
          0.9994793534278871,
          0.9998112320899964,
          0.9997276663780212,
          0.9986068606376648,
          0.9953643083572388,
          0.9999719858169556,
          0.9999924898147584,
          0.9996354579925536,
          0.9999949932098388,
          0.9999595880508424,
          0.9999824762344359,
          0.9997416138648988,
          0.9997546076774596,
          0.9999983310699464,
          0.9998736381530762,
          0.9999886751174928,
          0.9999955892562866,
          0.9999996423721312,
          0.9999608993530272,
          0.9999998807907104,
          0.9021067619323729,
          0.9999723434448242,
          0.9999899864196776,
          0.9967071413993835,
          0.98394113779068,
          0.9787028431892396,
          0.994336187839508,
          0.9982958436012268,
          0.9999595880508424,
          0.9995348453521729,
          0.999942660331726,
          1,
          0.9974059462547302,
          0.9998834133148192,
          0.9875335693359376,
          0.9999974966049194,
          0.99018657207489,
          0.9999934434890748,
          0.9999990463256836,
          0.9936094284057616,
          0.9997259974479676,
          0.9999996423721312,
          0.9999568462371826,
          0.999998927116394,
          1,
          0.9999499320983888,
          0.9994482398033142,
          0.9994237422943116,
          0.9999216794967652,
          0.9942851662635804,
          0.9605396389961244,
          0.9996932744979858,
          0.9999997615814208,
          0.9997846484184264,
          0.9999890327453612,
          0.9999996423721312,
          0.9981358051300048,
          0.9999998807907104,
          0.9964537620544434,
          0.9999922513961792,
          0.999991774559021,
          0.9936628341674804,
          0.996911346912384,
          0.981683909893036,
          0.9999911785125732,
          0.9999834299087524,
          0.99955815076828,
          0.9991249442100524,
          0.9997071623802184,
          0.9999936819076538,
          0.9999998807907104,
          0.9999796152114868,
          0.999983549118042,
          0.999996781349182,
          0.9996912479400636,
          0.99978369474411,
          0.999596893787384,
          0.9999998807907104,
          0.9999990463256836,
          1,
          0.9860644340515136,
          0.9999701976776124,
          0.999995231628418,
          0.9999920129776,
          0.9998750686645508,
          0.9998843669891356,
          1,
          0.9996702671051024,
          0.9999974966049194,
          0.9999791383743286,
          0.9981605410575868,
          1,
          0.9999983310699464,
          0.9999946355819702,
          0.9972053170204164,
          0.9999637603759766,
          0.9995087385177612,
          0.9999858140945436,
          0.9999793767929076,
          0.9998862743377686,
          0.9962189793586732,
          0.9967827796936036,
          0.9996143579483032,
          0.9999995231628418,
          0.9996273517608644,
          0.9989365935325624,
          0.9999756813049316,
          0.9997194409370422,
          0.996970534324646,
          0.876800000667572,
          0.9999998807907104,
          0.9999958276748656,
          0.9999608993530272,
          0.99999737739563,
          0.999994158744812,
          0.999987244606018,
          0.9999738931655884,
          0.9999982118606568,
          0.9999456405639648,
          1,
          0.999990463256836,
          0.9991183876991272,
          0.9999874830245972,
          0.9984520673751832,
          0.7279358506202698,
          0.9989230036735536,
          0.9999488592147828,
          0.9938162565231324,
          0.9999974966049194,
          0.9999881982803344,
          0.9999980926513672,
          0.999994158744812,
          0.9999537467956544,
          0.9999706745147704,
          0.9999995231628418,
          0.9999212026596068,
          0.9998152852058412,
          0.9999918937683104,
          0.9998822212219238,
          0.9999964237213136,
          0.9999994039535522,
          0.9999995231628418,
          0.9995504021644592,
          0.9999996423721312,
          0.99994158744812,
          0.9997296929359436,
          0.9999830722808838,
          0.9996873140335084,
          0.999995231628418,
          0.9991223216056824,
          0.999996781349182,
          0.8021775484085083,
          0.9999874830245972,
          0.9997851252555848,
          1,
          0.9999719858169556,
          0.9998679161071776,
          0.9999946355819702,
          0.9999585151672364,
          0.9999887943267822,
          0.9998599290847778,
          0.9999998807907104,
          0.9996808767318726,
          0.9999701976776124,
          0.9998550415039062,
          0.9995126724243164,
          0.9997583031654358,
          1,
          0.9952267408370972,
          0.9999557733535768,
          0.9999964237213136,
          0.999881148338318,
          0.9978713989257812,
          0.984558403491974,
          1,
          0.9999995231628418,
          0.9988951086997986,
          0.9999960660934448,
          0.9999992847442628,
          0.9998513460159302,
          0.9999949932098388,
          0.9997887015342712,
          0.9999880790710448,
          0.9951291084289552,
          0.9999985694885254,
          0.9999841451644896,
          0.9967374205589294,
          0.9221220612525941,
          0.9999749660491944,
          0.9999843835830688,
          0.9999880790710448,
          0.9986488223075868,
          0.9998401403427124,
          0.9980146884918212,
          0.9994661211967468,
          0.9999772310256958,
          0.999885320663452,
          0.9898920059204102,
          0.9999998807907104,
          0.9999629259109496,
          0.9903967380523682,
          0.9998589754104614,
          0.99982750415802,
          0.9999914169311525,
          0.9999685287475586,
          0.9998888969421388,
          0.9995612502098083,
          0.9999996423721312,
          0.9999955892562866,
          0.9999840259552002,
          0.9999992847442628,
          0.9999843835830688,
          0.9999699592590332,
          0.9999833106994628,
          1,
          0.9999492168426514,
          0.9955990314483644,
          0.9999969005584716,
          0.9951651096343994,
          0.993205189704895,
          1,
          0.9999765157699584,
          1,
          0.999637484550476,
          0.9999995231628418,
          0.9993358254432678,
          0.9999313354492188,
          0.9999982118606568,
          0.9933077096939088,
          0.9997940659523009,
          0.9994109869003296,
          0.9999996423721312,
          0.9999376535415648,
          0.9999215602874756,
          0.9974904060363771,
          0.9995057582855223,
          0.9988995790481568,
          0.9999997615814208,
          0.9224048256874084,
          0.9999465942382812,
          0.999987244606018,
          0.997668206691742,
          0.9999997615814208,
          0.9999886751174928,
          0.999991774559021,
          0.9997851252555848,
          0.9998947381973268,
          0.9987574815750122,
          0.9997987151145936,
          0.9999997615814208,
          0.9999387264251708,
          0.9994506239891052,
          0.999954104423523,
          1,
          0.9999490976333618,
          0.9999988079071044,
          0.9999960660934448,
          0.9985698461532592,
          0.9980754852294922,
          1,
          0.9992033839225768,
          0.9999566078186036,
          0.9999241828918456,
          0.9999996423721312,
          0.9999942779541016,
          0.99999737739563,
          0.9997990727424622,
          0.9994634985923768,
          0.9999823570251464,
          0.999835968017578,
          0.9988043308258056,
          0.999823033809662,
          0.9997223019599916,
          0.9999986886978148,
          0.9981328845024108,
          0.9999997615814208,
          0.9991446733474731,
          0.993281066417694,
          0.9937615990638732,
          0.9711452722549438,
          0.9999997615814208,
          1,
          0.9999457597732544,
          0.9936535358428956,
          1,
          0.9999998807907104,
          0.9998472929000854,
          0.9998303651809692,
          0.997752845287323,
          0.9999997615814208,
          1,
          0.9999896287918092,
          0.9999966621398926,
          0.9997940659523009,
          0.9998502731323242,
          0.9999998807907104,
          0.998748779296875,
          0.999740183353424,
          0.9964838027954102,
          0.9999461174011229,
          0.9999997615814208,
          1,
          0.9999898672103882,
          0.9999879598617554,
          0.9999608993530272,
          0.999843955039978,
          0.9993222951889038,
          0.9958699345588684,
          0.9998206496238708,
          0.9999961853027344,
          0.5867023468017578,
          1,
          0.9998255372047424,
          0.9999492168426514,
          0.9998794794082642,
          1,
          0.999898076057434,
          0.9853426218032836,
          0.999947190284729,
          0.9998279809951782,
          0.9999961853027344,
          0.9999738931655884,
          0.9993062019348145,
          0.9999870061874391,
          0.9998667240142822,
          0.9999599456787108,
          0.9999865293502808,
          0.9999997615814208,
          0.9999468326568604,
          0.999698042869568,
          0.8696275353431702,
          0.99321049451828,
          0.999800741672516,
          0.9999997615814208,
          0.9999923706054688,
          0.9995483756065368,
          0.9999608993530272,
          0.9999959468841552,
          0.9999884366989136,
          0.9995335340499878,
          1,
          0.9999849796295166,
          0.9999518394470216,
          0.9997907280921936,
          0.9999693632125854,
          0.9999988079071044,
          0.9941943287849426,
          0.9999979734420776,
          0.9860658645629884,
          0.9998804330825806,
          0.9999964237213136,
          0.9964258074760436,
          0.9999945163726808,
          0.9998008608818054,
          0.9803090095520021,
          0.9989590644836426,
          0.9999668598175048,
          0.9997476935386658,
          0.9992809891700744,
          0.9999933242797852,
          0.9943315982818604,
          0.9999996423721312,
          0.9999996423721312,
          0.9944735169410706,
          0.9999933242797852,
          0.9999322891235352,
          0.999970316886902,
          1,
          0.9995850920677184,
          0.9999587535858154,
          0.9999970197677612,
          0.9999988079071044,
          0.9858549237251282,
          0.9999908208847046,
          0.9938945174217224,
          0.9997097849845886,
          0.9985089898109436,
          0.9999997615814208,
          0.9999929666519164,
          0.9754447340965272,
          0.9999959468841552,
          0.9991518259048462,
          0.9975060820579528,
          0.9999991655349731,
          0.9993478655815125,
          0.9998039603233336,
          0.7547684907913208,
          0.9999852180480956,
          0.9995934367179872,
          0.9999970197677612,
          1,
          0.9999898672103882,
          1,
          0.9999901056289672,
          0.9999749660491944,
          0.999996781349182,
          0.9999991655349731,
          0.999842643737793,
          0.9826268553733826,
          0.9998855590820312,
          0.9987277388572692,
          0.999924659729004,
          0.9998298883438109,
          0.9998759031295776,
          1,
          0.9999948740005492,
          1,
          0.9999960660934448,
          0.9993826150894164,
          0.999902367591858,
          0.9973135590553284,
          0.9989138841629028,
          0.9995476603507996,
          0.9999998807907104,
          0.9999730587005616,
          0.9999713897705078,
          0.9994818568229676,
          0.9997641444206238,
          0.9999080896377563,
          0.9999663829803468,
          0.9998749494552612,
          0.9999903440475464,
          1,
          0.9998351335525512,
          0.9999998807907104,
          0.9719321131706238,
          0.9999998807907104,
          0.9999274015426636,
          0.9978277087211608,
          0.9999995231628418,
          0.9996196031570436,
          0.9999850988388062,
          0.9995811581611632,
          0.9999713897705078,
          0.9999351501464844,
          0.9606205224990844,
          0.9999945163726808,
          0.9999983310699464,
          0.940221667289734,
          0.837250292301178,
          0.9999983310699464,
          0.999952793121338,
          0.9809668064117432,
          0.9996254444122314,
          0.999868631362915,
          0.9999992847442628,
          0.9999980926513672,
          0.999755084514618,
          0.9997740387916564,
          0.9999998807907104,
          0.999954104423523,
          0.9999641180038452,
          0.9800949096679688,
          0.9996856451034546,
          0.9992212057113647,
          0.9999890327453612,
          0.9868398904800416,
          0.9996040463447572,
          0.9916664958000184,
          0.9999929666519164,
          0.9996942281723022,
          0.9997461438179016,
          0.9999998807907104,
          0.9999995231628418,
          0.992426872253418,
          0.9999269247055054,
          0.9967543482780457,
          0.9999760389328004,
          0.9999942779541016,
          0.999486207962036,
          0.9999465942382812,
          0.997236967086792,
          0.9999949932098388,
          0.9999623298645021,
          0.9999992847442628,
          0.9999995231628418,
          0.9999662637710572,
          0.9999465942382812,
          0.9999936819076538,
          0.9994124174118042,
          0.9751859307289124,
          0.9996408224105836,
          0.9741408228874208,
          0.999992609024048,
          0.9966012239456176,
          0.9999951124191284,
          0.9999841451644896,
          0.9999533891677856,
          0.9999994039535522,
          0.999947190284729,
          0.9999336004257202,
          1,
          1,
          0.9999047517776488,
          0.9999903440475464,
          0.9999790191650392,
          0.9999997615814208,
          0.99994695186615,
          0.9997534155845642,
          0.9999994039535522,
          0.9999766349792479,
          0.999822199344635,
          0.9998717308044434,
          0.9999996423721312,
          0.999221682548523,
          0.99915611743927,
          0.9999796152114868,
          0.999437153339386,
          0.9999930858612059,
          0.999125063419342,
          0.999923586845398,
          0.9999998807907104,
          0.9999998807907104,
          0.9999943971633912,
          0.9999997615814208,
          0.9986534118652344,
          0.9999836683273317,
          0.9998139739036559,
          1,
          0.9999914169311525,
          0.9998685121536256,
          0.9977341890335084,
          0.9999189376831056,
          0.9993867874145508,
          0.9999995231628418,
          0.9950128197669984,
          0.9999995231628418,
          0.9958477020263672,
          0.9893544912338256,
          0.9998016953468324,
          0.9999395608901978,
          0.9999839067459106,
          0.9849356412887572,
          0.999975323677063,
          1,
          0.9997205138206482,
          0.9999850988388062,
          0.9999840259552002,
          0.9999954700469972,
          0.9999899864196776,
          0.9999930858612059,
          0.9999994039535522,
          0.998102843761444,
          0.9999446868896484,
          0.9979438185691832,
          0.9999207258224488,
          0.9999933242797852,
          1,
          0.9999985694885254,
          0.9999992847442628,
          1,
          0.999985694885254,
          1,
          0.9999758005142212,
          0.9999313354492188,
          0.9999709129333496,
          0.9997797608375548,
          0.9999998807907104,
          0.9999622106552124,
          0.9999997615814208,
          0.9999668598175048,
          0.9999308586120604,
          0.9999986886978148,
          0.9998525381088256,
          0.997641921043396,
          0.9999922513961792,
          0.9992026686668396,
          0.9999972581863404,
          0.9994211196899414,
          0.9999930858612059,
          0.9992949962615968,
          0.9999995231628418,
          0.9999247789382936,
          0.9999737739562988,
          0.9999966621398926,
          1,
          0.9999985694885254,
          0.9999890327453612,
          0.9999593496322632,
          0.999883770942688,
          0.9999793767929076,
          0.9993891716003418,
          0.9999916553497314,
          0.9985461235046388,
          0.9992079138755798,
          0.9974892139434814,
          0.9979438185691832,
          0.9994019269943236,
          0.9999545812606812,
          0.9999622106552124,
          0.9999998807907104,
          0.9999995231628418,
          0.993615984916687,
          0.9999927282333374,
          0.9989873766899108,
          0.9999208450317384,
          0.9980508089065552,
          0.9999700784683228,
          0.8038288950920105,
          0.9990766048431396,
          0.999985694885254,
          0.9965113997459412,
          0.9998133778572084,
          0.9999431371688844,
          0.9999996423721312,
          1,
          0.999467432498932,
          0.9999982118606568,
          0.999913454055786,
          0.9999895095825196,
          0.9994822144508362,
          0.9999144077301024,
          0.9981620907783508,
          0.9999878406524658,
          0.9999969005584716,
          0.9997194409370422,
          0.9998503923416138,
          0.999995231628418,
          0.9999955892562866,
          1,
          0.99902081489563,
          0.999963402748108,
          0.9999887943267822,
          0.9999862909317015,
          0.9991952776908876,
          0.9999998807907104,
          0.9999619722366332,
          0.9995723366737366,
          0.9998764991760254,
          0.989276885986328,
          0.9870184659957886,
          0.9999864101409912,
          0.9999984502792358,
          0.9999983310699464,
          0.9999462366104126,
          0.9999892711639404,
          0.999903678894043,
          0.9999983310699464,
          0.997775375843048,
          0.9906569719314576,
          0.9999616146087646,
          0.9997875094413756,
          0.9999992847442628,
          0.9999874830245972,
          0.9988389611244202,
          0.9999959468841552,
          0.9999998807907104,
          0.9998983144760132,
          0.9579294323921204,
          0.9998125433921814,
          0.9997370839118958,
          0.9989138841629028,
          0.9999990463256836,
          0.9991323351860046,
          0.9999928474426271,
          0.9704205989837646,
          0.9999594688415528,
          0.997300922870636,
          0.998719334602356,
          0.9999312162399292,
          0.993815302848816,
          0.9460532665252686,
          0.9995833039283752,
          0.9999710321426392,
          0.9996256828308104,
          0.9997290968894958,
          0.9997124075889589,
          0.9980037808418274,
          0.9997182488441468,
          0.9999996423721312,
          0.9999979734420776,
          0.9997078776359558,
          0.9999430179595948,
          0.999924659729004,
          0.9998544454574584,
          0.9999972581863404,
          0.9999746084213256,
          0.999994158744812,
          0.9997978806495668,
          0.9999940395355223,
          0.99999737739563,
          0.9557418227195741,
          0.9999966621398926,
          0.9998379945755004,
          0.9943236112594604,
          0.9999504089355468,
          0.9991300702095032,
          0.9999181032180786,
          0.9994970560073853,
          0.9999957084655762,
          0.9973533153533936,
          0.9999984502792358,
          0.999981164932251,
          0.999944806098938,
          0.9999985694885254,
          0.9999988079071044,
          0.9996533393859864,
          0.9999384880065918,
          0.9999573230743408,
          0.9995349645614624,
          0.9996894598007202,
          0.9999994039535522,
          0.9999366998672484,
          0.9999918937683104,
          0.9995107650756836,
          0.9998799562454224,
          0.99995756149292,
          0.9774771332740784,
          0.9801264405250548,
          0.9999998807907104,
          0.9999067783355712,
          0.9999943971633912,
          0.9999878406524658,
          0.9999942779541016,
          1,
          0.9999991655349731,
          0.99667090177536,
          0.9999388456344604,
          0.9998459815979004,
          0.999980330467224,
          0.9988524913787842,
          0.9999966621398926,
          0.9434307813644408,
          0.9979217648506165,
          0.9999824762344359,
          0.9999934434890748,
          0.940170168876648,
          0.9999828338623048,
          0.999460995197296,
          0.999998927116394,
          0.99874347448349,
          1,
          0.9988189339637756,
          0.9999974966049194,
          1,
          0.9999945163726808,
          1,
          0.9999898672103882,
          0.9996813535690308,
          0.9999265670776368,
          1,
          0.9826574921607972,
          0.9999439716339112,
          0.9999997615814208,
          0.9999983310699464,
          0.9999912977218628,
          0.7445181012153625,
          1,
          0.9959558248519896,
          0.9988082647323608,
          0.999984860420227,
          0.9999995231628418,
          0.9999983310699464,
          0.9999977350234984,
          0.9988935589790344,
          0.9999214410781859,
          0.9999927282333374,
          0.9999943971633912,
          0.9879801869392396,
          0.9999997615814208,
          0.9994470477104188,
          0.9970747232437134,
          0.969786524772644,
          1,
          0.999964475631714,
          0.9996094107627868,
          0.9999964237213136,
          1,
          0.998966097831726,
          0.9998860359191896,
          0.9999281167984008,
          0.9999995231628418,
          0.999934196472168,
          0.9612915515899658,
          0.9998438358306884,
          0.8513503670692444,
          0.999980330467224,
          0.9971576929092408,
          0.9999998807907104,
          1,
          0.9999990463256836,
          0.9936105608940125,
          0.9999902248382568,
          0.9957566857337952,
          0.9971389770507812,
          0.9999955892562866,
          0.9999990463256836,
          1,
          0.9999748468399048,
          0.9999992847442628,
          0.9999510049819946,
          0.9999037981033324,
          0.9999674558639526,
          0.9999439716339112,
          0.9999979734420776,
          0.9999226331710817,
          0.9999923706054688,
          1,
          0.991170048713684,
          0.9999237060546876,
          0.9998445510864258,
          0.9999728202819824,
          1,
          0.9999998807907104,
          0.9999536275863647,
          0.9999898672103882,
          0.99999737739563,
          0.9999933242797852,
          0.9999804496765136,
          0.9999990463256836,
          0.9993298053741456,
          0.9999552965164183,
          0.9997355341911316,
          0.9999997615814208,
          0.999990940093994,
          0.9998778104782104,
          0.9997263550758362,
          0.9998505115509032,
          0.999994158744812,
          0.9999998807907104,
          1,
          0.9999992847442628,
          0.9999927282333374,
          0.9885940551757812,
          0.999690055847168,
          0.9998043179512024,
          1,
          0.9929537177085876,
          0.9977413415908812,
          0.9998394250869752,
          0.9998329877853394,
          0.9999988079071044,
          0.9999479055404664,
          0.9462293386459352,
          0.9981493949890136,
          0.994199514389038,
          0.9999997615814208,
          0.9997491240501404,
          0.9999991655349731,
          0.9999955892562866,
          0.9999958276748656,
          0.9968574047088624,
          0.9994756579399108,
          0.9998564720153807,
          0.998417854309082,
          0.9999960660934448,
          0.9996500015258788,
          0.9973661303520204,
          0.9999717473983764,
          0.999998927116394,
          0.9995352029800416,
          0.9999607801437378,
          0.9945322275161744,
          0.999790370464325,
          0.9991639852523804,
          1,
          0.99931800365448,
          0.9994716048240662,
          0.9994208812713624,
          0.9946718811988832,
          0.9988648891448976,
          0.9999969005584716,
          0.9995716214179992,
          0.9999970197677612,
          0.9991760849952698,
          0.9999891519546508,
          0.9999864101409912,
          0.9999984502792358,
          0.9996726512908936,
          0.9990839958190918,
          0.9998314380645752,
          0.9999850988388062,
          0.9997574687004088,
          0.9989830851554872,
          0.9999178647994996,
          0.9998615980148317,
          0.9991681575775146,
          0.999953031539917,
          0.9999949932098388,
          0.9998108744621276,
          0.9928760528564452,
          0.999994158744812,
          0.9999896287918092,
          0.9999979734420776,
          0.9994932413101196,
          0.9999911785125732,
          0.9999438524246216,
          0.9999701976776124,
          0.9999727010726928,
          0.9900981783866882,
          0.9997425675392152,
          1,
          0.9999287128448486,
          0.9999326467514038,
          0.9999953508377076,
          0.9986708164215088,
          0.9999998807907104,
          0.9998713731765748,
          0.9999845027923584,
          0.9994987249374391,
          0.9976413249969482,
          0.995890498161316,
          0.9997541308403016,
          0.9999212026596068,
          0.9972698092460632,
          0.9999759197235109,
          0.9996498823165894,
          0.9999953508377076,
          0.9999377727508544,
          0.8139718770980835,
          1,
          0.999913454055786,
          1,
          0.9999179840087892,
          0.9947884082794191,
          0.9992109537124634,
          0.988917350769043,
          0.9999976158142091,
          0.9999997615814208,
          0.9998111128807068,
          0.9254255890846252,
          0.9999998807907104,
          0.9999971389770508,
          0.9997850060462952,
          0.9999783039093018,
          0.9999443292617798,
          0.9999526739120485,
          0.9999444484710692,
          0.9999874830245972,
          0.9999997615814208,
          0.9999969005584716,
          0.9999581575393676,
          0.9977454543113708,
          0.9999731779098512,
          0.999764621257782,
          1,
          0.9994891881942748,
          0.9999992847442628,
          0.9733085036277772,
          0.997426211833954,
          1,
          0.9999995231628418,
          0.9999997615814208,
          0.9999766349792479,
          0.999984622001648,
          0.9998416900634766,
          0.9991135001182556,
          1,
          1,
          0.9994882345199584,
          1,
          0.9992490410804749,
          0.9998400211334229,
          0.9827558994293212,
          0.998671531677246,
          0.9999998807907104,
          0.9984330534934998,
          0.9999988079071044,
          0.992603838443756,
          0.9999951124191284,
          0.9999985694885254,
          0.9929782748222352,
          0.9999716281890868,
          0.9996102452278136,
          0.9661062955856324,
          0.999997854232788,
          0.999954104423523,
          0.999997854232788,
          0.9999997615814208,
          0.999997854232788,
          0.9999994039535522,
          0.9999737739562988,
          0.9999650716781616,
          0.7720273733139038,
          0.9996070265769958,
          0.9946584105491638,
          0.9993038177490234,
          0.9999998807907104,
          0.999991774559021,
          0.9999997615814208,
          0.999513864517212,
          0.9999901056289672,
          1,
          0.999261438846588,
          0.9999998807907104,
          0.9999731779098512,
          0.9993361830711364,
          0.997557520866394,
          0.9997988343238832,
          0.9999943971633912,
          0.9999483823776244,
          0.9997432827949524,
          0.9999853372573853,
          0.9999998807907104,
          0.9996408224105836,
          0.9998608827590942,
          0.9996287822723388,
          0.9958861470222472,
          0.9998954534530641,
          0.9999682903289796,
          0.7809959053993225,
          0.7623549103736877,
          0.9743852019309998,
          0.9999994039535522,
          0.9999966621398926,
          1,
          0.54570472240448,
          0.9999995231628418,
          0.9993059635162354,
          1,
          0.9973697662353516,
          0.999968647956848,
          0.9996168613433838,
          0.999998927116394,
          1,
          0.999998927116394,
          0.9992831349372864,
          0.9999836683273317,
          0.9778916835784912,
          0.9999276399612428,
          0.9931394457817078,
          0.9989579916000366,
          0.9959348440170288,
          0.9988746047019958,
          0.9999971389770508,
          0.9999960660934448,
          1,
          0.9999918937683104,
          0.9999969005584716,
          0.9976174235343932,
          0.9999713897705078,
          0.999766767024994,
          0.999771535396576,
          0.9998679161071776,
          0.9823014736175536,
          0.9999957084655762,
          0.999948263168335,
          0.9999998807907104,
          0.9999970197677612,
          0.990692675113678,
          0.938262403011322,
          0.9999992847442628,
          0.998465061187744,
          0.9991747736930848,
          0.6458524465560913,
          0.999991536140442,
          0.9998973608016968,
          0.9999998807907104,
          1,
          0.9990399479866028,
          1,
          0.9983855485916138,
          0.999879002571106,
          0.9971905350685121,
          0.9999972581863404,
          0.9999995231628418,
          0.9998981952667236,
          0.9999704360961914,
          0.9999831914901732,
          0.7654129266738892,
          0.9999974966049194,
          0.9999510049819946,
          0.9999984502792358,
          0.9999961853027344,
          0.9999270439147948,
          0.999998927116394,
          0.9559785723686218,
          1,
          1,
          0.9991865754127502,
          0.9999862909317015,
          0.9999715089797974,
          0.9998984336853028,
          0.9999994039535522,
          0.9999998807907104,
          0.9999969005584716,
          0.9998786449432372,
          0.9998637437820436,
          0.9999960660934448,
          0.9992365837097168,
          0.9999655485153198,
          0.9980839490890504,
          0.999996542930603,
          0.9998923540115356,
          0.9957106113433838,
          0.999980926513672,
          0.9998792409896852,
          0.9980441331863404,
          0.9999980926513672,
          0.9941375255584716,
          0.9999825954437256,
          0.9991101622581482,
          0.9995983242988586,
          0.9998594522476196,
          0.9999990463256836,
          0.9999165534973145,
          0.9999899864196776,
          0.9999607801437378,
          1,
          0.9999890327453612,
          0.9994304776191713,
          0.9376597404479979,
          0.9999101161956788,
          0.9999927282333374,
          0.9999961853027344,
          0.9999873638153076,
          0.975936233997345,
          0.9999892711639404,
          0.9999345541000366,
          0.9999996423721312,
          0.9998475313186646,
          0.9999972581863404,
          0.9999037981033324,
          0.9997140765190125,
          0.9998143315315248,
          0.9999918937683104,
          0.9999971389770508,
          0.9999271631240844,
          0.9995166063308716,
          0.9752081632614136,
          1,
          0.9997634291648864,
          0.9999998807907104,
          0.9999976158142091,
          0.9999498128890992,
          0.9999990463256836,
          0.9954087138175964,
          0.5815407037734985,
          1,
          0.9999996423721312,
          0.8924204707145691,
          0.9998083710670472,
          0.9999928474426271,
          0.9999428987503052,
          0.998507797718048,
          0.9992117881774902,
          0.999669075012207,
          0.999160647392273,
          0.9997970461845398,
          0.9999864101409912,
          0.9996070265769958,
          0.9999955892562866,
          1,
          0.9999897480010986,
          0.999817430973053,
          0.999972939491272,
          0.9999127388000488,
          0.9999768733978271,
          0.9999921321868896,
          0.9992411136627196,
          0.993277370929718,
          0.9991161227226256,
          0.9999841451644896,
          0.9997954964637756,
          0.999903917312622,
          0.9997414946556092,
          0.9942312240600586,
          0.9999996423721312,
          0.993468165397644,
          0.9964375495910645,
          0.9919775128364564,
          0.9999159574508668,
          1,
          0.9996323585510254,
          0.999994158744812,
          1,
          0.9999680519104004,
          0.9999964237213136,
          0.99990975856781,
          0.9998904466629028,
          0.9999462366104126,
          0.9999501705169678,
          0.9978941082954408,
          0.9995405673980712,
          0.9956521391868592,
          1,
          0.9999984502792358,
          0.9999969005584716,
          0.9996559619903564,
          0.9996744394302368,
          0.9993354678153992,
          0.9020642042160034,
          0.9999992847442628,
          0.9998087286949158,
          0.998946726322174,
          0.9999940395355223,
          0.999998927116394,
          0.9997243285179138,
          0.9999107122421264,
          0.9993183612823486,
          0.9999144077301024,
          0.9999921321868896,
          0.999996542930603,
          0.9999678134918212,
          0.9999997615814208,
          0.9999982118606568,
          0.9999912977218628,
          0.9985485672950744,
          0.9999881982803344,
          0.9999475479125975,
          0.9999923706054688,
          0.99811589717865,
          1,
          0.9995267391204834,
          0.9999624490737916,
          0.9998327493667604,
          0.945178747177124,
          0.9999576807022096,
          1,
          0.9984678626060486,
          1,
          0.999842643737793,
          0.9994934797286988,
          0.9889849424362184,
          0.9992153644561768,
          0.9999442100524902,
          0.9996742010116576,
          0.9997509121894836,
          0.999998927116394,
          0.9999998807907104,
          1,
          0.9999994039535522,
          0.9999966621398926,
          0.999994158744812,
          0.9996826648712158,
          0.9999616146087646,
          0.9999877214431764,
          1,
          0.9999754428863524,
          0.9999997615814208,
          0.9999997615814208,
          0.9999836683273317,
          0.9999942779541016,
          0.999913454055786,
          1,
          0.9999829530715942,
          0.999997854232788,
          0.9993606209754944,
          0.9999725818634032,
          0.8192304968833923,
          0.9999910593032836,
          0.9998459815979004,
          0.9982264637947084,
          0.9999990463256836,
          1,
          0.9999960660934448,
          0.9997766613960266,
          0.9999980926513672,
          0.9997223019599916,
          0.999996542930603,
          0.999977707862854,
          0.9999997615814208,
          0.9999911785125732,
          0.999964952468872,
          0.9999942779541016,
          0.9988998174667358,
          0.999801218509674,
          0.9999854564666748,
          0.99933522939682,
          0.9999871253967284,
          0.9999936819076538,
          0.9999939203262328,
          0.9999943971633912,
          0.9999997615814208,
          1,
          0.9999995231628418,
          0.9983371496200562,
          0.9817376732826232,
          1,
          0.99999737739563,
          0.9999849796295166,
          0.9995664954185486,
          0.9977327585220336,
          0.9999998807907104,
          0.9999535083770752,
          0.9999969005584716,
          0.997951328754425,
          0.999994158744812,
          0.9999727010726928,
          0.9792024493217468,
          1,
          0.9956900477409364,
          0.9999890327453612,
          0.9999862909317015,
          0.9999998807907104,
          0.9825734496116638,
          0.9999853372573853,
          0.9999819993972778,
          0.9664360880851746,
          0.9999994039535522,
          0.9999920129776,
          0.9999996423721312,
          0.994454562664032,
          0.9995012283325196,
          0.9999986886978148,
          0.9999969005584716,
          0.999897003173828,
          0.999985933303833,
          0.9999587535858154,
          1,
          1,
          0.9219809770584106,
          0.9995442032814026,
          0.9999949932098388,
          0.9999912977218628,
          0.999786913394928,
          0.9999994039535522,
          0.9999896287918092,
          0.9998154044151306,
          0.9999887943267822,
          0.9984447360038756,
          0.9999988079071044,
          0.9998451471328736,
          0.9988343119621276,
          0.9998399019241332,
          0.9999992847442628,
          0.9999858140945436,
          0.9999929666519164,
          0.9999481439590454,
          0.9999274015426636,
          0.9912410378456116,
          0.9999611377716064,
          0.9999827146530152,
          0.9999637603759766,
          0.9999763965606691,
          0.9999878406524658,
          0.9999971389770508,
          0.9999934434890748,
          0.9993667006492616,
          0.999983549118042,
          0.9999997615814208,
          1,
          0.9999858140945436,
          0.9999983310699464,
          0.9999240636825562,
          0.9999736547470092,
          0.9999924898147584,
          1,
          0.9999970197677612,
          0.9999986886978148,
          0.9999619722366332,
          0.997618854045868,
          0.999846339225769,
          1,
          0.9999998807907104,
          0.9999998807907104,
          0.9999997615814208,
          0.999427616596222,
          0.9997225403785706,
          0.9999995231628418,
          0.9999984502792358,
          0.9999966621398926,
          0.9999994039535522,
          0.9964606165885924,
          0.9999998807907104,
          0.9987760186195374,
          0.9997721314430236,
          0.740448534488678,
          0.9962661862373352,
          0.9999821186065674,
          0.9999921321868896,
          0.9998026490211488,
          0.9999706745147704,
          0.99928879737854,
          1,
          0.9999853372573853,
          0.999981164932251,
          0.9998960494995116,
          0.9977154731750488,
          0.9999332427978516,
          0.9999911785125732,
          0.9999886751174928,
          0.576953649520874,
          0.9999114274978638,
          0.9980499744415284,
          0.9999994039535522,
          0.9999053478240968,
          0.9999479055404664,
          0.8980640769004822,
          0.9999998807907104,
          0.9985408782958984,
          0.9999632835388184,
          0.999996304512024,
          0.9989749193191528,
          0.9999903440475464,
          0.9998947381973268,
          0.9999997615814208,
          0.9988252520561218,
          0.9987093210220336,
          0.9935348033905028,
          0.999325156211853,
          0.9999623298645021,
          0.999380350112915,
          0.9998229146003724,
          0.9999970197677612,
          0.9999998807907104,
          0.9999991655349731,
          0.9999434947967528,
          0.9999998807907104,
          0.9992067217826844,
          0.9999862909317015,
          0.9619130492210388,
          0.9999555349349976,
          1,
          0.99997079372406,
          0.9998005032539368,
          0.9999802112579346,
          0.9999762773513794,
          0.9999997615814208,
          0.9892911314964294,
          0.9999951124191284,
          1,
          0.9788028001785278,
          0.999997854232788,
          0.9994367957115172,
          1,
          0.9999691247940063,
          0.99289870262146,
          0.9996138215065002,
          0.8165804743766785,
          0.6471534371376038,
          0.9999158382415771,
          0.9961087107658386,
          0.948637306690216,
          0.9954341053962708,
          0.9999933242797852,
          0.9989318251609802,
          0.9997184872627258,
          0.9999998807907104,
          1,
          0.9999927282333374,
          0.9999986886978148,
          0.9966856837272644,
          0.9762762784957886,
          0.9999991655349731,
          0.9999942779541016,
          0.9999890327453612,
          0.9999988079071044,
          0.9999902248382568,
          0.9999338388442992,
          0.9999998807907104,
          0.9997878670692444,
          0.9997219443321228,
          0.9999860525131226,
          0.9999991655349731,
          0.9998494386672974,
          0.9986121654510498,
          0.9999990463256836,
          0.9971637129783629,
          0.9999667406082152,
          0.9943504929542542,
          0.999907612800598,
          0.9999984502792358,
          0.9987629652023317,
          0.9999996423721312,
          0.9999502897262572,
          0.9999960660934448,
          0.9999908208847046,
          0.9999998807907104,
          0.9992337226867676,
          0.7703467011451721,
          0.9992344379425048,
          0.998219907283783,
          0.9998514652252196,
          0.9999932050704956,
          0.9996920824050904,
          0.9999639987945556,
          0.9999929666519164,
          0.999975085258484,
          0.9994844198226928,
          0.9871865510940552,
          0.9999998807907104
         ],
         "xbins": {
          "end": 1,
          "size": 0.01,
          "start": 0
         }
        }
       ],
       "layout": {
        "template": {
         "data": {
          "bar": [
           {
            "error_x": {
             "color": "#2a3f5f"
            },
            "error_y": {
             "color": "#2a3f5f"
            },
            "marker": {
             "line": {
              "color": "#E5ECF6",
              "width": 0.5
             }
            },
            "type": "bar"
           }
          ],
          "barpolar": [
           {
            "marker": {
             "line": {
              "color": "#E5ECF6",
              "width": 0.5
             }
            },
            "type": "barpolar"
           }
          ],
          "carpet": [
           {
            "aaxis": {
             "endlinecolor": "#2a3f5f",
             "gridcolor": "white",
             "linecolor": "white",
             "minorgridcolor": "white",
             "startlinecolor": "#2a3f5f"
            },
            "baxis": {
             "endlinecolor": "#2a3f5f",
             "gridcolor": "white",
             "linecolor": "white",
             "minorgridcolor": "white",
             "startlinecolor": "#2a3f5f"
            },
            "type": "carpet"
           }
          ],
          "choropleth": [
           {
            "colorbar": {
             "outlinewidth": 0,
             "ticks": ""
            },
            "type": "choropleth"
           }
          ],
          "contour": [
           {
            "colorbar": {
             "outlinewidth": 0,
             "ticks": ""
            },
            "colorscale": [
             [
              0,
              "#0d0887"
             ],
             [
              0.1111111111111111,
              "#46039f"
             ],
             [
              0.2222222222222222,
              "#7201a8"
             ],
             [
              0.3333333333333333,
              "#9c179e"
             ],
             [
              0.4444444444444444,
              "#bd3786"
             ],
             [
              0.5555555555555556,
              "#d8576b"
             ],
             [
              0.6666666666666666,
              "#ed7953"
             ],
             [
              0.7777777777777778,
              "#fb9f3a"
             ],
             [
              0.8888888888888888,
              "#fdca26"
             ],
             [
              1,
              "#f0f921"
             ]
            ],
            "type": "contour"
           }
          ],
          "contourcarpet": [
           {
            "colorbar": {
             "outlinewidth": 0,
             "ticks": ""
            },
            "type": "contourcarpet"
           }
          ],
          "heatmap": [
           {
            "colorbar": {
             "outlinewidth": 0,
             "ticks": ""
            },
            "colorscale": [
             [
              0,
              "#0d0887"
             ],
             [
              0.1111111111111111,
              "#46039f"
             ],
             [
              0.2222222222222222,
              "#7201a8"
             ],
             [
              0.3333333333333333,
              "#9c179e"
             ],
             [
              0.4444444444444444,
              "#bd3786"
             ],
             [
              0.5555555555555556,
              "#d8576b"
             ],
             [
              0.6666666666666666,
              "#ed7953"
             ],
             [
              0.7777777777777778,
              "#fb9f3a"
             ],
             [
              0.8888888888888888,
              "#fdca26"
             ],
             [
              1,
              "#f0f921"
             ]
            ],
            "type": "heatmap"
           }
          ],
          "heatmapgl": [
           {
            "colorbar": {
             "outlinewidth": 0,
             "ticks": ""
            },
            "colorscale": [
             [
              0,
              "#0d0887"
             ],
             [
              0.1111111111111111,
              "#46039f"
             ],
             [
              0.2222222222222222,
              "#7201a8"
             ],
             [
              0.3333333333333333,
              "#9c179e"
             ],
             [
              0.4444444444444444,
              "#bd3786"
             ],
             [
              0.5555555555555556,
              "#d8576b"
             ],
             [
              0.6666666666666666,
              "#ed7953"
             ],
             [
              0.7777777777777778,
              "#fb9f3a"
             ],
             [
              0.8888888888888888,
              "#fdca26"
             ],
             [
              1,
              "#f0f921"
             ]
            ],
            "type": "heatmapgl"
           }
          ],
          "histogram": [
           {
            "marker": {
             "colorbar": {
              "outlinewidth": 0,
              "ticks": ""
             }
            },
            "type": "histogram"
           }
          ],
          "histogram2d": [
           {
            "colorbar": {
             "outlinewidth": 0,
             "ticks": ""
            },
            "colorscale": [
             [
              0,
              "#0d0887"
             ],
             [
              0.1111111111111111,
              "#46039f"
             ],
             [
              0.2222222222222222,
              "#7201a8"
             ],
             [
              0.3333333333333333,
              "#9c179e"
             ],
             [
              0.4444444444444444,
              "#bd3786"
             ],
             [
              0.5555555555555556,
              "#d8576b"
             ],
             [
              0.6666666666666666,
              "#ed7953"
             ],
             [
              0.7777777777777778,
              "#fb9f3a"
             ],
             [
              0.8888888888888888,
              "#fdca26"
             ],
             [
              1,
              "#f0f921"
             ]
            ],
            "type": "histogram2d"
           }
          ],
          "histogram2dcontour": [
           {
            "colorbar": {
             "outlinewidth": 0,
             "ticks": ""
            },
            "colorscale": [
             [
              0,
              "#0d0887"
             ],
             [
              0.1111111111111111,
              "#46039f"
             ],
             [
              0.2222222222222222,
              "#7201a8"
             ],
             [
              0.3333333333333333,
              "#9c179e"
             ],
             [
              0.4444444444444444,
              "#bd3786"
             ],
             [
              0.5555555555555556,
              "#d8576b"
             ],
             [
              0.6666666666666666,
              "#ed7953"
             ],
             [
              0.7777777777777778,
              "#fb9f3a"
             ],
             [
              0.8888888888888888,
              "#fdca26"
             ],
             [
              1,
              "#f0f921"
             ]
            ],
            "type": "histogram2dcontour"
           }
          ],
          "mesh3d": [
           {
            "colorbar": {
             "outlinewidth": 0,
             "ticks": ""
            },
            "type": "mesh3d"
           }
          ],
          "parcoords": [
           {
            "line": {
             "colorbar": {
              "outlinewidth": 0,
              "ticks": ""
             }
            },
            "type": "parcoords"
           }
          ],
          "pie": [
           {
            "automargin": true,
            "type": "pie"
           }
          ],
          "scatter": [
           {
            "marker": {
             "colorbar": {
              "outlinewidth": 0,
              "ticks": ""
             }
            },
            "type": "scatter"
           }
          ],
          "scatter3d": [
           {
            "line": {
             "colorbar": {
              "outlinewidth": 0,
              "ticks": ""
             }
            },
            "marker": {
             "colorbar": {
              "outlinewidth": 0,
              "ticks": ""
             }
            },
            "type": "scatter3d"
           }
          ],
          "scattercarpet": [
           {
            "marker": {
             "colorbar": {
              "outlinewidth": 0,
              "ticks": ""
             }
            },
            "type": "scattercarpet"
           }
          ],
          "scattergeo": [
           {
            "marker": {
             "colorbar": {
              "outlinewidth": 0,
              "ticks": ""
             }
            },
            "type": "scattergeo"
           }
          ],
          "scattergl": [
           {
            "marker": {
             "colorbar": {
              "outlinewidth": 0,
              "ticks": ""
             }
            },
            "type": "scattergl"
           }
          ],
          "scattermapbox": [
           {
            "marker": {
             "colorbar": {
              "outlinewidth": 0,
              "ticks": ""
             }
            },
            "type": "scattermapbox"
           }
          ],
          "scatterpolar": [
           {
            "marker": {
             "colorbar": {
              "outlinewidth": 0,
              "ticks": ""
             }
            },
            "type": "scatterpolar"
           }
          ],
          "scatterpolargl": [
           {
            "marker": {
             "colorbar": {
              "outlinewidth": 0,
              "ticks": ""
             }
            },
            "type": "scatterpolargl"
           }
          ],
          "scatterternary": [
           {
            "marker": {
             "colorbar": {
              "outlinewidth": 0,
              "ticks": ""
             }
            },
            "type": "scatterternary"
           }
          ],
          "surface": [
           {
            "colorbar": {
             "outlinewidth": 0,
             "ticks": ""
            },
            "colorscale": [
             [
              0,
              "#0d0887"
             ],
             [
              0.1111111111111111,
              "#46039f"
             ],
             [
              0.2222222222222222,
              "#7201a8"
             ],
             [
              0.3333333333333333,
              "#9c179e"
             ],
             [
              0.4444444444444444,
              "#bd3786"
             ],
             [
              0.5555555555555556,
              "#d8576b"
             ],
             [
              0.6666666666666666,
              "#ed7953"
             ],
             [
              0.7777777777777778,
              "#fb9f3a"
             ],
             [
              0.8888888888888888,
              "#fdca26"
             ],
             [
              1,
              "#f0f921"
             ]
            ],
            "type": "surface"
           }
          ],
          "table": [
           {
            "cells": {
             "fill": {
              "color": "#EBF0F8"
             },
             "line": {
              "color": "white"
             }
            },
            "header": {
             "fill": {
              "color": "#C8D4E3"
             },
             "line": {
              "color": "white"
             }
            },
            "type": "table"
           }
          ]
         },
         "layout": {
          "annotationdefaults": {
           "arrowcolor": "#2a3f5f",
           "arrowhead": 0,
           "arrowwidth": 1
          },
          "coloraxis": {
           "colorbar": {
            "outlinewidth": 0,
            "ticks": ""
           }
          },
          "colorscale": {
           "diverging": [
            [
             0,
             "#8e0152"
            ],
            [
             0.1,
             "#c51b7d"
            ],
            [
             0.2,
             "#de77ae"
            ],
            [
             0.3,
             "#f1b6da"
            ],
            [
             0.4,
             "#fde0ef"
            ],
            [
             0.5,
             "#f7f7f7"
            ],
            [
             0.6,
             "#e6f5d0"
            ],
            [
             0.7,
             "#b8e186"
            ],
            [
             0.8,
             "#7fbc41"
            ],
            [
             0.9,
             "#4d9221"
            ],
            [
             1,
             "#276419"
            ]
           ],
           "sequential": [
            [
             0,
             "#0d0887"
            ],
            [
             0.1111111111111111,
             "#46039f"
            ],
            [
             0.2222222222222222,
             "#7201a8"
            ],
            [
             0.3333333333333333,
             "#9c179e"
            ],
            [
             0.4444444444444444,
             "#bd3786"
            ],
            [
             0.5555555555555556,
             "#d8576b"
            ],
            [
             0.6666666666666666,
             "#ed7953"
            ],
            [
             0.7777777777777778,
             "#fb9f3a"
            ],
            [
             0.8888888888888888,
             "#fdca26"
            ],
            [
             1,
             "#f0f921"
            ]
           ],
           "sequentialminus": [
            [
             0,
             "#0d0887"
            ],
            [
             0.1111111111111111,
             "#46039f"
            ],
            [
             0.2222222222222222,
             "#7201a8"
            ],
            [
             0.3333333333333333,
             "#9c179e"
            ],
            [
             0.4444444444444444,
             "#bd3786"
            ],
            [
             0.5555555555555556,
             "#d8576b"
            ],
            [
             0.6666666666666666,
             "#ed7953"
            ],
            [
             0.7777777777777778,
             "#fb9f3a"
            ],
            [
             0.8888888888888888,
             "#fdca26"
            ],
            [
             1,
             "#f0f921"
            ]
           ]
          },
          "colorway": [
           "#636efa",
           "#EF553B",
           "#00cc96",
           "#ab63fa",
           "#FFA15A",
           "#19d3f3",
           "#FF6692",
           "#B6E880",
           "#FF97FF",
           "#FECB52"
          ],
          "font": {
           "color": "#2a3f5f"
          },
          "geo": {
           "bgcolor": "white",
           "lakecolor": "white",
           "landcolor": "#E5ECF6",
           "showlakes": true,
           "showland": true,
           "subunitcolor": "white"
          },
          "hoverlabel": {
           "align": "left"
          },
          "hovermode": "closest",
          "mapbox": {
           "style": "light"
          },
          "paper_bgcolor": "white",
          "plot_bgcolor": "#E5ECF6",
          "polar": {
           "angularaxis": {
            "gridcolor": "white",
            "linecolor": "white",
            "ticks": ""
           },
           "bgcolor": "#E5ECF6",
           "radialaxis": {
            "gridcolor": "white",
            "linecolor": "white",
            "ticks": ""
           }
          },
          "scene": {
           "xaxis": {
            "backgroundcolor": "#E5ECF6",
            "gridcolor": "white",
            "gridwidth": 2,
            "linecolor": "white",
            "showbackground": true,
            "ticks": "",
            "zerolinecolor": "white"
           },
           "yaxis": {
            "backgroundcolor": "#E5ECF6",
            "gridcolor": "white",
            "gridwidth": 2,
            "linecolor": "white",
            "showbackground": true,
            "ticks": "",
            "zerolinecolor": "white"
           },
           "zaxis": {
            "backgroundcolor": "#E5ECF6",
            "gridcolor": "white",
            "gridwidth": 2,
            "linecolor": "white",
            "showbackground": true,
            "ticks": "",
            "zerolinecolor": "white"
           }
          },
          "shapedefaults": {
           "line": {
            "color": "#2a3f5f"
           }
          },
          "ternary": {
           "aaxis": {
            "gridcolor": "white",
            "linecolor": "white",
            "ticks": ""
           },
           "baxis": {
            "gridcolor": "white",
            "linecolor": "white",
            "ticks": ""
           },
           "bgcolor": "#E5ECF6",
           "caxis": {
            "gridcolor": "white",
            "linecolor": "white",
            "ticks": ""
           }
          },
          "title": {
           "x": 0.05
          },
          "xaxis": {
           "automargin": true,
           "gridcolor": "white",
           "linecolor": "white",
           "ticks": "",
           "title": {
            "standoff": 15
           },
           "zerolinecolor": "white",
           "zerolinewidth": 2
          },
          "yaxis": {
           "automargin": true,
           "gridcolor": "white",
           "linecolor": "white",
           "ticks": "",
           "title": {
            "standoff": 15
           },
           "zerolinecolor": "white",
           "zerolinewidth": 2
          }
         }
        },
        "title": {
         "text": "Histogram of the view_proba column on 2458 values"
        }
       }
      },
      "text/html": [
       "<div>\n",
       "        \n",
       "        \n",
       "            <div id=\"d7fb7c1d-4880-4594-960e-f6957d6ae19e\" class=\"plotly-graph-div\" style=\"height:525px; width:100%;\"></div>\n",
       "            <script type=\"text/javascript\">\n",
       "                require([\"plotly\"], function(Plotly) {\n",
       "                    window.PLOTLYENV=window.PLOTLYENV || {};\n",
       "                    \n",
       "                if (document.getElementById(\"d7fb7c1d-4880-4594-960e-f6957d6ae19e\")) {\n",
       "                    Plotly.newPlot(\n",
       "                        'd7fb7c1d-4880-4594-960e-f6957d6ae19e',\n",
       "                        [{\"histnorm\": \"percent\", \"type\": \"histogram\", \"x\": [0.9999226331710817, 0.9999984502792358, 1.0, 0.9989198446273804, 0.9999918937683104, 0.9999983310699464, 1.0, 0.9999991655349731, 0.9990272521972656, 0.999645471572876, 0.9999996423721312, 0.9993828535079956, 0.9999991655349731, 0.9999452829360962, 0.9999992847442628, 0.9999977350234984, 0.999996781349182, 0.9999995231628418, 0.9999395608901978, 0.9998736381530762, 0.9487677812576294, 0.9993993043899536, 0.9999668598175048, 0.9997214674949646, 0.999886989593506, 0.9991806149482728, 0.9999986886978148, 0.9999961853027344, 0.9999992847442628, 0.9999676942825316, 0.9999693632125854, 1.0, 0.9999998807907104, 0.9993608593940736, 0.998778522014618, 0.9999994039535522, 0.9999182224273682, 0.9996334314346312, 0.9899388551712036, 0.999887228012085, 0.9999428987503052, 0.9158033728599548, 0.9999091625213624, 0.9999998807907104, 0.999979853630066, 0.99999737739563, 0.999557077884674, 0.9996145963668824, 0.9999936819076538, 0.9999984502792358, 0.9996154308319092, 0.9949363470077516, 0.9985520243644714, 0.9999994039535522, 0.999859094619751, 0.9992332458496094, 0.999800741672516, 0.999998927116394, 0.9445288181304932, 1.0, 0.9999994039535522, 0.9999998807907104, 0.9997983574867249, 0.99999737739563, 0.9999995231628418, 0.9999223947525024, 0.9999995231628418, 0.9999979734420776, 0.9999992847442628, 0.9999953508377076, 0.9999885559082032, 0.9992313385009766, 0.9891849756240844, 0.9999945163726808, 0.9980751276016236, 0.971790373325348, 0.9991707801818848, 0.9999918937683104, 1.0, 0.9999921321868896, 0.9879133105278016, 0.9999985694885254, 0.9994226694107056, 0.9999972581863404, 0.99905127286911, 0.999489426612854, 0.9999868869781494, 0.9995785355567932, 0.9991661310195924, 0.9898265600204468, 0.9944199919700624, 0.9996544122695924, 0.9999090433120728, 0.9998669624328612, 0.9999996423721312, 0.9997418522834778, 0.99992573261261, 1.0, 0.9948949217796326, 0.9999996423721312, 0.9999784231185912, 0.9999966621398926, 0.9998373985290528, 0.9999442100524902, 0.999876856803894, 1.0, 0.9990838766098022, 0.9990895986557008, 0.9999979734420776, 0.999900221824646, 0.9999984502792358, 1.0, 0.9962843656539916, 0.9999886751174928, 0.9999920129776, 0.9545015096664428, 0.9667960405349731, 0.999826967716217, 0.9999998807907104, 0.9974271655082704, 0.9999688863754272, 0.999865174293518, 1.0, 0.9999736547470092, 0.999996542930603, 0.9999997615814208, 1.0, 0.9547089934349059, 0.9994798302650452, 0.9999690055847168, 0.9997529387474059, 0.9999799728393556, 0.9999748468399048, 0.99998676776886, 0.9993913173675536, 0.999943733215332, 0.9999928474426271, 0.9998583793640136, 0.9999088048934937, 1.0, 0.999527096748352, 1.0, 0.9999823570251464, 0.9996726512908936, 0.9846908450126648, 0.9999871253967284, 0.9999997615814208, 0.9985224604606628, 0.9998387098312378, 0.9999817609786988, 1.0, 0.9999874830245972, 0.9860644340515136, 1.0, 0.9458030462265016, 0.9999516010284424, 0.9999997615814208, 0.945578634738922, 0.9999291896820068, 0.9999158382415771, 0.7817173600196838, 0.9999943971633912, 0.9979283809661864, 0.9999984502792358, 0.8423066735267639, 0.9999487400054932, 0.997919261455536, 0.9983550906181335, 0.9988391995429992, 0.9999918937683104, 0.999994158744812, 0.5615655779838562, 0.9999979734420776, 0.9941957592964172, 0.9998822212219238, 0.999997854232788, 1.0, 0.9998596906661988, 0.9993925094604492, 0.9999361038208008, 0.9999996423721312, 0.9999768733978271, 0.9999794960021972, 0.9999916553497314, 0.9968653321266174, 0.9999181032180786, 0.9999998807907104, 0.8690412044525146, 0.999403715133667, 0.9996463060379028, 0.9994148015975952, 0.999821126461029, 0.9998127818107604, 0.9976649284362792, 0.8851670622825623, 1.0, 0.9998376369476318, 0.9993828535079956, 0.9999977350234984, 0.9999957084655762, 0.9497479796409608, 0.9998558759689332, 0.9999877214431764, 0.9999997615814208, 0.9999618530273438, 1.0, 0.9984530210494996, 0.9835171699523926, 0.9999918937683104, 0.9998540878295898, 0.9980105757713318, 0.9999226331710817, 0.9996609687805176, 0.999996304512024, 0.9983285069465636, 1.0, 0.996241807937622, 0.999985933303833, 0.9999996423721312, 0.9997803568840028, 1.0, 0.9999942779541016, 0.9999997615814208, 0.9999502897262572, 0.9999995231628418, 1.0, 0.4952552616596222, 0.9999946355819702, 0.9999992847442628, 0.9998788833618164, 1.0, 0.9959598183631896, 0.9987427592277528, 0.9999332427978516, 0.9999843835830688, 0.9999996423721312, 0.9999808073043824, 0.9999991655349731, 0.9999189376831056, 0.8191905617713928, 0.9999992847442628, 0.9995349645614624, 0.9998511075973512, 1.0, 0.9998292922973632, 0.9942546486854552, 0.999969720840454, 0.9995537400245668, 1.0, 0.999977707862854, 1.0, 0.9999563694000244, 0.9992172718048096, 0.9997698664665222, 0.999980092048645, 1.0, 0.9997333884239196, 1.0, 1.0, 0.9999951124191284, 0.9993152618408204, 0.9999935626983644, 0.9999988079071044, 0.9999979734420776, 0.9998462200164796, 1.0, 0.9998403787612916, 0.9999890327453612, 0.9999837875366212, 0.988669753074646, 1.0, 0.999995231628418, 0.9999865293502808, 1.0, 0.999991536140442, 0.9937024116516112, 0.9999943971633912, 0.999093770980835, 0.9993807077407836, 0.9994838237762452, 0.9999176263809204, 1.0, 0.9999985694885254, 0.9999994039535522, 0.9825162887573242, 0.9814130067825316, 0.9999988079071044, 0.9999362230300904, 1.0, 0.9999997615814208, 0.999963402748108, 1.0, 0.9999282360076904, 0.9279577136039734, 1.0, 0.9993515610694884, 0.9904878735542296, 0.999997854232788, 0.997051477432251, 0.9999994039535522, 0.9999308586120604, 0.9999927282333374, 0.9999617338180542, 0.9993595480918884, 0.996822476387024, 0.99904066324234, 0.9335077404975892, 0.9970086216926576, 0.9999991655349731, 0.9999916553497314, 0.9999988079071044, 1.0, 0.9790028929710388, 1.0, 0.9999920129776, 0.9970241189002992, 1.0, 0.9999992847442628, 0.9999818801879884, 0.9999997615814208, 0.9997445940971376, 0.9999995231628418, 0.9999057054519652, 0.999995231628418, 0.9990642666816713, 0.99999737739563, 0.9992863535881042, 0.999985933303833, 0.9992125034332277, 0.9998268485069276, 0.999577820301056, 0.999998927116394, 0.99921715259552, 0.9999881982803344, 0.9994026422500609, 0.999972939491272, 0.8656672239303589, 0.9611013531684875, 0.9986288547515868, 0.9999901056289672, 0.9999997615814208, 0.9999930858612059, 0.9999747276306152, 0.999997854232788, 0.9904894828796388, 0.9999982118606568, 0.9999966621398926, 0.99966561794281, 0.9963833093643188, 0.9997428059577942, 0.9999994039535522, 0.9996552467346193, 0.9953199028968812, 0.9999970197677612, 0.9996570348739624, 1.0, 0.983402132987976, 0.9999779462814332, 0.9923015832901, 0.9999762773513794, 0.9997739195823668, 0.9999902248382568, 0.9998867511749268, 0.9999741315841676, 1.0, 0.999955415725708, 0.9997587800025941, 0.9998373985290528, 0.9991821646690368, 0.9999470710754396, 0.9999860525131226, 0.999476969242096, 0.9999988079071044, 0.9999960660934448, 0.9999161958694458, 0.998178005218506, 0.997517466545105, 0.9999961853027344, 0.8154266476631165, 0.9525681734085084, 0.999352753162384, 0.99457585811615, 0.9999791383743286, 1.0, 0.9998923540115356, 0.9999988079071044, 0.9999308586120604, 0.9879665970802308, 0.9999014139175416, 0.9999922513961792, 0.963878095149994, 0.9999960660934448, 0.9978253841400146, 0.9999969005584716, 0.9981269240379332, 0.9988991022109984, 0.9999977350234984, 0.9999868869781494, 0.9999716281890868, 0.997666835784912, 0.9999992847442628, 0.9999992847442628, 0.9998766183853148, 0.961648166179657, 1.0, 1.0, 0.999985694885254, 1.0, 0.9999997615814208, 0.987468957901001, 0.9543861150741576, 0.9999972581863404, 0.9989437460899352, 0.9999948740005492, 0.9983667731285096, 0.9996441602706908, 0.9999998807907104, 0.9824702143669128, 0.9997926354408264, 1.0, 1.0, 1.0, 0.9954981803894044, 0.9931635856628418, 1.0, 0.9999889135360718, 1.0, 0.99996018409729, 0.83355712890625, 0.999935269355774, 0.9999270439147948, 0.9999929666519164, 0.9999929666519164, 0.7108518481254578, 0.9999996423721312, 0.9998817443847656, 0.9999943971633912, 0.9999998807907104, 0.9999959468841552, 0.999882698059082, 0.9999934434890748, 0.9995137453079224, 0.981655776500702, 0.9211119413375854, 0.9999799728393556, 0.9993042945861816, 0.9999957084655762, 0.9999927282333374, 0.9836861491203308, 0.9827141165733336, 0.9999301433563232, 0.999991774559021, 0.9995986819267272, 0.998409867286682, 0.999963879585266, 0.9999957084655762, 0.9990112781524658, 0.998543620109558, 0.9999998807907104, 0.9998707771301271, 0.9999960660934448, 0.9999700784683228, 0.9999995231628418, 0.999561846256256, 0.9999902248382568, 0.9962335228919984, 1.0, 0.9997246861457824, 0.9999969005584716, 0.9992578625679016, 0.9995225667953492, 0.9999852180480956, 0.9998923540115356, 0.9999969005584716, 1.0, 0.9997565150260924, 0.999886155128479, 0.9996949434280396, 0.9999945163726808, 0.9999773502349854, 1.0, 1.0, 0.9999958276748656, 0.9991501569747924, 0.9999979734420776, 0.9999997615814208, 1.0, 1.0, 0.9995751976966858, 0.9999955892562866, 0.9999979734420776, 0.9997788071632384, 0.9999998807907104, 0.9999752044677734, 0.9998884201049804, 0.9989879727363586, 0.9889177083969116, 0.9999986886978148, 0.9999804496765136, 0.9999977350234984, 0.998814821243286, 0.9998834133148192, 0.9999918937683104, 0.998057186603546, 0.9988474845886229, 0.99997079372406, 0.9999158382415771, 0.9999997615814208, 0.951051950454712, 0.9999997615814208, 0.9999732971191406, 0.9995868802070618, 0.9998610019683838, 0.9999841451644896, 0.9998692274093628, 1.0, 0.9499022960662842, 0.9999487400054932, 0.9995204210281372, 0.9999979734420776, 0.9985061287879944, 0.9996750354766846, 0.9992947578430176, 0.9999983310699464, 1.0, 0.9999094009399414, 1.0, 0.9999669790267944, 0.9999996423721312, 0.9994221925735474, 1.0, 0.999548614025116, 0.9999933242797852, 0.992499053478241, 0.9177212119102478, 0.9999988079071044, 0.9999998807907104, 0.999998927116394, 0.9999986886978148, 0.9998266100883484, 0.999942183494568, 0.9977439641952516, 0.9997829794883728, 0.99951434135437, 0.9999998807907104, 0.9999320507049559, 1.0, 0.9999998807907104, 0.9999505281448364, 0.9994667172431946, 0.999998927116394, 0.9985346794128418, 0.9999921321868896, 0.9999718666076659, 0.9999976158142091, 0.9998584985733032, 0.9997918009757996, 0.9999213218688964, 0.9891724586486816, 0.999963402748108, 0.8079785704612732, 0.9992488026618958, 0.9999964237213136, 0.9999758005142212, 0.9990912675857544, 0.9999998807907104, 0.9999971389770508, 0.9998924732208252, 0.9999984502792358, 0.9906003475189208, 0.9998674392700196, 0.999931573867798, 0.9999966621398926, 0.9993557333946228, 0.9999995231628418, 0.9999738931655884, 0.9994469285011292, 0.9999998807907104, 0.9986438155174256, 0.9999842643737792, 0.9485034346580504, 0.9999942779541016, 0.9999998807907104, 0.9999771118164062, 0.99925297498703, 1.0, 0.9831772446632384, 0.5125167965888977, 0.9994947910308838, 0.9998455047607422, 0.9999648332595824, 0.9999946355819702, 0.9871345162391664, 0.9999955892562866, 0.9997143149375916, 0.996250569820404, 0.9999998807907104, 0.9999969005584716, 0.9999992847442628, 1.0, 0.999738872051239, 0.999979853630066, 0.9998089671134948, 1.0, 1.0, 1.0, 0.9999946355819702, 0.9999784231185912, 0.9999841451644896, 0.9998667240142822, 0.9999996423721312, 0.9655148983001708, 0.9997972846031188, 0.9999812841415404, 0.9992395639419556, 0.999829649925232, 0.999991774559021, 0.9999969005584716, 0.9985631108283995, 0.9999897480010986, 1.0, 1.0, 0.9999998807907104, 0.9999997615814208, 0.9999992847442628, 0.9999946355819702, 0.9999762773513794, 0.9999991655349731, 0.9999998807907104, 0.9999136924743652, 0.9999992847442628, 1.0, 0.9999984502792358, 0.9987782835960388, 0.7241888046264648, 0.9999090433120728, 0.9999972581863404, 0.9999865293502808, 0.9999995231628418, 0.999292254447937, 1.0, 0.9972338080406188, 0.9999572038650512, 0.7661095857620239, 0.9999998807907104, 0.9980297684669496, 0.99402517080307, 0.9999998807907104, 0.9992596507072448, 0.9999514818191528, 0.9997499585151672, 0.9999758005142212, 0.9999990463256836, 0.9999953508377076, 0.9998003840446472, 0.9999121427536012, 0.9999983310699464, 0.9999405145645142, 1.0, 0.9999285936355592, 0.999995231628418, 0.999998927116394, 0.9999998807907104, 0.9999717473983764, 0.9997060894966124, 0.9971655011177064, 1.0, 0.9999929666519164, 0.9981569647789, 0.9987556934356691, 0.9999722242355348, 0.996109426021576, 0.9406270384788512, 0.9594760537147522, 0.9999990463256836, 0.9999998807907104, 0.9999657869338988, 0.9999570846557616, 0.9995213747024536, 0.9999996423721312, 0.9999564886093141, 0.9999996423721312, 0.9989001750946044, 0.9999995231628418, 0.9999992847442628, 0.9998149275779724, 0.9978105425834656, 0.9999560117721558, 0.9994502663612366, 0.9999998807907104, 1.0, 0.9999933242797852, 0.9999405145645142, 0.9998537302017212, 0.9999982118606568, 0.9999207258224488, 0.9999343156814576, 0.9999984502792358, 0.9999366998672484, 0.9999966621398926, 0.9997883439064026, 0.9999475479125975, 0.9999711513519288, 0.9999804496765136, 0.9927170276641846, 0.9999996423721312, 1.0, 1.0, 0.9974337220191956, 1.0, 0.9997428059577942, 0.9999940395355223, 0.9986451268196106, 0.9968997240066528, 0.9989807009696959, 0.9999998807907104, 0.9998387098312378, 0.9996569156646729, 0.99993097782135, 0.99983012676239, 0.9727884531021118, 0.9936490654945374, 0.9991124272346495, 0.9999997615814208, 0.9604580402374268, 1.0, 0.9976944327354432, 0.9999573230743408, 0.9997579455375672, 1.0, 0.9977294802665709, 0.9998080134391784, 0.9999487400054932, 0.9993058443069458, 0.9999994039535522, 0.999992609024048, 0.9999890327453612, 0.9995371103286744, 0.9999338388442992, 0.9999984502792358, 0.9999732971191406, 0.9999184608459472, 0.995245635509491, 0.9999927282333374, 0.9998362064361572, 0.862736701965332, 0.9999997615814208, 0.9999979734420776, 0.999963641166687, 0.9999864101409912, 0.9999980926513672, 0.9999930858612059, 0.9994900226593018, 0.9999432563781738, 0.99884831905365, 0.9999955892562866, 0.9999998807907104, 0.9999841451644896, 1.0, 0.9982574582099916, 0.9994797110557556, 0.9999985694885254, 0.9999998807907104, 0.9999462366104126, 0.99999737739563, 0.9999992847442628, 0.9997649788856506, 0.9997087121009828, 0.9999030828475952, 0.9922877550125122, 0.9219809770584106, 0.999927282333374, 0.9997861981391908, 0.9974398612976074, 1.0, 0.9999990463256836, 0.9999712705612184, 0.9999997615814208, 0.9999870061874391, 0.9999964237213136, 1.0, 0.999329686164856, 0.9998612403869628, 0.993513822555542, 0.9999908208847046, 0.9999986886978148, 0.9999058246612548, 0.9999761581420898, 0.9999938011169434, 0.999913215637207, 0.999994158744812, 0.9999351501464844, 0.999987244606018, 0.9992929697036744, 0.9926984906196594, 1.0, 0.9999783039093018, 0.9989640712738036, 0.974838376045227, 0.999997854232788, 0.967548966407776, 0.9953820109367372, 0.9999995231628418, 0.9900001883506776, 0.9999948740005492, 1.0, 0.9997439980506896, 0.9999997615814208, 0.9940136075019836, 0.9999997615814208, 0.9988608360290528, 0.9999841451644896, 0.9999976158142091, 0.9991289973258972, 0.9999966621398926, 0.9999185800552368, 0.9999715089797974, 0.9999901056289672, 0.9993256330490112, 0.99962317943573, 0.9997540116310121, 0.999988317489624, 0.9999957084655762, 0.9999618530273438, 0.9340749979019164, 0.9999825954437256, 0.9999996423721312, 0.999990940093994, 0.9999805688858032, 1.0, 0.9979764819145204, 0.9992857575416564, 0.999525785446167, 0.9999847412109376, 1.0, 0.999997854232788, 0.9993457198143004, 0.9999359846115112, 0.9999200105667114, 0.999869704246521, 0.9999992847442628, 0.999777615070343, 0.9994327425956726, 0.9993175268173218, 0.9878831505775452, 1.0, 0.9920389652252196, 0.9999842643737792, 0.9932994842529296, 0.9999812841415404, 0.9999979734420776, 0.9999988079071044, 0.9999468326568604, 1.0, 0.9993719458580016, 0.9999885559082032, 0.9999966621398926, 0.9978089928627014, 0.9966433048248292, 0.9964627623558044, 0.9999979734420776, 0.9999762773513794, 0.9999974966049194, 0.9999890327453612, 0.9999805688858032, 0.9998689889907836, 0.9999997615814208, 0.9999116659164428, 0.9999953508377076, 0.9999992847442628, 0.9999958276748656, 1.0, 0.9274555444717408, 0.9941139817237854, 0.9999946355819702, 1.0, 0.9999996423721312, 0.9998382329940796, 0.9989450573921204, 0.9999980926513672, 0.9973944425582886, 0.9999955892562866, 1.0, 0.999996304512024, 0.9999431371688844, 0.9994161128997804, 1.0, 0.9999696016311646, 0.9999992847442628, 0.9999976158142091, 0.9999990463256836, 0.993331491947174, 0.9993884563446044, 0.9962448477745056, 0.9999561309814452, 0.9981860518455504, 0.9999934434890748, 0.9999710321426392, 0.9999923706054688, 0.9999542236328124, 0.9970077872276306, 0.9998998641967772, 0.987639844417572, 0.999578297138214, 0.9999665021896362, 0.9999938011169434, 0.9999932050704956, 0.99994695186615, 0.9999834299087524, 0.9999862909317015, 0.9999194145202636, 0.9999623298645021, 0.9999998807907104, 0.9997844099998474, 0.9999892711639404, 1.0, 0.9999995231628418, 0.9994090795516968, 1.0, 0.9999995231628418, 1.0, 0.9983320832252502, 0.9999932050704956, 0.9998277425765992, 0.9999977350234984, 0.9991688728332521, 0.997993230819702, 1.0, 0.999963879585266, 0.999397873878479, 0.9999992847442628, 1.0, 1.0, 0.998753309249878, 0.9999871253967284, 1.0, 0.9999635219573976, 0.9999948740005492, 0.9534100890159608, 0.9998335838317872, 1.0, 0.9999582767486572, 0.9999997615814208, 0.8772492408752441, 0.9922156929969788, 0.999779999256134, 0.999942421913147, 1.0, 0.9985022544860841, 0.8612944483757019, 0.9999930858612059, 1.0, 0.9986199140548706, 0.999996304512024, 0.9999994039535522, 0.9994897842407228, 0.9975715279579164, 0.9999328851699828, 0.9988290667533876, 0.9864115715026855, 0.99955552816391, 0.9999736547470092, 0.99967622756958, 0.9999233484268188, 0.9999957084655762, 0.7141830921173096, 0.9760579466819764, 1.0, 0.9999966621398926, 0.9999955892562866, 0.99998676776886, 0.9987930059432985, 0.9995176792144777, 0.9999995231628418, 0.9533206820487976, 0.999964952468872, 0.9999998807907104, 0.9999995231628418, 0.9998146891593932, 0.9999295473098756, 0.9999065399169922, 0.9957149624824524, 0.999980926513672, 0.9999954700469972, 1.0, 0.9997689127922058, 0.9994793534278871, 0.9998112320899964, 0.9997276663780212, 0.9986068606376648, 0.9953643083572388, 0.9999719858169556, 0.9999924898147584, 0.9996354579925536, 0.9999949932098388, 0.9999595880508424, 0.9999824762344359, 0.9997416138648988, 0.9997546076774596, 0.9999983310699464, 0.9998736381530762, 0.9999886751174928, 0.9999955892562866, 0.9999996423721312, 0.9999608993530272, 0.9999998807907104, 0.9021067619323729, 0.9999723434448242, 0.9999899864196776, 0.9967071413993835, 0.98394113779068, 0.9787028431892396, 0.994336187839508, 0.9982958436012268, 0.9999595880508424, 0.9995348453521729, 0.999942660331726, 1.0, 0.9974059462547302, 0.9998834133148192, 0.9875335693359376, 0.9999974966049194, 0.99018657207489, 0.9999934434890748, 0.9999990463256836, 0.9936094284057616, 0.9997259974479676, 0.9999996423721312, 0.9999568462371826, 0.999998927116394, 1.0, 0.9999499320983888, 0.9994482398033142, 0.9994237422943116, 0.9999216794967652, 0.9942851662635804, 0.9605396389961244, 0.9996932744979858, 0.9999997615814208, 0.9997846484184264, 0.9999890327453612, 0.9999996423721312, 0.9981358051300048, 0.9999998807907104, 0.9964537620544434, 0.9999922513961792, 0.999991774559021, 0.9936628341674804, 0.996911346912384, 0.981683909893036, 0.9999911785125732, 0.9999834299087524, 0.99955815076828, 0.9991249442100524, 0.9997071623802184, 0.9999936819076538, 0.9999998807907104, 0.9999796152114868, 0.999983549118042, 0.999996781349182, 0.9996912479400636, 0.99978369474411, 0.999596893787384, 0.9999998807907104, 0.9999990463256836, 1.0, 0.9860644340515136, 0.9999701976776124, 0.999995231628418, 0.9999920129776, 0.9998750686645508, 0.9998843669891356, 1.0, 0.9996702671051024, 0.9999974966049194, 0.9999791383743286, 0.9981605410575868, 1.0, 0.9999983310699464, 0.9999946355819702, 0.9972053170204164, 0.9999637603759766, 0.9995087385177612, 0.9999858140945436, 0.9999793767929076, 0.9998862743377686, 0.9962189793586732, 0.9967827796936036, 0.9996143579483032, 0.9999995231628418, 0.9996273517608644, 0.9989365935325624, 0.9999756813049316, 0.9997194409370422, 0.996970534324646, 0.876800000667572, 0.9999998807907104, 0.9999958276748656, 0.9999608993530272, 0.99999737739563, 0.999994158744812, 0.999987244606018, 0.9999738931655884, 0.9999982118606568, 0.9999456405639648, 1.0, 0.999990463256836, 0.9991183876991272, 0.9999874830245972, 0.9984520673751832, 0.7279358506202698, 0.9989230036735536, 0.9999488592147828, 0.9938162565231324, 0.9999974966049194, 0.9999881982803344, 0.9999980926513672, 0.999994158744812, 0.9999537467956544, 0.9999706745147704, 0.9999995231628418, 0.9999212026596068, 0.9998152852058412, 0.9999918937683104, 0.9998822212219238, 0.9999964237213136, 0.9999994039535522, 0.9999995231628418, 0.9995504021644592, 0.9999996423721312, 0.99994158744812, 0.9997296929359436, 0.9999830722808838, 0.9996873140335084, 0.999995231628418, 0.9991223216056824, 0.999996781349182, 0.8021775484085083, 0.9999874830245972, 0.9997851252555848, 1.0, 0.9999719858169556, 0.9998679161071776, 0.9999946355819702, 0.9999585151672364, 0.9999887943267822, 0.9998599290847778, 0.9999998807907104, 0.9996808767318726, 0.9999701976776124, 0.9998550415039062, 0.9995126724243164, 0.9997583031654358, 1.0, 0.9952267408370972, 0.9999557733535768, 0.9999964237213136, 0.999881148338318, 0.9978713989257812, 0.984558403491974, 1.0, 0.9999995231628418, 0.9988951086997986, 0.9999960660934448, 0.9999992847442628, 0.9998513460159302, 0.9999949932098388, 0.9997887015342712, 0.9999880790710448, 0.9951291084289552, 0.9999985694885254, 0.9999841451644896, 0.9967374205589294, 0.9221220612525941, 0.9999749660491944, 0.9999843835830688, 0.9999880790710448, 0.9986488223075868, 0.9998401403427124, 0.9980146884918212, 0.9994661211967468, 0.9999772310256958, 0.999885320663452, 0.9898920059204102, 0.9999998807907104, 0.9999629259109496, 0.9903967380523682, 0.9998589754104614, 0.99982750415802, 0.9999914169311525, 0.9999685287475586, 0.9998888969421388, 0.9995612502098083, 0.9999996423721312, 0.9999955892562866, 0.9999840259552002, 0.9999992847442628, 0.9999843835830688, 0.9999699592590332, 0.9999833106994628, 1.0, 0.9999492168426514, 0.9955990314483644, 0.9999969005584716, 0.9951651096343994, 0.993205189704895, 1.0, 0.9999765157699584, 1.0, 0.999637484550476, 0.9999995231628418, 0.9993358254432678, 0.9999313354492188, 0.9999982118606568, 0.9933077096939088, 0.9997940659523009, 0.9994109869003296, 0.9999996423721312, 0.9999376535415648, 0.9999215602874756, 0.9974904060363771, 0.9995057582855223, 0.9988995790481568, 0.9999997615814208, 0.9224048256874084, 0.9999465942382812, 0.999987244606018, 0.997668206691742, 0.9999997615814208, 0.9999886751174928, 0.999991774559021, 0.9997851252555848, 0.9998947381973268, 0.9987574815750122, 0.9997987151145936, 0.9999997615814208, 0.9999387264251708, 0.9994506239891052, 0.999954104423523, 1.0, 0.9999490976333618, 0.9999988079071044, 0.9999960660934448, 0.9985698461532592, 0.9980754852294922, 1.0, 0.9992033839225768, 0.9999566078186036, 0.9999241828918456, 0.9999996423721312, 0.9999942779541016, 0.99999737739563, 0.9997990727424622, 0.9994634985923768, 0.9999823570251464, 0.999835968017578, 0.9988043308258056, 0.999823033809662, 0.9997223019599916, 0.9999986886978148, 0.9981328845024108, 0.9999997615814208, 0.9991446733474731, 0.993281066417694, 0.9937615990638732, 0.9711452722549438, 0.9999997615814208, 1.0, 0.9999457597732544, 0.9936535358428956, 1.0, 0.9999998807907104, 0.9998472929000854, 0.9998303651809692, 0.997752845287323, 0.9999997615814208, 1.0, 0.9999896287918092, 0.9999966621398926, 0.9997940659523009, 0.9998502731323242, 0.9999998807907104, 0.998748779296875, 0.999740183353424, 0.9964838027954102, 0.9999461174011229, 0.9999997615814208, 1.0, 0.9999898672103882, 0.9999879598617554, 0.9999608993530272, 0.999843955039978, 0.9993222951889038, 0.9958699345588684, 0.9998206496238708, 0.9999961853027344, 0.5867023468017578, 1.0, 0.9998255372047424, 0.9999492168426514, 0.9998794794082642, 1.0, 0.999898076057434, 0.9853426218032836, 0.999947190284729, 0.9998279809951782, 0.9999961853027344, 0.9999738931655884, 0.9993062019348145, 0.9999870061874391, 0.9998667240142822, 0.9999599456787108, 0.9999865293502808, 0.9999997615814208, 0.9999468326568604, 0.999698042869568, 0.8696275353431702, 0.99321049451828, 0.999800741672516, 0.9999997615814208, 0.9999923706054688, 0.9995483756065368, 0.9999608993530272, 0.9999959468841552, 0.9999884366989136, 0.9995335340499878, 1.0, 0.9999849796295166, 0.9999518394470216, 0.9997907280921936, 0.9999693632125854, 0.9999988079071044, 0.9941943287849426, 0.9999979734420776, 0.9860658645629884, 0.9998804330825806, 0.9999964237213136, 0.9964258074760436, 0.9999945163726808, 0.9998008608818054, 0.9803090095520021, 0.9989590644836426, 0.9999668598175048, 0.9997476935386658, 0.9992809891700744, 0.9999933242797852, 0.9943315982818604, 0.9999996423721312, 0.9999996423721312, 0.9944735169410706, 0.9999933242797852, 0.9999322891235352, 0.999970316886902, 1.0, 0.9995850920677184, 0.9999587535858154, 0.9999970197677612, 0.9999988079071044, 0.9858549237251282, 0.9999908208847046, 0.9938945174217224, 0.9997097849845886, 0.9985089898109436, 0.9999997615814208, 0.9999929666519164, 0.9754447340965272, 0.9999959468841552, 0.9991518259048462, 0.9975060820579528, 0.9999991655349731, 0.9993478655815125, 0.9998039603233336, 0.7547684907913208, 0.9999852180480956, 0.9995934367179872, 0.9999970197677612, 1.0, 0.9999898672103882, 1.0, 0.9999901056289672, 0.9999749660491944, 0.999996781349182, 0.9999991655349731, 0.999842643737793, 0.9826268553733826, 0.9998855590820312, 0.9987277388572692, 0.999924659729004, 0.9998298883438109, 0.9998759031295776, 1.0, 0.9999948740005492, 1.0, 0.9999960660934448, 0.9993826150894164, 0.999902367591858, 0.9973135590553284, 0.9989138841629028, 0.9995476603507996, 0.9999998807907104, 0.9999730587005616, 0.9999713897705078, 0.9994818568229676, 0.9997641444206238, 0.9999080896377563, 0.9999663829803468, 0.9998749494552612, 0.9999903440475464, 1.0, 0.9998351335525512, 0.9999998807907104, 0.9719321131706238, 0.9999998807907104, 0.9999274015426636, 0.9978277087211608, 0.9999995231628418, 0.9996196031570436, 0.9999850988388062, 0.9995811581611632, 0.9999713897705078, 0.9999351501464844, 0.9606205224990844, 0.9999945163726808, 0.9999983310699464, 0.940221667289734, 0.837250292301178, 0.9999983310699464, 0.999952793121338, 0.9809668064117432, 0.9996254444122314, 0.999868631362915, 0.9999992847442628, 0.9999980926513672, 0.999755084514618, 0.9997740387916564, 0.9999998807907104, 0.999954104423523, 0.9999641180038452, 0.9800949096679688, 0.9996856451034546, 0.9992212057113647, 0.9999890327453612, 0.9868398904800416, 0.9996040463447572, 0.9916664958000184, 0.9999929666519164, 0.9996942281723022, 0.9997461438179016, 0.9999998807907104, 0.9999995231628418, 0.992426872253418, 0.9999269247055054, 0.9967543482780457, 0.9999760389328004, 0.9999942779541016, 0.999486207962036, 0.9999465942382812, 0.997236967086792, 0.9999949932098388, 0.9999623298645021, 0.9999992847442628, 0.9999995231628418, 0.9999662637710572, 0.9999465942382812, 0.9999936819076538, 0.9994124174118042, 0.9751859307289124, 0.9996408224105836, 0.9741408228874208, 0.999992609024048, 0.9966012239456176, 0.9999951124191284, 0.9999841451644896, 0.9999533891677856, 0.9999994039535522, 0.999947190284729, 0.9999336004257202, 1.0, 1.0, 0.9999047517776488, 0.9999903440475464, 0.9999790191650392, 0.9999997615814208, 0.99994695186615, 0.9997534155845642, 0.9999994039535522, 0.9999766349792479, 0.999822199344635, 0.9998717308044434, 0.9999996423721312, 0.999221682548523, 0.99915611743927, 0.9999796152114868, 0.999437153339386, 0.9999930858612059, 0.999125063419342, 0.999923586845398, 0.9999998807907104, 0.9999998807907104, 0.9999943971633912, 0.9999997615814208, 0.9986534118652344, 0.9999836683273317, 0.9998139739036559, 1.0, 0.9999914169311525, 0.9998685121536256, 0.9977341890335084, 0.9999189376831056, 0.9993867874145508, 0.9999995231628418, 0.9950128197669984, 0.9999995231628418, 0.9958477020263672, 0.9893544912338256, 0.9998016953468324, 0.9999395608901978, 0.9999839067459106, 0.9849356412887572, 0.999975323677063, 1.0, 0.9997205138206482, 0.9999850988388062, 0.9999840259552002, 0.9999954700469972, 0.9999899864196776, 0.9999930858612059, 0.9999994039535522, 0.998102843761444, 0.9999446868896484, 0.9979438185691832, 0.9999207258224488, 0.9999933242797852, 1.0, 0.9999985694885254, 0.9999992847442628, 1.0, 0.999985694885254, 1.0, 0.9999758005142212, 0.9999313354492188, 0.9999709129333496, 0.9997797608375548, 0.9999998807907104, 0.9999622106552124, 0.9999997615814208, 0.9999668598175048, 0.9999308586120604, 0.9999986886978148, 0.9998525381088256, 0.997641921043396, 0.9999922513961792, 0.9992026686668396, 0.9999972581863404, 0.9994211196899414, 0.9999930858612059, 0.9992949962615968, 0.9999995231628418, 0.9999247789382936, 0.9999737739562988, 0.9999966621398926, 1.0, 0.9999985694885254, 0.9999890327453612, 0.9999593496322632, 0.999883770942688, 0.9999793767929076, 0.9993891716003418, 0.9999916553497314, 0.9985461235046388, 0.9992079138755798, 0.9974892139434814, 0.9979438185691832, 0.9994019269943236, 0.9999545812606812, 0.9999622106552124, 0.9999998807907104, 0.9999995231628418, 0.993615984916687, 0.9999927282333374, 0.9989873766899108, 0.9999208450317384, 0.9980508089065552, 0.9999700784683228, 0.8038288950920105, 0.9990766048431396, 0.999985694885254, 0.9965113997459412, 0.9998133778572084, 0.9999431371688844, 0.9999996423721312, 1.0, 0.999467432498932, 0.9999982118606568, 0.999913454055786, 0.9999895095825196, 0.9994822144508362, 0.9999144077301024, 0.9981620907783508, 0.9999878406524658, 0.9999969005584716, 0.9997194409370422, 0.9998503923416138, 0.999995231628418, 0.9999955892562866, 1.0, 0.99902081489563, 0.999963402748108, 0.9999887943267822, 0.9999862909317015, 0.9991952776908876, 0.9999998807907104, 0.9999619722366332, 0.9995723366737366, 0.9998764991760254, 0.989276885986328, 0.9870184659957886, 0.9999864101409912, 0.9999984502792358, 0.9999983310699464, 0.9999462366104126, 0.9999892711639404, 0.999903678894043, 0.9999983310699464, 0.997775375843048, 0.9906569719314576, 0.9999616146087646, 0.9997875094413756, 0.9999992847442628, 0.9999874830245972, 0.9988389611244202, 0.9999959468841552, 0.9999998807907104, 0.9998983144760132, 0.9579294323921204, 0.9998125433921814, 0.9997370839118958, 0.9989138841629028, 0.9999990463256836, 0.9991323351860046, 0.9999928474426271, 0.9704205989837646, 0.9999594688415528, 0.997300922870636, 0.998719334602356, 0.9999312162399292, 0.993815302848816, 0.9460532665252686, 0.9995833039283752, 0.9999710321426392, 0.9996256828308104, 0.9997290968894958, 0.9997124075889589, 0.9980037808418274, 0.9997182488441468, 0.9999996423721312, 0.9999979734420776, 0.9997078776359558, 0.9999430179595948, 0.999924659729004, 0.9998544454574584, 0.9999972581863404, 0.9999746084213256, 0.999994158744812, 0.9997978806495668, 0.9999940395355223, 0.99999737739563, 0.9557418227195741, 0.9999966621398926, 0.9998379945755004, 0.9943236112594604, 0.9999504089355468, 0.9991300702095032, 0.9999181032180786, 0.9994970560073853, 0.9999957084655762, 0.9973533153533936, 0.9999984502792358, 0.999981164932251, 0.999944806098938, 0.9999985694885254, 0.9999988079071044, 0.9996533393859864, 0.9999384880065918, 0.9999573230743408, 0.9995349645614624, 0.9996894598007202, 0.9999994039535522, 0.9999366998672484, 0.9999918937683104, 0.9995107650756836, 0.9998799562454224, 0.99995756149292, 0.9774771332740784, 0.9801264405250548, 0.9999998807907104, 0.9999067783355712, 0.9999943971633912, 0.9999878406524658, 0.9999942779541016, 1.0, 0.9999991655349731, 0.99667090177536, 0.9999388456344604, 0.9998459815979004, 0.999980330467224, 0.9988524913787842, 0.9999966621398926, 0.9434307813644408, 0.9979217648506165, 0.9999824762344359, 0.9999934434890748, 0.940170168876648, 0.9999828338623048, 0.999460995197296, 0.999998927116394, 0.99874347448349, 1.0, 0.9988189339637756, 0.9999974966049194, 1.0, 0.9999945163726808, 1.0, 0.9999898672103882, 0.9996813535690308, 0.9999265670776368, 1.0, 0.9826574921607972, 0.9999439716339112, 0.9999997615814208, 0.9999983310699464, 0.9999912977218628, 0.7445181012153625, 1.0, 0.9959558248519896, 0.9988082647323608, 0.999984860420227, 0.9999995231628418, 0.9999983310699464, 0.9999977350234984, 0.9988935589790344, 0.9999214410781859, 0.9999927282333374, 0.9999943971633912, 0.9879801869392396, 0.9999997615814208, 0.9994470477104188, 0.9970747232437134, 0.969786524772644, 1.0, 0.999964475631714, 0.9996094107627868, 0.9999964237213136, 1.0, 0.998966097831726, 0.9998860359191896, 0.9999281167984008, 0.9999995231628418, 0.999934196472168, 0.9612915515899658, 0.9998438358306884, 0.8513503670692444, 0.999980330467224, 0.9971576929092408, 0.9999998807907104, 1.0, 0.9999990463256836, 0.9936105608940125, 0.9999902248382568, 0.9957566857337952, 0.9971389770507812, 0.9999955892562866, 0.9999990463256836, 1.0, 0.9999748468399048, 0.9999992847442628, 0.9999510049819946, 0.9999037981033324, 0.9999674558639526, 0.9999439716339112, 0.9999979734420776, 0.9999226331710817, 0.9999923706054688, 1.0, 0.991170048713684, 0.9999237060546876, 0.9998445510864258, 0.9999728202819824, 1.0, 0.9999998807907104, 0.9999536275863647, 0.9999898672103882, 0.99999737739563, 0.9999933242797852, 0.9999804496765136, 0.9999990463256836, 0.9993298053741456, 0.9999552965164183, 0.9997355341911316, 0.9999997615814208, 0.999990940093994, 0.9998778104782104, 0.9997263550758362, 0.9998505115509032, 0.999994158744812, 0.9999998807907104, 1.0, 0.9999992847442628, 0.9999927282333374, 0.9885940551757812, 0.999690055847168, 0.9998043179512024, 1.0, 0.9929537177085876, 0.9977413415908812, 0.9998394250869752, 0.9998329877853394, 0.9999988079071044, 0.9999479055404664, 0.9462293386459352, 0.9981493949890136, 0.994199514389038, 0.9999997615814208, 0.9997491240501404, 0.9999991655349731, 0.9999955892562866, 0.9999958276748656, 0.9968574047088624, 0.9994756579399108, 0.9998564720153807, 0.998417854309082, 0.9999960660934448, 0.9996500015258788, 0.9973661303520204, 0.9999717473983764, 0.999998927116394, 0.9995352029800416, 0.9999607801437378, 0.9945322275161744, 0.999790370464325, 0.9991639852523804, 1.0, 0.99931800365448, 0.9994716048240662, 0.9994208812713624, 0.9946718811988832, 0.9988648891448976, 0.9999969005584716, 0.9995716214179992, 0.9999970197677612, 0.9991760849952698, 0.9999891519546508, 0.9999864101409912, 0.9999984502792358, 0.9996726512908936, 0.9990839958190918, 0.9998314380645752, 0.9999850988388062, 0.9997574687004088, 0.9989830851554872, 0.9999178647994996, 0.9998615980148317, 0.9991681575775146, 0.999953031539917, 0.9999949932098388, 0.9998108744621276, 0.9928760528564452, 0.999994158744812, 0.9999896287918092, 0.9999979734420776, 0.9994932413101196, 0.9999911785125732, 0.9999438524246216, 0.9999701976776124, 0.9999727010726928, 0.9900981783866882, 0.9997425675392152, 1.0, 0.9999287128448486, 0.9999326467514038, 0.9999953508377076, 0.9986708164215088, 0.9999998807907104, 0.9998713731765748, 0.9999845027923584, 0.9994987249374391, 0.9976413249969482, 0.995890498161316, 0.9997541308403016, 0.9999212026596068, 0.9972698092460632, 0.9999759197235109, 0.9996498823165894, 0.9999953508377076, 0.9999377727508544, 0.8139718770980835, 1.0, 0.999913454055786, 1.0, 0.9999179840087892, 0.9947884082794191, 0.9992109537124634, 0.988917350769043, 0.9999976158142091, 0.9999997615814208, 0.9998111128807068, 0.9254255890846252, 0.9999998807907104, 0.9999971389770508, 0.9997850060462952, 0.9999783039093018, 0.9999443292617798, 0.9999526739120485, 0.9999444484710692, 0.9999874830245972, 0.9999997615814208, 0.9999969005584716, 0.9999581575393676, 0.9977454543113708, 0.9999731779098512, 0.999764621257782, 1.0, 0.9994891881942748, 0.9999992847442628, 0.9733085036277772, 0.997426211833954, 1.0, 0.9999995231628418, 0.9999997615814208, 0.9999766349792479, 0.999984622001648, 0.9998416900634766, 0.9991135001182556, 1.0, 1.0, 0.9994882345199584, 1.0, 0.9992490410804749, 0.9998400211334229, 0.9827558994293212, 0.998671531677246, 0.9999998807907104, 0.9984330534934998, 0.9999988079071044, 0.992603838443756, 0.9999951124191284, 0.9999985694885254, 0.9929782748222352, 0.9999716281890868, 0.9996102452278136, 0.9661062955856324, 0.999997854232788, 0.999954104423523, 0.999997854232788, 0.9999997615814208, 0.999997854232788, 0.9999994039535522, 0.9999737739562988, 0.9999650716781616, 0.7720273733139038, 0.9996070265769958, 0.9946584105491638, 0.9993038177490234, 0.9999998807907104, 0.999991774559021, 0.9999997615814208, 0.999513864517212, 0.9999901056289672, 1.0, 0.999261438846588, 0.9999998807907104, 0.9999731779098512, 0.9993361830711364, 0.997557520866394, 0.9997988343238832, 0.9999943971633912, 0.9999483823776244, 0.9997432827949524, 0.9999853372573853, 0.9999998807907104, 0.9996408224105836, 0.9998608827590942, 0.9996287822723388, 0.9958861470222472, 0.9998954534530641, 0.9999682903289796, 0.7809959053993225, 0.7623549103736877, 0.9743852019309998, 0.9999994039535522, 0.9999966621398926, 1.0, 0.54570472240448, 0.9999995231628418, 0.9993059635162354, 1.0, 0.9973697662353516, 0.999968647956848, 0.9996168613433838, 0.999998927116394, 1.0, 0.999998927116394, 0.9992831349372864, 0.9999836683273317, 0.9778916835784912, 0.9999276399612428, 0.9931394457817078, 0.9989579916000366, 0.9959348440170288, 0.9988746047019958, 0.9999971389770508, 0.9999960660934448, 1.0, 0.9999918937683104, 0.9999969005584716, 0.9976174235343932, 0.9999713897705078, 0.999766767024994, 0.999771535396576, 0.9998679161071776, 0.9823014736175536, 0.9999957084655762, 0.999948263168335, 0.9999998807907104, 0.9999970197677612, 0.990692675113678, 0.938262403011322, 0.9999992847442628, 0.998465061187744, 0.9991747736930848, 0.6458524465560913, 0.999991536140442, 0.9998973608016968, 0.9999998807907104, 1.0, 0.9990399479866028, 1.0, 0.9983855485916138, 0.999879002571106, 0.9971905350685121, 0.9999972581863404, 0.9999995231628418, 0.9998981952667236, 0.9999704360961914, 0.9999831914901732, 0.7654129266738892, 0.9999974966049194, 0.9999510049819946, 0.9999984502792358, 0.9999961853027344, 0.9999270439147948, 0.999998927116394, 0.9559785723686218, 1.0, 1.0, 0.9991865754127502, 0.9999862909317015, 0.9999715089797974, 0.9998984336853028, 0.9999994039535522, 0.9999998807907104, 0.9999969005584716, 0.9998786449432372, 0.9998637437820436, 0.9999960660934448, 0.9992365837097168, 0.9999655485153198, 0.9980839490890504, 0.999996542930603, 0.9998923540115356, 0.9957106113433838, 0.999980926513672, 0.9998792409896852, 0.9980441331863404, 0.9999980926513672, 0.9941375255584716, 0.9999825954437256, 0.9991101622581482, 0.9995983242988586, 0.9998594522476196, 0.9999990463256836, 0.9999165534973145, 0.9999899864196776, 0.9999607801437378, 1.0, 0.9999890327453612, 0.9994304776191713, 0.9376597404479979, 0.9999101161956788, 0.9999927282333374, 0.9999961853027344, 0.9999873638153076, 0.975936233997345, 0.9999892711639404, 0.9999345541000366, 0.9999996423721312, 0.9998475313186646, 0.9999972581863404, 0.9999037981033324, 0.9997140765190125, 0.9998143315315248, 0.9999918937683104, 0.9999971389770508, 0.9999271631240844, 0.9995166063308716, 0.9752081632614136, 1.0, 0.9997634291648864, 0.9999998807907104, 0.9999976158142091, 0.9999498128890992, 0.9999990463256836, 0.9954087138175964, 0.5815407037734985, 1.0, 0.9999996423721312, 0.8924204707145691, 0.9998083710670472, 0.9999928474426271, 0.9999428987503052, 0.998507797718048, 0.9992117881774902, 0.999669075012207, 0.999160647392273, 0.9997970461845398, 0.9999864101409912, 0.9996070265769958, 0.9999955892562866, 1.0, 0.9999897480010986, 0.999817430973053, 0.999972939491272, 0.9999127388000488, 0.9999768733978271, 0.9999921321868896, 0.9992411136627196, 0.993277370929718, 0.9991161227226256, 0.9999841451644896, 0.9997954964637756, 0.999903917312622, 0.9997414946556092, 0.9942312240600586, 0.9999996423721312, 0.993468165397644, 0.9964375495910645, 0.9919775128364564, 0.9999159574508668, 1.0, 0.9996323585510254, 0.999994158744812, 1.0, 0.9999680519104004, 0.9999964237213136, 0.99990975856781, 0.9998904466629028, 0.9999462366104126, 0.9999501705169678, 0.9978941082954408, 0.9995405673980712, 0.9956521391868592, 1.0, 0.9999984502792358, 0.9999969005584716, 0.9996559619903564, 0.9996744394302368, 0.9993354678153992, 0.9020642042160034, 0.9999992847442628, 0.9998087286949158, 0.998946726322174, 0.9999940395355223, 0.999998927116394, 0.9997243285179138, 0.9999107122421264, 0.9993183612823486, 0.9999144077301024, 0.9999921321868896, 0.999996542930603, 0.9999678134918212, 0.9999997615814208, 0.9999982118606568, 0.9999912977218628, 0.9985485672950744, 0.9999881982803344, 0.9999475479125975, 0.9999923706054688, 0.99811589717865, 1.0, 0.9995267391204834, 0.9999624490737916, 0.9998327493667604, 0.945178747177124, 0.9999576807022096, 1.0, 0.9984678626060486, 1.0, 0.999842643737793, 0.9994934797286988, 0.9889849424362184, 0.9992153644561768, 0.9999442100524902, 0.9996742010116576, 0.9997509121894836, 0.999998927116394, 0.9999998807907104, 1.0, 0.9999994039535522, 0.9999966621398926, 0.999994158744812, 0.9996826648712158, 0.9999616146087646, 0.9999877214431764, 1.0, 0.9999754428863524, 0.9999997615814208, 0.9999997615814208, 0.9999836683273317, 0.9999942779541016, 0.999913454055786, 1.0, 0.9999829530715942, 0.999997854232788, 0.9993606209754944, 0.9999725818634032, 0.8192304968833923, 0.9999910593032836, 0.9998459815979004, 0.9982264637947084, 0.9999990463256836, 1.0, 0.9999960660934448, 0.9997766613960266, 0.9999980926513672, 0.9997223019599916, 0.999996542930603, 0.999977707862854, 0.9999997615814208, 0.9999911785125732, 0.999964952468872, 0.9999942779541016, 0.9988998174667358, 0.999801218509674, 0.9999854564666748, 0.99933522939682, 0.9999871253967284, 0.9999936819076538, 0.9999939203262328, 0.9999943971633912, 0.9999997615814208, 1.0, 0.9999995231628418, 0.9983371496200562, 0.9817376732826232, 1.0, 0.99999737739563, 0.9999849796295166, 0.9995664954185486, 0.9977327585220336, 0.9999998807907104, 0.9999535083770752, 0.9999969005584716, 0.997951328754425, 0.999994158744812, 0.9999727010726928, 0.9792024493217468, 1.0, 0.9956900477409364, 0.9999890327453612, 0.9999862909317015, 0.9999998807907104, 0.9825734496116638, 0.9999853372573853, 0.9999819993972778, 0.9664360880851746, 0.9999994039535522, 0.9999920129776, 0.9999996423721312, 0.994454562664032, 0.9995012283325196, 0.9999986886978148, 0.9999969005584716, 0.999897003173828, 0.999985933303833, 0.9999587535858154, 1.0, 1.0, 0.9219809770584106, 0.9995442032814026, 0.9999949932098388, 0.9999912977218628, 0.999786913394928, 0.9999994039535522, 0.9999896287918092, 0.9998154044151306, 0.9999887943267822, 0.9984447360038756, 0.9999988079071044, 0.9998451471328736, 0.9988343119621276, 0.9998399019241332, 0.9999992847442628, 0.9999858140945436, 0.9999929666519164, 0.9999481439590454, 0.9999274015426636, 0.9912410378456116, 0.9999611377716064, 0.9999827146530152, 0.9999637603759766, 0.9999763965606691, 0.9999878406524658, 0.9999971389770508, 0.9999934434890748, 0.9993667006492616, 0.999983549118042, 0.9999997615814208, 1.0, 0.9999858140945436, 0.9999983310699464, 0.9999240636825562, 0.9999736547470092, 0.9999924898147584, 1.0, 0.9999970197677612, 0.9999986886978148, 0.9999619722366332, 0.997618854045868, 0.999846339225769, 1.0, 0.9999998807907104, 0.9999998807907104, 0.9999997615814208, 0.999427616596222, 0.9997225403785706, 0.9999995231628418, 0.9999984502792358, 0.9999966621398926, 0.9999994039535522, 0.9964606165885924, 0.9999998807907104, 0.9987760186195374, 0.9997721314430236, 0.740448534488678, 0.9962661862373352, 0.9999821186065674, 0.9999921321868896, 0.9998026490211488, 0.9999706745147704, 0.99928879737854, 1.0, 0.9999853372573853, 0.999981164932251, 0.9998960494995116, 0.9977154731750488, 0.9999332427978516, 0.9999911785125732, 0.9999886751174928, 0.576953649520874, 0.9999114274978638, 0.9980499744415284, 0.9999994039535522, 0.9999053478240968, 0.9999479055404664, 0.8980640769004822, 0.9999998807907104, 0.9985408782958984, 0.9999632835388184, 0.999996304512024, 0.9989749193191528, 0.9999903440475464, 0.9998947381973268, 0.9999997615814208, 0.9988252520561218, 0.9987093210220336, 0.9935348033905028, 0.999325156211853, 0.9999623298645021, 0.999380350112915, 0.9998229146003724, 0.9999970197677612, 0.9999998807907104, 0.9999991655349731, 0.9999434947967528, 0.9999998807907104, 0.9992067217826844, 0.9999862909317015, 0.9619130492210388, 0.9999555349349976, 1.0, 0.99997079372406, 0.9998005032539368, 0.9999802112579346, 0.9999762773513794, 0.9999997615814208, 0.9892911314964294, 0.9999951124191284, 1.0, 0.9788028001785278, 0.999997854232788, 0.9994367957115172, 1.0, 0.9999691247940063, 0.99289870262146, 0.9996138215065002, 0.8165804743766785, 0.6471534371376038, 0.9999158382415771, 0.9961087107658386, 0.948637306690216, 0.9954341053962708, 0.9999933242797852, 0.9989318251609802, 0.9997184872627258, 0.9999998807907104, 1.0, 0.9999927282333374, 0.9999986886978148, 0.9966856837272644, 0.9762762784957886, 0.9999991655349731, 0.9999942779541016, 0.9999890327453612, 0.9999988079071044, 0.9999902248382568, 0.9999338388442992, 0.9999998807907104, 0.9997878670692444, 0.9997219443321228, 0.9999860525131226, 0.9999991655349731, 0.9998494386672974, 0.9986121654510498, 0.9999990463256836, 0.9971637129783629, 0.9999667406082152, 0.9943504929542542, 0.999907612800598, 0.9999984502792358, 0.9987629652023317, 0.9999996423721312, 0.9999502897262572, 0.9999960660934448, 0.9999908208847046, 0.9999998807907104, 0.9992337226867676, 0.7703467011451721, 0.9992344379425048, 0.998219907283783, 0.9998514652252196, 0.9999932050704956, 0.9996920824050904, 0.9999639987945556, 0.9999929666519164, 0.999975085258484, 0.9994844198226928, 0.9871865510940552, 0.9999998807907104], \"xbins\": {\"end\": 1, \"size\": 0.01, \"start\": 0}}],\n",
       "                        {\"template\": {\"data\": {\"bar\": [{\"error_x\": {\"color\": \"#2a3f5f\"}, \"error_y\": {\"color\": \"#2a3f5f\"}, \"marker\": {\"line\": {\"color\": \"#E5ECF6\", \"width\": 0.5}}, \"type\": \"bar\"}], \"barpolar\": [{\"marker\": {\"line\": {\"color\": \"#E5ECF6\", \"width\": 0.5}}, \"type\": \"barpolar\"}], \"carpet\": [{\"aaxis\": {\"endlinecolor\": \"#2a3f5f\", \"gridcolor\": \"white\", \"linecolor\": \"white\", \"minorgridcolor\": \"white\", \"startlinecolor\": \"#2a3f5f\"}, \"baxis\": {\"endlinecolor\": \"#2a3f5f\", \"gridcolor\": \"white\", \"linecolor\": \"white\", \"minorgridcolor\": \"white\", \"startlinecolor\": \"#2a3f5f\"}, \"type\": \"carpet\"}], \"choropleth\": [{\"colorbar\": {\"outlinewidth\": 0, \"ticks\": \"\"}, \"type\": \"choropleth\"}], \"contour\": [{\"colorbar\": {\"outlinewidth\": 0, \"ticks\": \"\"}, \"colorscale\": [[0.0, \"#0d0887\"], [0.1111111111111111, \"#46039f\"], [0.2222222222222222, \"#7201a8\"], [0.3333333333333333, \"#9c179e\"], [0.4444444444444444, \"#bd3786\"], [0.5555555555555556, \"#d8576b\"], [0.6666666666666666, \"#ed7953\"], [0.7777777777777778, \"#fb9f3a\"], [0.8888888888888888, \"#fdca26\"], [1.0, \"#f0f921\"]], \"type\": \"contour\"}], \"contourcarpet\": [{\"colorbar\": {\"outlinewidth\": 0, \"ticks\": \"\"}, \"type\": \"contourcarpet\"}], \"heatmap\": [{\"colorbar\": {\"outlinewidth\": 0, \"ticks\": \"\"}, \"colorscale\": [[0.0, \"#0d0887\"], [0.1111111111111111, \"#46039f\"], [0.2222222222222222, \"#7201a8\"], [0.3333333333333333, \"#9c179e\"], [0.4444444444444444, \"#bd3786\"], [0.5555555555555556, \"#d8576b\"], [0.6666666666666666, \"#ed7953\"], [0.7777777777777778, \"#fb9f3a\"], [0.8888888888888888, \"#fdca26\"], [1.0, \"#f0f921\"]], \"type\": \"heatmap\"}], \"heatmapgl\": [{\"colorbar\": {\"outlinewidth\": 0, \"ticks\": \"\"}, \"colorscale\": [[0.0, \"#0d0887\"], [0.1111111111111111, \"#46039f\"], [0.2222222222222222, \"#7201a8\"], [0.3333333333333333, \"#9c179e\"], [0.4444444444444444, \"#bd3786\"], [0.5555555555555556, \"#d8576b\"], [0.6666666666666666, \"#ed7953\"], [0.7777777777777778, \"#fb9f3a\"], [0.8888888888888888, \"#fdca26\"], [1.0, \"#f0f921\"]], \"type\": \"heatmapgl\"}], \"histogram\": [{\"marker\": {\"colorbar\": {\"outlinewidth\": 0, \"ticks\": \"\"}}, \"type\": \"histogram\"}], \"histogram2d\": [{\"colorbar\": {\"outlinewidth\": 0, \"ticks\": \"\"}, \"colorscale\": [[0.0, \"#0d0887\"], [0.1111111111111111, \"#46039f\"], [0.2222222222222222, \"#7201a8\"], [0.3333333333333333, \"#9c179e\"], [0.4444444444444444, \"#bd3786\"], [0.5555555555555556, \"#d8576b\"], [0.6666666666666666, \"#ed7953\"], [0.7777777777777778, \"#fb9f3a\"], [0.8888888888888888, \"#fdca26\"], [1.0, \"#f0f921\"]], \"type\": \"histogram2d\"}], \"histogram2dcontour\": [{\"colorbar\": {\"outlinewidth\": 0, \"ticks\": \"\"}, \"colorscale\": [[0.0, \"#0d0887\"], [0.1111111111111111, \"#46039f\"], [0.2222222222222222, \"#7201a8\"], [0.3333333333333333, \"#9c179e\"], [0.4444444444444444, \"#bd3786\"], [0.5555555555555556, \"#d8576b\"], [0.6666666666666666, \"#ed7953\"], [0.7777777777777778, \"#fb9f3a\"], [0.8888888888888888, \"#fdca26\"], [1.0, \"#f0f921\"]], \"type\": \"histogram2dcontour\"}], \"mesh3d\": [{\"colorbar\": {\"outlinewidth\": 0, \"ticks\": \"\"}, \"type\": \"mesh3d\"}], \"parcoords\": [{\"line\": {\"colorbar\": {\"outlinewidth\": 0, \"ticks\": \"\"}}, \"type\": \"parcoords\"}], \"pie\": [{\"automargin\": true, \"type\": \"pie\"}], \"scatter\": [{\"marker\": {\"colorbar\": {\"outlinewidth\": 0, \"ticks\": \"\"}}, \"type\": \"scatter\"}], \"scatter3d\": [{\"line\": {\"colorbar\": {\"outlinewidth\": 0, \"ticks\": \"\"}}, \"marker\": {\"colorbar\": {\"outlinewidth\": 0, \"ticks\": \"\"}}, \"type\": \"scatter3d\"}], \"scattercarpet\": [{\"marker\": {\"colorbar\": {\"outlinewidth\": 0, \"ticks\": \"\"}}, \"type\": \"scattercarpet\"}], \"scattergeo\": [{\"marker\": {\"colorbar\": {\"outlinewidth\": 0, \"ticks\": \"\"}}, \"type\": \"scattergeo\"}], \"scattergl\": [{\"marker\": {\"colorbar\": {\"outlinewidth\": 0, \"ticks\": \"\"}}, \"type\": \"scattergl\"}], \"scattermapbox\": [{\"marker\": {\"colorbar\": {\"outlinewidth\": 0, \"ticks\": \"\"}}, \"type\": \"scattermapbox\"}], \"scatterpolar\": [{\"marker\": {\"colorbar\": {\"outlinewidth\": 0, \"ticks\": \"\"}}, \"type\": \"scatterpolar\"}], \"scatterpolargl\": [{\"marker\": {\"colorbar\": {\"outlinewidth\": 0, \"ticks\": \"\"}}, \"type\": \"scatterpolargl\"}], \"scatterternary\": [{\"marker\": {\"colorbar\": {\"outlinewidth\": 0, \"ticks\": \"\"}}, \"type\": \"scatterternary\"}], \"surface\": [{\"colorbar\": {\"outlinewidth\": 0, \"ticks\": \"\"}, \"colorscale\": [[0.0, \"#0d0887\"], [0.1111111111111111, \"#46039f\"], [0.2222222222222222, \"#7201a8\"], [0.3333333333333333, \"#9c179e\"], [0.4444444444444444, \"#bd3786\"], [0.5555555555555556, \"#d8576b\"], [0.6666666666666666, \"#ed7953\"], [0.7777777777777778, \"#fb9f3a\"], [0.8888888888888888, \"#fdca26\"], [1.0, \"#f0f921\"]], \"type\": \"surface\"}], \"table\": [{\"cells\": {\"fill\": {\"color\": \"#EBF0F8\"}, \"line\": {\"color\": \"white\"}}, \"header\": {\"fill\": {\"color\": \"#C8D4E3\"}, \"line\": {\"color\": \"white\"}}, \"type\": \"table\"}]}, \"layout\": {\"annotationdefaults\": {\"arrowcolor\": \"#2a3f5f\", \"arrowhead\": 0, \"arrowwidth\": 1}, \"coloraxis\": {\"colorbar\": {\"outlinewidth\": 0, \"ticks\": \"\"}}, \"colorscale\": {\"diverging\": [[0, \"#8e0152\"], [0.1, \"#c51b7d\"], [0.2, \"#de77ae\"], [0.3, \"#f1b6da\"], [0.4, \"#fde0ef\"], [0.5, \"#f7f7f7\"], [0.6, \"#e6f5d0\"], [0.7, \"#b8e186\"], [0.8, \"#7fbc41\"], [0.9, \"#4d9221\"], [1, \"#276419\"]], \"sequential\": [[0.0, \"#0d0887\"], [0.1111111111111111, \"#46039f\"], [0.2222222222222222, \"#7201a8\"], [0.3333333333333333, \"#9c179e\"], [0.4444444444444444, \"#bd3786\"], [0.5555555555555556, \"#d8576b\"], [0.6666666666666666, \"#ed7953\"], [0.7777777777777778, \"#fb9f3a\"], [0.8888888888888888, \"#fdca26\"], [1.0, \"#f0f921\"]], \"sequentialminus\": [[0.0, \"#0d0887\"], [0.1111111111111111, \"#46039f\"], [0.2222222222222222, \"#7201a8\"], [0.3333333333333333, \"#9c179e\"], [0.4444444444444444, \"#bd3786\"], [0.5555555555555556, \"#d8576b\"], [0.6666666666666666, \"#ed7953\"], [0.7777777777777778, \"#fb9f3a\"], [0.8888888888888888, \"#fdca26\"], [1.0, \"#f0f921\"]]}, \"colorway\": [\"#636efa\", \"#EF553B\", \"#00cc96\", \"#ab63fa\", \"#FFA15A\", \"#19d3f3\", \"#FF6692\", \"#B6E880\", \"#FF97FF\", \"#FECB52\"], \"font\": {\"color\": \"#2a3f5f\"}, \"geo\": {\"bgcolor\": \"white\", \"lakecolor\": \"white\", \"landcolor\": \"#E5ECF6\", \"showlakes\": true, \"showland\": true, \"subunitcolor\": \"white\"}, \"hoverlabel\": {\"align\": \"left\"}, \"hovermode\": \"closest\", \"mapbox\": {\"style\": \"light\"}, \"paper_bgcolor\": \"white\", \"plot_bgcolor\": \"#E5ECF6\", \"polar\": {\"angularaxis\": {\"gridcolor\": \"white\", \"linecolor\": \"white\", \"ticks\": \"\"}, \"bgcolor\": \"#E5ECF6\", \"radialaxis\": {\"gridcolor\": \"white\", \"linecolor\": \"white\", \"ticks\": \"\"}}, \"scene\": {\"xaxis\": {\"backgroundcolor\": \"#E5ECF6\", \"gridcolor\": \"white\", \"gridwidth\": 2, \"linecolor\": \"white\", \"showbackground\": true, \"ticks\": \"\", \"zerolinecolor\": \"white\"}, \"yaxis\": {\"backgroundcolor\": \"#E5ECF6\", \"gridcolor\": \"white\", \"gridwidth\": 2, \"linecolor\": \"white\", \"showbackground\": true, \"ticks\": \"\", \"zerolinecolor\": \"white\"}, \"zaxis\": {\"backgroundcolor\": \"#E5ECF6\", \"gridcolor\": \"white\", \"gridwidth\": 2, \"linecolor\": \"white\", \"showbackground\": true, \"ticks\": \"\", \"zerolinecolor\": \"white\"}}, \"shapedefaults\": {\"line\": {\"color\": \"#2a3f5f\"}}, \"ternary\": {\"aaxis\": {\"gridcolor\": \"white\", \"linecolor\": \"white\", \"ticks\": \"\"}, \"baxis\": {\"gridcolor\": \"white\", \"linecolor\": \"white\", \"ticks\": \"\"}, \"bgcolor\": \"#E5ECF6\", \"caxis\": {\"gridcolor\": \"white\", \"linecolor\": \"white\", \"ticks\": \"\"}}, \"title\": {\"x\": 0.05}, \"xaxis\": {\"automargin\": true, \"gridcolor\": \"white\", \"linecolor\": \"white\", \"ticks\": \"\", \"title\": {\"standoff\": 15}, \"zerolinecolor\": \"white\", \"zerolinewidth\": 2}, \"yaxis\": {\"automargin\": true, \"gridcolor\": \"white\", \"linecolor\": \"white\", \"ticks\": \"\", \"title\": {\"standoff\": 15}, \"zerolinecolor\": \"white\", \"zerolinewidth\": 2}}}, \"title\": {\"text\": \"Histogram of the view_proba column on 2458 values\"}},\n",
       "                        {\"responsive\": true}\n",
       "                    ).then(function(){\n",
       "                            \n",
       "var gd = document.getElementById('d7fb7c1d-4880-4594-960e-f6957d6ae19e');\n",
       "var x = new MutationObserver(function (mutations, observer) {{\n",
       "        var display = window.getComputedStyle(gd).display;\n",
       "        if (!display || display === 'none') {{\n",
       "            console.log([gd, 'removed!']);\n",
       "            Plotly.purge(gd);\n",
       "            observer.disconnect();\n",
       "        }}\n",
       "}});\n",
       "\n",
       "// Listen for the removal of the full notebook cells\n",
       "var notebookContainer = gd.closest('#notebook-container');\n",
       "if (notebookContainer) {{\n",
       "    x.observe(notebookContainer, {childList: true});\n",
       "}}\n",
       "\n",
       "// Listen for the clearing of the current output cell\n",
       "var outputEl = gd.closest('.output');\n",
       "if (outputEl) {{\n",
       "    x.observe(outputEl, {childList: true});\n",
       "}}\n",
       "\n",
       "                        })\n",
       "                };\n",
       "                });\n",
       "            </script>\n",
       "        </div>"
      ]
     },
     "metadata": {},
     "output_type": "display_data"
    }
   ],
   "source": [
    "plot_hist(df_view_OK, 'view_proba')"
   ]
  },
  {
   "cell_type": "code",
   "execution_count": 95,
   "metadata": {},
   "outputs": [
    {
     "data": {
      "application/vnd.plotly.v1+json": {
       "config": {
        "linkText": "Export to plot.ly",
        "plotlyServerURL": "https://plot.ly",
        "showLink": false
       },
       "data": [
        {
         "histnorm": "percent",
         "type": "histogram",
         "x": [
          0.9979115128517152,
          0.6750502586364746,
          0.6288355588912964,
          0.9908671379089355,
          0.7247284650802612,
          0.3928760886192322,
          0.99782133102417,
          0.3504185080528259,
          1,
          0.6445358991622925,
          0.99724543094635,
          0.7965911030769348,
          0.9999346733093262,
          0.71282559633255,
          0.995971977710724,
          0.9815707802772522,
          0.9999996423721312,
          0.8850120306015015,
          0.999866247177124,
          0.5894687175750732,
          0.9963473677635192,
          0.8832220435142517,
          1,
          0.9991276860237122,
          0.996069312095642,
          0.9932215213775636,
          0.9990177154541016,
          0.9963441491127014,
          0.6342588663101196,
          0.937963604927063,
          0.618169903755188,
          0.9736661314964294,
          0.5630972385406494,
          0.5269008874893188,
          0.9498132467269896,
          0.99972003698349,
          0.9761286973953248,
          0.9998027682304382,
          0.9830907583236694,
          0.7460832595825195,
          0.996590256690979,
          0.8958268761634827,
          0.9998794794082642,
          0.9999486207962036,
          0.9999903440475464,
          0.5905482172966003,
          0.9906270503997804,
          0.925161838531494,
          0.2834756374359131,
          0.8075934648513794,
          0.7459271550178528,
          0.9999558925628662,
          0.9539911150932312,
          0.9995070695877076,
          0.9999450445175172,
          0.97552889585495,
          0.998853087425232,
          0.7514181733131409,
          0.9997628331184388
         ],
         "xbins": {
          "end": 1,
          "size": 0.01,
          "start": 0
         }
        }
       ],
       "layout": {
        "template": {
         "data": {
          "bar": [
           {
            "error_x": {
             "color": "#2a3f5f"
            },
            "error_y": {
             "color": "#2a3f5f"
            },
            "marker": {
             "line": {
              "color": "#E5ECF6",
              "width": 0.5
             }
            },
            "type": "bar"
           }
          ],
          "barpolar": [
           {
            "marker": {
             "line": {
              "color": "#E5ECF6",
              "width": 0.5
             }
            },
            "type": "barpolar"
           }
          ],
          "carpet": [
           {
            "aaxis": {
             "endlinecolor": "#2a3f5f",
             "gridcolor": "white",
             "linecolor": "white",
             "minorgridcolor": "white",
             "startlinecolor": "#2a3f5f"
            },
            "baxis": {
             "endlinecolor": "#2a3f5f",
             "gridcolor": "white",
             "linecolor": "white",
             "minorgridcolor": "white",
             "startlinecolor": "#2a3f5f"
            },
            "type": "carpet"
           }
          ],
          "choropleth": [
           {
            "colorbar": {
             "outlinewidth": 0,
             "ticks": ""
            },
            "type": "choropleth"
           }
          ],
          "contour": [
           {
            "colorbar": {
             "outlinewidth": 0,
             "ticks": ""
            },
            "colorscale": [
             [
              0,
              "#0d0887"
             ],
             [
              0.1111111111111111,
              "#46039f"
             ],
             [
              0.2222222222222222,
              "#7201a8"
             ],
             [
              0.3333333333333333,
              "#9c179e"
             ],
             [
              0.4444444444444444,
              "#bd3786"
             ],
             [
              0.5555555555555556,
              "#d8576b"
             ],
             [
              0.6666666666666666,
              "#ed7953"
             ],
             [
              0.7777777777777778,
              "#fb9f3a"
             ],
             [
              0.8888888888888888,
              "#fdca26"
             ],
             [
              1,
              "#f0f921"
             ]
            ],
            "type": "contour"
           }
          ],
          "contourcarpet": [
           {
            "colorbar": {
             "outlinewidth": 0,
             "ticks": ""
            },
            "type": "contourcarpet"
           }
          ],
          "heatmap": [
           {
            "colorbar": {
             "outlinewidth": 0,
             "ticks": ""
            },
            "colorscale": [
             [
              0,
              "#0d0887"
             ],
             [
              0.1111111111111111,
              "#46039f"
             ],
             [
              0.2222222222222222,
              "#7201a8"
             ],
             [
              0.3333333333333333,
              "#9c179e"
             ],
             [
              0.4444444444444444,
              "#bd3786"
             ],
             [
              0.5555555555555556,
              "#d8576b"
             ],
             [
              0.6666666666666666,
              "#ed7953"
             ],
             [
              0.7777777777777778,
              "#fb9f3a"
             ],
             [
              0.8888888888888888,
              "#fdca26"
             ],
             [
              1,
              "#f0f921"
             ]
            ],
            "type": "heatmap"
           }
          ],
          "heatmapgl": [
           {
            "colorbar": {
             "outlinewidth": 0,
             "ticks": ""
            },
            "colorscale": [
             [
              0,
              "#0d0887"
             ],
             [
              0.1111111111111111,
              "#46039f"
             ],
             [
              0.2222222222222222,
              "#7201a8"
             ],
             [
              0.3333333333333333,
              "#9c179e"
             ],
             [
              0.4444444444444444,
              "#bd3786"
             ],
             [
              0.5555555555555556,
              "#d8576b"
             ],
             [
              0.6666666666666666,
              "#ed7953"
             ],
             [
              0.7777777777777778,
              "#fb9f3a"
             ],
             [
              0.8888888888888888,
              "#fdca26"
             ],
             [
              1,
              "#f0f921"
             ]
            ],
            "type": "heatmapgl"
           }
          ],
          "histogram": [
           {
            "marker": {
             "colorbar": {
              "outlinewidth": 0,
              "ticks": ""
             }
            },
            "type": "histogram"
           }
          ],
          "histogram2d": [
           {
            "colorbar": {
             "outlinewidth": 0,
             "ticks": ""
            },
            "colorscale": [
             [
              0,
              "#0d0887"
             ],
             [
              0.1111111111111111,
              "#46039f"
             ],
             [
              0.2222222222222222,
              "#7201a8"
             ],
             [
              0.3333333333333333,
              "#9c179e"
             ],
             [
              0.4444444444444444,
              "#bd3786"
             ],
             [
              0.5555555555555556,
              "#d8576b"
             ],
             [
              0.6666666666666666,
              "#ed7953"
             ],
             [
              0.7777777777777778,
              "#fb9f3a"
             ],
             [
              0.8888888888888888,
              "#fdca26"
             ],
             [
              1,
              "#f0f921"
             ]
            ],
            "type": "histogram2d"
           }
          ],
          "histogram2dcontour": [
           {
            "colorbar": {
             "outlinewidth": 0,
             "ticks": ""
            },
            "colorscale": [
             [
              0,
              "#0d0887"
             ],
             [
              0.1111111111111111,
              "#46039f"
             ],
             [
              0.2222222222222222,
              "#7201a8"
             ],
             [
              0.3333333333333333,
              "#9c179e"
             ],
             [
              0.4444444444444444,
              "#bd3786"
             ],
             [
              0.5555555555555556,
              "#d8576b"
             ],
             [
              0.6666666666666666,
              "#ed7953"
             ],
             [
              0.7777777777777778,
              "#fb9f3a"
             ],
             [
              0.8888888888888888,
              "#fdca26"
             ],
             [
              1,
              "#f0f921"
             ]
            ],
            "type": "histogram2dcontour"
           }
          ],
          "mesh3d": [
           {
            "colorbar": {
             "outlinewidth": 0,
             "ticks": ""
            },
            "type": "mesh3d"
           }
          ],
          "parcoords": [
           {
            "line": {
             "colorbar": {
              "outlinewidth": 0,
              "ticks": ""
             }
            },
            "type": "parcoords"
           }
          ],
          "pie": [
           {
            "automargin": true,
            "type": "pie"
           }
          ],
          "scatter": [
           {
            "marker": {
             "colorbar": {
              "outlinewidth": 0,
              "ticks": ""
             }
            },
            "type": "scatter"
           }
          ],
          "scatter3d": [
           {
            "line": {
             "colorbar": {
              "outlinewidth": 0,
              "ticks": ""
             }
            },
            "marker": {
             "colorbar": {
              "outlinewidth": 0,
              "ticks": ""
             }
            },
            "type": "scatter3d"
           }
          ],
          "scattercarpet": [
           {
            "marker": {
             "colorbar": {
              "outlinewidth": 0,
              "ticks": ""
             }
            },
            "type": "scattercarpet"
           }
          ],
          "scattergeo": [
           {
            "marker": {
             "colorbar": {
              "outlinewidth": 0,
              "ticks": ""
             }
            },
            "type": "scattergeo"
           }
          ],
          "scattergl": [
           {
            "marker": {
             "colorbar": {
              "outlinewidth": 0,
              "ticks": ""
             }
            },
            "type": "scattergl"
           }
          ],
          "scattermapbox": [
           {
            "marker": {
             "colorbar": {
              "outlinewidth": 0,
              "ticks": ""
             }
            },
            "type": "scattermapbox"
           }
          ],
          "scatterpolar": [
           {
            "marker": {
             "colorbar": {
              "outlinewidth": 0,
              "ticks": ""
             }
            },
            "type": "scatterpolar"
           }
          ],
          "scatterpolargl": [
           {
            "marker": {
             "colorbar": {
              "outlinewidth": 0,
              "ticks": ""
             }
            },
            "type": "scatterpolargl"
           }
          ],
          "scatterternary": [
           {
            "marker": {
             "colorbar": {
              "outlinewidth": 0,
              "ticks": ""
             }
            },
            "type": "scatterternary"
           }
          ],
          "surface": [
           {
            "colorbar": {
             "outlinewidth": 0,
             "ticks": ""
            },
            "colorscale": [
             [
              0,
              "#0d0887"
             ],
             [
              0.1111111111111111,
              "#46039f"
             ],
             [
              0.2222222222222222,
              "#7201a8"
             ],
             [
              0.3333333333333333,
              "#9c179e"
             ],
             [
              0.4444444444444444,
              "#bd3786"
             ],
             [
              0.5555555555555556,
              "#d8576b"
             ],
             [
              0.6666666666666666,
              "#ed7953"
             ],
             [
              0.7777777777777778,
              "#fb9f3a"
             ],
             [
              0.8888888888888888,
              "#fdca26"
             ],
             [
              1,
              "#f0f921"
             ]
            ],
            "type": "surface"
           }
          ],
          "table": [
           {
            "cells": {
             "fill": {
              "color": "#EBF0F8"
             },
             "line": {
              "color": "white"
             }
            },
            "header": {
             "fill": {
              "color": "#C8D4E3"
             },
             "line": {
              "color": "white"
             }
            },
            "type": "table"
           }
          ]
         },
         "layout": {
          "annotationdefaults": {
           "arrowcolor": "#2a3f5f",
           "arrowhead": 0,
           "arrowwidth": 1
          },
          "coloraxis": {
           "colorbar": {
            "outlinewidth": 0,
            "ticks": ""
           }
          },
          "colorscale": {
           "diverging": [
            [
             0,
             "#8e0152"
            ],
            [
             0.1,
             "#c51b7d"
            ],
            [
             0.2,
             "#de77ae"
            ],
            [
             0.3,
             "#f1b6da"
            ],
            [
             0.4,
             "#fde0ef"
            ],
            [
             0.5,
             "#f7f7f7"
            ],
            [
             0.6,
             "#e6f5d0"
            ],
            [
             0.7,
             "#b8e186"
            ],
            [
             0.8,
             "#7fbc41"
            ],
            [
             0.9,
             "#4d9221"
            ],
            [
             1,
             "#276419"
            ]
           ],
           "sequential": [
            [
             0,
             "#0d0887"
            ],
            [
             0.1111111111111111,
             "#46039f"
            ],
            [
             0.2222222222222222,
             "#7201a8"
            ],
            [
             0.3333333333333333,
             "#9c179e"
            ],
            [
             0.4444444444444444,
             "#bd3786"
            ],
            [
             0.5555555555555556,
             "#d8576b"
            ],
            [
             0.6666666666666666,
             "#ed7953"
            ],
            [
             0.7777777777777778,
             "#fb9f3a"
            ],
            [
             0.8888888888888888,
             "#fdca26"
            ],
            [
             1,
             "#f0f921"
            ]
           ],
           "sequentialminus": [
            [
             0,
             "#0d0887"
            ],
            [
             0.1111111111111111,
             "#46039f"
            ],
            [
             0.2222222222222222,
             "#7201a8"
            ],
            [
             0.3333333333333333,
             "#9c179e"
            ],
            [
             0.4444444444444444,
             "#bd3786"
            ],
            [
             0.5555555555555556,
             "#d8576b"
            ],
            [
             0.6666666666666666,
             "#ed7953"
            ],
            [
             0.7777777777777778,
             "#fb9f3a"
            ],
            [
             0.8888888888888888,
             "#fdca26"
            ],
            [
             1,
             "#f0f921"
            ]
           ]
          },
          "colorway": [
           "#636efa",
           "#EF553B",
           "#00cc96",
           "#ab63fa",
           "#FFA15A",
           "#19d3f3",
           "#FF6692",
           "#B6E880",
           "#FF97FF",
           "#FECB52"
          ],
          "font": {
           "color": "#2a3f5f"
          },
          "geo": {
           "bgcolor": "white",
           "lakecolor": "white",
           "landcolor": "#E5ECF6",
           "showlakes": true,
           "showland": true,
           "subunitcolor": "white"
          },
          "hoverlabel": {
           "align": "left"
          },
          "hovermode": "closest",
          "mapbox": {
           "style": "light"
          },
          "paper_bgcolor": "white",
          "plot_bgcolor": "#E5ECF6",
          "polar": {
           "angularaxis": {
            "gridcolor": "white",
            "linecolor": "white",
            "ticks": ""
           },
           "bgcolor": "#E5ECF6",
           "radialaxis": {
            "gridcolor": "white",
            "linecolor": "white",
            "ticks": ""
           }
          },
          "scene": {
           "xaxis": {
            "backgroundcolor": "#E5ECF6",
            "gridcolor": "white",
            "gridwidth": 2,
            "linecolor": "white",
            "showbackground": true,
            "ticks": "",
            "zerolinecolor": "white"
           },
           "yaxis": {
            "backgroundcolor": "#E5ECF6",
            "gridcolor": "white",
            "gridwidth": 2,
            "linecolor": "white",
            "showbackground": true,
            "ticks": "",
            "zerolinecolor": "white"
           },
           "zaxis": {
            "backgroundcolor": "#E5ECF6",
            "gridcolor": "white",
            "gridwidth": 2,
            "linecolor": "white",
            "showbackground": true,
            "ticks": "",
            "zerolinecolor": "white"
           }
          },
          "shapedefaults": {
           "line": {
            "color": "#2a3f5f"
           }
          },
          "ternary": {
           "aaxis": {
            "gridcolor": "white",
            "linecolor": "white",
            "ticks": ""
           },
           "baxis": {
            "gridcolor": "white",
            "linecolor": "white",
            "ticks": ""
           },
           "bgcolor": "#E5ECF6",
           "caxis": {
            "gridcolor": "white",
            "linecolor": "white",
            "ticks": ""
           }
          },
          "title": {
           "x": 0.05
          },
          "xaxis": {
           "automargin": true,
           "gridcolor": "white",
           "linecolor": "white",
           "ticks": "",
           "title": {
            "standoff": 15
           },
           "zerolinecolor": "white",
           "zerolinewidth": 2
          },
          "yaxis": {
           "automargin": true,
           "gridcolor": "white",
           "linecolor": "white",
           "ticks": "",
           "title": {
            "standoff": 15
           },
           "zerolinecolor": "white",
           "zerolinewidth": 2
          }
         }
        },
        "title": {
         "text": "Histogram of the view_proba column on 59 values"
        }
       }
      },
      "text/html": [
       "<div>\n",
       "        \n",
       "        \n",
       "            <div id=\"4940897b-b2e2-4a0d-ac4f-9bedc29ee5c1\" class=\"plotly-graph-div\" style=\"height:525px; width:100%;\"></div>\n",
       "            <script type=\"text/javascript\">\n",
       "                require([\"plotly\"], function(Plotly) {\n",
       "                    window.PLOTLYENV=window.PLOTLYENV || {};\n",
       "                    \n",
       "                if (document.getElementById(\"4940897b-b2e2-4a0d-ac4f-9bedc29ee5c1\")) {\n",
       "                    Plotly.newPlot(\n",
       "                        '4940897b-b2e2-4a0d-ac4f-9bedc29ee5c1',\n",
       "                        [{\"histnorm\": \"percent\", \"type\": \"histogram\", \"x\": [0.9979115128517152, 0.6750502586364746, 0.6288355588912964, 0.9908671379089355, 0.7247284650802612, 0.3928760886192322, 0.99782133102417, 0.3504185080528259, 1.0, 0.6445358991622925, 0.99724543094635, 0.7965911030769348, 0.9999346733093262, 0.71282559633255, 0.995971977710724, 0.9815707802772522, 0.9999996423721312, 0.8850120306015015, 0.999866247177124, 0.5894687175750732, 0.9963473677635192, 0.8832220435142517, 1.0, 0.9991276860237122, 0.996069312095642, 0.9932215213775636, 0.9990177154541016, 0.9963441491127014, 0.6342588663101196, 0.937963604927063, 0.618169903755188, 0.9736661314964294, 0.5630972385406494, 0.5269008874893188, 0.9498132467269896, 0.99972003698349, 0.9761286973953248, 0.9998027682304382, 0.9830907583236694, 0.7460832595825195, 0.996590256690979, 0.8958268761634827, 0.9998794794082642, 0.9999486207962036, 0.9999903440475464, 0.5905482172966003, 0.9906270503997804, 0.925161838531494, 0.2834756374359131, 0.8075934648513794, 0.7459271550178528, 0.9999558925628662, 0.9539911150932312, 0.9995070695877076, 0.9999450445175172, 0.97552889585495, 0.998853087425232, 0.7514181733131409, 0.9997628331184388], \"xbins\": {\"end\": 1, \"size\": 0.01, \"start\": 0}}],\n",
       "                        {\"template\": {\"data\": {\"bar\": [{\"error_x\": {\"color\": \"#2a3f5f\"}, \"error_y\": {\"color\": \"#2a3f5f\"}, \"marker\": {\"line\": {\"color\": \"#E5ECF6\", \"width\": 0.5}}, \"type\": \"bar\"}], \"barpolar\": [{\"marker\": {\"line\": {\"color\": \"#E5ECF6\", \"width\": 0.5}}, \"type\": \"barpolar\"}], \"carpet\": [{\"aaxis\": {\"endlinecolor\": \"#2a3f5f\", \"gridcolor\": \"white\", \"linecolor\": \"white\", \"minorgridcolor\": \"white\", \"startlinecolor\": \"#2a3f5f\"}, \"baxis\": {\"endlinecolor\": \"#2a3f5f\", \"gridcolor\": \"white\", \"linecolor\": \"white\", \"minorgridcolor\": \"white\", \"startlinecolor\": \"#2a3f5f\"}, \"type\": \"carpet\"}], \"choropleth\": [{\"colorbar\": {\"outlinewidth\": 0, \"ticks\": \"\"}, \"type\": \"choropleth\"}], \"contour\": [{\"colorbar\": {\"outlinewidth\": 0, \"ticks\": \"\"}, \"colorscale\": [[0.0, \"#0d0887\"], [0.1111111111111111, \"#46039f\"], [0.2222222222222222, \"#7201a8\"], [0.3333333333333333, \"#9c179e\"], [0.4444444444444444, \"#bd3786\"], [0.5555555555555556, \"#d8576b\"], [0.6666666666666666, \"#ed7953\"], [0.7777777777777778, \"#fb9f3a\"], [0.8888888888888888, \"#fdca26\"], [1.0, \"#f0f921\"]], \"type\": \"contour\"}], \"contourcarpet\": [{\"colorbar\": {\"outlinewidth\": 0, \"ticks\": \"\"}, \"type\": \"contourcarpet\"}], \"heatmap\": [{\"colorbar\": {\"outlinewidth\": 0, \"ticks\": \"\"}, \"colorscale\": [[0.0, \"#0d0887\"], [0.1111111111111111, \"#46039f\"], [0.2222222222222222, \"#7201a8\"], [0.3333333333333333, \"#9c179e\"], [0.4444444444444444, \"#bd3786\"], [0.5555555555555556, \"#d8576b\"], [0.6666666666666666, \"#ed7953\"], [0.7777777777777778, \"#fb9f3a\"], [0.8888888888888888, \"#fdca26\"], [1.0, \"#f0f921\"]], \"type\": \"heatmap\"}], \"heatmapgl\": [{\"colorbar\": {\"outlinewidth\": 0, \"ticks\": \"\"}, \"colorscale\": [[0.0, \"#0d0887\"], [0.1111111111111111, \"#46039f\"], [0.2222222222222222, \"#7201a8\"], [0.3333333333333333, \"#9c179e\"], [0.4444444444444444, \"#bd3786\"], [0.5555555555555556, \"#d8576b\"], [0.6666666666666666, \"#ed7953\"], [0.7777777777777778, \"#fb9f3a\"], [0.8888888888888888, \"#fdca26\"], [1.0, \"#f0f921\"]], \"type\": \"heatmapgl\"}], \"histogram\": [{\"marker\": {\"colorbar\": {\"outlinewidth\": 0, \"ticks\": \"\"}}, \"type\": \"histogram\"}], \"histogram2d\": [{\"colorbar\": {\"outlinewidth\": 0, \"ticks\": \"\"}, \"colorscale\": [[0.0, \"#0d0887\"], [0.1111111111111111, \"#46039f\"], [0.2222222222222222, \"#7201a8\"], [0.3333333333333333, \"#9c179e\"], [0.4444444444444444, \"#bd3786\"], [0.5555555555555556, \"#d8576b\"], [0.6666666666666666, \"#ed7953\"], [0.7777777777777778, \"#fb9f3a\"], [0.8888888888888888, \"#fdca26\"], [1.0, \"#f0f921\"]], \"type\": \"histogram2d\"}], \"histogram2dcontour\": [{\"colorbar\": {\"outlinewidth\": 0, \"ticks\": \"\"}, \"colorscale\": [[0.0, \"#0d0887\"], [0.1111111111111111, \"#46039f\"], [0.2222222222222222, \"#7201a8\"], [0.3333333333333333, \"#9c179e\"], [0.4444444444444444, \"#bd3786\"], [0.5555555555555556, \"#d8576b\"], [0.6666666666666666, \"#ed7953\"], [0.7777777777777778, \"#fb9f3a\"], [0.8888888888888888, \"#fdca26\"], [1.0, \"#f0f921\"]], \"type\": \"histogram2dcontour\"}], \"mesh3d\": [{\"colorbar\": {\"outlinewidth\": 0, \"ticks\": \"\"}, \"type\": \"mesh3d\"}], \"parcoords\": [{\"line\": {\"colorbar\": {\"outlinewidth\": 0, \"ticks\": \"\"}}, \"type\": \"parcoords\"}], \"pie\": [{\"automargin\": true, \"type\": \"pie\"}], \"scatter\": [{\"marker\": {\"colorbar\": {\"outlinewidth\": 0, \"ticks\": \"\"}}, \"type\": \"scatter\"}], \"scatter3d\": [{\"line\": {\"colorbar\": {\"outlinewidth\": 0, \"ticks\": \"\"}}, \"marker\": {\"colorbar\": {\"outlinewidth\": 0, \"ticks\": \"\"}}, \"type\": \"scatter3d\"}], \"scattercarpet\": [{\"marker\": {\"colorbar\": {\"outlinewidth\": 0, \"ticks\": \"\"}}, \"type\": \"scattercarpet\"}], \"scattergeo\": [{\"marker\": {\"colorbar\": {\"outlinewidth\": 0, \"ticks\": \"\"}}, \"type\": \"scattergeo\"}], \"scattergl\": [{\"marker\": {\"colorbar\": {\"outlinewidth\": 0, \"ticks\": \"\"}}, \"type\": \"scattergl\"}], \"scattermapbox\": [{\"marker\": {\"colorbar\": {\"outlinewidth\": 0, \"ticks\": \"\"}}, \"type\": \"scattermapbox\"}], \"scatterpolar\": [{\"marker\": {\"colorbar\": {\"outlinewidth\": 0, \"ticks\": \"\"}}, \"type\": \"scatterpolar\"}], \"scatterpolargl\": [{\"marker\": {\"colorbar\": {\"outlinewidth\": 0, \"ticks\": \"\"}}, \"type\": \"scatterpolargl\"}], \"scatterternary\": [{\"marker\": {\"colorbar\": {\"outlinewidth\": 0, \"ticks\": \"\"}}, \"type\": \"scatterternary\"}], \"surface\": [{\"colorbar\": {\"outlinewidth\": 0, \"ticks\": \"\"}, \"colorscale\": [[0.0, \"#0d0887\"], [0.1111111111111111, \"#46039f\"], [0.2222222222222222, \"#7201a8\"], [0.3333333333333333, \"#9c179e\"], [0.4444444444444444, \"#bd3786\"], [0.5555555555555556, \"#d8576b\"], [0.6666666666666666, \"#ed7953\"], [0.7777777777777778, \"#fb9f3a\"], [0.8888888888888888, \"#fdca26\"], [1.0, \"#f0f921\"]], \"type\": \"surface\"}], \"table\": [{\"cells\": {\"fill\": {\"color\": \"#EBF0F8\"}, \"line\": {\"color\": \"white\"}}, \"header\": {\"fill\": {\"color\": \"#C8D4E3\"}, \"line\": {\"color\": \"white\"}}, \"type\": \"table\"}]}, \"layout\": {\"annotationdefaults\": {\"arrowcolor\": \"#2a3f5f\", \"arrowhead\": 0, \"arrowwidth\": 1}, \"coloraxis\": {\"colorbar\": {\"outlinewidth\": 0, \"ticks\": \"\"}}, \"colorscale\": {\"diverging\": [[0, \"#8e0152\"], [0.1, \"#c51b7d\"], [0.2, \"#de77ae\"], [0.3, \"#f1b6da\"], [0.4, \"#fde0ef\"], [0.5, \"#f7f7f7\"], [0.6, \"#e6f5d0\"], [0.7, \"#b8e186\"], [0.8, \"#7fbc41\"], [0.9, \"#4d9221\"], [1, \"#276419\"]], \"sequential\": [[0.0, \"#0d0887\"], [0.1111111111111111, \"#46039f\"], [0.2222222222222222, \"#7201a8\"], [0.3333333333333333, \"#9c179e\"], [0.4444444444444444, \"#bd3786\"], [0.5555555555555556, \"#d8576b\"], [0.6666666666666666, \"#ed7953\"], [0.7777777777777778, \"#fb9f3a\"], [0.8888888888888888, \"#fdca26\"], [1.0, \"#f0f921\"]], \"sequentialminus\": [[0.0, \"#0d0887\"], [0.1111111111111111, \"#46039f\"], [0.2222222222222222, \"#7201a8\"], [0.3333333333333333, \"#9c179e\"], [0.4444444444444444, \"#bd3786\"], [0.5555555555555556, \"#d8576b\"], [0.6666666666666666, \"#ed7953\"], [0.7777777777777778, \"#fb9f3a\"], [0.8888888888888888, \"#fdca26\"], [1.0, \"#f0f921\"]]}, \"colorway\": [\"#636efa\", \"#EF553B\", \"#00cc96\", \"#ab63fa\", \"#FFA15A\", \"#19d3f3\", \"#FF6692\", \"#B6E880\", \"#FF97FF\", \"#FECB52\"], \"font\": {\"color\": \"#2a3f5f\"}, \"geo\": {\"bgcolor\": \"white\", \"lakecolor\": \"white\", \"landcolor\": \"#E5ECF6\", \"showlakes\": true, \"showland\": true, \"subunitcolor\": \"white\"}, \"hoverlabel\": {\"align\": \"left\"}, \"hovermode\": \"closest\", \"mapbox\": {\"style\": \"light\"}, \"paper_bgcolor\": \"white\", \"plot_bgcolor\": \"#E5ECF6\", \"polar\": {\"angularaxis\": {\"gridcolor\": \"white\", \"linecolor\": \"white\", \"ticks\": \"\"}, \"bgcolor\": \"#E5ECF6\", \"radialaxis\": {\"gridcolor\": \"white\", \"linecolor\": \"white\", \"ticks\": \"\"}}, \"scene\": {\"xaxis\": {\"backgroundcolor\": \"#E5ECF6\", \"gridcolor\": \"white\", \"gridwidth\": 2, \"linecolor\": \"white\", \"showbackground\": true, \"ticks\": \"\", \"zerolinecolor\": \"white\"}, \"yaxis\": {\"backgroundcolor\": \"#E5ECF6\", \"gridcolor\": \"white\", \"gridwidth\": 2, \"linecolor\": \"white\", \"showbackground\": true, \"ticks\": \"\", \"zerolinecolor\": \"white\"}, \"zaxis\": {\"backgroundcolor\": \"#E5ECF6\", \"gridcolor\": \"white\", \"gridwidth\": 2, \"linecolor\": \"white\", \"showbackground\": true, \"ticks\": \"\", \"zerolinecolor\": \"white\"}}, \"shapedefaults\": {\"line\": {\"color\": \"#2a3f5f\"}}, \"ternary\": {\"aaxis\": {\"gridcolor\": \"white\", \"linecolor\": \"white\", \"ticks\": \"\"}, \"baxis\": {\"gridcolor\": \"white\", \"linecolor\": \"white\", \"ticks\": \"\"}, \"bgcolor\": \"#E5ECF6\", \"caxis\": {\"gridcolor\": \"white\", \"linecolor\": \"white\", \"ticks\": \"\"}}, \"title\": {\"x\": 0.05}, \"xaxis\": {\"automargin\": true, \"gridcolor\": \"white\", \"linecolor\": \"white\", \"ticks\": \"\", \"title\": {\"standoff\": 15}, \"zerolinecolor\": \"white\", \"zerolinewidth\": 2}, \"yaxis\": {\"automargin\": true, \"gridcolor\": \"white\", \"linecolor\": \"white\", \"ticks\": \"\", \"title\": {\"standoff\": 15}, \"zerolinecolor\": \"white\", \"zerolinewidth\": 2}}}, \"title\": {\"text\": \"Histogram of the view_proba column on 59 values\"}},\n",
       "                        {\"responsive\": true}\n",
       "                    ).then(function(){\n",
       "                            \n",
       "var gd = document.getElementById('4940897b-b2e2-4a0d-ac4f-9bedc29ee5c1');\n",
       "var x = new MutationObserver(function (mutations, observer) {{\n",
       "        var display = window.getComputedStyle(gd).display;\n",
       "        if (!display || display === 'none') {{\n",
       "            console.log([gd, 'removed!']);\n",
       "            Plotly.purge(gd);\n",
       "            observer.disconnect();\n",
       "        }}\n",
       "}});\n",
       "\n",
       "// Listen for the removal of the full notebook cells\n",
       "var notebookContainer = gd.closest('#notebook-container');\n",
       "if (notebookContainer) {{\n",
       "    x.observe(notebookContainer, {childList: true});\n",
       "}}\n",
       "\n",
       "// Listen for the clearing of the current output cell\n",
       "var outputEl = gd.closest('.output');\n",
       "if (outputEl) {{\n",
       "    x.observe(outputEl, {childList: true});\n",
       "}}\n",
       "\n",
       "                        })\n",
       "                };\n",
       "                });\n",
       "            </script>\n",
       "        </div>"
      ]
     },
     "metadata": {},
     "output_type": "display_data"
    }
   ],
   "source": [
    "plot_hist(df_view_err_others, 'view_proba')"
   ]
  },
  {
   "cell_type": "code",
   "execution_count": 96,
   "metadata": {},
   "outputs": [
    {
     "data": {
      "application/vnd.plotly.v1+json": {
       "config": {
        "linkText": "Export to plot.ly",
        "plotlyServerURL": "https://plot.ly",
        "showLink": false
       },
       "data": [
        {
         "histnorm": "percent",
         "type": "histogram",
         "x": [
          0.9934961795806884,
          0.547171950340271,
          0.9564266800880432,
          0.6924641728401184,
          0.9627019166946412,
          0.587573766708374,
          0.6988582611083984,
          0.7710887789726257,
          0.6267071962356567,
          0.9379751086235046,
          0.9677941203117372,
          0.9879801869392396,
          0.5396211147308351,
          0.9287888407707214,
          0.9999406337738036,
          0.9622865319252014,
          0.931941032409668,
          0.9708211421966552,
          0.7722617387771606,
          0.5433577299118042,
          0.510229229927063,
          0.503066897392273,
          0.802085280418396,
          0.7484542727470398,
          0.9494926333427428,
          0.9093255400657654,
          0.9929929971694946,
          0.5751819014549255,
          0.6150575876235962,
          0.9971482157707214,
          0.6832626461982727,
          0.9496158361434937,
          0.8582698106765747,
          0.9998384714126588,
          0.9994621872901917,
          0.6310498118400574,
          0.7804231643676758,
          0.7085562944412231,
          0.9907965660095216
         ],
         "xbins": {
          "end": 1,
          "size": 0.01,
          "start": 0
         }
        }
       ],
       "layout": {
        "template": {
         "data": {
          "bar": [
           {
            "error_x": {
             "color": "#2a3f5f"
            },
            "error_y": {
             "color": "#2a3f5f"
            },
            "marker": {
             "line": {
              "color": "#E5ECF6",
              "width": 0.5
             }
            },
            "type": "bar"
           }
          ],
          "barpolar": [
           {
            "marker": {
             "line": {
              "color": "#E5ECF6",
              "width": 0.5
             }
            },
            "type": "barpolar"
           }
          ],
          "carpet": [
           {
            "aaxis": {
             "endlinecolor": "#2a3f5f",
             "gridcolor": "white",
             "linecolor": "white",
             "minorgridcolor": "white",
             "startlinecolor": "#2a3f5f"
            },
            "baxis": {
             "endlinecolor": "#2a3f5f",
             "gridcolor": "white",
             "linecolor": "white",
             "minorgridcolor": "white",
             "startlinecolor": "#2a3f5f"
            },
            "type": "carpet"
           }
          ],
          "choropleth": [
           {
            "colorbar": {
             "outlinewidth": 0,
             "ticks": ""
            },
            "type": "choropleth"
           }
          ],
          "contour": [
           {
            "colorbar": {
             "outlinewidth": 0,
             "ticks": ""
            },
            "colorscale": [
             [
              0,
              "#0d0887"
             ],
             [
              0.1111111111111111,
              "#46039f"
             ],
             [
              0.2222222222222222,
              "#7201a8"
             ],
             [
              0.3333333333333333,
              "#9c179e"
             ],
             [
              0.4444444444444444,
              "#bd3786"
             ],
             [
              0.5555555555555556,
              "#d8576b"
             ],
             [
              0.6666666666666666,
              "#ed7953"
             ],
             [
              0.7777777777777778,
              "#fb9f3a"
             ],
             [
              0.8888888888888888,
              "#fdca26"
             ],
             [
              1,
              "#f0f921"
             ]
            ],
            "type": "contour"
           }
          ],
          "contourcarpet": [
           {
            "colorbar": {
             "outlinewidth": 0,
             "ticks": ""
            },
            "type": "contourcarpet"
           }
          ],
          "heatmap": [
           {
            "colorbar": {
             "outlinewidth": 0,
             "ticks": ""
            },
            "colorscale": [
             [
              0,
              "#0d0887"
             ],
             [
              0.1111111111111111,
              "#46039f"
             ],
             [
              0.2222222222222222,
              "#7201a8"
             ],
             [
              0.3333333333333333,
              "#9c179e"
             ],
             [
              0.4444444444444444,
              "#bd3786"
             ],
             [
              0.5555555555555556,
              "#d8576b"
             ],
             [
              0.6666666666666666,
              "#ed7953"
             ],
             [
              0.7777777777777778,
              "#fb9f3a"
             ],
             [
              0.8888888888888888,
              "#fdca26"
             ],
             [
              1,
              "#f0f921"
             ]
            ],
            "type": "heatmap"
           }
          ],
          "heatmapgl": [
           {
            "colorbar": {
             "outlinewidth": 0,
             "ticks": ""
            },
            "colorscale": [
             [
              0,
              "#0d0887"
             ],
             [
              0.1111111111111111,
              "#46039f"
             ],
             [
              0.2222222222222222,
              "#7201a8"
             ],
             [
              0.3333333333333333,
              "#9c179e"
             ],
             [
              0.4444444444444444,
              "#bd3786"
             ],
             [
              0.5555555555555556,
              "#d8576b"
             ],
             [
              0.6666666666666666,
              "#ed7953"
             ],
             [
              0.7777777777777778,
              "#fb9f3a"
             ],
             [
              0.8888888888888888,
              "#fdca26"
             ],
             [
              1,
              "#f0f921"
             ]
            ],
            "type": "heatmapgl"
           }
          ],
          "histogram": [
           {
            "marker": {
             "colorbar": {
              "outlinewidth": 0,
              "ticks": ""
             }
            },
            "type": "histogram"
           }
          ],
          "histogram2d": [
           {
            "colorbar": {
             "outlinewidth": 0,
             "ticks": ""
            },
            "colorscale": [
             [
              0,
              "#0d0887"
             ],
             [
              0.1111111111111111,
              "#46039f"
             ],
             [
              0.2222222222222222,
              "#7201a8"
             ],
             [
              0.3333333333333333,
              "#9c179e"
             ],
             [
              0.4444444444444444,
              "#bd3786"
             ],
             [
              0.5555555555555556,
              "#d8576b"
             ],
             [
              0.6666666666666666,
              "#ed7953"
             ],
             [
              0.7777777777777778,
              "#fb9f3a"
             ],
             [
              0.8888888888888888,
              "#fdca26"
             ],
             [
              1,
              "#f0f921"
             ]
            ],
            "type": "histogram2d"
           }
          ],
          "histogram2dcontour": [
           {
            "colorbar": {
             "outlinewidth": 0,
             "ticks": ""
            },
            "colorscale": [
             [
              0,
              "#0d0887"
             ],
             [
              0.1111111111111111,
              "#46039f"
             ],
             [
              0.2222222222222222,
              "#7201a8"
             ],
             [
              0.3333333333333333,
              "#9c179e"
             ],
             [
              0.4444444444444444,
              "#bd3786"
             ],
             [
              0.5555555555555556,
              "#d8576b"
             ],
             [
              0.6666666666666666,
              "#ed7953"
             ],
             [
              0.7777777777777778,
              "#fb9f3a"
             ],
             [
              0.8888888888888888,
              "#fdca26"
             ],
             [
              1,
              "#f0f921"
             ]
            ],
            "type": "histogram2dcontour"
           }
          ],
          "mesh3d": [
           {
            "colorbar": {
             "outlinewidth": 0,
             "ticks": ""
            },
            "type": "mesh3d"
           }
          ],
          "parcoords": [
           {
            "line": {
             "colorbar": {
              "outlinewidth": 0,
              "ticks": ""
             }
            },
            "type": "parcoords"
           }
          ],
          "pie": [
           {
            "automargin": true,
            "type": "pie"
           }
          ],
          "scatter": [
           {
            "marker": {
             "colorbar": {
              "outlinewidth": 0,
              "ticks": ""
             }
            },
            "type": "scatter"
           }
          ],
          "scatter3d": [
           {
            "line": {
             "colorbar": {
              "outlinewidth": 0,
              "ticks": ""
             }
            },
            "marker": {
             "colorbar": {
              "outlinewidth": 0,
              "ticks": ""
             }
            },
            "type": "scatter3d"
           }
          ],
          "scattercarpet": [
           {
            "marker": {
             "colorbar": {
              "outlinewidth": 0,
              "ticks": ""
             }
            },
            "type": "scattercarpet"
           }
          ],
          "scattergeo": [
           {
            "marker": {
             "colorbar": {
              "outlinewidth": 0,
              "ticks": ""
             }
            },
            "type": "scattergeo"
           }
          ],
          "scattergl": [
           {
            "marker": {
             "colorbar": {
              "outlinewidth": 0,
              "ticks": ""
             }
            },
            "type": "scattergl"
           }
          ],
          "scattermapbox": [
           {
            "marker": {
             "colorbar": {
              "outlinewidth": 0,
              "ticks": ""
             }
            },
            "type": "scattermapbox"
           }
          ],
          "scatterpolar": [
           {
            "marker": {
             "colorbar": {
              "outlinewidth": 0,
              "ticks": ""
             }
            },
            "type": "scatterpolar"
           }
          ],
          "scatterpolargl": [
           {
            "marker": {
             "colorbar": {
              "outlinewidth": 0,
              "ticks": ""
             }
            },
            "type": "scatterpolargl"
           }
          ],
          "scatterternary": [
           {
            "marker": {
             "colorbar": {
              "outlinewidth": 0,
              "ticks": ""
             }
            },
            "type": "scatterternary"
           }
          ],
          "surface": [
           {
            "colorbar": {
             "outlinewidth": 0,
             "ticks": ""
            },
            "colorscale": [
             [
              0,
              "#0d0887"
             ],
             [
              0.1111111111111111,
              "#46039f"
             ],
             [
              0.2222222222222222,
              "#7201a8"
             ],
             [
              0.3333333333333333,
              "#9c179e"
             ],
             [
              0.4444444444444444,
              "#bd3786"
             ],
             [
              0.5555555555555556,
              "#d8576b"
             ],
             [
              0.6666666666666666,
              "#ed7953"
             ],
             [
              0.7777777777777778,
              "#fb9f3a"
             ],
             [
              0.8888888888888888,
              "#fdca26"
             ],
             [
              1,
              "#f0f921"
             ]
            ],
            "type": "surface"
           }
          ],
          "table": [
           {
            "cells": {
             "fill": {
              "color": "#EBF0F8"
             },
             "line": {
              "color": "white"
             }
            },
            "header": {
             "fill": {
              "color": "#C8D4E3"
             },
             "line": {
              "color": "white"
             }
            },
            "type": "table"
           }
          ]
         },
         "layout": {
          "annotationdefaults": {
           "arrowcolor": "#2a3f5f",
           "arrowhead": 0,
           "arrowwidth": 1
          },
          "coloraxis": {
           "colorbar": {
            "outlinewidth": 0,
            "ticks": ""
           }
          },
          "colorscale": {
           "diverging": [
            [
             0,
             "#8e0152"
            ],
            [
             0.1,
             "#c51b7d"
            ],
            [
             0.2,
             "#de77ae"
            ],
            [
             0.3,
             "#f1b6da"
            ],
            [
             0.4,
             "#fde0ef"
            ],
            [
             0.5,
             "#f7f7f7"
            ],
            [
             0.6,
             "#e6f5d0"
            ],
            [
             0.7,
             "#b8e186"
            ],
            [
             0.8,
             "#7fbc41"
            ],
            [
             0.9,
             "#4d9221"
            ],
            [
             1,
             "#276419"
            ]
           ],
           "sequential": [
            [
             0,
             "#0d0887"
            ],
            [
             0.1111111111111111,
             "#46039f"
            ],
            [
             0.2222222222222222,
             "#7201a8"
            ],
            [
             0.3333333333333333,
             "#9c179e"
            ],
            [
             0.4444444444444444,
             "#bd3786"
            ],
            [
             0.5555555555555556,
             "#d8576b"
            ],
            [
             0.6666666666666666,
             "#ed7953"
            ],
            [
             0.7777777777777778,
             "#fb9f3a"
            ],
            [
             0.8888888888888888,
             "#fdca26"
            ],
            [
             1,
             "#f0f921"
            ]
           ],
           "sequentialminus": [
            [
             0,
             "#0d0887"
            ],
            [
             0.1111111111111111,
             "#46039f"
            ],
            [
             0.2222222222222222,
             "#7201a8"
            ],
            [
             0.3333333333333333,
             "#9c179e"
            ],
            [
             0.4444444444444444,
             "#bd3786"
            ],
            [
             0.5555555555555556,
             "#d8576b"
            ],
            [
             0.6666666666666666,
             "#ed7953"
            ],
            [
             0.7777777777777778,
             "#fb9f3a"
            ],
            [
             0.8888888888888888,
             "#fdca26"
            ],
            [
             1,
             "#f0f921"
            ]
           ]
          },
          "colorway": [
           "#636efa",
           "#EF553B",
           "#00cc96",
           "#ab63fa",
           "#FFA15A",
           "#19d3f3",
           "#FF6692",
           "#B6E880",
           "#FF97FF",
           "#FECB52"
          ],
          "font": {
           "color": "#2a3f5f"
          },
          "geo": {
           "bgcolor": "white",
           "lakecolor": "white",
           "landcolor": "#E5ECF6",
           "showlakes": true,
           "showland": true,
           "subunitcolor": "white"
          },
          "hoverlabel": {
           "align": "left"
          },
          "hovermode": "closest",
          "mapbox": {
           "style": "light"
          },
          "paper_bgcolor": "white",
          "plot_bgcolor": "#E5ECF6",
          "polar": {
           "angularaxis": {
            "gridcolor": "white",
            "linecolor": "white",
            "ticks": ""
           },
           "bgcolor": "#E5ECF6",
           "radialaxis": {
            "gridcolor": "white",
            "linecolor": "white",
            "ticks": ""
           }
          },
          "scene": {
           "xaxis": {
            "backgroundcolor": "#E5ECF6",
            "gridcolor": "white",
            "gridwidth": 2,
            "linecolor": "white",
            "showbackground": true,
            "ticks": "",
            "zerolinecolor": "white"
           },
           "yaxis": {
            "backgroundcolor": "#E5ECF6",
            "gridcolor": "white",
            "gridwidth": 2,
            "linecolor": "white",
            "showbackground": true,
            "ticks": "",
            "zerolinecolor": "white"
           },
           "zaxis": {
            "backgroundcolor": "#E5ECF6",
            "gridcolor": "white",
            "gridwidth": 2,
            "linecolor": "white",
            "showbackground": true,
            "ticks": "",
            "zerolinecolor": "white"
           }
          },
          "shapedefaults": {
           "line": {
            "color": "#2a3f5f"
           }
          },
          "ternary": {
           "aaxis": {
            "gridcolor": "white",
            "linecolor": "white",
            "ticks": ""
           },
           "baxis": {
            "gridcolor": "white",
            "linecolor": "white",
            "ticks": ""
           },
           "bgcolor": "#E5ECF6",
           "caxis": {
            "gridcolor": "white",
            "linecolor": "white",
            "ticks": ""
           }
          },
          "title": {
           "x": 0.05
          },
          "xaxis": {
           "automargin": true,
           "gridcolor": "white",
           "linecolor": "white",
           "ticks": "",
           "title": {
            "standoff": 15
           },
           "zerolinecolor": "white",
           "zerolinewidth": 2
          },
          "yaxis": {
           "automargin": true,
           "gridcolor": "white",
           "linecolor": "white",
           "ticks": "",
           "title": {
            "standoff": 15
           },
           "zerolinecolor": "white",
           "zerolinewidth": 2
          }
         }
        },
        "title": {
         "text": "Histogram of the view_proba column on 39 values"
        }
       }
      },
      "text/html": [
       "<div>\n",
       "        \n",
       "        \n",
       "            <div id=\"20c8d688-9062-4e5c-9727-e38c61b57edb\" class=\"plotly-graph-div\" style=\"height:525px; width:100%;\"></div>\n",
       "            <script type=\"text/javascript\">\n",
       "                require([\"plotly\"], function(Plotly) {\n",
       "                    window.PLOTLYENV=window.PLOTLYENV || {};\n",
       "                    \n",
       "                if (document.getElementById(\"20c8d688-9062-4e5c-9727-e38c61b57edb\")) {\n",
       "                    Plotly.newPlot(\n",
       "                        '20c8d688-9062-4e5c-9727-e38c61b57edb',\n",
       "                        [{\"histnorm\": \"percent\", \"type\": \"histogram\", \"x\": [0.9934961795806884, 0.547171950340271, 0.9564266800880432, 0.6924641728401184, 0.9627019166946412, 0.587573766708374, 0.6988582611083984, 0.7710887789726257, 0.6267071962356567, 0.9379751086235046, 0.9677941203117372, 0.9879801869392396, 0.5396211147308351, 0.9287888407707214, 0.9999406337738036, 0.9622865319252014, 0.931941032409668, 0.9708211421966552, 0.7722617387771606, 0.5433577299118042, 0.510229229927063, 0.503066897392273, 0.802085280418396, 0.7484542727470398, 0.9494926333427428, 0.9093255400657654, 0.9929929971694946, 0.5751819014549255, 0.6150575876235962, 0.9971482157707214, 0.6832626461982727, 0.9496158361434937, 0.8582698106765747, 0.9998384714126588, 0.9994621872901917, 0.6310498118400574, 0.7804231643676758, 0.7085562944412231, 0.9907965660095216], \"xbins\": {\"end\": 1, \"size\": 0.01, \"start\": 0}}],\n",
       "                        {\"template\": {\"data\": {\"bar\": [{\"error_x\": {\"color\": \"#2a3f5f\"}, \"error_y\": {\"color\": \"#2a3f5f\"}, \"marker\": {\"line\": {\"color\": \"#E5ECF6\", \"width\": 0.5}}, \"type\": \"bar\"}], \"barpolar\": [{\"marker\": {\"line\": {\"color\": \"#E5ECF6\", \"width\": 0.5}}, \"type\": \"barpolar\"}], \"carpet\": [{\"aaxis\": {\"endlinecolor\": \"#2a3f5f\", \"gridcolor\": \"white\", \"linecolor\": \"white\", \"minorgridcolor\": \"white\", \"startlinecolor\": \"#2a3f5f\"}, \"baxis\": {\"endlinecolor\": \"#2a3f5f\", \"gridcolor\": \"white\", \"linecolor\": \"white\", \"minorgridcolor\": \"white\", \"startlinecolor\": \"#2a3f5f\"}, \"type\": \"carpet\"}], \"choropleth\": [{\"colorbar\": {\"outlinewidth\": 0, \"ticks\": \"\"}, \"type\": \"choropleth\"}], \"contour\": [{\"colorbar\": {\"outlinewidth\": 0, \"ticks\": \"\"}, \"colorscale\": [[0.0, \"#0d0887\"], [0.1111111111111111, \"#46039f\"], [0.2222222222222222, \"#7201a8\"], [0.3333333333333333, \"#9c179e\"], [0.4444444444444444, \"#bd3786\"], [0.5555555555555556, \"#d8576b\"], [0.6666666666666666, \"#ed7953\"], [0.7777777777777778, \"#fb9f3a\"], [0.8888888888888888, \"#fdca26\"], [1.0, \"#f0f921\"]], \"type\": \"contour\"}], \"contourcarpet\": [{\"colorbar\": {\"outlinewidth\": 0, \"ticks\": \"\"}, \"type\": \"contourcarpet\"}], \"heatmap\": [{\"colorbar\": {\"outlinewidth\": 0, \"ticks\": \"\"}, \"colorscale\": [[0.0, \"#0d0887\"], [0.1111111111111111, \"#46039f\"], [0.2222222222222222, \"#7201a8\"], [0.3333333333333333, \"#9c179e\"], [0.4444444444444444, \"#bd3786\"], [0.5555555555555556, \"#d8576b\"], [0.6666666666666666, \"#ed7953\"], [0.7777777777777778, \"#fb9f3a\"], [0.8888888888888888, \"#fdca26\"], [1.0, \"#f0f921\"]], \"type\": \"heatmap\"}], \"heatmapgl\": [{\"colorbar\": {\"outlinewidth\": 0, \"ticks\": \"\"}, \"colorscale\": [[0.0, \"#0d0887\"], [0.1111111111111111, \"#46039f\"], [0.2222222222222222, \"#7201a8\"], [0.3333333333333333, \"#9c179e\"], [0.4444444444444444, \"#bd3786\"], [0.5555555555555556, \"#d8576b\"], [0.6666666666666666, \"#ed7953\"], [0.7777777777777778, \"#fb9f3a\"], [0.8888888888888888, \"#fdca26\"], [1.0, \"#f0f921\"]], \"type\": \"heatmapgl\"}], \"histogram\": [{\"marker\": {\"colorbar\": {\"outlinewidth\": 0, \"ticks\": \"\"}}, \"type\": \"histogram\"}], \"histogram2d\": [{\"colorbar\": {\"outlinewidth\": 0, \"ticks\": \"\"}, \"colorscale\": [[0.0, \"#0d0887\"], [0.1111111111111111, \"#46039f\"], [0.2222222222222222, \"#7201a8\"], [0.3333333333333333, \"#9c179e\"], [0.4444444444444444, \"#bd3786\"], [0.5555555555555556, \"#d8576b\"], [0.6666666666666666, \"#ed7953\"], [0.7777777777777778, \"#fb9f3a\"], [0.8888888888888888, \"#fdca26\"], [1.0, \"#f0f921\"]], \"type\": \"histogram2d\"}], \"histogram2dcontour\": [{\"colorbar\": {\"outlinewidth\": 0, \"ticks\": \"\"}, \"colorscale\": [[0.0, \"#0d0887\"], [0.1111111111111111, \"#46039f\"], [0.2222222222222222, \"#7201a8\"], [0.3333333333333333, \"#9c179e\"], [0.4444444444444444, \"#bd3786\"], [0.5555555555555556, \"#d8576b\"], [0.6666666666666666, \"#ed7953\"], [0.7777777777777778, \"#fb9f3a\"], [0.8888888888888888, \"#fdca26\"], [1.0, \"#f0f921\"]], \"type\": \"histogram2dcontour\"}], \"mesh3d\": [{\"colorbar\": {\"outlinewidth\": 0, \"ticks\": \"\"}, \"type\": \"mesh3d\"}], \"parcoords\": [{\"line\": {\"colorbar\": {\"outlinewidth\": 0, \"ticks\": \"\"}}, \"type\": \"parcoords\"}], \"pie\": [{\"automargin\": true, \"type\": \"pie\"}], \"scatter\": [{\"marker\": {\"colorbar\": {\"outlinewidth\": 0, \"ticks\": \"\"}}, \"type\": \"scatter\"}], \"scatter3d\": [{\"line\": {\"colorbar\": {\"outlinewidth\": 0, \"ticks\": \"\"}}, \"marker\": {\"colorbar\": {\"outlinewidth\": 0, \"ticks\": \"\"}}, \"type\": \"scatter3d\"}], \"scattercarpet\": [{\"marker\": {\"colorbar\": {\"outlinewidth\": 0, \"ticks\": \"\"}}, \"type\": \"scattercarpet\"}], \"scattergeo\": [{\"marker\": {\"colorbar\": {\"outlinewidth\": 0, \"ticks\": \"\"}}, \"type\": \"scattergeo\"}], \"scattergl\": [{\"marker\": {\"colorbar\": {\"outlinewidth\": 0, \"ticks\": \"\"}}, \"type\": \"scattergl\"}], \"scattermapbox\": [{\"marker\": {\"colorbar\": {\"outlinewidth\": 0, \"ticks\": \"\"}}, \"type\": \"scattermapbox\"}], \"scatterpolar\": [{\"marker\": {\"colorbar\": {\"outlinewidth\": 0, \"ticks\": \"\"}}, \"type\": \"scatterpolar\"}], \"scatterpolargl\": [{\"marker\": {\"colorbar\": {\"outlinewidth\": 0, \"ticks\": \"\"}}, \"type\": \"scatterpolargl\"}], \"scatterternary\": [{\"marker\": {\"colorbar\": {\"outlinewidth\": 0, \"ticks\": \"\"}}, \"type\": \"scatterternary\"}], \"surface\": [{\"colorbar\": {\"outlinewidth\": 0, \"ticks\": \"\"}, \"colorscale\": [[0.0, \"#0d0887\"], [0.1111111111111111, \"#46039f\"], [0.2222222222222222, \"#7201a8\"], [0.3333333333333333, \"#9c179e\"], [0.4444444444444444, \"#bd3786\"], [0.5555555555555556, \"#d8576b\"], [0.6666666666666666, \"#ed7953\"], [0.7777777777777778, \"#fb9f3a\"], [0.8888888888888888, \"#fdca26\"], [1.0, \"#f0f921\"]], \"type\": \"surface\"}], \"table\": [{\"cells\": {\"fill\": {\"color\": \"#EBF0F8\"}, \"line\": {\"color\": \"white\"}}, \"header\": {\"fill\": {\"color\": \"#C8D4E3\"}, \"line\": {\"color\": \"white\"}}, \"type\": \"table\"}]}, \"layout\": {\"annotationdefaults\": {\"arrowcolor\": \"#2a3f5f\", \"arrowhead\": 0, \"arrowwidth\": 1}, \"coloraxis\": {\"colorbar\": {\"outlinewidth\": 0, \"ticks\": \"\"}}, \"colorscale\": {\"diverging\": [[0, \"#8e0152\"], [0.1, \"#c51b7d\"], [0.2, \"#de77ae\"], [0.3, \"#f1b6da\"], [0.4, \"#fde0ef\"], [0.5, \"#f7f7f7\"], [0.6, \"#e6f5d0\"], [0.7, \"#b8e186\"], [0.8, \"#7fbc41\"], [0.9, \"#4d9221\"], [1, \"#276419\"]], \"sequential\": [[0.0, \"#0d0887\"], [0.1111111111111111, \"#46039f\"], [0.2222222222222222, \"#7201a8\"], [0.3333333333333333, \"#9c179e\"], [0.4444444444444444, \"#bd3786\"], [0.5555555555555556, \"#d8576b\"], [0.6666666666666666, \"#ed7953\"], [0.7777777777777778, \"#fb9f3a\"], [0.8888888888888888, \"#fdca26\"], [1.0, \"#f0f921\"]], \"sequentialminus\": [[0.0, \"#0d0887\"], [0.1111111111111111, \"#46039f\"], [0.2222222222222222, \"#7201a8\"], [0.3333333333333333, \"#9c179e\"], [0.4444444444444444, \"#bd3786\"], [0.5555555555555556, \"#d8576b\"], [0.6666666666666666, \"#ed7953\"], [0.7777777777777778, \"#fb9f3a\"], [0.8888888888888888, \"#fdca26\"], [1.0, \"#f0f921\"]]}, \"colorway\": [\"#636efa\", \"#EF553B\", \"#00cc96\", \"#ab63fa\", \"#FFA15A\", \"#19d3f3\", \"#FF6692\", \"#B6E880\", \"#FF97FF\", \"#FECB52\"], \"font\": {\"color\": \"#2a3f5f\"}, \"geo\": {\"bgcolor\": \"white\", \"lakecolor\": \"white\", \"landcolor\": \"#E5ECF6\", \"showlakes\": true, \"showland\": true, \"subunitcolor\": \"white\"}, \"hoverlabel\": {\"align\": \"left\"}, \"hovermode\": \"closest\", \"mapbox\": {\"style\": \"light\"}, \"paper_bgcolor\": \"white\", \"plot_bgcolor\": \"#E5ECF6\", \"polar\": {\"angularaxis\": {\"gridcolor\": \"white\", \"linecolor\": \"white\", \"ticks\": \"\"}, \"bgcolor\": \"#E5ECF6\", \"radialaxis\": {\"gridcolor\": \"white\", \"linecolor\": \"white\", \"ticks\": \"\"}}, \"scene\": {\"xaxis\": {\"backgroundcolor\": \"#E5ECF6\", \"gridcolor\": \"white\", \"gridwidth\": 2, \"linecolor\": \"white\", \"showbackground\": true, \"ticks\": \"\", \"zerolinecolor\": \"white\"}, \"yaxis\": {\"backgroundcolor\": \"#E5ECF6\", \"gridcolor\": \"white\", \"gridwidth\": 2, \"linecolor\": \"white\", \"showbackground\": true, \"ticks\": \"\", \"zerolinecolor\": \"white\"}, \"zaxis\": {\"backgroundcolor\": \"#E5ECF6\", \"gridcolor\": \"white\", \"gridwidth\": 2, \"linecolor\": \"white\", \"showbackground\": true, \"ticks\": \"\", \"zerolinecolor\": \"white\"}}, \"shapedefaults\": {\"line\": {\"color\": \"#2a3f5f\"}}, \"ternary\": {\"aaxis\": {\"gridcolor\": \"white\", \"linecolor\": \"white\", \"ticks\": \"\"}, \"baxis\": {\"gridcolor\": \"white\", \"linecolor\": \"white\", \"ticks\": \"\"}, \"bgcolor\": \"#E5ECF6\", \"caxis\": {\"gridcolor\": \"white\", \"linecolor\": \"white\", \"ticks\": \"\"}}, \"title\": {\"x\": 0.05}, \"xaxis\": {\"automargin\": true, \"gridcolor\": \"white\", \"linecolor\": \"white\", \"ticks\": \"\", \"title\": {\"standoff\": 15}, \"zerolinecolor\": \"white\", \"zerolinewidth\": 2}, \"yaxis\": {\"automargin\": true, \"gridcolor\": \"white\", \"linecolor\": \"white\", \"ticks\": \"\", \"title\": {\"standoff\": 15}, \"zerolinecolor\": \"white\", \"zerolinewidth\": 2}}}, \"title\": {\"text\": \"Histogram of the view_proba column on 39 values\"}},\n",
       "                        {\"responsive\": true}\n",
       "                    ).then(function(){\n",
       "                            \n",
       "var gd = document.getElementById('20c8d688-9062-4e5c-9727-e38c61b57edb');\n",
       "var x = new MutationObserver(function (mutations, observer) {{\n",
       "        var display = window.getComputedStyle(gd).display;\n",
       "        if (!display || display === 'none') {{\n",
       "            console.log([gd, 'removed!']);\n",
       "            Plotly.purge(gd);\n",
       "            observer.disconnect();\n",
       "        }}\n",
       "}});\n",
       "\n",
       "// Listen for the removal of the full notebook cells\n",
       "var notebookContainer = gd.closest('#notebook-container');\n",
       "if (notebookContainer) {{\n",
       "    x.observe(notebookContainer, {childList: true});\n",
       "}}\n",
       "\n",
       "// Listen for the clearing of the current output cell\n",
       "var outputEl = gd.closest('.output');\n",
       "if (outputEl) {{\n",
       "    x.observe(outputEl, {childList: true});\n",
       "}}\n",
       "\n",
       "                        })\n",
       "                };\n",
       "                });\n",
       "            </script>\n",
       "        </div>"
      ]
     },
     "metadata": {},
     "output_type": "display_data"
    }
   ],
   "source": [
    "plot_hist(df_view_err_no_others, 'view_proba')"
   ]
  },
  {
   "cell_type": "code",
   "execution_count": 77,
   "metadata": {},
   "outputs": [
    {
     "data": {
      "text/plain": [
       "34"
      ]
     },
     "execution_count": 77,
     "metadata": {},
     "output_type": "execute_result"
    }
   ],
   "source": [
    "df_view_OK[df_view_OK['view_proba'] < .5].shape[0]"
   ]
  },
  {
   "cell_type": "code",
   "execution_count": 78,
   "metadata": {},
   "outputs": [
    {
     "data": {
      "text/plain": [
       "31"
      ]
     },
     "execution_count": 78,
     "metadata": {},
     "output_type": "execute_result"
    }
   ],
   "source": [
    "df_view_err_no_others[df_view_err_no_others['view_proba'] < .5].shape[0]"
   ]
  },
  {
   "cell_type": "code",
   "execution_count": 79,
   "metadata": {},
   "outputs": [
    {
     "data": {
      "text/plain": [
       "5"
      ]
     },
     "execution_count": 79,
     "metadata": {},
     "output_type": "execute_result"
    }
   ],
   "source": [
    "df_view_err_others[df_view_err_others['view_proba'] < .5].shape[0]"
   ]
  },
  {
   "cell_type": "code",
   "execution_count": null,
   "metadata": {},
   "outputs": [],
   "source": []
  }
 ],
 "metadata": {
  "kernelspec": {
   "display_name": "Python 3",
   "language": "python",
   "name": "python3"
  },
  "language_info": {
   "codemirror_mode": {
    "name": "ipython",
    "version": 3
   },
   "file_extension": ".py",
   "mimetype": "text/x-python",
   "name": "python",
   "nbconvert_exporter": "python",
   "pygments_lexer": "ipython3",
   "version": "3.7.3"
  }
 },
 "nbformat": 4,
 "nbformat_minor": 2
}
