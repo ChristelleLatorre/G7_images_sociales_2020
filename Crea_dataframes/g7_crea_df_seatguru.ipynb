{
 "cells": [
  {
   "cell_type": "markdown",
   "metadata": {},
   "source": [
    "Created on Mon Jan 6 09:58:13 2020\n",
    "<br>\n",
    "Group 7\n",
    "<br>\n",
    "@authors: M.D., C.D., E.G."
   ]
  },
  {
   "cell_type": "code",
   "execution_count": 1,
   "metadata": {},
   "outputs": [],
   "source": [
    "import os\n",
    "import numpy as np\n",
    "import pandas as pd\n",
    "from matplotlib.pyplot import imread"
   ]
  },
  {
   "cell_type": "code",
   "execution_count": 10,
   "metadata": {},
   "outputs": [],
   "source": [
    "project_path = './../'\n",
    "data_path = 'Interpromo2020/All Data/ANALYSE IMAGE/IMG SEATGURU/'\n",
    "path = project_path + data_path\n",
    "img_list = os.listdir(path)\n",
    "nb_images = len(img_list)"
   ]
  },
  {
   "cell_type": "markdown",
   "metadata": {},
   "source": [
    "## Dataframe"
   ]
  },
  {
   "cell_type": "code",
   "execution_count": 11,
   "metadata": {},
   "outputs": [],
   "source": [
    "# list of all matrices (images)\n",
    "imgs = list()\n",
    "for i in range(nb_images):\n",
    "    img = imread(path + img_list[i])\n",
    "    imgs.append(img)\n",
    "    \n",
    "# init the dataframe that will contain all basic info about images\n",
    "imgs_df = pd.DataFrame(columns = ['name', 'format', 'height', 'width', 'height_to_width', 'ncol', 'aircraft_manufacturer', 'aircraft_type'])\n",
    "imgs_df.name = img_list"
   ]
  },
  {
   "cell_type": "code",
   "execution_count": 12,
   "metadata": {},
   "outputs": [],
   "source": [
    "def get_imgs_formats(imgs: list, imgs_df: pd.DataFrame) -> pd.DataFrame:\n",
    "    \n",
    "    \"\"\"\n",
    "    Parameters:\n",
    "    imgs: list of arrays representing images\n",
    "    imgs_df: empty DataFrame with at least a name column \n",
    "    \n",
    "    Out:\n",
    "    imgs_df: DataFrame with 4 new columns: format, height, width, height_to_width, ncol, and one line per image\n",
    "    \n",
    "    \"\"\"\n",
    "    \n",
    "    # formats\n",
    "    imgs_df['format'] = imgs_df.name.apply(lambda x: x.split('.')[1])\n",
    "    \n",
    "    # shapes\n",
    "    heights = [imgs[k].shape[0] if len(imgs[k].shape) != 0 else 0 for k in range(len(imgs))]\n",
    "    widths = [imgs[k].shape[1] if len(imgs[k].shape) != 0 else 0 for k in range(len(imgs))]\n",
    "    ncols = [imgs[k].shape[2] if len(imgs[k].shape) != 0 else 0 for k in range(len(imgs))]\n",
    "    \n",
    "    imgs_df['height'] = heights\n",
    "    imgs_df['width'] = widths\n",
    "    imgs_df['height_to_width'] = imgs_df[['height', 'width']].apply(lambda x: x[0] / x[1] if x[1] != 0 else 0, axis=1) \n",
    "    imgs_df['ncol'] = ncols\n",
    "    \n",
    "    return imgs_df"
   ]
  },
  {
   "cell_type": "code",
   "execution_count": 13,
   "metadata": {},
   "outputs": [],
   "source": [
    "# apply function to fill in DataFrame with format, height, width, height_to_width, and ncol\n",
    "imgs_df = get_imgs_formats(imgs, imgs_df)\n",
    "\n",
    "# aircraft_manufacturers\n",
    "aircraft_manufacturers = ['Airbus' if 'Airbus' in imgs_df.name[k] \n",
    "              else 'Boeing' if 'Boeing' in imgs_df.name[k] \n",
    "              else 'Other' for k in range(len(imgs_df))]\n",
    "\n",
    "# aircraft types\n",
    "aircraft_types = [name.split('_')[name.split('_').index(aircraft_manufacturer) + 1].split('-')[0] if aircraft_manufacturer in name.split('_') else ''\n",
    "                  for name, aircraft_manufacturer in zip(imgs_df.name, aircraft_manufacturers)]\n",
    "\n",
    "# add missing As for Airbus aircrafts \n",
    "aircraft_types = [aircraft_types[k] if ('A' in aircraft_types[k] or '7' in aircraft_types[k] or aircraft_types[k] == '') \n",
    "                  else 'A' + aircraft_types[k] for k in range(len(aircraft_types))]\n",
    "\n",
    "# remove Airbus 'neos' because we don't need that much detail\n",
    "aircraft_types = [aircraft_types[k].replace('neo', '') for k in range(len(aircraft_types))]\n",
    "\n",
    "# remove Ds\n",
    "aircraft_types = [aircraft_types[k].replace('D', '') for k in range(len(aircraft_types))]\n",
    "\n",
    "# fill in dataframe columns\n",
    "imgs_df.aircraft_manufacturer = aircraft_manufacturers\n",
    "imgs_df.aircraft_type = aircraft_types"
   ]
  },
  {
   "cell_type": "code",
   "execution_count": 14,
   "metadata": {},
   "outputs": [
    {
     "data": {
      "text/html": [
       "<div>\n",
       "<style scoped>\n",
       "    .dataframe tbody tr th:only-of-type {\n",
       "        vertical-align: middle;\n",
       "    }\n",
       "\n",
       "    .dataframe tbody tr th {\n",
       "        vertical-align: top;\n",
       "    }\n",
       "\n",
       "    .dataframe thead th {\n",
       "        text-align: right;\n",
       "    }\n",
       "</style>\n",
       "<table border=\"1\" class=\"dataframe\">\n",
       "  <thead>\n",
       "    <tr style=\"text-align: right;\">\n",
       "      <th></th>\n",
       "      <th>name</th>\n",
       "      <th>format</th>\n",
       "      <th>height</th>\n",
       "      <th>width</th>\n",
       "      <th>height_to_width</th>\n",
       "      <th>ncol</th>\n",
       "      <th>aircraft_manufacturer</th>\n",
       "      <th>aircraft_type</th>\n",
       "    </tr>\n",
       "  </thead>\n",
       "  <tbody>\n",
       "    <tr>\n",
       "      <td>0</td>\n",
       "      <td>Cathay_Pacific_Airways_Boeing_777-300ER_C_0.jpg</td>\n",
       "      <td>jpg</td>\n",
       "      <td>540</td>\n",
       "      <td>960</td>\n",
       "      <td>0.5625</td>\n",
       "      <td>3</td>\n",
       "      <td>Boeing</td>\n",
       "      <td>777</td>\n",
       "    </tr>\n",
       "    <tr>\n",
       "      <td>1</td>\n",
       "      <td>KLM_Airbus_A330-300_1.jpg</td>\n",
       "      <td>jpg</td>\n",
       "      <td>720</td>\n",
       "      <td>960</td>\n",
       "      <td>0.7500</td>\n",
       "      <td>3</td>\n",
       "      <td>Airbus</td>\n",
       "      <td>A330</td>\n",
       "    </tr>\n",
       "    <tr>\n",
       "      <td>2</td>\n",
       "      <td>American_Airlines_Boeing_767-300_3.jpg</td>\n",
       "      <td>jpg</td>\n",
       "      <td>720</td>\n",
       "      <td>720</td>\n",
       "      <td>1.0000</td>\n",
       "      <td>3</td>\n",
       "      <td>Boeing</td>\n",
       "      <td>767</td>\n",
       "    </tr>\n",
       "    <tr>\n",
       "      <td>3</td>\n",
       "      <td>Air_Canada_Boeing_767-300ER_v2_3.jpg</td>\n",
       "      <td>jpg</td>\n",
       "      <td>720</td>\n",
       "      <td>960</td>\n",
       "      <td>0.7500</td>\n",
       "      <td>3</td>\n",
       "      <td>Boeing</td>\n",
       "      <td>767</td>\n",
       "    </tr>\n",
       "    <tr>\n",
       "      <td>4</td>\n",
       "      <td>United_Airlines_Q400_A_2.jpg</td>\n",
       "      <td>jpg</td>\n",
       "      <td>720</td>\n",
       "      <td>960</td>\n",
       "      <td>0.7500</td>\n",
       "      <td>3</td>\n",
       "      <td>Other</td>\n",
       "      <td></td>\n",
       "    </tr>\n",
       "  </tbody>\n",
       "</table>\n",
       "</div>"
      ],
      "text/plain": [
       "                                              name format  height  width  \\\n",
       "0  Cathay_Pacific_Airways_Boeing_777-300ER_C_0.jpg    jpg     540    960   \n",
       "1                        KLM_Airbus_A330-300_1.jpg    jpg     720    960   \n",
       "2           American_Airlines_Boeing_767-300_3.jpg    jpg     720    720   \n",
       "3             Air_Canada_Boeing_767-300ER_v2_3.jpg    jpg     720    960   \n",
       "4                     United_Airlines_Q400_A_2.jpg    jpg     720    960   \n",
       "\n",
       "   height_to_width  ncol aircraft_manufacturer aircraft_type  \n",
       "0           0.5625     3                Boeing           777  \n",
       "1           0.7500     3                Airbus          A330  \n",
       "2           1.0000     3                Boeing           767  \n",
       "3           0.7500     3                Boeing           767  \n",
       "4           0.7500     3                 Other                "
      ]
     },
     "execution_count": 14,
     "metadata": {},
     "output_type": "execute_result"
    }
   ],
   "source": [
    "imgs_df.head()"
   ]
  },
  {
   "cell_type": "code",
   "execution_count": 24,
   "metadata": {},
   "outputs": [],
   "source": [
    "# save as csv\n",
    "path_tr =  './../CSV_annotate/SEATGURU/'\n",
    "os.makedirs(path_tr, exist_ok = True)\n",
    "imgs_df.to_csv(path_or_buf=path_tr + 'g7_SEATGURU.csv', sep=';', encoding='utf-8', index = False)"
   ]
  },
  {
   "cell_type": "markdown",
   "metadata": {},
   "source": [
    "## Descriptive statistics"
   ]
  },
  {
   "cell_type": "code",
   "execution_count": 19,
   "metadata": {},
   "outputs": [
    {
     "name": "stdout",
     "output_type": "stream",
     "text": [
      "1 unique image format(s).\n",
      "1 unique ncol(s).\n",
      "128 unique height_to_width(s).\n",
      "20 unique aircraft type(s).\n"
     ]
    }
   ],
   "source": [
    "print(f'{len(np.unique(imgs_df.format))} unique image format(s).')\n",
    "print(f'{len(np.unique(imgs_df.ncol))} unique ncol(s).')\n",
    "print(f'{len(np.unique(imgs_df.height_to_width))} unique height_to_width(s).')\n",
    "print(f'{len(np.unique(imgs_df.aircraft_type))} unique aircraft type(s).')"
   ]
  },
  {
   "cell_type": "code",
   "execution_count": 20,
   "metadata": {},
   "outputs": [
    {
     "name": "stdout",
     "output_type": "stream",
     "text": [
      "1043 Airbus labelled images.\n",
      "1112 Boeing labelled images.\n",
      "401 others.\n"
     ]
    }
   ],
   "source": [
    "print(f'{len(np.arange(nb_images)[imgs_df.aircraft_manufacturer == \"Airbus\"])} Airbus labelled images.')\n",
    "print(f'{len(np.arange(nb_images)[imgs_df.aircraft_manufacturer == \"Boeing\"])} Boeing labelled images.')\n",
    "print(f'{len(np.arange(nb_images)[imgs_df.aircraft_manufacturer == \"Other\"])} others.')"
   ]
  },
  {
   "cell_type": "code",
   "execution_count": 21,
   "metadata": {},
   "outputs": [],
   "source": [
    "def get_stats(imgs_df: pd.DataFrame, col: pd.Series, col_name: str):\n",
    "    \n",
    "    print(f'Max {col_name}: {np.max(col)}')\n",
    "    print(f'Median {col_name}: {np.median(col)}')\n",
    "    print(f'Min {col_name}: {np.min(col)}')\n",
    "    print('')"
   ]
  },
  {
   "cell_type": "code",
   "execution_count": 22,
   "metadata": {},
   "outputs": [
    {
     "name": "stdout",
     "output_type": "stream",
     "text": [
      "Max height_to_width: 3.898823529411765\n",
      "Median height_to_width: 1.0\n",
      "Min height_to_width: 0.2760416666666667\n",
      "\n",
      "Max height: 1657\n",
      "Median height: 720.0\n",
      "Min height: 265\n",
      "\n",
      "Max width: 960\n",
      "Median width: 720.0\n",
      "Min width: 337\n",
      "\n"
     ]
    }
   ],
   "source": [
    "# dimensions\n",
    "get_stats(imgs_df=imgs_df, col=imgs_df.height_to_width, col_name='height_to_width')\n",
    "get_stats(imgs_df=imgs_df, col=imgs_df.height, col_name='height')\n",
    "get_stats(imgs_df=imgs_df, col=imgs_df.width, col_name='width')"
   ]
  },
  {
   "cell_type": "code",
   "execution_count": 23,
   "metadata": {},
   "outputs": [
    {
     "data": {
      "text/html": [
       "<div>\n",
       "<style scoped>\n",
       "    .dataframe tbody tr th:only-of-type {\n",
       "        vertical-align: middle;\n",
       "    }\n",
       "\n",
       "    .dataframe tbody tr th {\n",
       "        vertical-align: top;\n",
       "    }\n",
       "\n",
       "    .dataframe thead th {\n",
       "        text-align: right;\n",
       "    }\n",
       "</style>\n",
       "<table border=\"1\" class=\"dataframe\">\n",
       "  <thead>\n",
       "    <tr style=\"text-align: right;\">\n",
       "      <th></th>\n",
       "      <th></th>\n",
       "      <th>format</th>\n",
       "    </tr>\n",
       "    <tr>\n",
       "      <th>aircraft_manufacturer</th>\n",
       "      <th>aircraft_type</th>\n",
       "      <th></th>\n",
       "    </tr>\n",
       "  </thead>\n",
       "  <tbody>\n",
       "    <tr>\n",
       "      <td>Other</td>\n",
       "      <td></td>\n",
       "      <td>401</td>\n",
       "    </tr>\n",
       "    <tr>\n",
       "      <td>Boeing</td>\n",
       "      <td>777</td>\n",
       "      <td>344</td>\n",
       "    </tr>\n",
       "    <tr>\n",
       "      <td>Airbus</td>\n",
       "      <td>A330</td>\n",
       "      <td>331</td>\n",
       "    </tr>\n",
       "    <tr>\n",
       "      <td>Boeing</td>\n",
       "      <td>737</td>\n",
       "      <td>298</td>\n",
       "    </tr>\n",
       "    <tr>\n",
       "      <td>Airbus</td>\n",
       "      <td>A320</td>\n",
       "      <td>244</td>\n",
       "    </tr>\n",
       "    <tr>\n",
       "      <td>Boeing</td>\n",
       "      <td>787</td>\n",
       "      <td>198</td>\n",
       "    </tr>\n",
       "    <tr>\n",
       "      <td>Airbus</td>\n",
       "      <td>A321</td>\n",
       "      <td>152</td>\n",
       "    </tr>\n",
       "    <tr>\n",
       "      <td>Boeing</td>\n",
       "      <td>767</td>\n",
       "      <td>131</td>\n",
       "    </tr>\n",
       "    <tr>\n",
       "      <td rowspan=\"2\" valign=\"top\">Airbus</td>\n",
       "      <td>A319</td>\n",
       "      <td>110</td>\n",
       "    </tr>\n",
       "    <tr>\n",
       "      <td>A380</td>\n",
       "      <td>73</td>\n",
       "    </tr>\n",
       "    <tr>\n",
       "      <td>Boeing</td>\n",
       "      <td>747</td>\n",
       "      <td>66</td>\n",
       "    </tr>\n",
       "    <tr>\n",
       "      <td>Airbus</td>\n",
       "      <td>A340</td>\n",
       "      <td>65</td>\n",
       "    </tr>\n",
       "    <tr>\n",
       "      <td>Boeing</td>\n",
       "      <td>757</td>\n",
       "      <td>59</td>\n",
       "    </tr>\n",
       "    <tr>\n",
       "      <td rowspan=\"2\" valign=\"top\">Airbus</td>\n",
       "      <td>A350</td>\n",
       "      <td>47</td>\n",
       "    </tr>\n",
       "    <tr>\n",
       "      <td>A318</td>\n",
       "      <td>13</td>\n",
       "    </tr>\n",
       "    <tr>\n",
       "      <td>Boeing</td>\n",
       "      <td>717</td>\n",
       "      <td>11</td>\n",
       "    </tr>\n",
       "    <tr>\n",
       "      <td>Airbus</td>\n",
       "      <td>A346</td>\n",
       "      <td>5</td>\n",
       "    </tr>\n",
       "    <tr>\n",
       "      <td>Boeing</td>\n",
       "      <td>789</td>\n",
       "      <td>5</td>\n",
       "    </tr>\n",
       "    <tr>\n",
       "      <td rowspan=\"2\" valign=\"top\">Airbus</td>\n",
       "      <td>A310</td>\n",
       "      <td>2</td>\n",
       "    </tr>\n",
       "    <tr>\n",
       "      <td>A220</td>\n",
       "      <td>1</td>\n",
       "    </tr>\n",
       "  </tbody>\n",
       "</table>\n",
       "</div>"
      ],
      "text/plain": [
       "                                     format\n",
       "aircraft_manufacturer aircraft_type        \n",
       "Other                                   401\n",
       "Boeing                777               344\n",
       "Airbus                A330              331\n",
       "Boeing                737               298\n",
       "Airbus                A320              244\n",
       "Boeing                787               198\n",
       "Airbus                A321              152\n",
       "Boeing                767               131\n",
       "Airbus                A319              110\n",
       "                      A380               73\n",
       "Boeing                747                66\n",
       "Airbus                A340               65\n",
       "Boeing                757                59\n",
       "Airbus                A350               47\n",
       "                      A318               13\n",
       "Boeing                717                11\n",
       "Airbus                A346                5\n",
       "Boeing                789                 5\n",
       "Airbus                A310                2\n",
       "                      A220                1"
      ]
     },
     "execution_count": 23,
     "metadata": {},
     "output_type": "execute_result"
    }
   ],
   "source": [
    "# number of images per aircraft type\n",
    "pd.DataFrame(pd.pivot_table(imgs_df,\n",
    "                            index=['aircraft_manufacturer', 'aircraft_type'],\n",
    "                            aggfunc='count').format.sort_values(ascending=False))"
   ]
  },
  {
   "cell_type": "code",
   "execution_count": null,
   "metadata": {},
   "outputs": [],
   "source": []
  }
 ],
 "metadata": {
  "kernelspec": {
   "display_name": "Python 3",
   "language": "python",
   "name": "python3"
  },
  "language_info": {
   "codemirror_mode": {
    "name": "ipython",
    "version": 3
   },
   "file_extension": ".py",
   "mimetype": "text/x-python",
   "name": "python",
   "nbconvert_exporter": "python",
   "pygments_lexer": "ipython3",
   "version": "3.7.4"
  }
 },
 "nbformat": 4,
 "nbformat_minor": 2
}
