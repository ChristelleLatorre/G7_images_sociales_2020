{
 "cells": [
  {
   "cell_type": "markdown",
   "metadata": {},
   "source": [
    "Created on Fri Jan 10 11:23:08 2020\n",
    "Group 7\n",
    "@authors: V.B. C.L."
   ]
  },
  {
   "cell_type": "code",
   "execution_count": 85,
   "metadata": {},
   "outputs": [],
   "source": [
    "import matplotlib.pyplot as plt\n",
    "import pandas as pd\n",
    "from matplotlib.pyplot import imread\n",
    "import os"
   ]
  },
  {
   "cell_type": "code",
   "execution_count": 105,
   "metadata": {},
   "outputs": [],
   "source": [
    "path = './../IMG_annot/SEATGURU/'\n",
    "path_csv = './../CSV_annotate/SEATGURU/' "
   ]
  },
  {
   "cell_type": "code",
   "execution_count": 87,
   "metadata": {},
   "outputs": [
    {
     "data": {
      "text/plain": [
       "['g7_SEATGURU_Meal.csv',\n",
       " 'g7_SEATGURU.csv',\n",
       " 'g7_SEATGURU_Ext_Int.csv',\n",
       " '.gitkeep',\n",
       " 'g7_SEATGURU_Ext-Int.csv',\n",
       " 'g7_SEATGURU_Int.csv',\n",
       " 'g7_SEATGURU_Ext.csv']"
      ]
     },
     "execution_count": 87,
     "metadata": {},
     "output_type": "execute_result"
    }
   ],
   "source": [
    "os.makedirs(path_csv, exist_ok = True)\n",
    "os.listdir(path_csv)"
   ]
  },
  {
   "cell_type": "code",
   "execution_count": 88,
   "metadata": {},
   "outputs": [],
   "source": [
    "def crea_df(path, path_csv, cat) :\n",
    "    \"\"\"\n",
    "    For each folder, create a dataframe where the column 'View' is filled with the matching label.\n",
    "    Create the respective dataframe.\n",
    "    \n",
    "    Parameters :\n",
    "        path (type : str) : path towards images classified by labels \n",
    "        path_csv (type : str) : path towards the folder containing all the CSV files\n",
    "        cat (type : str): label\n",
    "    \n",
    "    Out : \n",
    "        df (type : DataFrame)\n",
    "    \n",
    "    \"\"\"\n",
    "\n",
    "    df = pd.DataFrame(columns = ['Picture name', 'View'])\n",
    "    df['Picture name'] = os.listdir(path + cat + '/')\n",
    "    df['View'] = cat\n",
    "    df.to_csv(path_csv + 'g7_SEATGURU_' + cat + '.csv', sep = ';', encoding='utf-8', index = False)\n",
    "    return df"
   ]
  },
  {
   "cell_type": "code",
   "execution_count": 89,
   "metadata": {},
   "outputs": [
    {
     "data": {
      "text/html": [
       "<div>\n",
       "<style scoped>\n",
       "    .dataframe tbody tr th:only-of-type {\n",
       "        vertical-align: middle;\n",
       "    }\n",
       "\n",
       "    .dataframe tbody tr th {\n",
       "        vertical-align: top;\n",
       "    }\n",
       "\n",
       "    .dataframe thead th {\n",
       "        text-align: right;\n",
       "    }\n",
       "</style>\n",
       "<table border=\"1\" class=\"dataframe\">\n",
       "  <thead>\n",
       "    <tr style=\"text-align: right;\">\n",
       "      <th></th>\n",
       "      <th>Picture name</th>\n",
       "      <th>View</th>\n",
       "    </tr>\n",
       "  </thead>\n",
       "  <tbody>\n",
       "    <tr>\n",
       "      <td>0</td>\n",
       "      <td>China_Eastern_Boeing_737_800_V4_0.jpg</td>\n",
       "      <td>Ext_Int</td>\n",
       "    </tr>\n",
       "    <tr>\n",
       "      <td>1</td>\n",
       "      <td>Iberia_Canadair_CRJ200_2.jpg</td>\n",
       "      <td>Ext_Int</td>\n",
       "    </tr>\n",
       "    <tr>\n",
       "      <td>2</td>\n",
       "      <td>LAN_Airlines_Boeing_767-300_4.jpg</td>\n",
       "      <td>Ext_Int</td>\n",
       "    </tr>\n",
       "    <tr>\n",
       "      <td>3</td>\n",
       "      <td>Air_Asia_Airbus_320_2.jpg</td>\n",
       "      <td>Ext_Int</td>\n",
       "    </tr>\n",
       "    <tr>\n",
       "      <td>4</td>\n",
       "      <td>Singapore_Air_Airbus_A380_D_0.jpg</td>\n",
       "      <td>Ext_Int</td>\n",
       "    </tr>\n",
       "    <tr>\n",
       "      <td>...</td>\n",
       "      <td>...</td>\n",
       "      <td>...</td>\n",
       "    </tr>\n",
       "    <tr>\n",
       "      <td>170</td>\n",
       "      <td>SAS_Airlines_Boeing_737-800_2.jpg</td>\n",
       "      <td>Ext_Int</td>\n",
       "    </tr>\n",
       "    <tr>\n",
       "      <td>171</td>\n",
       "      <td>Jetstar_Airbus_A320_3.jpg</td>\n",
       "      <td>Ext_Int</td>\n",
       "    </tr>\n",
       "    <tr>\n",
       "      <td>172</td>\n",
       "      <td>Lufthansa_Airbus_A319-100_NEK_2.jpg</td>\n",
       "      <td>Ext_Int</td>\n",
       "    </tr>\n",
       "    <tr>\n",
       "      <td>173</td>\n",
       "      <td>British_Airways_Boeing_777-200_4.jpg</td>\n",
       "      <td>Ext_Int</td>\n",
       "    </tr>\n",
       "    <tr>\n",
       "      <td>174</td>\n",
       "      <td>Frontier_Airlines_Airbus_A320_4.jpg</td>\n",
       "      <td>Ext_Int</td>\n",
       "    </tr>\n",
       "  </tbody>\n",
       "</table>\n",
       "<p>175 rows × 2 columns</p>\n",
       "</div>"
      ],
      "text/plain": [
       "                              Picture name     View\n",
       "0    China_Eastern_Boeing_737_800_V4_0.jpg  Ext_Int\n",
       "1             Iberia_Canadair_CRJ200_2.jpg  Ext_Int\n",
       "2        LAN_Airlines_Boeing_767-300_4.jpg  Ext_Int\n",
       "3                Air_Asia_Airbus_320_2.jpg  Ext_Int\n",
       "4        Singapore_Air_Airbus_A380_D_0.jpg  Ext_Int\n",
       "..                                     ...      ...\n",
       "170      SAS_Airlines_Boeing_737-800_2.jpg  Ext_Int\n",
       "171              Jetstar_Airbus_A320_3.jpg  Ext_Int\n",
       "172    Lufthansa_Airbus_A319-100_NEK_2.jpg  Ext_Int\n",
       "173   British_Airways_Boeing_777-200_4.jpg  Ext_Int\n",
       "174    Frontier_Airlines_Airbus_A320_4.jpg  Ext_Int\n",
       "\n",
       "[175 rows x 2 columns]"
      ]
     },
     "execution_count": 89,
     "metadata": {},
     "output_type": "execute_result"
    }
   ],
   "source": [
    "cat = 'Ext_Int'\n",
    "df_ext_int = crea_df(path, path_csv, cat) \n",
    "df"
   ]
  },
  {
   "cell_type": "code",
   "execution_count": 90,
   "metadata": {},
   "outputs": [],
   "source": [
    "df_int = crea_df(path, path_csv, 'Int') \n",
    "df_ext =  crea_df(path, path_csv, 'Ext') \n",
    "df_meal = crea_df(path, path_csv, 'Meal') "
   ]
  }
 ],
 "metadata": {
  "kernelspec": {
   "display_name": "Python 3",
   "language": "python",
   "name": "python3"
  },
  "language_info": {
   "codemirror_mode": {
    "name": "ipython",
    "version": 3
   },
   "file_extension": ".py",
   "mimetype": "text/x-python",
   "name": "python",
   "nbconvert_exporter": "python",
   "pygments_lexer": "ipython3",
   "version": "3.7.4"
  }
 },
 "nbformat": 4,
 "nbformat_minor": 2
}
