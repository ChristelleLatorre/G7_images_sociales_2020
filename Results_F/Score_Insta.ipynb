{
 "cells": [
  {
   "cell_type": "markdown",
   "metadata": {},
   "source": [
    "\"\"\"\n",
    "created on: thurs Jan 16 16:53:39 2020\n",
    "Group 7\n",
    "@author: T.F , CTD\n",
    "\"\"\""
   ]
  },
  {
   "cell_type": "code",
   "execution_count": 101,
   "metadata": {},
   "outputs": [],
   "source": [
    "import pandas as pd"
   ]
  },
  {
   "cell_type": "code",
   "execution_count": 102,
   "metadata": {},
   "outputs": [],
   "source": [
    "path = \"C:/Users/ups/Desktop/Interpromo2020/Interpromo2020\"\n",
    "path_insta = \"/All Data/ANALYSE IMAGE/INSTAGRAM\"\n",
    "path_csv=\"C:/Users/ups/Desktop/G7_images_sociales_2020-master/G7_images_sociales_2020-master/Pred/\""
   ]
  },
  {
   "cell_type": "code",
   "execution_count": 103,
   "metadata": {},
   "outputs": [],
   "source": [
    "path_insta_Airbus = path + path_insta + \"/airbus\"\n",
    "path_insta_aircraftinterior = path + path_insta + \"/aircraftinterior\"\n",
    "path_insta_aircraftseat = path + path_insta + \"/aircraftseat\"\n",
    "path_insta_Boeing =path + path_insta +  \"/boeing\"\n"
   ]
  },
  {
   "cell_type": "code",
   "execution_count": 104,
   "metadata": {},
   "outputs": [],
   "source": [
    "path_csv_Airbus =path_csv + \"pred_INSTAGRAM_airbus.csv\"\n",
    "path_csv_aircraftinterior =path_csv + \"pred_INSTAGRAM_aircraftinterior.csv\"\n",
    "path_csv_aircraftseat =path_csv + \"pred_INSTAGRAM_aircraftseat.csv\"\n",
    "path_csv_Boeing =path_csv + \"pred_INSTAGRAM_boeing.csv\""
   ]
  },
  {
   "cell_type": "code",
   "execution_count": 105,
   "metadata": {},
   "outputs": [],
   "source": [
    "df_insta_Airbus = pd.read_csv(path_csv_Airbus, sep=\";\")\n",
    "df_insta_aircraftinterior = pd.read_csv(path_csv_aircraftinterior, sep =\";\")\n",
    "df_insta_aircraftseat = pd.read_csv(path_csv_aircraftseat, sep = \";\")\n",
    "df_insta_boeing = pd.read_csv(path_csv_Boeing, sep = \";\")"
   ]
  },
  {
   "cell_type": "code",
   "execution_count": 107,
   "metadata": {},
   "outputs": [],
   "source": [
    "df_insta_Airbus = df_insta_Airbus[df_insta_Airbus['manufacturer']  == 'Airbus']\n",
    "df_insta_aircraftinterior = df_insta_aircraftinterior[df_insta_aircraftinterior['view']  == 'Int']\n",
    "df_insta_aircraftseat = df_insta_aircraftseat[df_insta_aircraftseat['view']  == 'Int']\n",
    "df_insta_boeing= df_insta_boeing[df_insta_boeing['manufacturer']  == 'Boeing']"
   ]
  },
  {
   "cell_type": "code",
   "execution_count": 108,
   "metadata": {},
   "outputs": [
    {
     "data": {
      "text/plain": [
       "0.46079919069296915"
      ]
     },
     "execution_count": 108,
     "metadata": {},
     "output_type": "execute_result"
    }
   ],
   "source": [
    "len(df_insta_Airbus)/len(os.listdir(path_insta_Airbus))"
   ]
  },
  {
   "cell_type": "code",
   "execution_count": 109,
   "metadata": {},
   "outputs": [
    {
     "data": {
      "text/plain": [
       "0.3697916666666667"
      ]
     },
     "execution_count": 109,
     "metadata": {},
     "output_type": "execute_result"
    }
   ],
   "source": [
    "len(df_insta_aircraftinterior)/len(os.listdir(path_insta_aircraftinterior))"
   ]
  },
  {
   "cell_type": "code",
   "execution_count": 110,
   "metadata": {
    "scrolled": true
   },
   "outputs": [
    {
     "data": {
      "text/plain": [
       "0.4938811188811189"
      ]
     },
     "execution_count": 110,
     "metadata": {},
     "output_type": "execute_result"
    }
   ],
   "source": [
    "len(df_insta_aircraftseat)/len(os.listdir(path_insta_aircraftseat))"
   ]
  },
  {
   "cell_type": "code",
   "execution_count": 111,
   "metadata": {},
   "outputs": [
    {
     "data": {
      "text/plain": [
       "0.34366925064599485"
      ]
     },
     "execution_count": 111,
     "metadata": {},
     "output_type": "execute_result"
    }
   ],
   "source": [
    "len(df_insta_boeing)/len(os.listdir(path_insta_Boeing))"
   ]
  }
 ],
 "metadata": {
  "kernelspec": {
   "display_name": "Python 3",
   "language": "python",
   "name": "python3"
  },
  "language_info": {
   "codemirror_mode": {
    "name": "ipython",
    "version": 3
   },
   "file_extension": ".py",
   "mimetype": "text/x-python",
   "name": "python",
   "nbconvert_exporter": "python",
   "pygments_lexer": "ipython3",
   "version": "3.7.4"
  }
 },
 "nbformat": 4,
 "nbformat_minor": 2
}
