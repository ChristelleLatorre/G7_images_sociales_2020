{
 "cells": [
  {
   "cell_type": "markdown",
   "metadata": {},
   "source": [
    "Created on: Thu Wed 15 15:40:39 2020\n",
    "<br>\n",
    "Group 7\n",
    "<br>\n",
    "@author: P.S.B."
   ]
  },
  {
   "cell_type": "code",
   "execution_count": 45,
   "metadata": {
    "ExecuteTime": {
     "end_time": "2020-01-15T14:55:58.908954Z",
     "start_time": "2020-01-15T14:55:58.903758Z"
    }
   },
   "outputs": [],
   "source": [
    "import matplotlib.pyplot as plt\n",
    "import numpy as np\n",
    "import pandas as pd\n",
    "import os\n",
    "from PIL import Image\n",
    "from tqdm import tqdm_notebook as tqdm\n",
    "\n",
    "from shutil import copyfile\n",
    "import shutil\n",
    "import random\n",
    "import pickle\n",
    "\n",
    "# Deep learning\n",
    "import keras\n",
    "from keras.models import Sequential, Model\n",
    "from keras.layers.core import Dense, Dropout, Activation, Flatten\n",
    "from keras.layers import Conv2D, MaxPooling2D, InputLayer, ReLU, AveragePooling2D\n",
    "from keras.optimizers import SGD\n",
    "from keras.utils import np_utils\n",
    "from keras import backend as K\n",
    "from tensorflow.keras.preprocessing.image import ImageDataGenerator\n",
    "from keras.callbacks import ReduceLROnPlateau\n",
    "from keras.applications.vgg16 import preprocess_input\n",
    "from keras.applications.vgg16 import VGG16"
   ]
  },
  {
   "cell_type": "code",
   "execution_count": 46,
   "metadata": {},
   "outputs": [],
   "source": [
    "%run g7_functions_for_models.ipynb"
   ]
  },
  {
   "cell_type": "markdown",
   "metadata": {},
   "source": [
    "# Data preparation\n"
   ]
  },
  {
   "cell_type": "code",
   "execution_count": 56,
   "metadata": {},
   "outputs": [],
   "source": [
    "project_path = './../' \n",
    "Airliners_path = project_path + 'G7_scrapping/Airliners/data'\n",
    "new_paths = [project_path + 'Split_Data/Airliners/Train', project_path + 'Split_Data/Airliners/Test']\n",
    "airbus_planes = ['A320', 'A321', 'A350', 'A330', 'A380']\n",
    "boeing_planes = ['737', '747', '757', '777']\n",
    "\n",
    "# nb_types : number of classes to predict\n",
    "nb_types = len(airbus_planes) + len(boeing_planes)\n",
    "\n",
    "# Images parameters\n",
    "size = (224, 224)\n",
    "greys = False"
   ]
  },
  {
   "cell_type": "code",
   "execution_count": 51,
   "metadata": {
    "ExecuteTime": {
     "end_time": "2020-01-15T14:50:05.936923Z",
     "start_time": "2020-01-15T14:49:54.323133Z"
    }
   },
   "outputs": [],
   "source": [
    "sep_train_test_airliners(Airliners_path, new_paths, airbus_planes)"
   ]
  },
  {
   "cell_type": "code",
   "execution_count": 53,
   "metadata": {
    "ExecuteTime": {
     "end_time": "2020-01-15T14:54:59.996653Z",
     "start_time": "2020-01-15T14:51:36.811403Z"
    }
   },
   "outputs": [
    {
     "name": "stdout",
     "output_type": "stream",
     "text": [
      "737\n",
      "A330\n",
      "747\n",
      "A320\n",
      "A350\n",
      "777\n",
      "A380\n",
      "757\n",
      "A321\n"
     ]
    }
   ],
   "source": [
    "data_augmentation(project_path + 'Split_Data/Airliners/Train', nb_img=2)"
   ]
  },
  {
   "cell_type": "code",
   "execution_count": 73,
   "metadata": {
    "ExecuteTime": {
     "end_time": "2020-01-15T14:58:29.308717Z",
     "start_time": "2020-01-15T14:58:28.086605Z"
    }
   },
   "outputs": [
    {
     "name": "stdout",
     "output_type": "stream",
     "text": [
      "Found 23386 images belonging to 9 classes.\n"
     ]
    }
   ],
   "source": [
    "train_datagen = ImageDataGenerator(preprocessing_function=preprocess_input)\n",
    "train_generator = train_datagen.flow_from_directory(project_path + 'Split_Data/Airliners/Train',\n",
    "                                                 target_size=size,\n",
    "                                                 color_mode='rgb',\n",
    "                                                 batch_size=128,\n",
    "                                                 class_mode='categorical',\n",
    "                                                 shuffle=True)"
   ]
  },
  {
   "cell_type": "code",
   "execution_count": 74,
   "metadata": {
    "ExecuteTime": {
     "end_time": "2020-01-15T14:56:38.386783Z",
     "start_time": "2020-01-15T14:56:38.377238Z"
    }
   },
   "outputs": [
    {
     "data": {
      "text/plain": [
       "{'737': 0,\n",
       " '747': 1,\n",
       " '757': 2,\n",
       " '777': 3,\n",
       " 'A320': 4,\n",
       " 'A321': 5,\n",
       " 'A330': 6,\n",
       " 'A350': 7,\n",
       " 'A380': 8}"
      ]
     },
     "execution_count": 74,
     "metadata": {},
     "output_type": "execute_result"
    }
   ],
   "source": [
    "train_generator.class_indices"
   ]
  },
  {
   "cell_type": "code",
   "execution_count": 75,
   "metadata": {
    "ExecuteTime": {
     "end_time": "2020-01-15T14:58:41.213742Z",
     "start_time": "2020-01-15T14:58:41.001693Z"
    }
   },
   "outputs": [
    {
     "name": "stdout",
     "output_type": "stream",
     "text": [
      "Found 2700 images belonging to 9 classes.\n"
     ]
    }
   ],
   "source": [
    "test_datagen = ImageDataGenerator(preprocessing_function=preprocess_input)\n",
    "test_generator = test_datagen.flow_from_directory(project_path + 'Split_Data/Airliners/Test',\n",
    "                                                 target_size=size,\n",
    "                                                 color_mode='rgb',\n",
    "                                                 batch_size=128,\n",
    "                                                 class_mode='categorical',\n",
    "                                                 shuffle=True)"
   ]
  },
  {
   "cell_type": "markdown",
   "metadata": {
    "heading_collapsed": true
   },
   "source": [
    "# Simple model"
   ]
  },
  {
   "cell_type": "code",
   "execution_count": 116,
   "metadata": {
    "ExecuteTime": {
     "end_time": "2020-01-09T10:31:11.673618Z",
     "start_time": "2020-01-09T10:31:11.664997Z"
    },
    "hidden": true
   },
   "outputs": [],
   "source": [
    "def create_model(input_shape: tuple, nb_layers: int=5, nb_neurons: int=10, kernel: tuple=(3, 3),\n",
    "                 pool: tuple=(2, 2), nb_classes: int=1):\n",
    "    \n",
    "    model = Sequential()\n",
    "    \n",
    "    model.add(InputLayer(input_shape=input_shape))\n",
    "    \n",
    "    for i in range(nb_layers):\n",
    "        model.add(Conv2D(2**(nb_neurons + i), kernel_size=kernel))\n",
    "        model.add(keras.layers.BatchNormalization())\n",
    "        model.add(ReLU())\n",
    "                  \n",
    "        model.add(Conv2D(2**(nb_neurons + i), kernel_size=kernel))\n",
    "        model.add(keras.layers.BatchNormalization())\n",
    "        model.add(ReLU())\n",
    "        \n",
    "        model.add(MaxPooling2D(pool_size=pool))\n",
    "\n",
    "    model.add(Flatten())\n",
    "\n",
    "    model.add(Dense(1024))\n",
    "    model.add(keras.layers.BatchNormalization())\n",
    "    model.add(ReLU())\n",
    "    \n",
    "    model.add(Dense(512))\n",
    "    model.add(keras.layers.BatchNormalization())\n",
    "    model.add(ReLU())\n",
    "    \n",
    "    model.add(Dense(nb_classes, activation = 'sigmoid'))\n",
    "\n",
    "    model.compile(loss='binary_crossentropy', metrics=['accuracy'], optimizer='adam')\n",
    "\n",
    "    return model"
   ]
  },
  {
   "cell_type": "code",
   "execution_count": 117,
   "metadata": {
    "ExecuteTime": {
     "end_time": "2020-01-09T10:31:13.003123Z",
     "start_time": "2020-01-09T10:31:12.249334Z"
    },
    "hidden": true
   },
   "outputs": [
    {
     "name": "stdout",
     "output_type": "stream",
     "text": [
      "Model: \"sequential_8\"\n",
      "_________________________________________________________________\n",
      "Layer (type)                 Output Shape              Param #   \n",
      "=================================================================\n",
      "conv2d_71 (Conv2D)           (None, 254, 254, 16)      448       \n",
      "_________________________________________________________________\n",
      "batch_normalization_82 (Batc (None, 254, 254, 16)      64        \n",
      "_________________________________________________________________\n",
      "re_lu_82 (ReLU)              (None, 254, 254, 16)      0         \n",
      "_________________________________________________________________\n",
      "conv2d_72 (Conv2D)           (None, 252, 252, 16)      2320      \n",
      "_________________________________________________________________\n",
      "batch_normalization_83 (Batc (None, 252, 252, 16)      64        \n",
      "_________________________________________________________________\n",
      "re_lu_83 (ReLU)              (None, 252, 252, 16)      0         \n",
      "_________________________________________________________________\n",
      "max_pooling2d_36 (MaxPooling (None, 126, 126, 16)      0         \n",
      "_________________________________________________________________\n",
      "conv2d_73 (Conv2D)           (None, 124, 124, 32)      4640      \n",
      "_________________________________________________________________\n",
      "batch_normalization_84 (Batc (None, 124, 124, 32)      128       \n",
      "_________________________________________________________________\n",
      "re_lu_84 (ReLU)              (None, 124, 124, 32)      0         \n",
      "_________________________________________________________________\n",
      "conv2d_74 (Conv2D)           (None, 122, 122, 32)      9248      \n",
      "_________________________________________________________________\n",
      "batch_normalization_85 (Batc (None, 122, 122, 32)      128       \n",
      "_________________________________________________________________\n",
      "re_lu_85 (ReLU)              (None, 122, 122, 32)      0         \n",
      "_________________________________________________________________\n",
      "max_pooling2d_37 (MaxPooling (None, 61, 61, 32)        0         \n",
      "_________________________________________________________________\n",
      "conv2d_75 (Conv2D)           (None, 59, 59, 64)        18496     \n",
      "_________________________________________________________________\n",
      "batch_normalization_86 (Batc (None, 59, 59, 64)        256       \n",
      "_________________________________________________________________\n",
      "re_lu_86 (ReLU)              (None, 59, 59, 64)        0         \n",
      "_________________________________________________________________\n",
      "conv2d_76 (Conv2D)           (None, 57, 57, 64)        36928     \n",
      "_________________________________________________________________\n",
      "batch_normalization_87 (Batc (None, 57, 57, 64)        256       \n",
      "_________________________________________________________________\n",
      "re_lu_87 (ReLU)              (None, 57, 57, 64)        0         \n",
      "_________________________________________________________________\n",
      "max_pooling2d_38 (MaxPooling (None, 28, 28, 64)        0         \n",
      "_________________________________________________________________\n",
      "conv2d_77 (Conv2D)           (None, 26, 26, 128)       73856     \n",
      "_________________________________________________________________\n",
      "batch_normalization_88 (Batc (None, 26, 26, 128)       512       \n",
      "_________________________________________________________________\n",
      "re_lu_88 (ReLU)              (None, 26, 26, 128)       0         \n",
      "_________________________________________________________________\n",
      "conv2d_78 (Conv2D)           (None, 24, 24, 128)       147584    \n",
      "_________________________________________________________________\n",
      "batch_normalization_89 (Batc (None, 24, 24, 128)       512       \n",
      "_________________________________________________________________\n",
      "re_lu_89 (ReLU)              (None, 24, 24, 128)       0         \n",
      "_________________________________________________________________\n",
      "max_pooling2d_39 (MaxPooling (None, 12, 12, 128)       0         \n",
      "_________________________________________________________________\n",
      "conv2d_79 (Conv2D)           (None, 10, 10, 256)       295168    \n",
      "_________________________________________________________________\n",
      "batch_normalization_90 (Batc (None, 10, 10, 256)       1024      \n",
      "_________________________________________________________________\n",
      "re_lu_90 (ReLU)              (None, 10, 10, 256)       0         \n",
      "_________________________________________________________________\n",
      "conv2d_80 (Conv2D)           (None, 8, 8, 256)         590080    \n",
      "_________________________________________________________________\n",
      "batch_normalization_91 (Batc (None, 8, 8, 256)         1024      \n",
      "_________________________________________________________________\n",
      "re_lu_91 (ReLU)              (None, 8, 8, 256)         0         \n",
      "_________________________________________________________________\n",
      "max_pooling2d_40 (MaxPooling (None, 4, 4, 256)         0         \n",
      "_________________________________________________________________\n",
      "flatten_7 (Flatten)          (None, 4096)              0         \n",
      "_________________________________________________________________\n",
      "dense_18 (Dense)             (None, 1024)              4195328   \n",
      "_________________________________________________________________\n",
      "batch_normalization_92 (Batc (None, 1024)              4096      \n",
      "_________________________________________________________________\n",
      "re_lu_92 (ReLU)              (None, 1024)              0         \n",
      "_________________________________________________________________\n",
      "dense_19 (Dense)             (None, 512)               524800    \n",
      "_________________________________________________________________\n",
      "batch_normalization_93 (Batc (None, 512)               2048      \n",
      "_________________________________________________________________\n",
      "re_lu_93 (ReLU)              (None, 512)               0         \n",
      "_________________________________________________________________\n",
      "dense_20 (Dense)             (None, 1)                 513       \n",
      "=================================================================\n",
      "Total params: 5,909,521\n",
      "Trainable params: 5,904,465\n",
      "Non-trainable params: 5,056\n",
      "_________________________________________________________________\n"
     ]
    }
   ],
   "source": [
    "model = create_model(input_shape=(size[0], size[1], 3), nb_neurons=4)\n",
    "model.summary()"
   ]
  },
  {
   "cell_type": "code",
   "execution_count": 118,
   "metadata": {
    "ExecuteTime": {
     "end_time": "2020-01-09T10:56:17.632305Z",
     "start_time": "2020-01-09T10:31:22.060535Z"
    },
    "hidden": true,
    "scrolled": true
   },
   "outputs": [
    {
     "name": "stdout",
     "output_type": "stream",
     "text": [
      "Train on 2403 samples, validate on 794 samples\n",
      "Epoch 1/5\n",
      "2403/2403 [==============================] - 310s 129ms/step - loss: 0.7931 - accuracy: 0.5734 - val_loss: 0.6665 - val_accuracy: 0.5957\n",
      "Epoch 2/5\n",
      "2403/2403 [==============================] - 299s 124ms/step - loss: 0.6023 - accuracy: 0.6787 - val_loss: 0.6893 - val_accuracy: 0.5592\n",
      "Epoch 3/5\n",
      "2403/2403 [==============================] - 293s 122ms/step - loss: 0.5261 - accuracy: 0.7399 - val_loss: 0.7679 - val_accuracy: 0.6222\n",
      "Epoch 4/5\n",
      "2403/2403 [==============================] - 292s 122ms/step - loss: 0.6316 - accuracy: 0.6633 - val_loss: 10.0990 - val_accuracy: 0.5151\n",
      "Epoch 5/5\n",
      "2403/2403 [==============================] - 293s 122ms/step - loss: 0.5147 - accuracy: 0.7511 - val_loss: 1.2679 - val_accuracy: 0.5781\n"
     ]
    },
    {
     "data": {
      "text/plain": [
       "<keras.callbacks.callbacks.History at 0x1770a06a0>"
      ]
     },
     "execution_count": 118,
     "metadata": {},
     "output_type": "execute_result"
    }
   ],
   "source": [
    "batch_size = 32\n",
    "epochs = 5\n",
    "\n",
    "# Lancement de l'entraînement\n",
    "history = model.fit(data_train, ytrain, batch_size=batch_size, epochs=epochs,  verbose=1, validation_data=(data_test, ytest))"
   ]
  },
  {
   "cell_type": "markdown",
   "metadata": {},
   "source": [
    "# Transfer learning"
   ]
  },
  {
   "cell_type": "code",
   "execution_count": 76,
   "metadata": {
    "ExecuteTime": {
     "end_time": "2020-01-15T14:58:45.481248Z",
     "start_time": "2020-01-15T14:58:44.451763Z"
    }
   },
   "outputs": [
    {
     "name": "stdout",
     "output_type": "stream",
     "text": [
      "Model: \"model_4\"\n",
      "_________________________________________________________________\n",
      "Layer (type)                 Output Shape              Param #   \n",
      "=================================================================\n",
      "input_4 (InputLayer)         (None, 224, 224, 3)       0         \n",
      "_________________________________________________________________\n",
      "block1_conv1 (Conv2D)        (None, 224, 224, 64)      1792      \n",
      "_________________________________________________________________\n",
      "block1_conv2 (Conv2D)        (None, 224, 224, 64)      36928     \n",
      "_________________________________________________________________\n",
      "block1_pool (MaxPooling2D)   (None, 112, 112, 64)      0         \n",
      "_________________________________________________________________\n",
      "block2_conv1 (Conv2D)        (None, 112, 112, 128)     73856     \n",
      "_________________________________________________________________\n",
      "block2_conv2 (Conv2D)        (None, 112, 112, 128)     147584    \n",
      "_________________________________________________________________\n",
      "block2_pool (MaxPooling2D)   (None, 56, 56, 128)       0         \n",
      "_________________________________________________________________\n",
      "block3_conv1 (Conv2D)        (None, 56, 56, 256)       295168    \n",
      "_________________________________________________________________\n",
      "block3_conv2 (Conv2D)        (None, 56, 56, 256)       590080    \n",
      "_________________________________________________________________\n",
      "block3_conv3 (Conv2D)        (None, 56, 56, 256)       590080    \n",
      "_________________________________________________________________\n",
      "block3_pool (MaxPooling2D)   (None, 28, 28, 256)       0         \n",
      "_________________________________________________________________\n",
      "block4_conv1 (Conv2D)        (None, 28, 28, 512)       1180160   \n",
      "_________________________________________________________________\n",
      "block4_conv2 (Conv2D)        (None, 28, 28, 512)       2359808   \n",
      "_________________________________________________________________\n",
      "block4_conv3 (Conv2D)        (None, 28, 28, 512)       2359808   \n",
      "_________________________________________________________________\n",
      "block4_pool (MaxPooling2D)   (None, 14, 14, 512)       0         \n",
      "_________________________________________________________________\n",
      "block5_conv1 (Conv2D)        (None, 14, 14, 512)       2359808   \n",
      "_________________________________________________________________\n",
      "block5_conv2 (Conv2D)        (None, 14, 14, 512)       2359808   \n",
      "_________________________________________________________________\n",
      "block5_conv3 (Conv2D)        (None, 14, 14, 512)       2359808   \n",
      "_________________________________________________________________\n",
      "block5_pool (MaxPooling2D)   (None, 7, 7, 512)         0         \n",
      "_________________________________________________________________\n",
      "flatten_4 (Flatten)          (None, 25088)             0         \n",
      "_________________________________________________________________\n",
      "dense_10 (Dense)             (None, 1024)              25691136  \n",
      "_________________________________________________________________\n",
      "batch_normalization_7 (Batch (None, 1024)              4096      \n",
      "_________________________________________________________________\n",
      "re_lu_7 (ReLU)               (None, 1024)              0         \n",
      "_________________________________________________________________\n",
      "dense_11 (Dense)             (None, 512)               524800    \n",
      "_________________________________________________________________\n",
      "batch_normalization_8 (Batch (None, 512)               2048      \n",
      "_________________________________________________________________\n",
      "re_lu_8 (ReLU)               (None, 512)               0         \n",
      "_________________________________________________________________\n",
      "dense_12 (Dense)             (None, 9)                 4617      \n",
      "=================================================================\n",
      "Total params: 40,941,385\n",
      "Trainable params: 26,223,625\n",
      "Non-trainable params: 14,717,760\n",
      "_________________________________________________________________\n"
     ]
    }
   ],
   "source": [
    "# Get the base pre-trained model\n",
    "base_model = VGG16(weights='imagenet', include_top=False, input_shape=(size[0], size[1], 1 if greys else 3))\n",
    "x = base_model.output\n",
    "\n",
    "# Add layers\n",
    "'''x = Conv2D(256, kernel_size=(3, 3))(x)\n",
    "x = keras.layers.BatchNormalization()(x)\n",
    "x = ReLU()(x)\n",
    "\n",
    "x = Conv2D(256, kernel_size=(3, 3))(x)\n",
    "x = keras.layers.BatchNormalization()(x)\n",
    "x = ReLU()(x)'''\n",
    "\n",
    "x = Flatten()(x)  # vector\n",
    "\n",
    "# Fully-connected layer\n",
    "x = Dense(1024)(x)\n",
    "x = keras.layers.BatchNormalization()(x)\n",
    "x = ReLU()(x)\n",
    "\n",
    "x = Dense(512)(x)\n",
    "x = keras.layers.BatchNormalization()(x)\n",
    "x = ReLU()(x)\n",
    "\n",
    "# Output layer to predict the class\n",
    "predictions = Dense(nb_types, activation = 'softmax')(x)\n",
    "\n",
    "# Model to be trained\n",
    "model = Model(inputs=base_model.input, outputs=predictions)\n",
    "\n",
    "# Don't retrain pre-trained layers\n",
    "for layer in base_model.layers:\n",
    "    layer.trainable = False\n",
    "\n",
    "# compile the model (should be done *after* setting layers to non-trainable)\n",
    "model.compile(optimizer='adam', loss='categorical_crossentropy', metrics=['accuracy'])\n",
    "\n",
    "model.summary()"
   ]
  },
  {
   "cell_type": "code",
   "execution_count": null,
   "metadata": {
    "ExecuteTime": {
     "end_time": "2020-01-15T15:00:37.622503Z",
     "start_time": "2020-01-15T14:58:49.626363Z"
    }
   },
   "outputs": [
    {
     "name": "stdout",
     "output_type": "stream",
     "text": [
      "Epoch 1/5\n",
      "182/182 [==============================] - 4249s 23s/step - loss: 1.1960 - accuracy: 0.5795 - val_loss: 1.4383 - val_accuracy: 0.7278\n",
      "Epoch 2/5\n",
      "182/182 [==============================] - 10377s 57s/step - loss: 0.2986 - accuracy: 0.9035 - val_loss: 0.0170 - val_accuracy: 0.7715\n",
      "Epoch 3/5\n",
      " 75/182 [===========>..................] - ETA: 36:16 - loss: 0.1071 - accuracy: 0.9699"
     ]
    }
   ],
   "source": [
    "step_size_train=train_generator.n//train_generator.batch_size\n",
    "\n",
    "reduce_lr = ReduceLROnPlateau(monitor='val_accuracy', \n",
    "                              patience=1, \n",
    "                              verbose=1, \n",
    "                              factor=0.5, \n",
    "                              min_lr=0.00001)\n",
    "\n",
    "model.fit_generator(generator=train_generator,\n",
    "                   steps_per_epoch=step_size_train,\n",
    "                   epochs=5,\n",
    "                   validation_data = test_generator,\n",
    "                   callbacks=[reduce_lr])"
   ]
  },
  {
   "cell_type": "code",
   "execution_count": 55,
   "metadata": {},
   "outputs": [
    {
     "ename": "NameError",
     "evalue": "name 'model' is not defined",
     "output_type": "error",
     "traceback": [
      "\u001b[0;31m---------------------------------------------------------------------------\u001b[0m",
      "\u001b[0;31mNameError\u001b[0m                                 Traceback (most recent call last)",
      "\u001b[0;32m<ipython-input-55-4e7b221e9ad0>\u001b[0m in \u001b[0;36m<module>\u001b[0;34m\u001b[0m\n\u001b[1;32m      1\u001b[0m \u001b[0mpath_mod\u001b[0m \u001b[0;34m=\u001b[0m \u001b[0;34m'./../Models/'\u001b[0m\u001b[0;34m\u001b[0m\u001b[0;34m\u001b[0m\u001b[0m\n\u001b[0;32m----> 2\u001b[0;31m \u001b[0msave_model_classes\u001b[0m\u001b[0;34m(\u001b[0m\u001b[0mpath_mod\u001b[0m\u001b[0;34m,\u001b[0m \u001b[0;34m'Ext_typ'\u001b[0m\u001b[0;34m,\u001b[0m \u001b[0mtrain_generator\u001b[0m\u001b[0;34m,\u001b[0m \u001b[0mmodel\u001b[0m\u001b[0;34m)\u001b[0m\u001b[0;34m\u001b[0m\u001b[0;34m\u001b[0m\u001b[0m\n\u001b[0m",
      "\u001b[0;31mNameError\u001b[0m: name 'model' is not defined"
     ]
    }
   ],
   "source": [
    "path_mod = './../Models/'\n",
    "save_model_classes(path_mod, 'Ext_typ', train_generator, model)"
   ]
  },
  {
   "cell_type": "code",
   "execution_count": null,
   "metadata": {},
   "outputs": [],
   "source": []
  }
 ],
 "metadata": {
  "kernelspec": {
   "display_name": "Python 3",
   "language": "python",
   "name": "python3"
  },
  "language_info": {
   "codemirror_mode": {
    "name": "ipython",
    "version": 3
   },
   "file_extension": ".py",
   "mimetype": "text/x-python",
   "name": "python",
   "nbconvert_exporter": "python",
   "pygments_lexer": "ipython3",
   "version": "3.7.3"
  },
  "toc": {
   "base_numbering": 1,
   "nav_menu": {},
   "number_sections": true,
   "sideBar": true,
   "skip_h1_title": false,
   "title_cell": "Table of Contents",
   "title_sidebar": "Contents",
   "toc_cell": false,
   "toc_position": {},
   "toc_section_display": true,
   "toc_window_display": false
  },
  "varInspector": {
   "cols": {
    "lenName": 16,
    "lenType": 16,
    "lenVar": 40
   },
   "kernels_config": {
    "python": {
     "delete_cmd_postfix": "",
     "delete_cmd_prefix": "del ",
     "library": "var_list.py",
     "varRefreshCmd": "print(var_dic_list())"
    },
    "r": {
     "delete_cmd_postfix": ") ",
     "delete_cmd_prefix": "rm(",
     "library": "var_list.r",
     "varRefreshCmd": "cat(var_dic_list()) "
    }
   },
   "position": {
    "height": "294px",
    "left": "1070px",
    "right": "30px",
    "top": "120px",
    "width": "340px"
   },
   "types_to_exclude": [
    "module",
    "function",
    "builtin_function_or_method",
    "instance",
    "_Feature"
   ],
   "window_display": true
  }
 },
 "nbformat": 4,
 "nbformat_minor": 2
}
